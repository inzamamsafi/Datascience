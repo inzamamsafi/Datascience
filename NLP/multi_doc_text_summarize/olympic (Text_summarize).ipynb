{
 "cells": [
  {
   "cell_type": "markdown",
   "metadata": {},
   "source": [
    "# Loading the library"
   ]
  },
  {
   "cell_type": "code",
   "execution_count": 9,
   "metadata": {
    "execution": {
     "iopub.execute_input": "2021-08-19T11:36:42.913184Z",
     "iopub.status.busy": "2021-08-19T11:36:42.912737Z",
     "iopub.status.idle": "2021-08-19T11:36:42.923257Z",
     "shell.execute_reply": "2021-08-19T11:36:42.922181Z",
     "shell.execute_reply.started": "2021-08-19T11:36:42.913142Z"
    },
    "id": "KiI5Fv9tLAMS",
    "outputId": "8b933c4b-93b0-469c-a1bc-c62ed49ac80d"
   },
   "outputs": [
    {
     "name": "stderr",
     "output_type": "stream",
     "text": [
      "[nltk_data] Downloading package punkt to\n",
      "[nltk_data]     C:\\Users\\Asus\\AppData\\Roaming\\nltk_data...\n",
      "[nltk_data]   Package punkt is already up-to-date!\n"
     ]
    },
    {
     "data": {
      "text/plain": [
       "True"
      ]
     },
     "execution_count": 9,
     "metadata": {},
     "output_type": "execute_result"
    }
   ],
   "source": [
    "import pandas as pd\n",
    "import numpy as np\n",
    "import nltk\n",
    "import re\n",
    "nltk.download('punkt')"
   ]
  },
  {
   "cell_type": "markdown",
   "metadata": {},
   "source": [
    "# laoding the datset"
   ]
  },
  {
   "cell_type": "code",
   "execution_count": 10,
   "metadata": {
    "execution": {
     "iopub.execute_input": "2021-08-19T11:38:38.252731Z",
     "iopub.status.busy": "2021-08-19T11:38:38.252335Z",
     "iopub.status.idle": "2021-08-19T11:38:38.261654Z",
     "shell.execute_reply": "2021-08-19T11:38:38.260588Z",
     "shell.execute_reply.started": "2021-08-19T11:38:38.252696Z"
    },
    "id": "WBiuanjkt3Hw"
   },
   "outputs": [],
   "source": [
    "df = pd.read_csv('olympic_news.csv',encoding= 'unicode_escape')"
   ]
  },
  {
   "cell_type": "code",
   "execution_count": 11,
   "metadata": {
    "execution": {
     "iopub.execute_input": "2021-08-19T11:36:42.956797Z",
     "iopub.status.busy": "2021-08-19T11:36:42.956201Z",
     "iopub.status.idle": "2021-08-19T11:36:42.971108Z",
     "shell.execute_reply": "2021-08-19T11:36:42.970053Z",
     "shell.execute_reply.started": "2021-08-19T11:36:42.956747Z"
    },
    "id": "9zbPQIVHLXCT",
    "outputId": "a5f01284-b93b-45be-b046-1f2506dc0131"
   },
   "outputs": [
    {
     "data": {
      "text/html": [
       "<div>\n",
       "<style scoped>\n",
       "    .dataframe tbody tr th:only-of-type {\n",
       "        vertical-align: middle;\n",
       "    }\n",
       "\n",
       "    .dataframe tbody tr th {\n",
       "        vertical-align: top;\n",
       "    }\n",
       "\n",
       "    .dataframe thead th {\n",
       "        text-align: right;\n",
       "    }\n",
       "</style>\n",
       "<table border=\"1\" class=\"dataframe\">\n",
       "  <thead>\n",
       "    <tr style=\"text-align: right;\">\n",
       "      <th></th>\n",
       "      <th>article_id</th>\n",
       "      <th>article_title</th>\n",
       "      <th>article_text</th>\n",
       "      <th>source</th>\n",
       "    </tr>\n",
       "  </thead>\n",
       "  <tbody>\n",
       "    <tr>\n",
       "      <th>0</th>\n",
       "      <td>1</td>\n",
       "      <td>PM Narendra Modi meets India's Tokyo Olympics ...</td>\n",
       "      <td>Prime Minister Narendra Modi on Monday hosted ...</td>\n",
       "      <td>https://timesofindia.indiatimes.com/sports/tok...</td>\n",
       "    </tr>\n",
       "    <tr>\n",
       "      <th>1</th>\n",
       "      <td>2</td>\n",
       "      <td>Neeraj Chopra: 5 Investment Lessons to Learn f...</td>\n",
       "      <td>Neeraj Chopra, a name that has rung clear acro...</td>\n",
       "      <td>https://www.news18.com/news/business/neeraj-ch...</td>\n",
       "    </tr>\n",
       "    <tr>\n",
       "      <th>2</th>\n",
       "      <td>3</td>\n",
       "      <td>18k followers, Olympic medal: Sindhus coach P...</td>\n",
       "      <td>Last month when PV Sindhus South Korean coach...</td>\n",
       "      <td>https://indianexpress.com/article/sports/badmi...</td>\n",
       "    </tr>\n",
       "    <tr>\n",
       "      <th>3</th>\n",
       "      <td>4</td>\n",
       "      <td>Modis hard work behind youths winning medals ...</td>\n",
       "      <td>Prime Minister Narendra Modis hard work of fo...</td>\n",
       "      <td>https://indianexpress.com/article/india/narend...</td>\n",
       "    </tr>\n",
       "    <tr>\n",
       "      <th>4</th>\n",
       "      <td>5</td>\n",
       "      <td>What next for Indian hockey after the historic...</td>\n",
       "      <td>NEW DELHI: Planning holds the key when it come...</td>\n",
       "      <td>https://timesofindia.indiatimes.com/sports/hoc...</td>\n",
       "    </tr>\n",
       "    <tr>\n",
       "      <th>5</th>\n",
       "      <td>6</td>\n",
       "      <td>PM Modi meets with India Olympic contingent</td>\n",
       "      <td>Prime Minister Narendra Modi on Monday hosted ...</td>\n",
       "      <td>https://in.news.yahoo.com/pm-modi-meets-india-...</td>\n",
       "    </tr>\n",
       "    <tr>\n",
       "      <th>6</th>\n",
       "      <td>7</td>\n",
       "      <td>A sports culture beyond Olympics: To find last...</td>\n",
       "      <td>Indias campaign at the Tokyo Olympics was a s...</td>\n",
       "      <td>https://scroll.in/field/1002882/olympics-and-s...</td>\n",
       "    </tr>\n",
       "    <tr>\n",
       "      <th>7</th>\n",
       "      <td>8</td>\n",
       "      <td>India's Tokyo Olympics medalists get cash rewa...</td>\n",
       "      <td>Sports Minister Anurag Thakur on Sunday presen...</td>\n",
       "      <td>https://www.indiatoday.in/sports/tokyo-olympic...</td>\n",
       "    </tr>\n",
       "    <tr>\n",
       "      <th>8</th>\n",
       "      <td>9</td>\n",
       "      <td>Post Olympics, have brands managed to change I...</td>\n",
       "      <td>After an unparalleled performance at the Tokyo...</td>\n",
       "      <td>https://www.exchange4media.com/pr-and-corporat...</td>\n",
       "    </tr>\n",
       "    <tr>\n",
       "      <th>9</th>\n",
       "      <td>10</td>\n",
       "      <td>With 7 medals, India records its best-ever hau...</td>\n",
       "      <td>Tokyo Olympics: Neeraj Chopra on Saturday not ...</td>\n",
       "      <td>https://www.livemint.com/news/india/with-7-med...</td>\n",
       "    </tr>\n",
       "  </tbody>\n",
       "</table>\n",
       "</div>"
      ],
      "text/plain": [
       "   article_id                                      article_title  \\\n",
       "0           1  PM Narendra Modi meets India's Tokyo Olympics ...   \n",
       "1           2  Neeraj Chopra: 5 Investment Lessons to Learn f...   \n",
       "2           3  18k followers, Olympic medal: Sindhus coach P...   \n",
       "3           4  Modis hard work behind youths winning medals ...   \n",
       "4           5  What next for Indian hockey after the historic...   \n",
       "5           6        PM Modi meets with India Olympic contingent   \n",
       "6           7  A sports culture beyond Olympics: To find last...   \n",
       "7           8  India's Tokyo Olympics medalists get cash rewa...   \n",
       "8           9  Post Olympics, have brands managed to change I...   \n",
       "9          10  With 7 medals, India records its best-ever hau...   \n",
       "\n",
       "                                        article_text  \\\n",
       "0  Prime Minister Narendra Modi on Monday hosted ...   \n",
       "1  Neeraj Chopra, a name that has rung clear acro...   \n",
       "2  Last month when PV Sindhus South Korean coach...   \n",
       "3  Prime Minister Narendra Modis hard work of fo...   \n",
       "4  NEW DELHI: Planning holds the key when it come...   \n",
       "5  Prime Minister Narendra Modi on Monday hosted ...   \n",
       "6  Indias campaign at the Tokyo Olympics was a s...   \n",
       "7  Sports Minister Anurag Thakur on Sunday presen...   \n",
       "8  After an unparalleled performance at the Tokyo...   \n",
       "9  Tokyo Olympics: Neeraj Chopra on Saturday not ...   \n",
       "\n",
       "                                              source  \n",
       "0  https://timesofindia.indiatimes.com/sports/tok...  \n",
       "1  https://www.news18.com/news/business/neeraj-ch...  \n",
       "2  https://indianexpress.com/article/sports/badmi...  \n",
       "3  https://indianexpress.com/article/india/narend...  \n",
       "4  https://timesofindia.indiatimes.com/sports/hoc...  \n",
       "5  https://in.news.yahoo.com/pm-modi-meets-india-...  \n",
       "6  https://scroll.in/field/1002882/olympics-and-s...  \n",
       "7  https://www.indiatoday.in/sports/tokyo-olympic...  \n",
       "8  https://www.exchange4media.com/pr-and-corporat...  \n",
       "9  https://www.livemint.com/news/india/with-7-med...  "
      ]
     },
     "execution_count": 11,
     "metadata": {},
     "output_type": "execute_result"
    }
   ],
   "source": [
    "df.head(10)"
   ]
  },
  {
   "cell_type": "code",
   "execution_count": 12,
   "metadata": {
    "execution": {
     "iopub.execute_input": "2021-08-19T11:36:42.973521Z",
     "iopub.status.busy": "2021-08-19T11:36:42.973215Z",
     "iopub.status.idle": "2021-08-19T11:36:42.994969Z",
     "shell.execute_reply": "2021-08-19T11:36:42.993933Z",
     "shell.execute_reply.started": "2021-08-19T11:36:42.973490Z"
    },
    "id": "hLk8KkoVLXN7",
    "outputId": "ebee10a4-36a7-495c-9c7e-3bd844f426a2"
   },
   "outputs": [
    {
     "name": "stdout",
     "output_type": "stream",
     "text": [
      "<class 'pandas.core.frame.DataFrame'>\n",
      "RangeIndex: 11 entries, 0 to 10\n",
      "Data columns (total 4 columns):\n",
      " #   Column         Non-Null Count  Dtype \n",
      "---  ------         --------------  ----- \n",
      " 0   article_id     11 non-null     int64 \n",
      " 1   article_title  11 non-null     object\n",
      " 2   article_text   11 non-null     object\n",
      " 3   source         11 non-null     object\n",
      "dtypes: int64(1), object(3)\n",
      "memory usage: 480.0+ bytes\n"
     ]
    }
   ],
   "source": [
    "df.info()"
   ]
  },
  {
   "cell_type": "code",
   "execution_count": 13,
   "metadata": {
    "execution": {
     "iopub.execute_input": "2021-08-19T11:36:42.997080Z",
     "iopub.status.busy": "2021-08-19T11:36:42.996467Z",
     "iopub.status.idle": "2021-08-19T11:36:43.009090Z",
     "shell.execute_reply": "2021-08-19T11:36:43.007839Z",
     "shell.execute_reply.started": "2021-08-19T11:36:42.997032Z"
    },
    "id": "glHl6xENLXaF"
   },
   "outputs": [],
   "source": [
    "#I will drop the article_title column.\n",
    "# Reason: Well I am trying to keep things simple and easy."
   ]
  },
  {
   "cell_type": "code",
   "execution_count": 14,
   "metadata": {
    "execution": {
     "iopub.execute_input": "2021-08-19T11:36:43.010981Z",
     "iopub.status.busy": "2021-08-19T11:36:43.010657Z",
     "iopub.status.idle": "2021-08-19T11:36:43.024009Z",
     "shell.execute_reply": "2021-08-19T11:36:43.022894Z",
     "shell.execute_reply.started": "2021-08-19T11:36:43.010952Z"
    },
    "id": "JYYjJqgFLXok"
   },
   "outputs": [],
   "source": [
    "df.drop(['article_title'], axis = 1, inplace=True)"
   ]
  },
  {
   "cell_type": "code",
   "execution_count": 15,
   "metadata": {
    "execution": {
     "iopub.execute_input": "2021-08-19T11:36:43.026394Z",
     "iopub.status.busy": "2021-08-19T11:36:43.025681Z",
     "iopub.status.idle": "2021-08-19T11:36:43.045908Z",
     "shell.execute_reply": "2021-08-19T11:36:43.043496Z",
     "shell.execute_reply.started": "2021-08-19T11:36:43.026264Z"
    },
    "id": "KBSrNHIcLYDk",
    "outputId": "2cc91cbc-c3c6-429a-d763-604d60f54d71"
   },
   "outputs": [
    {
     "data": {
      "text/html": [
       "<div>\n",
       "<style scoped>\n",
       "    .dataframe tbody tr th:only-of-type {\n",
       "        vertical-align: middle;\n",
       "    }\n",
       "\n",
       "    .dataframe tbody tr th {\n",
       "        vertical-align: top;\n",
       "    }\n",
       "\n",
       "    .dataframe thead th {\n",
       "        text-align: right;\n",
       "    }\n",
       "</style>\n",
       "<table border=\"1\" class=\"dataframe\">\n",
       "  <thead>\n",
       "    <tr style=\"text-align: right;\">\n",
       "      <th></th>\n",
       "      <th>article_id</th>\n",
       "      <th>article_text</th>\n",
       "      <th>source</th>\n",
       "    </tr>\n",
       "  </thead>\n",
       "  <tbody>\n",
       "    <tr>\n",
       "      <th>0</th>\n",
       "      <td>1</td>\n",
       "      <td>Prime Minister Narendra Modi on Monday hosted ...</td>\n",
       "      <td>https://timesofindia.indiatimes.com/sports/tok...</td>\n",
       "    </tr>\n",
       "    <tr>\n",
       "      <th>1</th>\n",
       "      <td>2</td>\n",
       "      <td>Neeraj Chopra, a name that has rung clear acro...</td>\n",
       "      <td>https://www.news18.com/news/business/neeraj-ch...</td>\n",
       "    </tr>\n",
       "    <tr>\n",
       "      <th>2</th>\n",
       "      <td>3</td>\n",
       "      <td>Last month when PV Sindhus South Korean coach...</td>\n",
       "      <td>https://indianexpress.com/article/sports/badmi...</td>\n",
       "    </tr>\n",
       "    <tr>\n",
       "      <th>3</th>\n",
       "      <td>4</td>\n",
       "      <td>Prime Minister Narendra Modis hard work of fo...</td>\n",
       "      <td>https://indianexpress.com/article/india/narend...</td>\n",
       "    </tr>\n",
       "    <tr>\n",
       "      <th>4</th>\n",
       "      <td>5</td>\n",
       "      <td>NEW DELHI: Planning holds the key when it come...</td>\n",
       "      <td>https://timesofindia.indiatimes.com/sports/hoc...</td>\n",
       "    </tr>\n",
       "  </tbody>\n",
       "</table>\n",
       "</div>"
      ],
      "text/plain": [
       "   article_id                                       article_text  \\\n",
       "0           1  Prime Minister Narendra Modi on Monday hosted ...   \n",
       "1           2  Neeraj Chopra, a name that has rung clear acro...   \n",
       "2           3  Last month when PV Sindhus South Korean coach...   \n",
       "3           4  Prime Minister Narendra Modis hard work of fo...   \n",
       "4           5  NEW DELHI: Planning holds the key when it come...   \n",
       "\n",
       "                                              source  \n",
       "0  https://timesofindia.indiatimes.com/sports/tok...  \n",
       "1  https://www.news18.com/news/business/neeraj-ch...  \n",
       "2  https://indianexpress.com/article/sports/badmi...  \n",
       "3  https://indianexpress.com/article/india/narend...  \n",
       "4  https://timesofindia.indiatimes.com/sports/hoc...  "
      ]
     },
     "execution_count": 15,
     "metadata": {},
     "output_type": "execute_result"
    }
   ],
   "source": [
    "df.head()"
   ]
  },
  {
   "cell_type": "code",
   "execution_count": 16,
   "metadata": {
    "execution": {
     "iopub.execute_input": "2021-08-19T11:37:14.750660Z",
     "iopub.status.busy": "2021-08-19T11:37:14.750261Z",
     "iopub.status.idle": "2021-08-19T11:37:14.757075Z",
     "shell.execute_reply": "2021-08-19T11:37:14.756023Z",
     "shell.execute_reply.started": "2021-08-19T11:37:14.750626Z"
    },
    "id": "aaPS5UV8L57t",
    "outputId": "e9dd81ee-7c3e-4766-db87-34a7e7d38ab9"
   },
   "outputs": [
    {
     "data": {
      "text/plain": [
       "\"Prime Minister Narendra Modi on Monday hosted the Olympic-returned Indian athletes for breakfast at his residence, a day after lauding their memorable performance at the Tokyo Games from the ramparts of the Red Fort.\\nIndian athletes returned from Tokyo with a haul of seven medals, including javelin thrower Neeraj Chopra's historic gold in track and field. It was the country's best ever show at the Olympics.\\n\\nModi, who had applauded the Indian athletes' tremendous show during the 75th Independence Day celebration at the Red Fort on Sunday, was seen talking to Chopra and bronze medallist PV Sindhu, who become only the second Indian and first woman to win two Olympic medals.\\n\\nThe shuttler had also brought with her the silver medal she had won at Rio five years ago.\\nThe members of the India men's hockey team that won a bronze after 41 also chatted with the PM, who was seen examining a hockey stick.\\n1/9\\nIn Pics: India's stars of Tokyo Olympics shine at meet hosted by PM Narendra Modi\\nSHOW CAPTIONS\\nAlso, present was the wrestling contingent, which returned from the Olympics with two medals. Ravi Dahiya won a silver and Bajrang Punia a bronze medal.\\nVinesh Phogat who has been suspended by the WFI for indiscipline was also present along with young Anshu Malik, Seema Bisla and coach Jagmander Singh.\\nThe other medallist included weightlifter Mirabai Chanu, who opened India's account at the Games on the first day competitions with a silver medal and bronze winning boxer Lovlina Borgohain.\\nThe women's hockey team that exceeded all expectation by reaching its maiden Olympic semifinal was also present alongside the boxing, shooting and athletics contingents.\""
      ]
     },
     "execution_count": 16,
     "metadata": {},
     "output_type": "execute_result"
    }
   ],
   "source": [
    "#lets look at the first article_text\n",
    "df['article_text'][0]\n"
   ]
  },
  {
   "cell_type": "code",
   "execution_count": 17,
   "metadata": {
    "execution": {
     "iopub.execute_input": "2021-08-19T11:37:17.133931Z",
     "iopub.status.busy": "2021-08-19T11:37:17.133201Z",
     "iopub.status.idle": "2021-08-19T11:37:17.141593Z",
     "shell.execute_reply": "2021-08-19T11:37:17.140707Z",
     "shell.execute_reply.started": "2021-08-19T11:37:17.133894Z"
    }
   },
   "outputs": [
    {
     "data": {
      "text/plain": [
       "\"Neeraj Chopra, a name that has rung clear across India as well as the international sporting community. Hailing from Khandra, Haryana, this Javelin-throwing Olympian and track-runner brought home the gold for India in August. The Tokyo Olympics did shine a light on this rare gem of an athlete and brought the nation to the forefront thanks to Chopra. As of August 2021, he has been ranked the number two athlete in the world by the World Athletics organisation. He is also the first track runner and field athlete to win a gold medal for India at the Olympics. Here are a few investment lessons one can learn from the sports star.\\n\\n1) Starting the Journey Early\\n\\nChopra started training at the young age of 12. He started training at Panipat Stadium during his free days to lose the extra pounds and shape up for sports. This put him on the path to becoming an Olympian.\\n\\nSimilarly, when it comes to investment, it always helps to start as early as possible. Though in the initial days you may not see much in terms of returns, persistence and time will help you reap the rewards of higher returns. Much like how Chopra started training early so he could achieve his dreams of becoming an athlete, you have to start investing early to reach that goal of financial security.\\n\\nRECOMMENDED FOR YOU\\nEXCLUSIVE | \\x91We Should Capitalise on the Moment\\x92 - Former Captain Eliza Nelson on Women\\x92s Hockey Team's Tokyo 2020 Success\\nEXCLUSIVE | \\x91We Should Capitalise on the Moment\\x92 - Former Captain Eliza Nelson on Women\\x92s Hockey Team's Tokyo 2020 Success\\nGymnast-like Elastic Body and Fast Hand Speed Did the Trick for Neeraj: Chief Coach Nair\\nGymnast-like Elastic Body and Fast Hand Speed Did the Trick for Neeraj: Chief Coach Nair\\n2) Do Your Due Diligence \\n\\nIn 2013, Chopra had participated in the IAAF World Youth Championships which were played in Donetsk, Ukraine. He failed to qualify for that tournament as he finished in 19th place. However, he managed to get the season\\x92s best throw of 66.75 metres. Over time, he gradually improved his performance and in the 2015 Asian Athletics Championships in Wuhan, China he went up a step to 9th place. Gradually he mastered all the necessary skills to be the best at the game.\\n\\nBefore investing your money and expecting exorbitant returns, you should pace yourself. Make sure that you have a proper plan for the amount of returns you are expecting from the investment and how you are planning to reach there. It also helps to know what you want your money to do for you down the road, so define the goal.\\n\\n3) Coaching and Learning\\n\\nYoung Chopra was not always as enthusiastic about sports as he is today. However, over time he built up his fondness and drive. Over the years he has trained under many coaches and fitness experts to get his game on point. This guidance is one of the major reasons why he has become such an athlete.\\n\\nMuch like Chopra, investors will need guidance and help in the market. It always helps to follow the expert\\x92s lead in these matters. Consulting fund managers and stock brokers will help create a plan or a guide to your investment goal.\\n\\n4) Small Setbacks and Comebacks\\n\\nIn 2018 Chopra suffered a serious elbow injury that resulted in him having to undergo elbow surgery. This put him out of commission for the 2019 IAAF World Athletics Championships. He trained hard and made his comeback, eventually going on to win gold at the Tokyo Olympics.\\n\\nThe market is volatile and that won\\x92t change. But if you are focussed and do your homework, a bad day at the stock market should not bother you. Start slow and set your performance expectations at a realistic level. Be confident about your strength and skills, you will also weather any storm like our \\x91Golden Boy\\x92.\\n\\n5) Stay Updated, Upgrade yourself\\n\\nChopra is constantly posting on his social media on the various kinds of exercises he does outside of big events to get ready for them. From diet to fitness routine, he is always up-to-date with the modern techniques to stay at the top of his game. Similarly, investors need to stay updated with the latest norms of the market and investments and upgrade accordingly.\\n\\nInvestors need to be able to think on their feet. Maybe you invested too much or you are locked into a year-end tax saver fund scheme. Whatever the case, appreciate the game for what it is and learn for the future from your mistakes. Keep learning on multiple venues and grow them parallelly if you want to be a successful investor.\""
      ]
     },
     "execution_count": 17,
     "metadata": {},
     "output_type": "execute_result"
    }
   ],
   "source": [
    "df['article_text'][1]\n"
   ]
  },
  {
   "cell_type": "code",
   "execution_count": 18,
   "metadata": {
    "execution": {
     "iopub.execute_input": "2021-08-19T11:37:19.971857Z",
     "iopub.status.busy": "2021-08-19T11:37:19.971447Z",
     "iopub.status.idle": "2021-08-19T11:37:19.977969Z",
     "shell.execute_reply": "2021-08-19T11:37:19.976954Z",
     "shell.execute_reply.started": "2021-08-19T11:37:19.971822Z"
    }
   },
   "outputs": [
    {
     "data": {
      "text/plain": [
       "'Last month when PV Sindhu\\x92s South Korean coach Park Tae Sang boarded the flight for Tokyo Games, he was a social media nobody with a mere 328 Instagram followers. Within days of Sindhu winning the historic bronze, Park\\x92s phone had a notification overload.\\n\\n\\x93Oh, it\\x92s crazy, crazy, crazy! Just a second,\\x94 he says before pulling out his phone to show the current count of close to 18,000, majority of them being Indians. So used to seeing national coach P Gopichand on the sidelines for significant games, India wanted to know about the calm coach with a serene smile.\\n\\nThe new-found fame in a foreign land has come at a cost and is a result of a tough decision he took. Taking up this pandemic-time assignment meant Park has been away from his young family for a long time.\\n\\n\\x93My 4-year-old daughter (Soyu) would call me every day and say, \\x91Papa when are you coming home? I felt very sad at times. After the pandemic, it was very tough for me and Sindhu. For almost two months we could not practice. But as soon as the cases went a little down we started practice and I decided to not go to Korea because it would further affect her training,\\x94 he says.\\n\\nPV Sindhu\\x92s coach Park Tae Sang, who has met his family for just 13 days since February last year, shows a picture of his daughter Soyu. (Andrew Amsan)\\n\\x93Since last February I have met my family for 13 days. One-three, not three-zero,\\x94 says the 42-year-old coach.\\n\\nBefore he landed in India, Park had to take a major call. In retrospect he feels it was one of the best decisions he has taken.\\n\\nAfter resigning as South Korea\\x92s national coach, Park received a call from his alma mater, Dongeui University, to train juniors. But that was also the time he got an unexpected text message from the Indians to train the men\\x92s singles players.\\n\\nPark knew it would be a demanding job but he had an unfulfilled dream that the comfortable university job close to home would not fulfil \\x97 winning an Olympic medal. Adjusting to India too took some time. Initially, Park was staying at a Korean guest house in Hyderabad and found food suited his taste buds. But since they shut shop during the pandemic, Park had to rent an apartment and do his own cooking.\\n\\n\\x93I miss Korean food. But I like Indian food too. Butter chicken, stir-fried chicken, tandoori chicken, paneer, dosa and lassi drink are my favourites.\\x94\\n\\nEven before he joined Indian badminton, Park knew what he was signing for. As a player, Park, a 2002 Asian Games gold medallist, missed out on a bronze in the 2004 Athens Olympics.\\n\\nAs a coach two of his students faltered at the quarterfinals of the mega event. India was his chance at redemption. \\x93This is a dream come true for me. I cried a little bit when Sindhu won. Just a little bit. When I was a player I lost in the quarterfinals at the Athens Olympics. After that I switched to coaching my two women\\x92s singles players from Korea but they lost in quarterfinals,\\x94 says Park.\\n\\nBut dreams of Olympic proportions take a lot of effort.\\n\\nShoring up defence\\n\\nAnd in Sindhu\\x92s case, team effort. Park had observed the Rio silver medallist\\x92s game closely and felt her defence needed massive improvement to stand any chance of winning consecutive medals.\\n\\nPark uses google translator to express Sindhu\\x92s passion for the game.\\nIt is no secret that Sindhu has a very strong attack. With a lot of tournaments cancelled in the run-up to the Olympics, Park had a lot of time to focus on tightening her defense.\\n\\n\\x93Sindhu had this habit of making the shuttle contact very low. I always told her if she made contact one centimetre higher that would mean the opponent would have to retrieve a centimetre lower.\\n\\n\\x93It\\x92s important to catch more height. We would sometimes get two or three men\\x92s singles players to hit drop shots at Sindhu and I would ask her to return it from a higher position. It allows you to finish off the point in the next shot. I teach the juniors the same thing, it is very very important,\\x94 explains the master tactician, almost ready to jump off his seat to show it in action.\\n\\nAlthough Sindhu has shown a \\x93200 per cent improvement\\x94 in her defence since the Worlds she was outwitted by the deceptive Tai Tzu Ying of Chinese Taipei in the semifinals. \\x93Her defence against Tai Tzu was not good enough so there was no connect or attack. I told her you have to sometimes do a deceptive drop shot when in such a position. The same as what Tai Tzu does,\\x94 says coach Park.\\n\\nAlthough things did not go as per plan against world-class Tai Tzu, Park says the journey with his diligent student will continue. He is struggling with English words to convey Sindhu\\x92s eagerness to train. After a point he gives up, he reaches for the phone and looks for google translation app. His fingers runs on the keys and he looks up with a smile as he holds up the phone. \\x93She is greedy about badminton\\x94 \\x96 flashes on the screen and Park gives a nod'"
      ]
     },
     "execution_count": 18,
     "metadata": {},
     "output_type": "execute_result"
    }
   ],
   "source": [
    "df['article_text'][2]"
   ]
  },
  {
   "cell_type": "markdown",
   "metadata": {
    "id": "LUw1umqMMnT8"
   },
   "source": [
    "# **Preprocessing**"
   ]
  },
  {
   "cell_type": "markdown",
   "metadata": {
    "id": "EACgsOt1Mr-U"
   },
   "source": [
    "# **1. TOKENIZATION (Spliting the whole paragraph into sentence)**"
   ]
  },
  {
   "cell_type": "markdown",
   "metadata": {
    "id": "GGCVF15ZNW7J"
   },
   "source": [
    "what is tokenization\n",
    "\n",
    "Tokenization is a way of separating a piece of text into smaller units called tokens. \n",
    "Here, tokens can be either words, characters, or subwords. \n",
    "Hence, tokenization can be broadly classified into 3 types\n",
    "1.word, 2.character, and 3.subword (n-gram characters) tokenization."
   ]
  },
  {
   "cell_type": "markdown",
   "metadata": {
    "id": "bjMSTGx7Nf4j"
   },
   "source": [
    "In this case we are splitting the paragraph into sentences."
   ]
  },
  {
   "cell_type": "code",
   "execution_count": 19,
   "metadata": {
    "execution": {
     "iopub.execute_input": "2021-08-19T11:38:58.632453Z",
     "iopub.status.busy": "2021-08-19T11:38:58.632038Z",
     "iopub.status.idle": "2021-08-19T11:38:58.649830Z",
     "shell.execute_reply": "2021-08-19T11:38:58.648870Z",
     "shell.execute_reply.started": "2021-08-19T11:38:58.632408Z"
    },
    "id": "LBR-IzTfL52W"
   },
   "outputs": [],
   "source": [
    "from nltk.tokenize import sent_tokenize\n",
    "sentences = []\n",
    "for s in df['article_text']:\n",
    "  sentences.append(sent_tokenize(s))\n",
    "\n",
    "sentences = [y for x in sentences for y in x]\n",
    "\n",
    "# Above I have used list comprehension technique instead of conventional for loop method."
   ]
  },
  {
   "cell_type": "markdown",
   "metadata": {
    "id": "Rm_zCdzrNsWL"
   },
   "source": [
    "# **2. WORD EMBEDDING (Then spliting the sentecnec into words.)**"
   ]
  },
  {
   "cell_type": "markdown",
   "metadata": {
    "id": "0axu0xbiNwPT"
   },
   "source": [
    "In very simplistic terms, Word Embeddings are the texts converted into numbers and there may be different numerical representations of the same text.\n",
    "Word embeddings are a type of word representation that allows words with similar meaning to have a similar representation."
   ]
  },
  {
   "cell_type": "markdown",
   "metadata": {
    "id": "wlidMHulN2wE"
   },
   "source": [
    "I am going to use Glove for word embedding.\n",
    "GloVe is an unsupervised learning algorithm for obtaining vector representations for words. \n",
    "Training is performed on aggregated global word-word co-occurrence statistics from a corpus, \n",
    "and the resulting representations showcase interesting linear substructures of the word vector space\n",
    "\n",
    "Read more here https://nlp.stanford.edu/projects/glove/"
   ]
  },
  {
   "cell_type": "code",
   "execution_count": 20,
   "metadata": {
    "execution": {
     "iopub.execute_input": "2021-08-19T11:30:43.050591Z",
     "iopub.status.busy": "2021-08-19T11:30:43.049988Z",
     "iopub.status.idle": "2021-08-19T11:30:43.062043Z",
     "shell.execute_reply": "2021-08-19T11:30:43.060491Z",
     "shell.execute_reply.started": "2021-08-19T11:30:43.050529Z"
    },
    "id": "1AODq8CgNFse"
   },
   "outputs": [],
   "source": [
    "#!wget http://nlp.stanford.edu/data/glove.6B.zip\n",
    "#!unzip glove*.zip"
   ]
  },
  {
   "cell_type": "code",
   "execution_count": 21,
   "metadata": {
    "execution": {
     "iopub.execute_input": "2021-08-19T11:39:02.940249Z",
     "iopub.status.busy": "2021-08-19T11:39:02.939898Z",
     "iopub.status.idle": "2021-08-19T11:39:21.619687Z",
     "shell.execute_reply": "2021-08-19T11:39:21.618624Z",
     "shell.execute_reply.started": "2021-08-19T11:39:02.940220Z"
    },
    "id": "Yj54S_14L5yE"
   },
   "outputs": [],
   "source": [
    "word_embeddings = {}\n",
    "f = open('glove.6B.100d.txt', encoding='utf-8')\n",
    "for line in f:\n",
    "    values = line.split()\n",
    "    word = values[0]\n",
    "    coefs = np.asarray(values[1:], dtype='float32')\n",
    "    word_embeddings[word] = coefs\n",
    "f.close()"
   ]
  },
  {
   "cell_type": "code",
   "execution_count": 22,
   "metadata": {
    "execution": {
     "iopub.execute_input": "2021-08-19T11:31:01.657179Z",
     "iopub.status.busy": "2021-08-19T11:31:01.656850Z",
     "iopub.status.idle": "2021-08-19T11:31:01.663145Z",
     "shell.execute_reply": "2021-08-19T11:31:01.662127Z",
     "shell.execute_reply.started": "2021-08-19T11:31:01.657146Z"
    },
    "id": "NiVLX_HVL5rm",
    "outputId": "5fa45673-85f0-4905-806e-7cd40bbbfd6e"
   },
   "outputs": [
    {
     "data": {
      "text/plain": [
       "400000"
      ]
     },
     "execution_count": 22,
     "metadata": {},
     "output_type": "execute_result"
    }
   ],
   "source": [
    "len(word_embeddings)"
   ]
  },
  {
   "cell_type": "markdown",
   "metadata": {
    "id": "zXeJpbbdObxp"
   },
   "source": [
    "# **3. Remove punctuations, special characters and numbers.**"
   ]
  },
  {
   "cell_type": "markdown",
   "metadata": {
    "id": "-9gpDMHHO4WS"
   },
   "source": [
    "Doing this will help in processing the text faster."
   ]
  },
  {
   "cell_type": "code",
   "execution_count": 23,
   "metadata": {
    "execution": {
     "iopub.execute_input": "2021-08-19T11:31:01.665154Z",
     "iopub.status.busy": "2021-08-19T11:31:01.664739Z",
     "iopub.status.idle": "2021-08-19T11:31:01.681669Z",
     "shell.execute_reply": "2021-08-19T11:31:01.680640Z",
     "shell.execute_reply.started": "2021-08-19T11:31:01.665109Z"
    },
    "id": "KSsB-vCSL5jN"
   },
   "outputs": [],
   "source": [
    "clean_sentences = pd.Series(sentences).str.replace(\"[^a-zA-Z]\", \" \",  regex=True)"
   ]
  },
  {
   "cell_type": "code",
   "execution_count": 24,
   "metadata": {
    "execution": {
     "iopub.execute_input": "2021-08-19T11:31:01.683530Z",
     "iopub.status.busy": "2021-08-19T11:31:01.683217Z",
     "iopub.status.idle": "2021-08-19T11:31:01.695929Z",
     "shell.execute_reply": "2021-08-19T11:31:01.695051Z",
     "shell.execute_reply.started": "2021-08-19T11:31:01.683495Z"
    },
    "id": "Of9dYMwWL5SO",
    "outputId": "7f37db6b-d60c-44d1-e717-8f1c82c78581"
   },
   "outputs": [
    {
     "name": "stdout",
     "output_type": "stream",
     "text": [
      "Prime Minister Narendra Modi on Monday hosted the Olympic returned Indian athletes for breakfast at his residence  a day after lauding their memorable performance at the Tokyo Games from the ramparts of the Red Fort \n",
      "Indian athletes returned from Tokyo with a haul of seven medals  including javelin thrower Neeraj Chopra s historic gold in track and field \n",
      "It was the country s best ever show at the Olympics \n"
     ]
    }
   ],
   "source": [
    "print(clean_sentences[0])\n",
    "print(clean_sentences[1])\n",
    "print(clean_sentences[2])"
   ]
  },
  {
   "cell_type": "markdown",
   "metadata": {
    "id": "dPj1pujdWM-r"
   },
   "source": [
    "**converting to lower case**\n",
    "\n",
    "**Reason:**\n",
    "\n",
    "I think for your particular use-case, it would be better to convert it to lowercase because ultimately, you will need to predict the words given a certain context. You probably won't be needing to predict sentence beginnings in your use-case. Also, if a noun is predicted you can capitalize it later. However consider the other way round. (Assuming your corpus is in English) Your model might treat a word which is in the beginning of a sentence with a capital letter different from the same word which appears later in the sentence but without any capital latter. This might lead to decline in the accuracy. Whereas I think, lowering the words would be a better trade off."
   ]
  },
  {
   "cell_type": "code",
   "execution_count": 25,
   "metadata": {
    "execution": {
     "iopub.execute_input": "2021-08-19T11:31:01.697370Z",
     "iopub.status.busy": "2021-08-19T11:31:01.696979Z",
     "iopub.status.idle": "2021-08-19T11:31:01.707123Z",
     "shell.execute_reply": "2021-08-19T11:31:01.706301Z",
     "shell.execute_reply.started": "2021-08-19T11:31:01.697336Z"
    },
    "id": "Kyy-fZjaL5Cs"
   },
   "outputs": [],
   "source": [
    "clean_sentences = [s.lower() for s in clean_sentences]"
   ]
  },
  {
   "cell_type": "markdown",
   "metadata": {
    "id": "O35lWNXiWm08"
   },
   "source": [
    "# **4. Removing stops words**"
   ]
  },
  {
   "cell_type": "markdown",
   "metadata": {
    "id": "lHxz876nWspb"
   },
   "source": [
    "**What are the stop words?**\n",
    "\n",
    "These are actually the most common words in any language (like articles, prepositions, pronouns, conjunctions, etc) and does not add much information to the text. Examples of a few stop words in English are “the”, “a”, “an”, “so”, “what”.\n",
    "\n",
    "**Why we remove the stop words?**\n",
    "\n",
    "Stop words are available in abundance in any human language. By removing these words, we remove the low-level information from our text in order to give more focus to the important information. In order words, we can say that the removal of such words does not show any negative consequences on the model we train for our task.\n",
    "Removal of stop words definitely reduces the dataset size and thus reduces the training time due to the fewer number of tokens involved in the training."
   ]
  },
  {
   "cell_type": "code",
   "execution_count": 26,
   "metadata": {
    "execution": {
     "iopub.execute_input": "2021-08-19T11:31:01.709206Z",
     "iopub.status.busy": "2021-08-19T11:31:01.708682Z",
     "iopub.status.idle": "2021-08-19T11:31:01.722404Z",
     "shell.execute_reply": "2021-08-19T11:31:01.721579Z",
     "shell.execute_reply.started": "2021-08-19T11:31:01.709163Z"
    },
    "id": "CvmbNG8FWmKa",
    "outputId": "3bc350bb-14bd-4c05-bd88-9d9d8554658f"
   },
   "outputs": [
    {
     "name": "stderr",
     "output_type": "stream",
     "text": [
      "[nltk_data] Downloading package stopwords to\n",
      "[nltk_data]     C:\\Users\\Asus\\AppData\\Roaming\\nltk_data...\n",
      "[nltk_data]   Package stopwords is already up-to-date!\n"
     ]
    },
    {
     "data": {
      "text/plain": [
       "True"
      ]
     },
     "execution_count": 26,
     "metadata": {},
     "output_type": "execute_result"
    }
   ],
   "source": [
    "nltk.download('stopwords')"
   ]
  },
  {
   "cell_type": "code",
   "execution_count": 27,
   "metadata": {
    "execution": {
     "iopub.execute_input": "2021-08-19T11:31:01.725794Z",
     "iopub.status.busy": "2021-08-19T11:31:01.725237Z",
     "iopub.status.idle": "2021-08-19T11:31:01.730820Z",
     "shell.execute_reply": "2021-08-19T11:31:01.729927Z",
     "shell.execute_reply.started": "2021-08-19T11:31:01.725743Z"
    }
   },
   "outputs": [],
   "source": [
    "def remove_stopwords(sen):\n",
    "    sen_new = \" \".join([i for i in sen if i not in stop_words])\n",
    "    return sen_new"
   ]
  },
  {
   "cell_type": "code",
   "execution_count": 28,
   "metadata": {
    "execution": {
     "iopub.execute_input": "2021-08-19T11:31:01.732905Z",
     "iopub.status.busy": "2021-08-19T11:31:01.732376Z",
     "iopub.status.idle": "2021-08-19T11:31:01.744164Z",
     "shell.execute_reply": "2021-08-19T11:31:01.743136Z",
     "shell.execute_reply.started": "2021-08-19T11:31:01.732854Z"
    },
    "id": "XoN4WxLaWmhE"
   },
   "outputs": [],
   "source": [
    "from nltk.corpus import stopwords\n",
    "stop_words = stopwords.words('english')"
   ]
  },
  {
   "cell_type": "code",
   "execution_count": 29,
   "metadata": {
    "execution": {
     "iopub.execute_input": "2021-08-19T11:31:01.746218Z",
     "iopub.status.busy": "2021-08-19T11:31:01.745721Z",
     "iopub.status.idle": "2021-08-19T11:31:01.762347Z",
     "shell.execute_reply": "2021-08-19T11:31:01.761293Z",
     "shell.execute_reply.started": "2021-08-19T11:31:01.746180Z"
    },
    "id": "3EipmM6QXV_m"
   },
   "outputs": [],
   "source": [
    "clean_sentences = [remove_stopwords(r.split()) for r in clean_sentences]"
   ]
  },
  {
   "cell_type": "code",
   "execution_count": 30,
   "metadata": {
    "execution": {
     "iopub.execute_input": "2021-08-19T11:31:01.764055Z",
     "iopub.status.busy": "2021-08-19T11:31:01.763491Z",
     "iopub.status.idle": "2021-08-19T11:31:01.776414Z",
     "shell.execute_reply": "2021-08-19T11:31:01.774394Z",
     "shell.execute_reply.started": "2021-08-19T11:31:01.764023Z"
    },
    "id": "Lm0PhSZYXV6S",
    "outputId": "fce6ab58-d090-4576-b7e5-ad2b48c9d21b"
   },
   "outputs": [
    {
     "data": {
      "text/plain": [
       "['prime minister narendra modi monday hosted olympic returned indian athletes breakfast residence day lauding memorable performance tokyo games ramparts red fort',\n",
       " 'indian athletes returned tokyo haul seven medals including javelin thrower neeraj chopra historic gold track field',\n",
       " 'country best ever show olympics',\n",
       " 'modi applauded indian athletes tremendous show th independence day celebration red fort sunday seen talking chopra bronze medallist pv sindhu become second indian first woman win two olympic medals',\n",
       " 'shuttler also brought silver medal rio five years ago']"
      ]
     },
     "execution_count": 30,
     "metadata": {},
     "output_type": "execute_result"
    }
   ],
   "source": [
    "clean_sentences[0:5]"
   ]
  },
  {
   "cell_type": "markdown",
   "metadata": {
    "id": "T5z2sa4z0VFi"
   },
   "source": [
    "# **5. Vector representation of sentences**"
   ]
  },
  {
   "cell_type": "code",
   "execution_count": 31,
   "metadata": {
    "execution": {
     "iopub.execute_input": "2021-08-19T11:31:01.778450Z",
     "iopub.status.busy": "2021-08-19T11:31:01.778088Z",
     "iopub.status.idle": "2021-08-19T11:31:20.214692Z",
     "shell.execute_reply": "2021-08-19T11:31:20.213653Z",
     "shell.execute_reply.started": "2021-08-19T11:31:01.778417Z"
    },
    "id": "DPfME2X0XVx6"
   },
   "outputs": [],
   "source": [
    "word_embeddings = {}\n",
    "f = open('glove.6B.100d.txt', encoding='utf-8')\n",
    "for line in f:\n",
    "    values = line.split()\n",
    "    word = values[0]\n",
    "    coefs = np.asarray(values[1:], dtype='float32')\n",
    "    word_embeddings[word] = coefs\n",
    "f.close()"
   ]
  },
  {
   "cell_type": "code",
   "execution_count": 33,
   "metadata": {
    "execution": {
     "iopub.execute_input": "2021-08-19T11:31:20.216646Z",
     "iopub.status.busy": "2021-08-19T11:31:20.216156Z",
     "iopub.status.idle": "2021-08-19T11:31:20.232721Z",
     "shell.execute_reply": "2021-08-19T11:31:20.231583Z",
     "shell.execute_reply.started": "2021-08-19T11:31:20.216599Z"
    },
    "id": "q5-UpSrI0gIO"
   },
   "outputs": [],
   "source": [
    "sentence_vectors = []\n",
    "for i in clean_sentences:\n",
    "  if len(i) != 0:\n",
    "    v = sum([word_embeddings.get(w, np.zeros((100,))) for w in i.split()])/(len(i.split())+0.001)\n",
    "  else:\n",
    "    v = np.zeros((100,))\n",
    "  sentence_vectors.append(v)"
   ]
  },
  {
   "cell_type": "markdown",
   "metadata": {
    "id": "VGzjU6TO0-FA"
   },
   "source": [
    "# **6. Similarity matrix**"
   ]
  },
  {
   "cell_type": "markdown",
   "metadata": {
    "id": "QB2je1bb1EUD"
   },
   "source": [
    "I will use cosine similarity for finding the similarity between the sentecnes. Sentences which has highest similairyt will be of more importance and we will rank them according to that and later on we will form the summarization using that. \n",
    "\n",
    "[Read more on cosine similarity.](https://www.machinelearningplus.com/nlp/cosine-similarity/#:~:text=Cosine%20similarity%20is%20a%20metric,in%20a%20multi%2Ddimensional%20space.&text=The%20smaller%20the%20angle%2C%20higher%20the%20cosine%20similarity.)"
   ]
  },
  {
   "cell_type": "code",
   "execution_count": 34,
   "metadata": {
    "execution": {
     "iopub.execute_input": "2021-08-19T11:31:20.234923Z",
     "iopub.status.busy": "2021-08-19T11:31:20.234414Z",
     "iopub.status.idle": "2021-08-19T11:31:20.247408Z",
     "shell.execute_reply": "2021-08-19T11:31:20.245917Z",
     "shell.execute_reply.started": "2021-08-19T11:31:20.234877Z"
    },
    "id": "g7mIOowt2N_N"
   },
   "outputs": [],
   "source": [
    "from sklearn.metrics.pairwise import cosine_similarity"
   ]
  },
  {
   "cell_type": "code",
   "execution_count": 35,
   "metadata": {
    "execution": {
     "iopub.execute_input": "2021-08-19T11:31:20.249861Z",
     "iopub.status.busy": "2021-08-19T11:31:20.249274Z",
     "iopub.status.idle": "2021-08-19T11:31:20.263285Z",
     "shell.execute_reply": "2021-08-19T11:31:20.261880Z",
     "shell.execute_reply.started": "2021-08-19T11:31:20.249741Z"
    },
    "id": "0gwzo6Mt2aRV"
   },
   "outputs": [],
   "source": [
    "similarity_matrix = np.zeros([len(sentences), len(sentences)])\n",
    "# The above code will help me in forming the matrix of the size of sentences. "
   ]
  },
  {
   "cell_type": "code",
   "execution_count": 36,
   "metadata": {
    "execution": {
     "iopub.execute_input": "2021-08-19T11:31:20.265240Z",
     "iopub.status.busy": "2021-08-19T11:31:20.264837Z",
     "iopub.status.idle": "2021-08-19T11:31:24.747473Z",
     "shell.execute_reply": "2021-08-19T11:31:24.746648Z",
     "shell.execute_reply.started": "2021-08-19T11:31:20.265211Z"
    },
    "id": "OXzRyPCK2ORG"
   },
   "outputs": [],
   "source": [
    "for i in range(len(sentences)):\n",
    "  for j in range(len(sentences)):\n",
    "    if i != j:\n",
    "      similarity_matrix[i][j] = cosine_similarity(sentence_vectors[i].reshape(1,100), sentence_vectors[j].reshape(1,100))[0,0]"
   ]
  },
  {
   "cell_type": "code",
   "execution_count": 37,
   "metadata": {
    "execution": {
     "iopub.execute_input": "2021-08-19T11:31:24.749409Z",
     "iopub.status.busy": "2021-08-19T11:31:24.748790Z",
     "iopub.status.idle": "2021-08-19T11:31:24.755023Z",
     "shell.execute_reply": "2021-08-19T11:31:24.754001Z",
     "shell.execute_reply.started": "2021-08-19T11:31:24.749362Z"
    },
    "id": "YfhXqE192OuW",
    "outputId": "6558392a-af12-44e0-ad4c-554b08ae5e71"
   },
   "outputs": [
    {
     "name": "stdout",
     "output_type": "stream",
     "text": [
      "(404, 404)\n"
     ]
    }
   ],
   "source": [
    "print(similarity_matrix.shape)"
   ]
  },
  {
   "cell_type": "markdown",
   "metadata": {
    "id": "tvBlDN6J4bHU"
   },
   "source": [
    "# **7. Converting similarity matrix sim_mat into a graph**"
   ]
  },
  {
   "cell_type": "markdown",
   "metadata": {
    "id": "LNcETNUA71bL"
   },
   "source": [
    "The nodes of this graph will represent the sentences and the edges will represent the similarity scores between the sentences. On this graph, we will apply the PageRank algorithm to arrive at the sentence rankings"
   ]
  },
  {
   "cell_type": "code",
   "execution_count": 38,
   "metadata": {
    "execution": {
     "iopub.execute_input": "2021-08-19T11:31:24.757070Z",
     "iopub.status.busy": "2021-08-19T11:31:24.756474Z",
     "iopub.status.idle": "2021-08-19T11:31:25.144484Z",
     "shell.execute_reply": "2021-08-19T11:31:25.143095Z",
     "shell.execute_reply.started": "2021-08-19T11:31:24.757025Z"
    },
    "id": "syODLc0T2Orm"
   },
   "outputs": [],
   "source": [
    "import networkx as nx\n",
    "\n",
    "nx_graph = nx.from_numpy_array(similarity_matrix)\n",
    "scores = nx.pagerank(nx_graph)"
   ]
  },
  {
   "cell_type": "markdown",
   "metadata": {
    "id": "gU1YotaN75iC"
   },
   "source": [
    "# **8. Summarization**"
   ]
  },
  {
   "cell_type": "markdown",
   "metadata": {
    "id": "0A4tkjrA8pkW"
   },
   "source": [
    "Sorting the sentences on the basis of highest score"
   ]
  },
  {
   "cell_type": "code",
   "execution_count": 39,
   "metadata": {
    "execution": {
     "iopub.execute_input": "2021-08-19T11:31:25.146755Z",
     "iopub.status.busy": "2021-08-19T11:31:25.146114Z",
     "iopub.status.idle": "2021-08-19T11:31:25.152324Z",
     "shell.execute_reply": "2021-08-19T11:31:25.151339Z",
     "shell.execute_reply.started": "2021-08-19T11:31:25.146708Z"
    },
    "id": "NzTxFLOp2OLN"
   },
   "outputs": [],
   "source": [
    "ranked_sentences = sorted(((scores[i],s) for i,s in enumerate(sentences)), reverse=True)"
   ]
  },
  {
   "cell_type": "code",
   "execution_count": 40,
   "metadata": {
    "execution": {
     "iopub.execute_input": "2021-08-19T11:31:25.154315Z",
     "iopub.status.busy": "2021-08-19T11:31:25.153817Z",
     "iopub.status.idle": "2021-08-19T11:31:25.174040Z",
     "shell.execute_reply": "2021-08-19T11:31:25.172761Z",
     "shell.execute_reply.started": "2021-08-19T11:31:25.154274Z"
    },
    "id": "drS_4O5g2OB4",
    "outputId": "d7c7fb6b-72ac-43c8-b248-f02df57d3656"
   },
   "outputs": [
    {
     "name": "stdout",
     "output_type": "stream",
     "text": [
      "Some experts were quick to term the countrys best-ever performance in the Olympic Games as a potential gamechanger that can help build the much-talked about sports culture and lay the foundation for India to produce many more champions in the future.\n",
      "They are also the first point of contact between a child and a sport, and a proper talent identification process at that level could go a long way in helping talented youngsters win more medals on the international stage.\n",
      "Just a few months back when an up-and-coming athlete approached one such high profile foundation for support, the player was told that their research team did not find enough performance data on the national and international stage in the last year.\n",
      "According to him, It is crucial that we get people talking about larger agendas with the bigger picture in mind but at the same time, for sports events like the Olympics, it is very important to celebrate every victory, every achievement and every step that our athletes take forward.\n",
      "And the usual question about why a country with over a billion people cant win medals at the Olympics began to rear its head on various forums.\n",
      "Much like how Chopra started training early so he could achieve his dreams of becoming an athlete, you have to start investing early to reach that goal of financial security.\n",
      "One of the Co-presenting sponsors for the official broadcast of Tokyo Olympics, MPL also came up their #FanBannJaaoge campaign where it shed spotlight on athletes and their many achievements, and in doing so, get the entire nation to rally behind them.\n",
      "But if you ask any of these players, they will vouch for the fact that the most difficult part for many of them has been the journey from the district to the national/international stage and then unlearning or relearning everything to start making a mark at the level that matters.\n",
      "The way things are in the Indian sports ecosystem, the top players get support from the government, the various Non-Governmental Organisations determined to help the country win medals on the international stage, and even the corporates.\n",
      "The new-found fame in a foreign land has come at a cost and is a result of a tough decision he took.\n"
     ]
    }
   ],
   "source": [
    "# Extract top 10 sentences as the summary\n",
    "for i in range(10):\n",
    "  print(ranked_sentences[i][1])"
   ]
  }
 ],
 "metadata": {
  "kernelspec": {
   "display_name": "Python 3 (ipykernel)",
   "language": "python",
   "name": "python3"
  },
  "language_info": {
   "codemirror_mode": {
    "name": "ipython",
    "version": 3
   },
   "file_extension": ".py",
   "mimetype": "text/x-python",
   "name": "python",
   "nbconvert_exporter": "python",
   "pygments_lexer": "ipython3",
   "version": "3.9.6"
  }
 },
 "nbformat": 4,
 "nbformat_minor": 4
}
