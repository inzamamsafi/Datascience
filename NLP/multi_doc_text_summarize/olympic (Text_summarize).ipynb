{
 "cells": [
  {
   "cell_type": "markdown",
   "id": "576d4ed7",
   "metadata": {
    "papermill": {
     "duration": 0.037715,
     "end_time": "2021-08-30T11:29:41.273168",
     "exception": false,
     "start_time": "2021-08-30T11:29:41.235453",
     "status": "completed"
    },
    "tags": []
   },
   "source": [
    "# Loading the library"
   ]
  },
  {
   "cell_type": "code",
   "execution_count": 1,
   "id": "502ded40",
   "metadata": {
    "execution": {
     "iopub.execute_input": "2021-08-30T11:29:41.362717Z",
     "iopub.status.busy": "2021-08-30T11:29:41.358401Z",
     "iopub.status.idle": "2021-08-30T11:29:43.481337Z",
     "shell.execute_reply": "2021-08-30T11:29:43.481857Z",
     "shell.execute_reply.started": "2021-08-30T11:20:11.362375Z"
    },
    "id": "KiI5Fv9tLAMS",
    "outputId": "8b933c4b-93b0-469c-a1bc-c62ed49ac80d",
    "papermill": {
     "duration": 2.171263,
     "end_time": "2021-08-30T11:29:43.482168",
     "exception": false,
     "start_time": "2021-08-30T11:29:41.310905",
     "status": "completed"
    },
    "tags": []
   },
   "outputs": [
    {
     "name": "stdout",
     "output_type": "stream",
     "text": [
      "[nltk_data] Downloading package punkt to /usr/share/nltk_data...\n",
      "[nltk_data]   Package punkt is already up-to-date!\n"
     ]
    },
    {
     "data": {
      "text/plain": [
       "True"
      ]
     },
     "execution_count": 1,
     "metadata": {},
     "output_type": "execute_result"
    }
   ],
   "source": [
    "import pandas as pd\n",
    "import numpy as np\n",
    "import nltk\n",
    "import re\n",
    "nltk.download('punkt')"
   ]
  },
  {
   "cell_type": "markdown",
   "id": "c8eab792",
   "metadata": {
    "papermill": {
     "duration": 0.039874,
     "end_time": "2021-08-30T11:29:43.561656",
     "exception": false,
     "start_time": "2021-08-30T11:29:43.521782",
     "status": "completed"
    },
    "tags": []
   },
   "source": [
    "# laoding the datset"
   ]
  },
  {
   "cell_type": "code",
   "execution_count": 2,
   "id": "8ede87f6",
   "metadata": {
    "execution": {
     "iopub.execute_input": "2021-08-30T11:29:43.646137Z",
     "iopub.status.busy": "2021-08-30T11:29:43.645210Z",
     "iopub.status.idle": "2021-08-30T11:29:43.664922Z",
     "shell.execute_reply": "2021-08-30T11:29:43.664252Z",
     "shell.execute_reply.started": "2021-08-30T11:20:11.373959Z"
    },
    "id": "WBiuanjkt3Hw",
    "papermill": {
     "duration": 0.065999,
     "end_time": "2021-08-30T11:29:43.665232",
     "exception": false,
     "start_time": "2021-08-30T11:29:43.599233",
     "status": "completed"
    },
    "tags": []
   },
   "outputs": [],
   "source": [
    "df = pd.read_csv('../input/olympic-news-dataset/olympic_news.csv',encoding= 'unicode_escape')"
   ]
  },
  {
   "cell_type": "code",
   "execution_count": 3,
   "id": "1a007ae7",
   "metadata": {
    "execution": {
     "iopub.execute_input": "2021-08-30T11:29:43.749493Z",
     "iopub.status.busy": "2021-08-30T11:29:43.748785Z",
     "iopub.status.idle": "2021-08-30T11:29:43.770958Z",
     "shell.execute_reply": "2021-08-30T11:29:43.770227Z",
     "shell.execute_reply.started": "2021-08-30T11:20:11.391564Z"
    },
    "id": "9zbPQIVHLXCT",
    "outputId": "a5f01284-b93b-45be-b046-1f2506dc0131",
    "papermill": {
     "duration": 0.069451,
     "end_time": "2021-08-30T11:29:43.771118",
     "exception": false,
     "start_time": "2021-08-30T11:29:43.701667",
     "status": "completed"
    },
    "tags": []
   },
   "outputs": [
    {
     "data": {
      "text/html": [
       "<div>\n",
       "<style scoped>\n",
       "    .dataframe tbody tr th:only-of-type {\n",
       "        vertical-align: middle;\n",
       "    }\n",
       "\n",
       "    .dataframe tbody tr th {\n",
       "        vertical-align: top;\n",
       "    }\n",
       "\n",
       "    .dataframe thead th {\n",
       "        text-align: right;\n",
       "    }\n",
       "</style>\n",
       "<table border=\"1\" class=\"dataframe\">\n",
       "  <thead>\n",
       "    <tr style=\"text-align: right;\">\n",
       "      <th></th>\n",
       "      <th>article_id</th>\n",
       "      <th>article_title</th>\n",
       "      <th>article_text</th>\n",
       "      <th>source</th>\n",
       "    </tr>\n",
       "  </thead>\n",
       "  <tbody>\n",
       "    <tr>\n",
       "      <th>0</th>\n",
       "      <td>1</td>\n",
       "      <td>PM Narendra Modi meets India's Tokyo Olympics ...</td>\n",
       "      <td>Prime Minister Narendra Modi on Monday hosted ...</td>\n",
       "      <td>https://timesofindia.indiatimes.com/sports/tok...</td>\n",
       "    </tr>\n",
       "    <tr>\n",
       "      <th>1</th>\n",
       "      <td>2</td>\n",
       "      <td>Neeraj Chopra: 5 Investment Lessons to Learn f...</td>\n",
       "      <td>Neeraj Chopra, a name that has rung clear acro...</td>\n",
       "      <td>https://www.news18.com/news/business/neeraj-ch...</td>\n",
       "    </tr>\n",
       "    <tr>\n",
       "      <th>2</th>\n",
       "      <td>3</td>\n",
       "      <td>18k followers, Olympic medal: Sindhus coach P...</td>\n",
       "      <td>Last month when PV Sindhus South Korean coach...</td>\n",
       "      <td>https://indianexpress.com/article/sports/badmi...</td>\n",
       "    </tr>\n",
       "    <tr>\n",
       "      <th>3</th>\n",
       "      <td>4</td>\n",
       "      <td>Modis hard work behind youths winning medals ...</td>\n",
       "      <td>Prime Minister Narendra Modis hard work of fo...</td>\n",
       "      <td>https://indianexpress.com/article/india/narend...</td>\n",
       "    </tr>\n",
       "    <tr>\n",
       "      <th>4</th>\n",
       "      <td>5</td>\n",
       "      <td>What next for Indian hockey after the historic...</td>\n",
       "      <td>NEW DELHI: Planning holds the key when it come...</td>\n",
       "      <td>https://timesofindia.indiatimes.com/sports/hoc...</td>\n",
       "    </tr>\n",
       "    <tr>\n",
       "      <th>5</th>\n",
       "      <td>6</td>\n",
       "      <td>PM Modi meets with India Olympic contingent</td>\n",
       "      <td>Prime Minister Narendra Modi on Monday hosted ...</td>\n",
       "      <td>https://in.news.yahoo.com/pm-modi-meets-india-...</td>\n",
       "    </tr>\n",
       "    <tr>\n",
       "      <th>6</th>\n",
       "      <td>7</td>\n",
       "      <td>A sports culture beyond Olympics: To find last...</td>\n",
       "      <td>Indias campaign at the Tokyo Olympics was a s...</td>\n",
       "      <td>https://scroll.in/field/1002882/olympics-and-s...</td>\n",
       "    </tr>\n",
       "    <tr>\n",
       "      <th>7</th>\n",
       "      <td>8</td>\n",
       "      <td>India's Tokyo Olympics medalists get cash rewa...</td>\n",
       "      <td>Sports Minister Anurag Thakur on Sunday presen...</td>\n",
       "      <td>https://www.indiatoday.in/sports/tokyo-olympic...</td>\n",
       "    </tr>\n",
       "    <tr>\n",
       "      <th>8</th>\n",
       "      <td>9</td>\n",
       "      <td>Post Olympics, have brands managed to change I...</td>\n",
       "      <td>After an unparalleled performance at the Tokyo...</td>\n",
       "      <td>https://www.exchange4media.com/pr-and-corporat...</td>\n",
       "    </tr>\n",
       "    <tr>\n",
       "      <th>9</th>\n",
       "      <td>10</td>\n",
       "      <td>With 7 medals, India records its best-ever hau...</td>\n",
       "      <td>Tokyo Olympics: Neeraj Chopra on Saturday not ...</td>\n",
       "      <td>https://www.livemint.com/news/india/with-7-med...</td>\n",
       "    </tr>\n",
       "  </tbody>\n",
       "</table>\n",
       "</div>"
      ],
      "text/plain": [
       "   article_id                                      article_title  \\\n",
       "0           1  PM Narendra Modi meets India's Tokyo Olympics ...   \n",
       "1           2  Neeraj Chopra: 5 Investment Lessons to Learn f...   \n",
       "2           3  18k followers, Olympic medal: Sindhus coach P...   \n",
       "3           4  Modis hard work behind youths winning medals ...   \n",
       "4           5  What next for Indian hockey after the historic...   \n",
       "5           6        PM Modi meets with India Olympic contingent   \n",
       "6           7  A sports culture beyond Olympics: To find last...   \n",
       "7           8  India's Tokyo Olympics medalists get cash rewa...   \n",
       "8           9  Post Olympics, have brands managed to change I...   \n",
       "9          10  With 7 medals, India records its best-ever hau...   \n",
       "\n",
       "                                        article_text  \\\n",
       "0  Prime Minister Narendra Modi on Monday hosted ...   \n",
       "1  Neeraj Chopra, a name that has rung clear acro...   \n",
       "2  Last month when PV Sindhus South Korean coach...   \n",
       "3  Prime Minister Narendra Modis hard work of fo...   \n",
       "4  NEW DELHI: Planning holds the key when it come...   \n",
       "5  Prime Minister Narendra Modi on Monday hosted ...   \n",
       "6  Indias campaign at the Tokyo Olympics was a s...   \n",
       "7  Sports Minister Anurag Thakur on Sunday presen...   \n",
       "8  After an unparalleled performance at the Tokyo...   \n",
       "9  Tokyo Olympics: Neeraj Chopra on Saturday not ...   \n",
       "\n",
       "                                              source  \n",
       "0  https://timesofindia.indiatimes.com/sports/tok...  \n",
       "1  https://www.news18.com/news/business/neeraj-ch...  \n",
       "2  https://indianexpress.com/article/sports/badmi...  \n",
       "3  https://indianexpress.com/article/india/narend...  \n",
       "4  https://timesofindia.indiatimes.com/sports/hoc...  \n",
       "5  https://in.news.yahoo.com/pm-modi-meets-india-...  \n",
       "6  https://scroll.in/field/1002882/olympics-and-s...  \n",
       "7  https://www.indiatoday.in/sports/tokyo-olympic...  \n",
       "8  https://www.exchange4media.com/pr-and-corporat...  \n",
       "9  https://www.livemint.com/news/india/with-7-med...  "
      ]
     },
     "execution_count": 3,
     "metadata": {},
     "output_type": "execute_result"
    }
   ],
   "source": [
    "df.head(10)"
   ]
  },
  {
   "cell_type": "code",
   "execution_count": 4,
   "id": "407f222c",
   "metadata": {
    "execution": {
     "iopub.execute_input": "2021-08-30T11:29:43.853020Z",
     "iopub.status.busy": "2021-08-30T11:29:43.852056Z",
     "iopub.status.idle": "2021-08-30T11:29:43.872939Z",
     "shell.execute_reply": "2021-08-30T11:29:43.872281Z",
     "shell.execute_reply.started": "2021-08-30T11:20:11.407786Z"
    },
    "id": "hLk8KkoVLXN7",
    "outputId": "ebee10a4-36a7-495c-9c7e-3bd844f426a2",
    "papermill": {
     "duration": 0.060825,
     "end_time": "2021-08-30T11:29:43.873086",
     "exception": false,
     "start_time": "2021-08-30T11:29:43.812261",
     "status": "completed"
    },
    "tags": []
   },
   "outputs": [
    {
     "name": "stdout",
     "output_type": "stream",
     "text": [
      "<class 'pandas.core.frame.DataFrame'>\n",
      "RangeIndex: 11 entries, 0 to 10\n",
      "Data columns (total 4 columns):\n",
      " #   Column         Non-Null Count  Dtype \n",
      "---  ------         --------------  ----- \n",
      " 0   article_id     11 non-null     int64 \n",
      " 1   article_title  11 non-null     object\n",
      " 2   article_text   11 non-null     object\n",
      " 3   source         11 non-null     object\n",
      "dtypes: int64(1), object(3)\n",
      "memory usage: 480.0+ bytes\n"
     ]
    }
   ],
   "source": [
    "df.info()"
   ]
  },
  {
   "cell_type": "code",
   "execution_count": 5,
   "id": "5e53e56d",
   "metadata": {
    "execution": {
     "iopub.execute_input": "2021-08-30T11:29:43.953971Z",
     "iopub.status.busy": "2021-08-30T11:29:43.952921Z",
     "iopub.status.idle": "2021-08-30T11:29:43.955995Z",
     "shell.execute_reply": "2021-08-30T11:29:43.956454Z",
     "shell.execute_reply.started": "2021-08-30T11:20:11.424202Z"
    },
    "id": "glHl6xENLXaF",
    "papermill": {
     "duration": 0.046157,
     "end_time": "2021-08-30T11:29:43.956631",
     "exception": false,
     "start_time": "2021-08-30T11:29:43.910474",
     "status": "completed"
    },
    "tags": []
   },
   "outputs": [],
   "source": [
    "#I will drop the article_title column.\n",
    "# Reason: Well I am trying to keep things simple and easy."
   ]
  },
  {
   "cell_type": "code",
   "execution_count": 6,
   "id": "c433f6ad",
   "metadata": {
    "execution": {
     "iopub.execute_input": "2021-08-30T11:29:44.037659Z",
     "iopub.status.busy": "2021-08-30T11:29:44.036669Z",
     "iopub.status.idle": "2021-08-30T11:29:44.045037Z",
     "shell.execute_reply": "2021-08-30T11:29:44.044481Z",
     "shell.execute_reply.started": "2021-08-30T11:20:11.429566Z"
    },
    "id": "JYYjJqgFLXok",
    "papermill": {
     "duration": 0.049506,
     "end_time": "2021-08-30T11:29:44.045194",
     "exception": false,
     "start_time": "2021-08-30T11:29:43.995688",
     "status": "completed"
    },
    "tags": []
   },
   "outputs": [],
   "source": [
    "df.drop(['article_title'], axis = 1, inplace=True)"
   ]
  },
  {
   "cell_type": "code",
   "execution_count": 7,
   "id": "c7ce85d3",
   "metadata": {
    "execution": {
     "iopub.execute_input": "2021-08-30T11:29:44.133653Z",
     "iopub.status.busy": "2021-08-30T11:29:44.132936Z",
     "iopub.status.idle": "2021-08-30T11:29:44.137550Z",
     "shell.execute_reply": "2021-08-30T11:29:44.136906Z",
     "shell.execute_reply.started": "2021-08-30T11:20:11.442103Z"
    },
    "id": "KBSrNHIcLYDk",
    "outputId": "2cc91cbc-c3c6-429a-d763-604d60f54d71",
    "papermill": {
     "duration": 0.052748,
     "end_time": "2021-08-30T11:29:44.137692",
     "exception": false,
     "start_time": "2021-08-30T11:29:44.084944",
     "status": "completed"
    },
    "tags": []
   },
   "outputs": [
    {
     "data": {
      "text/html": [
       "<div>\n",
       "<style scoped>\n",
       "    .dataframe tbody tr th:only-of-type {\n",
       "        vertical-align: middle;\n",
       "    }\n",
       "\n",
       "    .dataframe tbody tr th {\n",
       "        vertical-align: top;\n",
       "    }\n",
       "\n",
       "    .dataframe thead th {\n",
       "        text-align: right;\n",
       "    }\n",
       "</style>\n",
       "<table border=\"1\" class=\"dataframe\">\n",
       "  <thead>\n",
       "    <tr style=\"text-align: right;\">\n",
       "      <th></th>\n",
       "      <th>article_id</th>\n",
       "      <th>article_text</th>\n",
       "      <th>source</th>\n",
       "    </tr>\n",
       "  </thead>\n",
       "  <tbody>\n",
       "    <tr>\n",
       "      <th>0</th>\n",
       "      <td>1</td>\n",
       "      <td>Prime Minister Narendra Modi on Monday hosted ...</td>\n",
       "      <td>https://timesofindia.indiatimes.com/sports/tok...</td>\n",
       "    </tr>\n",
       "    <tr>\n",
       "      <th>1</th>\n",
       "      <td>2</td>\n",
       "      <td>Neeraj Chopra, a name that has rung clear acro...</td>\n",
       "      <td>https://www.news18.com/news/business/neeraj-ch...</td>\n",
       "    </tr>\n",
       "    <tr>\n",
       "      <th>2</th>\n",
       "      <td>3</td>\n",
       "      <td>Last month when PV Sindhus South Korean coach...</td>\n",
       "      <td>https://indianexpress.com/article/sports/badmi...</td>\n",
       "    </tr>\n",
       "    <tr>\n",
       "      <th>3</th>\n",
       "      <td>4</td>\n",
       "      <td>Prime Minister Narendra Modis hard work of fo...</td>\n",
       "      <td>https://indianexpress.com/article/india/narend...</td>\n",
       "    </tr>\n",
       "    <tr>\n",
       "      <th>4</th>\n",
       "      <td>5</td>\n",
       "      <td>NEW DELHI: Planning holds the key when it come...</td>\n",
       "      <td>https://timesofindia.indiatimes.com/sports/hoc...</td>\n",
       "    </tr>\n",
       "  </tbody>\n",
       "</table>\n",
       "</div>"
      ],
      "text/plain": [
       "   article_id                                       article_text  \\\n",
       "0           1  Prime Minister Narendra Modi on Monday hosted ...   \n",
       "1           2  Neeraj Chopra, a name that has rung clear acro...   \n",
       "2           3  Last month when PV Sindhus South Korean coach...   \n",
       "3           4  Prime Minister Narendra Modis hard work of fo...   \n",
       "4           5  NEW DELHI: Planning holds the key when it come...   \n",
       "\n",
       "                                              source  \n",
       "0  https://timesofindia.indiatimes.com/sports/tok...  \n",
       "1  https://www.news18.com/news/business/neeraj-ch...  \n",
       "2  https://indianexpress.com/article/sports/badmi...  \n",
       "3  https://indianexpress.com/article/india/narend...  \n",
       "4  https://timesofindia.indiatimes.com/sports/hoc...  "
      ]
     },
     "execution_count": 7,
     "metadata": {},
     "output_type": "execute_result"
    }
   ],
   "source": [
    "df.head()"
   ]
  },
  {
   "cell_type": "code",
   "execution_count": 8,
   "id": "177e474e",
   "metadata": {
    "execution": {
     "iopub.execute_input": "2021-08-30T11:29:44.224082Z",
     "iopub.status.busy": "2021-08-30T11:29:44.223064Z",
     "iopub.status.idle": "2021-08-30T11:29:44.229406Z",
     "shell.execute_reply": "2021-08-30T11:29:44.228722Z",
     "shell.execute_reply.started": "2021-08-30T11:26:51.741854Z"
    },
    "id": "aaPS5UV8L57t",
    "outputId": "e9dd81ee-7c3e-4766-db87-34a7e7d38ab9",
    "papermill": {
     "duration": 0.052356,
     "end_time": "2021-08-30T11:29:44.229552",
     "exception": false,
     "start_time": "2021-08-30T11:29:44.177196",
     "status": "completed"
    },
    "tags": []
   },
   "outputs": [
    {
     "name": "stdout",
     "output_type": "stream",
     "text": [
      "Neeraj Chopra, a name that has rung clear across India as well as the international sporting community. Hailing from Khandra, Haryana, this Javelin-throwing Olympian and track-runner brought home the gold for India in August. The Tokyo Olympics did shine a light on this rare gem of an athlete and brought the nation to the forefront thanks to Chopra. As of August 2021, he has been ranked the number two athlete in the world by the World Athletics organisation. He is also the first track runner and field athlete to win a gold medal for India at the Olympics. Here are a few investment lessons one can learn from the sports star.\n",
      "\n",
      "1) Starting the Journey Early\n",
      "\n",
      "Chopra started training at the young age of 12. He started training at Panipat Stadium during his free days to lose the extra pounds and shape up for sports. This put him on the path to becoming an Olympian.\n",
      "\n",
      "Similarly, when it comes to investment, it always helps to start as early as possible. Though in the initial days you may not see much in terms of returns, persistence and time will help you reap the rewards of higher returns. Much like how Chopra started training early so he could achieve his dreams of becoming an athlete, you have to start investing early to reach that goal of financial security.\n",
      "\n",
      "RECOMMENDED FOR YOU\n",
      "EXCLUSIVE | We Should Capitalise on the Moment - Former Captain Eliza Nelson on Womens Hockey Team's Tokyo 2020 Success\n",
      "EXCLUSIVE | We Should Capitalise on the Moment - Former Captain Eliza Nelson on Womens Hockey Team's Tokyo 2020 Success\n",
      "Gymnast-like Elastic Body and Fast Hand Speed Did the Trick for Neeraj: Chief Coach Nair\n",
      "Gymnast-like Elastic Body and Fast Hand Speed Did the Trick for Neeraj: Chief Coach Nair\n",
      "2) Do Your Due Diligence \n",
      "\n",
      "In 2013, Chopra had participated in the IAAF World Youth Championships which were played in Donetsk, Ukraine. He failed to qualify for that tournament as he finished in 19th place. However, he managed to get the seasons best throw of 66.75 metres. Over time, he gradually improved his performance and in the 2015 Asian Athletics Championships in Wuhan, China he went up a step to 9th place. Gradually he mastered all the necessary skills to be the best at the game.\n",
      "\n",
      "Before investing your money and expecting exorbitant returns, you should pace yourself. Make sure that you have a proper plan for the amount of returns you are expecting from the investment and how you are planning to reach there. It also helps to know what you want your money to do for you down the road, so define the goal.\n",
      "\n",
      "3) Coaching and Learning\n",
      "\n",
      "Young Chopra was not always as enthusiastic about sports as he is today. However, over time he built up his fondness and drive. Over the years he has trained under many coaches and fitness experts to get his game on point. This guidance is one of the major reasons why he has become such an athlete.\n",
      "\n",
      "Much like Chopra, investors will need guidance and help in the market. It always helps to follow the experts lead in these matters. Consulting fund managers and stock brokers will help create a plan or a guide to your investment goal.\n",
      "\n",
      "4) Small Setbacks and Comebacks\n",
      "\n",
      "In 2018 Chopra suffered a serious elbow injury that resulted in him having to undergo elbow surgery. This put him out of commission for the 2019 IAAF World Athletics Championships. He trained hard and made his comeback, eventually going on to win gold at the Tokyo Olympics.\n",
      "\n",
      "The market is volatile and that wont change. But if you are focussed and do your homework, a bad day at the stock market should not bother you. Start slow and set your performance expectations at a realistic level. Be confident about your strength and skills, you will also weather any storm like our Golden Boy.\n",
      "\n",
      "5) Stay Updated, Upgrade yourself\n",
      "\n",
      "Chopra is constantly posting on his social media on the various kinds of exercises he does outside of big events to get ready for them. From diet to fitness routine, he is always up-to-date with the modern techniques to stay at the top of his game. Similarly, investors need to stay updated with the latest norms of the market and investments and upgrade accordingly.\n",
      "\n",
      "Investors need to be able to think on their feet. Maybe you invested too much or you are locked into a year-end tax saver fund scheme. Whatever the case, appreciate the game for what it is and learn for the future from your mistakes. Keep learning on multiple venues and grow them parallelly if you want to be a successful investor.\n",
      "Last month when PV Sindhus South Korean coach Park Tae Sang boarded the flight for Tokyo Games, he was a social media nobody with a mere 328 Instagram followers. Within days of Sindhu winning the historic bronze, Parks phone had a notification overload.\n",
      "\n",
      "Oh, its crazy, crazy, crazy! Just a second, he says before pulling out his phone to show the current count of close to 18,000, majority of them being Indians. So used to seeing national coach P Gopichand on the sidelines for significant games, India wanted to know about the calm coach with a serene smile.\n",
      "\n",
      "The new-found fame in a foreign land has come at a cost and is a result of a tough decision he took. Taking up this pandemic-time assignment meant Park has been away from his young family for a long time.\n",
      "\n",
      "My 4-year-old daughter (Soyu) would call me every day and say, Papa when are you coming home? I felt very sad at times. After the pandemic, it was very tough for me and Sindhu. For almost two months we could not practice. But as soon as the cases went a little down we started practice and I decided to not go to Korea because it would further affect her training, he says.\n",
      "\n",
      "PV Sindhus coach Park Tae Sang, who has met his family for just 13 days since February last year, shows a picture of his daughter Soyu. (Andrew Amsan)\n",
      "Since last February I have met my family for 13 days. One-three, not three-zero, says the 42-year-old coach.\n",
      "\n",
      "Before he landed in India, Park had to take a major call. In retrospect he feels it was one of the best decisions he has taken.\n",
      "\n",
      "After resigning as South Koreas national coach, Park received a call from his alma mater, Dongeui University, to train juniors. But that was also the time he got an unexpected text message from the Indians to train the mens singles players.\n",
      "\n",
      "Park knew it would be a demanding job but he had an unfulfilled dream that the comfortable university job close to home would not fulfil  winning an Olympic medal. Adjusting to India too took some time. Initially, Park was staying at a Korean guest house in Hyderabad and found food suited his taste buds. But since they shut shop during the pandemic, Park had to rent an apartment and do his own cooking.\n",
      "\n",
      "I miss Korean food. But I like Indian food too. Butter chicken, stir-fried chicken, tandoori chicken, paneer, dosa and lassi drink are my favourites.\n",
      "\n",
      "Even before he joined Indian badminton, Park knew what he was signing for. As a player, Park, a 2002 Asian Games gold medallist, missed out on a bronze in the 2004 Athens Olympics.\n",
      "\n",
      "As a coach two of his students faltered at the quarterfinals of the mega event. India was his chance at redemption. This is a dream come true for me. I cried a little bit when Sindhu won. Just a little bit. When I was a player I lost in the quarterfinals at the Athens Olympics. After that I switched to coaching my two womens singles players from Korea but they lost in quarterfinals, says Park.\n",
      "\n",
      "But dreams of Olympic proportions take a lot of effort.\n",
      "\n",
      "Shoring up defence\n",
      "\n",
      "And in Sindhus case, team effort. Park had observed the Rio silver medallists game closely and felt her defence needed massive improvement to stand any chance of winning consecutive medals.\n",
      "\n",
      "Park uses google translator to express Sindhus passion for the game.\n",
      "It is no secret that Sindhu has a very strong attack. With a lot of tournaments cancelled in the run-up to the Olympics, Park had a lot of time to focus on tightening her defense.\n",
      "\n",
      "Sindhu had this habit of making the shuttle contact very low. I always told her if she made contact one centimetre higher that would mean the opponent would have to retrieve a centimetre lower.\n",
      "\n",
      "Its important to catch more height. We would sometimes get two or three mens singles players to hit drop shots at Sindhu and I would ask her to return it from a higher position. It allows you to finish off the point in the next shot. I teach the juniors the same thing, it is very very important, explains the master tactician, almost ready to jump off his seat to show it in action.\n",
      "\n",
      "Although Sindhu has shown a 200 per cent improvement in her defence since the Worlds she was outwitted by the deceptive Tai Tzu Ying of Chinese Taipei in the semifinals. Her defence against Tai Tzu was not good enough so there was no connect or attack. I told her you have to sometimes do a deceptive drop shot when in such a position. The same as what Tai Tzu does, says coach Park.\n",
      "\n",
      "Although things did not go as per plan against world-class Tai Tzu, Park says the journey with his diligent student will continue. He is struggling with English words to convey Sindhus eagerness to train. After a point he gives up, he reaches for the phone and looks for google translation app. His fingers runs on the keys and he looks up with a smile as he holds up the phone. She is greedy about badminton  flashes on the screen and Park gives a nod\n",
      "Prime Minister Narendra Modis hard work of four to five years was behind youths like Neeraj Chopra getting gold medal in Olympics, Union Minister of State for Communications Devusinh Chauhan said on Tuesday.\n",
      "\n",
      "Chauhan was addressing a public gathering in Patan of North Gujarat during the second day of his Jan Ashirvad Yatra in the region.\n",
      "\n",
      "As per the suggestion of Prime Minister Narendra Modi, various ministers in the Union Cabinet who have been inducted into the council of ministers recently started Jan Ashirvad Yatra, seeking blessings of the people.\n",
      "\n",
      "Devusinh, who is a Lok Sabha MP from Kheda constituency, has started his three-day yatra in North Gujarat from August 16. He started his second day of the yatra from Patan on Tuesday, where he also addressed a public gathering.\n",
      "\n",
      "Crediting Prime Minister Narendra Modi for various decisions, some of which he called as unprecedented, Chauhan said, If a woman player (from India) is bringing a medal or a youth like Neeraj Chopra is winning gold (at Olympics)",
      ", then Modi sahebs hardwork of 4-5 years is behind these players.\n",
      "\n",
      "\n",
      "\n",
      "Chauhan also credited Modi for inducting 27 persons from the Other Backward Class (OBC) communities in the recently expanded union council of ministers. He said that people from poor communities, who have become MPs have been made ministers, would never have imagined that they will function as minister in the Indian government. Chauhan added that PM Modi has appointed many like him from backward communities as ministers while giving them an opportunity to work.\n",
      "\n",
      "In another rally at Idar of Sabarkantha district, Chauhan referred to the felicitation he received from the locals and said that he considered it as felicitation of PM Modi and of the ideology of BJP.\n"
     ]
    }
   ],
   "source": [
    "#Now I am looking at first 3 article_text using the while loop. \n",
    "#It will help me in getting proper understanding of the article text.\n",
    "i = 0\n",
    "while (i < 3):   \n",
    "    i = i + 1\n",
    "    print(df['article_text'][i], sep=' ')"
   ]
  },
  {
   "cell_type": "markdown",
   "id": "246cb638",
   "metadata": {
    "id": "LUw1umqMMnT8",
    "papermill": {
     "duration": 0.037173,
     "end_time": "2021-08-30T11:29:44.304765",
     "exception": false,
     "start_time": "2021-08-30T11:29:44.267592",
     "status": "completed"
    },
    "tags": []
   },
   "source": [
    "# **Preprocessing**"
   ]
  },
  {
   "cell_type": "markdown",
   "id": "e3e042b6",
   "metadata": {
    "id": "EACgsOt1Mr-U",
    "papermill": {
     "duration": 0.038644,
     "end_time": "2021-08-30T11:29:44.382895",
     "exception": false,
     "start_time": "2021-08-30T11:29:44.344251",
     "status": "completed"
    },
    "tags": []
   },
   "source": [
    "# **1. TOKENIZATION (Spliting the whole paragraph into sentence)**"
   ]
  },
  {
   "cell_type": "markdown",
   "id": "5bdf0ad9",
   "metadata": {
    "id": "GGCVF15ZNW7J",
    "papermill": {
     "duration": 0.036693,
     "end_time": "2021-08-30T11:29:44.458211",
     "exception": false,
     "start_time": "2021-08-30T11:29:44.421518",
     "status": "completed"
    },
    "tags": []
   },
   "source": [
    "what is tokenization\n",
    "\n",
    "Tokenization is a way of separating a piece of text into smaller units called tokens. \n",
    "Here, tokens can be either words, characters, or subwords. \n",
    "Hence, tokenization can be broadly classified into 3 types\n",
    "1.word, 2.character, and 3.subword (n-gram characters) tokenization."
   ]
  },
  {
   "cell_type": "markdown",
   "id": "df970741",
   "metadata": {
    "id": "bjMSTGx7Nf4j",
    "papermill": {
     "duration": 0.036701,
     "end_time": "2021-08-30T11:29:44.532167",
     "exception": false,
     "start_time": "2021-08-30T11:29:44.495466",
     "status": "completed"
    },
    "tags": []
   },
   "source": [
    "In this case we are splitting the paragraph into sentences."
   ]
  },
  {
   "cell_type": "code",
   "execution_count": 9,
   "id": "d9343198",
   "metadata": {
    "execution": {
     "iopub.execute_input": "2021-08-30T11:29:44.614011Z",
     "iopub.status.busy": "2021-08-30T11:29:44.613351Z",
     "iopub.status.idle": "2021-08-30T11:29:44.655045Z",
     "shell.execute_reply": "2021-08-30T11:29:44.654488Z",
     "shell.execute_reply.started": "2021-08-30T11:28:23.290211Z"
    },
    "id": "LBR-IzTfL52W",
    "papermill": {
     "duration": 0.085348,
     "end_time": "2021-08-30T11:29:44.655199",
     "exception": false,
     "start_time": "2021-08-30T11:29:44.569851",
     "status": "completed"
    },
    "tags": []
   },
   "outputs": [
    {
     "data": {
      "text/plain": [
       "['Prime Minister Narendra Modi on Monday hosted the Olympic-returned Indian athletes for breakfast at his residence, a day after lauding their memorable performance at the Tokyo Games from the ramparts of the Red Fort.',\n",
       " \"Indian athletes returned from Tokyo with a haul of seven medals, including javelin thrower Neeraj Chopra's historic gold in track and field.\",\n",
       " \"It was the country's best ever show at the Olympics.\"]"
      ]
     },
     "execution_count": 9,
     "metadata": {},
     "output_type": "execute_result"
    }
   ],
   "source": [
    "from nltk.tokenize import sent_tokenize\n",
    "sentences = [sent_tokenize(s) for s in df['article_text']]\n",
    "\n",
    "sentences = [y for x in sentences for y in x] # flatten list\n",
    "\n",
    "# Above I have used list comprehension technique instead of conventional for loop method.\n",
    "#checking the first 3 sentences.\n",
    "sentences[:3]"
   ]
  },
  {
   "cell_type": "markdown",
   "id": "ac0374a2",
   "metadata": {
    "id": "Rm_zCdzrNsWL",
    "papermill": {
     "duration": 0.040493,
     "end_time": "2021-08-30T11:29:44.734477",
     "exception": false,
     "start_time": "2021-08-30T11:29:44.693984",
     "status": "completed"
    },
    "tags": []
   },
   "source": [
    "# **2. WORD EMBEDDING (Then spliting the sentecnec into words.)**"
   ]
  },
  {
   "cell_type": "markdown",
   "id": "5690082b",
   "metadata": {
    "id": "0axu0xbiNwPT",
    "papermill": {
     "duration": 0.036549,
     "end_time": "2021-08-30T11:29:44.809808",
     "exception": false,
     "start_time": "2021-08-30T11:29:44.773259",
     "status": "completed"
    },
    "tags": []
   },
   "source": [
    "In very simplistic terms, Word Embeddings are the texts converted into numbers and there may be different numerical representations of the same text.\n",
    "Word embeddings are a type of word representation that allows words with similar meaning to have a similar representation."
   ]
  },
  {
   "cell_type": "markdown",
   "id": "c408cff0",
   "metadata": {
    "id": "wlidMHulN2wE",
    "papermill": {
     "duration": 0.037029,
     "end_time": "2021-08-30T11:29:44.884042",
     "exception": false,
     "start_time": "2021-08-30T11:29:44.847013",
     "status": "completed"
    },
    "tags": []
   },
   "source": [
    "I am going to use Glove for word embedding.\n",
    "GloVe is an unsupervised learning algorithm for obtaining vector representations for words. \n",
    "Training is performed on aggregated global word-word co-occurrence statistics from a corpus, \n",
    "and the resulting representations showcase interesting linear substructures of the word vector space\n",
    "\n",
    "Read more here https://nlp.stanford.edu/projects/glove/"
   ]
  },
  {
   "cell_type": "code",
   "execution_count": 10,
   "id": "3b947308",
   "metadata": {
    "execution": {
     "iopub.execute_input": "2021-08-30T11:29:44.965074Z",
     "iopub.status.busy": "2021-08-30T11:29:44.964380Z",
     "iopub.status.idle": "2021-08-30T11:32:52.862171Z",
     "shell.execute_reply": "2021-08-30T11:32:52.862737Z",
     "shell.execute_reply.started": "2021-08-30T11:20:11.536158Z"
    },
    "id": "1AODq8CgNFse",
    "papermill": {
     "duration": 187.94138,
     "end_time": "2021-08-30T11:32:52.862964",
     "exception": false,
     "start_time": "2021-08-30T11:29:44.921584",
     "status": "completed"
    },
    "tags": []
   },
   "outputs": [
    {
     "name": "stdout",
     "output_type": "stream",
     "text": [
      "--2021-08-30 11:29:45--  http://nlp.stanford.edu/data/glove.6B.zip\r\n",
      "Resolving nlp.stanford.edu (nlp.stanford.edu)... 171.64.67.140\r\n",
      "Connecting to nlp.stanford.edu (nlp.stanford.edu)|171.64.67.140|:80... connected.\r\n",
      "HTTP request sent, awaiting response... 302 Found\r\n",
      "Location: https://nlp.stanford.edu/data/glove.6B.zip [following]\r\n",
      "--2021-08-30 11:29:46--  https://nlp.stanford.edu/data/glove.6B.zip\r\n",
      "Connecting to nlp.stanford.edu (nlp.stanford.edu)|171.64.67.140|:443... connected.\r\n",
      "HTTP request sent, awaiting response... 301 Moved Permanently\r\n",
      "Location: http://downloads.cs.stanford.edu/nlp/data/glove.6B.zip [following]\r\n",
      "--2021-08-30 11:29:46--  http://downloads.cs.stanford.edu/nlp/data/glove.6B.zip\r\n",
      "Resolving downloads.cs.stanford.edu (downloads.cs.stanford.edu)... 171.64.64.22\r\n",
      "Connecting to downloads.cs.stanford.edu (downloads.cs.stanford.edu)|171.64.64.22|:80... connected.\r\n",
      "HTTP request sent, awaiting response... 200 OK\r\n",
      "Length: 862182613 (822M) [application/zip]\r\n",
      "Saving to: ‘glove.6B.zip’\r\n",
      "\r\n",
      "glove.6B.zip        100%[===================>] 822.24M  5.10MB/s    in 2m 41s  \r\n",
      "\r\n",
      "2021-08-30 11:32:28 (5.10 MB/s) - ‘glove.6B.zip’ saved [862182613/862182613]\r\n",
      "\r\n",
      "Archive:  glove.6B.zip\r\n",
      "  inflating: glove.6B.50d.txt        \r\n",
      "  inflating: glove.6B.100d.txt       \r\n",
      "  inflating: glove.6B.200d.txt       \r\n",
      "  inflating: glove.6B.300d.txt       \r\n"
     ]
    }
   ],
   "source": [
    "#downloading the \"glove.6B.100d.txt\"\n",
    "!wget http://nlp.stanford.edu/data/glove.6B.zip\n",
    "!unzip glove*.zip"
   ]
  },
  {
   "cell_type": "code",
   "execution_count": 11,
   "id": "2c293bc4",
   "metadata": {
    "execution": {
     "iopub.execute_input": "2021-08-30T11:32:53.086989Z",
     "iopub.status.busy": "2021-08-30T11:32:53.086308Z",
     "iopub.status.idle": "2021-08-30T11:33:12.359324Z",
     "shell.execute_reply": "2021-08-30T11:33:12.359897Z",
     "shell.execute_reply.started": "2021-08-30T11:23:17.344297Z"
    },
    "id": "Yj54S_14L5yE",
    "papermill": {
     "duration": 19.390256,
     "end_time": "2021-08-30T11:33:12.360090",
     "exception": false,
     "start_time": "2021-08-30T11:32:52.969834",
     "status": "completed"
    },
    "tags": []
   },
   "outputs": [],
   "source": [
    "word_embeddings = {}\n",
    "f = open('glove.6B.100d.txt', encoding='utf-8')\n",
    "for line in f:\n",
    "    values = line.split()\n",
    "    word = values[0]\n",
    "    coefs = np.asarray(values[1:], dtype='float32')\n",
    "    word_embeddings[word] = coefs\n",
    "f.close()"
   ]
  },
  {
   "cell_type": "code",
   "execution_count": 12,
   "id": "391da1b3",
   "metadata": {
    "execution": {
     "iopub.execute_input": "2021-08-30T11:33:12.580661Z",
     "iopub.status.busy": "2021-08-30T11:33:12.579971Z",
     "iopub.status.idle": "2021-08-30T11:33:12.584563Z",
     "shell.execute_reply": "2021-08-30T11:33:12.585221Z",
     "shell.execute_reply.started": "2021-08-30T11:23:36.443326Z"
    },
    "id": "NiVLX_HVL5rm",
    "outputId": "5fa45673-85f0-4905-806e-7cd40bbbfd6e",
    "papermill": {
     "duration": 0.120333,
     "end_time": "2021-08-30T11:33:12.585558",
     "exception": false,
     "start_time": "2021-08-30T11:33:12.465225",
     "status": "completed"
    },
    "tags": []
   },
   "outputs": [
    {
     "data": {
      "text/plain": [
       "400000"
      ]
     },
     "execution_count": 12,
     "metadata": {},
     "output_type": "execute_result"
    }
   ],
   "source": [
    "len(word_embeddings)"
   ]
  },
  {
   "cell_type": "markdown",
   "id": "e48451f7",
   "metadata": {
    "id": "zXeJpbbdObxp",
    "papermill": {
     "duration": 0.122528,
     "end_time": "2021-08-30T11:33:12.836129",
     "exception": false,
     "start_time": "2021-08-30T11:33:12.713601",
     "status": "completed"
    },
    "tags": []
   },
   "source": [
    "# **3. Remove punctuations, special characters and numbers.**"
   ]
  },
  {
   "cell_type": "markdown",
   "id": "4f898208",
   "metadata": {
    "id": "-9gpDMHHO4WS",
    "papermill": {
     "duration": 0.10836,
     "end_time": "2021-08-30T11:33:13.053453",
     "exception": false,
     "start_time": "2021-08-30T11:33:12.945093",
     "status": "completed"
    },
    "tags": []
   },
   "source": [
    "Doing this will help in processing the text faster."
   ]
  },
  {
   "cell_type": "code",
   "execution_count": 13,
   "id": "58b833b9",
   "metadata": {
    "execution": {
     "iopub.execute_input": "2021-08-30T11:33:13.283557Z",
     "iopub.status.busy": "2021-08-30T11:33:13.282714Z",
     "iopub.status.idle": "2021-08-30T11:33:13.284697Z",
     "shell.execute_reply": "2021-08-30T11:33:13.285271Z",
     "shell.execute_reply.started": "2021-08-30T11:23:36.453952Z"
    },
    "id": "KSsB-vCSL5jN",
    "papermill": {
     "duration": 0.122519,
     "end_time": "2021-08-30T11:33:13.285474",
     "exception": false,
     "start_time": "2021-08-30T11:33:13.162955",
     "status": "completed"
    },
    "tags": []
   },
   "outputs": [],
   "source": [
    "clean_sentences = pd.Series(sentences).str.replace(\"[^a-zA-Z]\", \" \",  regex=True)"
   ]
  },
  {
   "cell_type": "code",
   "execution_count": 14,
   "id": "9cf2320e",
   "metadata": {
    "execution": {
     "iopub.execute_input": "2021-08-30T11:33:13.542262Z",
     "iopub.status.busy": "2021-08-30T11:33:13.541422Z",
     "iopub.status.idle": "2021-08-30T11:33:13.547019Z",
     "shell.execute_reply": "2021-08-30T11:33:13.547791Z",
     "shell.execute_reply.started": "2021-08-30T11:23:36.472859Z"
    },
    "id": "Of9dYMwWL5SO",
    "outputId": "7f37db6b-d60c-44d1-e717-8f1c82c78581",
    "papermill": {
     "duration": 0.135387,
     "end_time": "2021-08-30T11:33:13.548049",
     "exception": false,
     "start_time": "2021-08-30T11:33:13.412662",
     "status": "completed"
    },
    "tags": []
   },
   "outputs": [
    {
     "name": "stdout",
     "output_type": "stream",
     "text": [
      "Prime Minister Narendra Modi on Monday hosted the Olympic returned Indian athletes for breakfast at his residence  a day after lauding their memorable performance at the Tokyo Games from the ramparts of the Red Fort \n",
      "Indian athletes returned from Tokyo with a haul of seven medals  including javelin thrower Neeraj Chopra s historic gold in track and field \n",
      "It was the country s best ever show at the Olympics \n"
     ]
    }
   ],
   "source": [
    "print(clean_sentences[0])\n",
    "print(clean_sentences[1])\n",
    "print(clean_sentences[2])"
   ]
  },
  {
   "cell_type": "markdown",
   "id": "3eedf975",
   "metadata": {
    "id": "dPj1pujdWM-r",
    "papermill": {
     "duration": 0.127332,
     "end_time": "2021-08-30T11:33:13.807707",
     "exception": false,
     "start_time": "2021-08-30T11:33:13.680375",
     "status": "completed"
    },
    "tags": []
   },
   "source": [
    "**converting to lower case**\n",
    "\n",
    "**Reason:**\n",
    "\n",
    "I think for your particular use-case, it would be better to convert it to lowercase because ultimately, you will need to predict the words given a certain context. You probably won't be needing to predict sentence beginnings in your use-case. Also, if a noun is predicted you can capitalize it later. However consider the other way round. (Assuming your corpus is in English) Your model might treat a word which is in the beginning of a sentence with a capital letter different from the same word which appears later in the sentence but without any capital latter. This might lead to decline in the accuracy. Whereas I think, lowering the words would be a better trade off."
   ]
  },
  {
   "cell_type": "code",
   "execution_count": 15,
   "id": "ca9750ba",
   "metadata": {
    "execution": {
     "iopub.execute_input": "2021-08-30T11:33:14.058842Z",
     "iopub.status.busy": "2021-08-30T11:33:14.058057Z",
     "iopub.status.idle": "2021-08-30T11:33:14.063222Z",
     "shell.execute_reply": "2021-08-30T11:33:14.063794Z",
     "shell.execute_reply.started": "2021-08-30T11:23:36.488578Z"
    },
    "id": "Kyy-fZjaL5Cs",
    "papermill": {
     "duration": 0.132859,
     "end_time": "2021-08-30T11:33:14.064015",
     "exception": false,
     "start_time": "2021-08-30T11:33:13.931156",
     "status": "completed"
    },
    "tags": []
   },
   "outputs": [],
   "source": [
    "clean_sentences = [s.lower() for s in clean_sentences]"
   ]
  },
  {
   "cell_type": "markdown",
   "id": "207587cd",
   "metadata": {
    "id": "O35lWNXiWm08",
    "papermill": {
     "duration": 0.124797,
     "end_time": "2021-08-30T11:33:14.313200",
     "exception": false,
     "start_time": "2021-08-30T11:33:14.188403",
     "status": "completed"
    },
    "tags": []
   },
   "source": [
    "# **4. Removing stops words**"
   ]
  },
  {
   "cell_type": "markdown",
   "id": "c2c52707",
   "metadata": {
    "id": "lHxz876nWspb",
    "papermill": {
     "duration": 0.105011,
     "end_time": "2021-08-30T11:33:14.533685",
     "exception": false,
     "start_time": "2021-08-30T11:33:14.428674",
     "status": "completed"
    },
    "tags": []
   },
   "source": [
    "**What are the stop words?**\n",
    "\n",
    "These are actually the most common words in any language (like articles, prepositions, pronouns, conjunctions, etc) and does not add much information to the text. Examples of a few stop words in English are “the”, “a”, “an”, “so”, “what”.\n",
    "\n",
    "**Why we remove the stop words?**\n",
    "\n",
    "Stop words are available in abundance in any human language. By removing these words, we remove the low-level information from our text in order to give more focus to the important information. In order words, we can say that the removal of such words does not show any negative consequences on the model we train for our task.\n",
    "Removal of stop words definitely reduces the dataset size and thus reduces the training time due to the fewer number of tokens involved in the training."
   ]
  },
  {
   "cell_type": "code",
   "execution_count": 16,
   "id": "93784de6",
   "metadata": {
    "execution": {
     "iopub.execute_input": "2021-08-30T11:33:14.759270Z",
     "iopub.status.busy": "2021-08-30T11:33:14.758441Z",
     "iopub.status.idle": "2021-08-30T11:33:14.768812Z",
     "shell.execute_reply": "2021-08-30T11:33:14.769612Z",
     "shell.execute_reply.started": "2021-08-30T11:23:36.501016Z"
    },
    "id": "CvmbNG8FWmKa",
    "outputId": "3bc350bb-14bd-4c05-bd88-9d9d8554658f",
    "papermill": {
     "duration": 0.127681,
     "end_time": "2021-08-30T11:33:14.769838",
     "exception": false,
     "start_time": "2021-08-30T11:33:14.642157",
     "status": "completed"
    },
    "tags": []
   },
   "outputs": [
    {
     "name": "stdout",
     "output_type": "stream",
     "text": [
      "[nltk_data] Downloading package stopwords to /usr/share/nltk_data...\n",
      "[nltk_data]   Package stopwords is already up-to-date!\n"
     ]
    },
    {
     "data": {
      "text/plain": [
       "True"
      ]
     },
     "execution_count": 16,
     "metadata": {},
     "output_type": "execute_result"
    }
   ],
   "source": [
    "nltk.download('stopwords')"
   ]
  },
  {
   "cell_type": "code",
   "execution_count": 17,
   "id": "350544ea",
   "metadata": {
    "execution": {
     "iopub.execute_input": "2021-08-30T11:33:15.020128Z",
     "iopub.status.busy": "2021-08-30T11:33:15.019354Z",
     "iopub.status.idle": "2021-08-30T11:33:15.024065Z",
     "shell.execute_reply": "2021-08-30T11:33:15.024630Z",
     "shell.execute_reply.started": "2021-08-30T11:23:36.522195Z"
    },
    "papermill": {
     "duration": 0.135248,
     "end_time": "2021-08-30T11:33:15.024984",
     "exception": false,
     "start_time": "2021-08-30T11:33:14.889736",
     "status": "completed"
    },
    "tags": []
   },
   "outputs": [],
   "source": [
    "def remove_stopwords(sen):\n",
    "    sen_new = \" \".join([i for i in sen if i not in stop_words])\n",
    "    return sen_new"
   ]
  },
  {
   "cell_type": "code",
   "execution_count": 18,
   "id": "c56def6e",
   "metadata": {
    "execution": {
     "iopub.execute_input": "2021-08-30T11:33:15.265178Z",
     "iopub.status.busy": "2021-08-30T11:33:15.264469Z",
     "iopub.status.idle": "2021-08-30T11:33:15.275982Z",
     "shell.execute_reply": "2021-08-30T11:33:15.276664Z",
     "shell.execute_reply.started": "2021-08-30T11:23:36.530176Z"
    },
    "id": "XoN4WxLaWmhE",
    "papermill": {
     "duration": 0.132635,
     "end_time": "2021-08-30T11:33:15.276851",
     "exception": false,
     "start_time": "2021-08-30T11:33:15.144216",
     "status": "completed"
    },
    "tags": []
   },
   "outputs": [],
   "source": [
    "from nltk.corpus import stopwords\n",
    "stop_words = stopwords.words('english')"
   ]
  },
  {
   "cell_type": "code",
   "execution_count": 19,
   "id": "188b5d8c",
   "metadata": {
    "execution": {
     "iopub.execute_input": "2021-08-30T11:33:15.500583Z",
     "iopub.status.busy": "2021-08-30T11:33:15.499567Z",
     "iopub.status.idle": "2021-08-30T11:33:15.526841Z",
     "shell.execute_reply": "2021-08-30T11:33:15.526255Z",
     "shell.execute_reply.started": "2021-08-30T11:23:36.548717Z"
    },
    "id": "3EipmM6QXV_m",
    "papermill": {
     "duration": 0.138938,
     "end_time": "2021-08-30T11:33:15.527008",
     "exception": false,
     "start_time": "2021-08-30T11:33:15.388070",
     "status": "completed"
    },
    "tags": []
   },
   "outputs": [],
   "source": [
    "clean_sentences = [remove_stopwords(r.split()) for r in clean_sentences]"
   ]
  },
  {
   "cell_type": "code",
   "execution_count": 20,
   "id": "a16d9a25",
   "metadata": {
    "execution": {
     "iopub.execute_input": "2021-08-30T11:33:15.748453Z",
     "iopub.status.busy": "2021-08-30T11:33:15.747747Z",
     "iopub.status.idle": "2021-08-30T11:33:15.754395Z",
     "shell.execute_reply": "2021-08-30T11:33:15.754985Z",
     "shell.execute_reply.started": "2021-08-30T11:23:36.577572Z"
    },
    "id": "Lm0PhSZYXV6S",
    "outputId": "fce6ab58-d090-4576-b7e5-ad2b48c9d21b",
    "papermill": {
     "duration": 0.119271,
     "end_time": "2021-08-30T11:33:15.755173",
     "exception": false,
     "start_time": "2021-08-30T11:33:15.635902",
     "status": "completed"
    },
    "tags": []
   },
   "outputs": [
    {
     "data": {
      "text/plain": [
       "['prime minister narendra modi monday hosted olympic returned indian athletes breakfast residence day lauding memorable performance tokyo games ramparts red fort',\n",
       " 'indian athletes returned tokyo haul seven medals including javelin thrower neeraj chopra historic gold track field',\n",
       " 'country best ever show olympics',\n",
       " 'modi applauded indian athletes tremendous show th independence day celebration red fort sunday seen talking chopra bronze medallist pv sindhu become second indian first woman win two olympic medals',\n",
       " 'shuttler also brought silver medal rio five years ago']"
      ]
     },
     "execution_count": 20,
     "metadata": {},
     "output_type": "execute_result"
    }
   ],
   "source": [
    "clean_sentences[0:5]"
   ]
  },
  {
   "cell_type": "markdown",
   "id": "ccd0a56b",
   "metadata": {
    "id": "T5z2sa4z0VFi",
    "papermill": {
     "duration": 0.107299,
     "end_time": "2021-08-30T11:33:15.971320",
     "exception": false,
     "start_time": "2021-08-30T11:33:15.864021",
     "status": "completed"
    },
    "tags": []
   },
   "source": [
    "# **5. Vector representation of sentences**"
   ]
  },
  {
   "cell_type": "code",
   "execution_count": 21,
   "id": "3bed8169",
   "metadata": {
    "execution": {
     "iopub.execute_input": "2021-08-30T11:33:16.555104Z",
     "iopub.status.busy": "2021-08-30T11:33:16.554080Z",
     "iopub.status.idle": "2021-08-30T11:33:35.380885Z",
     "shell.execute_reply": "2021-08-30T11:33:35.380307Z",
     "shell.execute_reply.started": "2021-08-30T11:23:36.586739Z"
    },
    "id": "DPfME2X0XVx6",
    "papermill": {
     "duration": 19.304011,
     "end_time": "2021-08-30T11:33:35.381063",
     "exception": false,
     "start_time": "2021-08-30T11:33:16.077052",
     "status": "completed"
    },
    "tags": []
   },
   "outputs": [],
   "source": [
    "word_embeddings = {}\n",
    "f = open('glove.6B.100d.txt', encoding='utf-8')\n",
    "for line in f:\n",
    "    values = line.split()\n",
    "    word = values[0]\n",
    "    coefs = np.asarray(values[1:], dtype='float32')\n",
    "    word_embeddings[word] = coefs\n",
    "f.close()"
   ]
  },
  {
   "cell_type": "code",
   "execution_count": 22,
   "id": "7be28d79",
   "metadata": {
    "execution": {
     "iopub.execute_input": "2021-08-30T11:33:35.597610Z",
     "iopub.status.busy": "2021-08-30T11:33:35.596636Z",
     "iopub.status.idle": "2021-08-30T11:33:35.599731Z",
     "shell.execute_reply": "2021-08-30T11:33:35.599142Z",
     "shell.execute_reply.started": "2021-08-30T11:23:55.320489Z"
    },
    "papermill": {
     "duration": 0.11233,
     "end_time": "2021-08-30T11:33:35.599896",
     "exception": false,
     "start_time": "2021-08-30T11:33:35.487566",
     "status": "completed"
    },
    "tags": []
   },
   "outputs": [],
   "source": [
    "#vector representation is prerequiste for applying similarity matrix."
   ]
  },
  {
   "cell_type": "code",
   "execution_count": 23,
   "id": "af366334",
   "metadata": {
    "execution": {
     "iopub.execute_input": "2021-08-30T11:33:35.830249Z",
     "iopub.status.busy": "2021-08-30T11:33:35.828580Z",
     "iopub.status.idle": "2021-08-30T11:33:35.844009Z",
     "shell.execute_reply": "2021-08-30T11:33:35.843320Z",
     "shell.execute_reply.started": "2021-08-30T11:23:55.327159Z"
    },
    "id": "q5-UpSrI0gIO",
    "papermill": {
     "duration": 0.136331,
     "end_time": "2021-08-30T11:33:35.844163",
     "exception": false,
     "start_time": "2021-08-30T11:33:35.707832",
     "status": "completed"
    },
    "tags": []
   },
   "outputs": [],
   "source": [
    "sentence_vectors = []\n",
    "for i in clean_sentences:\n",
    "  if len(i) != 0:\n",
    "    v = sum([word_embeddings.get(w, np.zeros((100,))) for w in i.split()])/(len(i.split())+0.001)\n",
    "  else:\n",
    "    v = np.zeros((100,))\n",
    "  sentence_vectors.append(v)"
   ]
  },
  {
   "cell_type": "markdown",
   "id": "6d3843b8",
   "metadata": {
    "id": "VGzjU6TO0-FA",
    "papermill": {
     "duration": 0.105459,
     "end_time": "2021-08-30T11:33:36.056609",
     "exception": false,
     "start_time": "2021-08-30T11:33:35.951150",
     "status": "completed"
    },
    "tags": []
   },
   "source": [
    "# **6. Similarity matrix**"
   ]
  },
  {
   "cell_type": "markdown",
   "id": "fe85af16",
   "metadata": {
    "id": "QB2je1bb1EUD",
    "papermill": {
     "duration": 0.109465,
     "end_time": "2021-08-30T11:33:36.274367",
     "exception": false,
     "start_time": "2021-08-30T11:33:36.164902",
     "status": "completed"
    },
    "tags": []
   },
   "source": [
    "I will use cosine similarity for finding the similarity between the sentecnes. Sentences which has highest similairyt will be of more importance and we will rank them according to that and later on we will form the summarization using that. \n",
    "\n",
    "[Read more on cosine similarity.](https://www.machinelearningplus.com/nlp/cosine-similarity/#:~:text=Cosine%20similarity%20is%20a%20metric,in%20a%20multi%2Ddimensional%20space.&text=The%20smaller%20the%20angle%2C%20higher%20the%20cosine%20similarity.)"
   ]
  },
  {
   "cell_type": "code",
   "execution_count": 24,
   "id": "a56f6a32",
   "metadata": {
    "execution": {
     "iopub.execute_input": "2021-08-30T11:33:36.491415Z",
     "iopub.status.busy": "2021-08-30T11:33:36.490746Z",
     "iopub.status.idle": "2021-08-30T11:33:36.494144Z",
     "shell.execute_reply": "2021-08-30T11:33:36.493483Z",
     "shell.execute_reply.started": "2021-08-30T11:23:55.358532Z"
    },
    "id": "g7mIOowt2N_N",
    "papermill": {
     "duration": 0.11383,
     "end_time": "2021-08-30T11:33:36.494286",
     "exception": false,
     "start_time": "2021-08-30T11:33:36.380456",
     "status": "completed"
    },
    "tags": []
   },
   "outputs": [],
   "source": [
    "from sklearn.metrics.pairwise import cosine_similarity"
   ]
  },
  {
   "cell_type": "code",
   "execution_count": 25,
   "id": "03bee9e4",
   "metadata": {
    "execution": {
     "iopub.execute_input": "2021-08-30T11:33:36.716723Z",
     "iopub.status.busy": "2021-08-30T11:33:36.716087Z",
     "iopub.status.idle": "2021-08-30T11:33:36.719621Z",
     "shell.execute_reply": "2021-08-30T11:33:36.719044Z",
     "shell.execute_reply.started": "2021-08-30T11:23:55.364610Z"
    },
    "id": "0gwzo6Mt2aRV",
    "papermill": {
     "duration": 0.118808,
     "end_time": "2021-08-30T11:33:36.719913",
     "exception": false,
     "start_time": "2021-08-30T11:33:36.601105",
     "status": "completed"
    },
    "tags": []
   },
   "outputs": [],
   "source": [
    "similarity_matrix = np.zeros([len(sentences), len(sentences)])\n",
    "# The above code will help me in forming the matrix of the size of sentences. "
   ]
  },
  {
   "cell_type": "code",
   "execution_count": 26,
   "id": "a274ae25",
   "metadata": {
    "execution": {
     "iopub.execute_input": "2021-08-30T11:33:36.990740Z",
     "iopub.status.busy": "2021-08-30T11:33:36.990002Z",
     "iopub.status.idle": "2021-08-30T11:34:15.408011Z",
     "shell.execute_reply": "2021-08-30T11:34:15.407242Z",
     "shell.execute_reply.started": "2021-08-30T11:23:55.379088Z"
    },
    "id": "OXzRyPCK2ORG",
    "papermill": {
     "duration": 38.582163,
     "end_time": "2021-08-30T11:34:15.408192",
     "exception": false,
     "start_time": "2021-08-30T11:33:36.826029",
     "status": "completed"
    },
    "tags": []
   },
   "outputs": [],
   "source": [
    "for i in range(len(sentences)):\n",
    "  for j in range(len(sentences)):\n",
    "    if i != j:\n",
    "      similarity_matrix[i][j] = cosine_similarity(sentence_vectors[i].reshape(1,100), sentence_vectors[j].reshape(1,100))[0,0]"
   ]
  },
  {
   "cell_type": "code",
   "execution_count": 27,
   "id": "31e0d66b",
   "metadata": {
    "execution": {
     "iopub.execute_input": "2021-08-30T11:34:15.627106Z",
     "iopub.status.busy": "2021-08-30T11:34:15.626377Z",
     "iopub.status.idle": "2021-08-30T11:34:15.631771Z",
     "shell.execute_reply": "2021-08-30T11:34:15.632485Z",
     "shell.execute_reply.started": "2021-08-30T11:24:32.921737Z"
    },
    "id": "YfhXqE192OuW",
    "outputId": "6558392a-af12-44e0-ad4c-554b08ae5e71",
    "papermill": {
     "duration": 0.11609,
     "end_time": "2021-08-30T11:34:15.632721",
     "exception": false,
     "start_time": "2021-08-30T11:34:15.516631",
     "status": "completed"
    },
    "tags": []
   },
   "outputs": [
    {
     "name": "stdout",
     "output_type": "stream",
     "text": [
      "(404, 404)\n"
     ]
    }
   ],
   "source": [
    "print(similarity_matrix.shape)"
   ]
  },
  {
   "cell_type": "markdown",
   "id": "40ad57eb",
   "metadata": {
    "id": "tvBlDN6J4bHU",
    "papermill": {
     "duration": 0.10741,
     "end_time": "2021-08-30T11:34:15.850521",
     "exception": false,
     "start_time": "2021-08-30T11:34:15.743111",
     "status": "completed"
    },
    "tags": []
   },
   "source": [
    "# **7. Converting similarity matrix sim_mat into a graph**"
   ]
  },
  {
   "cell_type": "markdown",
   "id": "585e43b8",
   "metadata": {
    "id": "LNcETNUA71bL",
    "papermill": {
     "duration": 0.108654,
     "end_time": "2021-08-30T11:34:16.068441",
     "exception": false,
     "start_time": "2021-08-30T11:34:15.959787",
     "status": "completed"
    },
    "tags": []
   },
   "source": [
    "The nodes of this graph will represent the sentences and the edges will represent the similarity scores between the sentences. On this graph, we will apply the PageRank algorithm to arrive at the sentence rankings"
   ]
  },
  {
   "cell_type": "code",
   "execution_count": 28,
   "id": "f497e7ca",
   "metadata": {
    "execution": {
     "iopub.execute_input": "2021-08-30T11:34:16.290997Z",
     "iopub.status.busy": "2021-08-30T11:34:16.290238Z",
     "iopub.status.idle": "2021-08-30T11:34:20.605150Z",
     "shell.execute_reply": "2021-08-30T11:34:20.604493Z",
     "shell.execute_reply.started": "2021-08-30T11:24:32.930169Z"
    },
    "id": "syODLc0T2Orm",
    "papermill": {
     "duration": 4.427805,
     "end_time": "2021-08-30T11:34:20.605363",
     "exception": false,
     "start_time": "2021-08-30T11:34:16.177558",
     "status": "completed"
    },
    "tags": []
   },
   "outputs": [],
   "source": [
    "import networkx as nx\n",
    "\n",
    "nx_graph = nx.from_numpy_array(similarity_matrix)\n",
    "scores = nx.pagerank(nx_graph)"
   ]
  },
  {
   "cell_type": "markdown",
   "id": "2f275fd3",
   "metadata": {
    "id": "gU1YotaN75iC",
    "papermill": {
     "duration": 0.113377,
     "end_time": "2021-08-30T11:34:20.830648",
     "exception": false,
     "start_time": "2021-08-30T11:34:20.717271",
     "status": "completed"
    },
    "tags": []
   },
   "source": [
    "# **8. Summarization**"
   ]
  },
  {
   "cell_type": "markdown",
   "id": "674b95a2",
   "metadata": {
    "id": "0A4tkjrA8pkW",
    "papermill": {
     "duration": 0.110256,
     "end_time": "2021-08-30T11:34:21.056365",
     "exception": false,
     "start_time": "2021-08-30T11:34:20.946109",
     "status": "completed"
    },
    "tags": []
   },
   "source": [
    "Sorting the sentences on the basis of highest score"
   ]
  },
  {
   "cell_type": "code",
   "execution_count": 29,
   "id": "8e2b96a7",
   "metadata": {
    "execution": {
     "iopub.execute_input": "2021-08-30T11:34:21.282333Z",
     "iopub.status.busy": "2021-08-30T11:34:21.281612Z",
     "iopub.status.idle": "2021-08-30T11:34:21.284978Z",
     "shell.execute_reply": "2021-08-30T11:34:21.284452Z",
     "shell.execute_reply.started": "2021-08-30T11:24:37.003297Z"
    },
    "id": "NzTxFLOp2OLN",
    "papermill": {
     "duration": 0.119356,
     "end_time": "2021-08-30T11:34:21.285157",
     "exception": false,
     "start_time": "2021-08-30T11:34:21.165801",
     "status": "completed"
    },
    "tags": []
   },
   "outputs": [],
   "source": [
    "ranked_sentences = sorted(((scores[i],s) for i,s in enumerate(sentences)), reverse=True)"
   ]
  },
  {
   "cell_type": "code",
   "execution_count": 30,
   "id": "5236bf4e",
   "metadata": {
    "execution": {
     "iopub.execute_input": "2021-08-30T11:34:21.514149Z",
     "iopub.status.busy": "2021-08-30T11:34:21.513404Z",
     "iopub.status.idle": "2021-08-30T11:34:21.519646Z",
     "shell.execute_reply": "2021-08-30T11:34:21.518595Z",
     "shell.execute_reply.started": "2021-08-30T11:24:37.011679Z"
    },
    "id": "drS_4O5g2OB4",
    "outputId": "d7c7fb6b-72ac-43c8-b248-f02df57d3656",
    "papermill": {
     "duration": 0.123143,
     "end_time": "2021-08-30T11:34:21.519880",
     "exception": false,
     "start_time": "2021-08-30T11:34:21.396737",
     "status": "completed"
    },
    "tags": []
   },
   "outputs": [
    {
     "name": "stdout",
     "output_type": "stream",
     "text": [
      "Some experts were quick to term the countrys best-ever performance in the Olympic Games as a potential gamechanger that can help build the much-talked about sports culture and lay the foundation for India to produce many more champions in the future.\n",
      "They are also the first point of contact between a child and a sport, and a proper talent identification process at that level could go a long way in helping talented youngsters win more medals on the international stage.\n",
      "Just a few months back when an up-and-coming athlete approached one such high profile foundation for support, the player was told that their research team did not find enough performance data on the national and international stage in the last year.\n",
      "According to him, It is crucial that we get people talking about larger agendas with the bigger picture in mind but at the same time, for sports events like the Olympics, it is very important to celebrate every victory, every achievement and every step that our athletes take forward.\n",
      "And the usual question about why a country with over a billion people cant win medals at the Olympics began to rear its head on various forums.\n",
      "Much like how Chopra started training early so he could achieve his dreams of becoming an athlete, you have to start investing early to reach that goal of financial security.\n",
      "One of the Co-presenting sponsors for the official broadcast of Tokyo Olympics, MPL also came up their #FanBannJaaoge campaign where it shed spotlight on athletes and their many achievements, and in doing so, get the entire nation to rally behind them.\n",
      "But if you ask any of these players, they will vouch for the fact that the most difficult part for many of them has been the journey from the district to the national/international stage and then unlearning or relearning everything to start making a mark at the level that matters.\n",
      "The way things are in the Indian sports ecosystem, the top players get support from the government, the various Non-Governmental Organisations determined to help the country win medals on the international stage, and even the corporates.\n",
      "The new-found fame in a foreign land has come at a cost and is a result of a tough decision he took.\n"
     ]
    }
   ],
   "source": [
    "# Extract top 10 sentences as the summary\n",
    "for i in range(10):\n",
    "  print(ranked_sentences[i][1])"
   ]
  }
 ],
 "metadata": {
  "kernelspec": {
   "display_name": "Python 3",
   "language": "python",
   "name": "python3"
  },
  "language_info": {
   "codemirror_mode": {
    "name": "ipython",
    "version": 3
   },
   "file_extension": ".py",
   "mimetype": "text/x-python",
   "name": "python",
   "nbconvert_exporter": "python",
   "pygments_lexer": "ipython3",
   "version": "3.7.10"
  },
  "papermill": {
   "default_parameters": {},
   "duration": 290.985674,
   "end_time": "2021-08-30T11:34:23.185169",
   "environment_variables": {},
   "exception": null,
   "input_path": "__notebook__.ipynb",
   "output_path": "__notebook__.ipynb",
   "parameters": {},
   "start_time": "2021-08-30T11:29:32.199495",
   "version": "2.3.3"
  }
 },
 "nbformat": 4,
 "nbformat_minor": 5
}
