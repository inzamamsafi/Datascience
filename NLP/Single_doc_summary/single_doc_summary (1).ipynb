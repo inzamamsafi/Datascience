{
  "nbformat": 4,
  "nbformat_minor": 0,
  "metadata": {
    "colab": {
      "name": "single_doc_summary.ipynb",
      "provenance": []
    },
    "kernelspec": {
      "name": "python3",
      "display_name": "Python 3"
    },
    "language_info": {
      "name": "python"
    }
  },
  "cells": [
    {
      "cell_type": "code",
      "metadata": {
        "id": "pauI4TlU42BR"
      },
      "source": [
        "#pip install PyPDF2"
      ],
      "execution_count": 116,
      "outputs": []
    },
    {
      "cell_type": "code",
      "metadata": {
        "id": "b9MgaXJN4Oaq"
      },
      "source": [
        "import pandas as pd\n",
        "import PyPDF2\n",
        "import numpy as np"
      ],
      "execution_count": 117,
      "outputs": []
    },
    {
      "cell_type": "code",
      "metadata": {
        "id": "VJa251el4i0b"
      },
      "source": [
        "pdfFileObj = open('/content/drive/MyDrive/how to win friends.pdf', 'rb')\n",
        "pdfReader = PyPDF2.PdfFileReader(pdfFileObj)"
      ],
      "execution_count": 118,
      "outputs": []
    },
    {
      "cell_type": "code",
      "metadata": {
        "id": "-o0G6Od64iwy"
      },
      "source": [
        "for i in range(15,150):\n",
        "\n",
        "  pageObj = pdfReader.getPage(i)\n",
        "  page1 = pageObj.extractText()"
      ],
      "execution_count": 119,
      "outputs": []
    },
    {
      "cell_type": "code",
      "metadata": {
        "id": "XNZTaOtu4iii"
      },
      "source": [
        "\n",
        "import gensim\n",
        "\n",
        "\n",
        "from gensim.summarization import summarize"
      ],
      "execution_count": 120,
      "outputs": []
    },
    {
      "cell_type": "code",
      "metadata": {
        "colab": {
          "base_uri": "https://localhost:8080/"
        },
        "id": "kTckLftN5-I3",
        "outputId": "1ef2970d-f41b-4b77-e57b-7df837ffb847"
      },
      "source": [
        "y =print(summarize(page1, word_count=200))"
      ],
      "execution_count": 121,
      "outputs": [
        {
          "output_type": "stream",
          "text": [
            "2021-08-20 05:54:53,087 : INFO : adding document #0 to Dictionary(0 unique tokens: [])\n",
            "2021-08-20 05:54:53,091 : INFO : built Dictionary(151 unique tokens: ['charl', 'competit', 'let', 'schwab', 'stimul']...) from 38 documents (total 204 corpus positions)\n"
          ],
          "name": "stderr"
        },
        {
          "output_type": "stream",
          "text": [
            "Let Charles Schwab say it in his own words: \"The way to get things done,\" say Schwab, \"is to stimulate competition.\n",
            "I do not mean in a sordid, money-getting way, but in the desire to excel.\"  The desire to excel!\n",
            "An infallible way of appealing to people of spirit.\n",
            "Without a challenge, Theodore Roosevelt would never have been President of the United States.\n",
            "The Rough Rider, just back from Cuba, was picked for governor of New York State.\n",
            "Then Thomas Collier Platt, then U.S. Senator from New York, threw down the challenge.\n",
            "Roosevelt stayed in the fight - and the rest is history.\n",
            "When Al Smith was governor of New York, he was up against it.\n",
            "Sing Sing, at the time the most notorious pen-itentiary west of Devil's Island, was without a warden.\n",
            "Smith needed a strong man to rule Sing Sing - an iron man.\n",
            "Lawes of New Hampton.\n",
            "\"How about going up to take charge of Sing Sing?\" he said jovially \n",
            "He knew the dangers of Sing Sing.\n",
            "It'll take a big person to go up there and stay.\"  So Smith was throwing down a challenge, was he?\n",
            "He stayed, to become the most famous warden of his time.\n"
          ],
          "name": "stdout"
        }
      ]
    },
    {
      "cell_type": "code",
      "metadata": {
        "colab": {
          "base_uri": "https://localhost:8080/"
        },
        "id": "iQqiibML8dJz",
        "outputId": "33ac44c6-110e-4696-fa3d-9ee7e414dfbc"
      },
      "source": [
        "from gensim.summarization import keywords\n",
        "\n",
        "print ('Keywords:')\n",
        "print(keywords(page1))"
      ],
      "execution_count": 122,
      "outputs": [
        {
          "output_type": "stream",
          "text": [
            "Keywords:\n",
            "challenge\n",
            "roosevelt\n",
            "lawes\n",
            "york\n",
            "warden\n",
            "wardens\n",
            "young\n",
            "juan\n",
            "collier\n",
            "man\n",
            "charles\n",
            "smith\n",
            "rumors\n",
            "pen\n",
            "money\n",
            "way\n"
          ],
          "name": "stdout"
        }
      ]
    }
  ]
}