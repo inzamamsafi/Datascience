{
 "cells": [
  {
   "cell_type": "code",
   "execution_count": 1,
   "id": "83cf9260",
   "metadata": {},
   "outputs": [],
   "source": [
    "### Importing Required Libraries"
   ]
  },
  {
   "cell_type": "code",
   "execution_count": 2,
   "id": "49b177e8",
   "metadata": {},
   "outputs": [],
   "source": [
    "from nltk.corpus import stopwords\n",
    "import re\n",
    "import pandas as pd\n",
    "import matplotlib.pyplot as plt\n",
    "import seaborn as sns\n",
    "from sklearn.feature_extraction.text import CountVectorizer, TfidfVectorizer\n",
    "from sklearn.metrics import accuracy_score, confusion_matrix\n",
    "from imblearn.over_sampling import SMOTE\n",
    "import warnings\n",
    "warnings.filterwarnings('ignore')"
   ]
  },
  {
   "cell_type": "code",
   "execution_count": 3,
   "id": "44f72ac0",
   "metadata": {},
   "outputs": [],
   "source": [
    "from sklearn.linear_model import LogisticRegression\n",
    "from sklearn.pipeline import Pipeline\n",
    "from sklearn.feature_extraction.text import TfidfTransformer\n",
    "from sklearn.metrics import classification_report\n",
    "from sklearn.naive_bayes import MultinomialNB\n",
    "from xgboost import XGBClassifier"
   ]
  },
  {
   "cell_type": "code",
   "execution_count": 4,
   "id": "e0410c83",
   "metadata": {},
   "outputs": [],
   "source": [
    "### Loading the active.csv file"
   ]
  },
  {
   "cell_type": "code",
   "execution_count": 5,
   "id": "211c7c06",
   "metadata": {},
   "outputs": [
    {
     "data": {
      "text/html": [
       "<div>\n",
       "<style scoped>\n",
       "    .dataframe tbody tr th:only-of-type {\n",
       "        vertical-align: middle;\n",
       "    }\n",
       "\n",
       "    .dataframe tbody tr th {\n",
       "        vertical-align: top;\n",
       "    }\n",
       "\n",
       "    .dataframe thead th {\n",
       "        text-align: right;\n",
       "    }\n",
       "</style>\n",
       "<table border=\"1\" class=\"dataframe\">\n",
       "  <thead>\n",
       "    <tr style=\"text-align: right;\">\n",
       "      <th></th>\n",
       "      <th>text</th>\n",
       "      <th>target</th>\n",
       "    </tr>\n",
       "  </thead>\n",
       "  <tbody>\n",
       "    <tr>\n",
       "      <th>0</th>\n",
       "      <td>Credit Reporting Agencies continue to report X...</td>\n",
       "      <td>1</td>\n",
       "    </tr>\n",
       "    <tr>\n",
       "      <th>1</th>\n",
       "      <td>On Wednesday, XXXX XXXX of 2015, I was in rece...</td>\n",
       "      <td>2</td>\n",
       "    </tr>\n",
       "    <tr>\n",
       "      <th>2</th>\n",
       "      <td>These addresses are errors. \\n\\nXXXX XXXX XXXX...</td>\n",
       "      <td>1</td>\n",
       "    </tr>\n",
       "    <tr>\n",
       "      <th>3</th>\n",
       "      <td>I have not paid on my mortage ( for a property...</td>\n",
       "      <td>3</td>\n",
       "    </tr>\n",
       "    <tr>\n",
       "      <th>4</th>\n",
       "      <td>XXXX/XXXX/XXXX our names are XXXX &amp; XXXX. we h...</td>\n",
       "      <td>3</td>\n",
       "    </tr>\n",
       "  </tbody>\n",
       "</table>\n",
       "</div>"
      ],
      "text/plain": [
       "                                                text  target\n",
       "0  Credit Reporting Agencies continue to report X...       1\n",
       "1  On Wednesday, XXXX XXXX of 2015, I was in rece...       2\n",
       "2  These addresses are errors. \\n\\nXXXX XXXX XXXX...       1\n",
       "3  I have not paid on my mortage ( for a property...       3\n",
       "4  XXXX/XXXX/XXXX our names are XXXX & XXXX. we h...       3"
      ]
     },
     "execution_count": 5,
     "metadata": {},
     "output_type": "execute_result"
    }
   ],
   "source": [
    "df=pd.read_csv('train.csv')\n",
    "df.head()"
   ]
  },
  {
   "cell_type": "code",
   "execution_count": 6,
   "id": "9b86ac60",
   "metadata": {},
   "outputs": [],
   "source": [
    "### PREPROCESSING"
   ]
  },
  {
   "cell_type": "code",
   "execution_count": 7,
   "id": "d11185b1",
   "metadata": {},
   "outputs": [
    {
     "name": "stdout",
     "output_type": "stream",
     "text": [
      "<class 'pandas.core.frame.DataFrame'>\n",
      "RangeIndex: 5000 entries, 0 to 4999\n",
      "Data columns (total 2 columns):\n",
      " #   Column  Non-Null Count  Dtype \n",
      "---  ------  --------------  ----- \n",
      " 0   text    5000 non-null   object\n",
      " 1   target  5000 non-null   int64 \n",
      "dtypes: int64(1), object(1)\n",
      "memory usage: 78.2+ KB\n"
     ]
    }
   ],
   "source": [
    "# checking for null and missing values.\n",
    "df.info()"
   ]
  },
  {
   "cell_type": "code",
   "execution_count": 8,
   "id": "c52151e4",
   "metadata": {},
   "outputs": [
    {
     "data": {
      "text/plain": [
       "(5000, 2)"
      ]
     },
     "execution_count": 8,
     "metadata": {},
     "output_type": "execute_result"
    }
   ],
   "source": [
    "df.shape"
   ]
  },
  {
   "cell_type": "code",
   "execution_count": 9,
   "id": "8caa17c5",
   "metadata": {},
   "outputs": [
    {
     "data": {
      "image/png": "[encoded data removed]",
      "text/plain": [
       "<Figure size 432x288 with 1 Axes>"
      ]
     },
     "metadata": {
      "needs_background": "light"
     },
     "output_type": "display_data"
    }
   ],
   "source": [
    "ax =sns.countplot(x ='target', data = df)\n",
    "for p in ax.patches:\n",
    "    ax.annotate('{:}'.format(p.get_height()), (p.get_x()+0.15, p.get_height()+1))"
   ]
  },
  {
   "cell_type": "code",
   "execution_count": 10,
   "id": "4f296db5",
   "metadata": {},
   "outputs": [],
   "source": [
    "# I am droping the duplicate rows becasue they are giving the same information\n",
    "# and if I drop that then it will increase the computation time without any information loss."
   ]
  },
  {
   "cell_type": "code",
   "execution_count": 11,
   "id": "2615b6a2",
   "metadata": {},
   "outputs": [],
   "source": [
    "df.drop_duplicates(inplace=True)"
   ]
  },
  {
   "cell_type": "code",
   "execution_count": 12,
   "id": "ae4446dd",
   "metadata": {},
   "outputs": [
    {
     "data": {
      "text/plain": [
       "(4959, 2)"
      ]
     },
     "execution_count": 12,
     "metadata": {},
     "output_type": "execute_result"
    }
   ],
   "source": [
    "df.shape # (5000-4957=43; Total 43 duplicate value droped)"
   ]
  },
  {
   "cell_type": "code",
   "execution_count": 13,
   "id": "14d9922c",
   "metadata": {},
   "outputs": [
    {
     "data": {
      "image/png": "[encoded data removed]",
      "text/plain": [
       "<Figure size 432x288 with 1 Axes>"
      ]
     },
     "metadata": {
      "needs_background": "light"
     },
     "output_type": "display_data"
    }
   ],
   "source": [
    "# checking for unbalanced data\n",
    "ax =sns.countplot(x ='target', data = df)\n",
    "for p in ax.patches:\n",
    "    ax.annotate('{:}'.format(p.get_height()), (p.get_x()+0.15, p.get_height()+1))\n",
    "    \n",
    "# data is mildly imbalanced, so if we want we can ignore it\n",
    "# But I have handle this issue while applying logistic regression\n",
    "# by taking balanced weight."
   ]
  },
  {
   "cell_type": "code",
   "execution_count": 14,
   "id": "a8c2d5e9",
   "metadata": {},
   "outputs": [],
   "source": [
    "# Removing stop words"
   ]
  },
  {
   "cell_type": "code",
   "execution_count": 15,
   "id": "5eb35aaf",
   "metadata": {},
   "outputs": [],
   "source": [
    "STOPWORDS = set(stopwords.words('english'))\n",
    "special_character_remover = re.compile('[/(){}\\[\\]\\|@,;]')\n",
    "extra_symbol_remover = re.compile('[^0-9a-z #+_]')"
   ]
  },
  {
   "cell_type": "code",
   "execution_count": 16,
   "id": "f3179e23",
   "metadata": {},
   "outputs": [],
   "source": [
    "def clean_text(text):\n",
    "    text = text.lower()  # converting to lower text\n",
    "    text = special_character_remover.sub(' ', text)  \n",
    "    text = extra_symbol_remover.sub('', text)\n",
    "    text = ' '.join(word for word in text.split() if word not in STOPWORDS)\n",
    "    return text\n",
    "df['text'] = df['text'].apply(clean_text)"
   ]
  },
  {
   "cell_type": "code",
   "execution_count": 17,
   "id": "96ab9295",
   "metadata": {},
   "outputs": [
    {
     "data": {
      "text/html": [
       "<div>\n",
       "<style scoped>\n",
       "    .dataframe tbody tr th:only-of-type {\n",
       "        vertical-align: middle;\n",
       "    }\n",
       "\n",
       "    .dataframe tbody tr th {\n",
       "        vertical-align: top;\n",
       "    }\n",
       "\n",
       "    .dataframe thead th {\n",
       "        text-align: right;\n",
       "    }\n",
       "</style>\n",
       "<table border=\"1\" class=\"dataframe\">\n",
       "  <thead>\n",
       "    <tr style=\"text-align: right;\">\n",
       "      <th></th>\n",
       "      <th>text</th>\n",
       "      <th>target</th>\n",
       "    </tr>\n",
       "  </thead>\n",
       "  <tbody>\n",
       "    <tr>\n",
       "      <th>0</th>\n",
       "      <td>credit reporting agencies continue report xxxx...</td>\n",
       "      <td>1</td>\n",
       "    </tr>\n",
       "    <tr>\n",
       "      <th>1</th>\n",
       "      <td>wednesday xxxx xxxx 2015 receipt warrant debt ...</td>\n",
       "      <td>2</td>\n",
       "    </tr>\n",
       "    <tr>\n",
       "      <th>2</th>\n",
       "      <td>addresses errors xxxx xxxx xxxx xxxx xxxx nv x...</td>\n",
       "      <td>1</td>\n",
       "    </tr>\n",
       "    <tr>\n",
       "      <th>3</th>\n",
       "      <td>paid mortage property reside since xxxx 2012 f...</td>\n",
       "      <td>3</td>\n",
       "    </tr>\n",
       "    <tr>\n",
       "      <th>4</th>\n",
       "      <td>xxxx xxxx xxxx names xxxx xxxx current loan w ...</td>\n",
       "      <td>3</td>\n",
       "    </tr>\n",
       "  </tbody>\n",
       "</table>\n",
       "</div>"
      ],
      "text/plain": [
       "                                                text  target\n",
       "0  credit reporting agencies continue report xxxx...       1\n",
       "1  wednesday xxxx xxxx 2015 receipt warrant debt ...       2\n",
       "2  addresses errors xxxx xxxx xxxx xxxx xxxx nv x...       1\n",
       "3  paid mortage property reside since xxxx 2012 f...       3\n",
       "4  xxxx xxxx xxxx names xxxx xxxx current loan w ...       3"
      ]
     },
     "execution_count": 17,
     "metadata": {},
     "output_type": "execute_result"
    }
   ],
   "source": [
    "df.head()"
   ]
  },
  {
   "cell_type": "code",
   "execution_count": 18,
   "id": "4bfde67d",
   "metadata": {},
   "outputs": [],
   "source": [
    "### Spliting into Train and Test set"
   ]
  },
  {
   "cell_type": "code",
   "execution_count": 19,
   "id": "9854e1ae",
   "metadata": {},
   "outputs": [],
   "source": [
    "from sklearn.model_selection import train_test_split\n",
    "X = df.text\n",
    "y = df.target\n",
    "X_train, X_test, y_train, y_test = train_test_split(X, y, test_size=0.2, random_state = 42)"
   ]
  },
  {
   "cell_type": "code",
   "execution_count": 20,
   "id": "a14e184c",
   "metadata": {},
   "outputs": [],
   "source": [
    "my_tags = ['0','1','2','3','4']"
   ]
  },
  {
   "cell_type": "code",
   "execution_count": 21,
   "id": "96ed418f",
   "metadata": {},
   "outputs": [],
   "source": [
    "### APPLYING Logistic Regression"
   ]
  },
  {
   "cell_type": "code",
   "execution_count": 22,
   "id": "9d5aafb0",
   "metadata": {},
   "outputs": [],
   "source": [
    "# I am using count vectorization and tf-idf approch for multi class classification"
   ]
  },
  {
   "cell_type": "code",
   "execution_count": 23,
   "id": "fac618c7",
   "metadata": {},
   "outputs": [
    {
     "name": "stdout",
     "output_type": "stream",
     "text": [
      "Accuracy is : 0.7671370967741935\n"
     ]
    }
   ],
   "source": [
    "lr = Pipeline([('vect', CountVectorizer()),\n",
    "               ('tfidf', TfidfTransformer()),\n",
    "               ('clf', LogisticRegression(class_weight='balanced')),  # I have used balanced to handle imbalanced issue\n",
    "              ])\n",
    "\n",
    "lr.fit(X_train,y_train)\n",
    "y_pred1 = lr.predict(X_test)\n",
    "\n",
    "print(f\"Accuracy is : {accuracy_score(y_pred1,y_test)}\")"
   ]
  },
  {
   "cell_type": "code",
   "execution_count": 24,
   "id": "fd09e231",
   "metadata": {},
   "outputs": [
    {
     "name": "stdout",
     "output_type": "stream",
     "text": [
      "Classification_report for Logistic \n",
      "\n",
      "              precision    recall  f1-score   support\n",
      "\n",
      "           0       0.49      0.66      0.56       111\n",
      "           1       0.75      0.63      0.68       322\n",
      "           2       0.84      0.82      0.83       321\n",
      "           3       0.91      0.96      0.93       163\n",
      "           4       0.74      0.89      0.81        75\n",
      "\n",
      "    accuracy                           0.77       992\n",
      "   macro avg       0.75      0.79      0.76       992\n",
      "weighted avg       0.78      0.77      0.77       992\n",
      "\n"
     ]
    }
   ],
   "source": [
    "## Classification_report for Logistic\n",
    "print('Classification_report for Logistic \\n')\n",
    "print(classification_report(y_test, y_pred1,target_names=my_tags))"
   ]
  },
  {
   "cell_type": "code",
   "execution_count": 25,
   "id": "4cb0ea32",
   "metadata": {},
   "outputs": [],
   "source": [
    "### APPLYING MultinomialNB"
   ]
  },
  {
   "cell_type": "code",
   "execution_count": 26,
   "id": "197a2c24",
   "metadata": {},
   "outputs": [
    {
     "name": "stdout",
     "output_type": "stream",
     "text": [
      "accuracy 0.6844758064516129\n"
     ]
    }
   ],
   "source": [
    "naivebayes = Pipeline([('vect', CountVectorizer()),\n",
    "               ('tfidf', TfidfTransformer()),\n",
    "               ('clf', MultinomialNB()),\n",
    "              ])\n",
    "naivebayes.fit(X_train, y_train)\n",
    "\n",
    "y_pred2 = naivebayes.predict(X_test)\n",
    "\n",
    "print(f'accuracy {accuracy_score(y_pred2,y_test)}')"
   ]
  },
  {
   "cell_type": "code",
   "execution_count": 27,
   "id": "68093af2",
   "metadata": {},
   "outputs": [
    {
     "name": "stdout",
     "output_type": "stream",
     "text": [
      "Classification_report for MultinomialNB \n",
      "\n",
      "              precision    recall  f1-score   support\n",
      "\n",
      "           0       0.00      0.00      0.00       111\n",
      "           1       0.60      0.88      0.71       322\n",
      "           2       0.72      0.85      0.78       321\n",
      "           3       0.88      0.73      0.80       163\n",
      "           4       1.00      0.07      0.12        75\n",
      "\n",
      "    accuracy                           0.68       992\n",
      "   macro avg       0.64      0.50      0.48       992\n",
      "weighted avg       0.65      0.68      0.62       992\n",
      "\n"
     ]
    }
   ],
   "source": [
    "## Classification_report for MultinomialNB\n",
    "print('Classification_report for MultinomialNB \\n')\n",
    "\n",
    "print(classification_report(y_test, y_pred2,target_names=my_tags))"
   ]
  },
  {
   "cell_type": "code",
   "execution_count": 28,
   "id": "4a34bf51",
   "metadata": {},
   "outputs": [],
   "source": [
    "# The reason for such a poor score is prior probability\n",
    "# naive bayes depends upon it but as we know that class o and class 4 prior probabilty are less becasue of \n",
    "# imbalanced dataset"
   ]
  },
  {
   "cell_type": "code",
   "execution_count": 29,
   "id": "868d3479",
   "metadata": {},
   "outputs": [],
   "source": [
    "### APPLYING Xgboost "
   ]
  },
  {
   "cell_type": "code",
   "execution_count": 30,
   "id": "07a4a386",
   "metadata": {},
   "outputs": [
    {
     "name": "stdout",
     "output_type": "stream",
     "text": [
      "accuracy 0.7762096774193549\n"
     ]
    }
   ],
   "source": [
    "xgboost = Pipeline([('vect', CountVectorizer()),\n",
    "               ('tfidf', TfidfTransformer()),\n",
    "               ('clf', XGBClassifier(verbosity = 0)),\n",
    "              ])\n",
    "xgboost.fit(X_train, y_train)\n",
    "\n",
    "y_pred3 = xgboost.predict(X_test)\n",
    "\n",
    "print(f'accuracy {accuracy_score(y_pred3,y_test)}')"
   ]
  },
  {
   "cell_type": "code",
   "execution_count": 31,
   "id": "19ffa26b",
   "metadata": {},
   "outputs": [],
   "source": [
    "# I tried fine tunning xgb with various other prameter but the result was \n",
    "# not good. that's why I settled for default parameter."
   ]
  },
  {
   "cell_type": "code",
   "execution_count": 32,
   "id": "eed17e93",
   "metadata": {},
   "outputs": [
    {
     "name": "stdout",
     "output_type": "stream",
     "text": [
      "Classification_report for XGBOOST\n",
      "              precision    recall  f1-score   support\n",
      "\n",
      "           0       0.73      0.40      0.51       111\n",
      "           1       0.71      0.77      0.74       322\n",
      "           2       0.80      0.85      0.82       321\n",
      "           3       0.90      0.88      0.89       163\n",
      "           4       0.77      0.84      0.80        75\n",
      "\n",
      "    accuracy                           0.78       992\n",
      "   macro avg       0.78      0.75      0.75       992\n",
      "weighted avg       0.78      0.78      0.77       992\n",
      "\n"
     ]
    }
   ],
   "source": [
    "## Classification_report  for XGBOOST\n",
    "print('Classification_report for XGBOOST')\n",
    "print(classification_report(y_test, y_pred3,target_names=my_tags))"
   ]
  },
  {
   "cell_type": "code",
   "execution_count": 33,
   "id": "8cc88fe8",
   "metadata": {},
   "outputs": [],
   "source": [
    "# OUT OF ALL THREE MODEL Logistic is best.\n",
    "# XGB boost is sligthly better than logistic in terms of overall score\n",
    "# but logistic is performing better in all classes comapred to xbg\n",
    "# and logistic is taking very less time compared to the xgb"
   ]
  },
  {
   "cell_type": "code",
   "execution_count": 34,
   "id": "9e16ac7b",
   "metadata": {},
   "outputs": [],
   "source": [
    "### FUTURE work"
   ]
  },
  {
   "cell_type": "code",
   "execution_count": 35,
   "id": "a4039423",
   "metadata": {},
   "outputs": [],
   "source": [
    "# we can try word2vec instead of count vectorization"
   ]
  }
 ],
 "metadata": {
  "kernelspec": {
   "display_name": "Python 3 (ipykernel)",
   "language": "python",
   "name": "python3"
  },
  "language_info": {
   "codemirror_mode": {
    "name": "ipython",
    "version": 3
   },
   "file_extension": ".py",
   "mimetype": "text/x-python",
   "name": "python",
   "nbconvert_exporter": "python",
   "pygments_lexer": "ipython3",
   "version": "3.9.6"
  }
 },
 "nbformat": 4,
 "nbformat_minor": 5
}
