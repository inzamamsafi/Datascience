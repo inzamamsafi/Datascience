{
 "cells": [
  {
   "cell_type": "code",
   "execution_count": 1,
   "metadata": {},
   "outputs": [
    {
     "data": {
      "text/markdown": [
       "# **Configurable Data Model : Setup**"
      ],
      "text/plain": [
       "<IPython.core.display.Markdown object>"
      ]
     },
     "metadata": {},
     "output_type": "display_data"
    },
    {
     "data": {
      "text/markdown": [
       "## **Feature Pipeline Information**"
      ],
      "text/plain": [
       "<IPython.core.display.Markdown object>"
      ]
     },
     "metadata": {},
     "output_type": "display_data"
    },
    {
     "name": "stdout",
     "output_type": "stream",
     "text": [
      " \n"
     ]
    },
    {
     "data": {
      "application/vnd.jupyter.widget-view+json": {
       "model_id": "17900e18f47143f4b6567d13fa8a21be",
       "version_major": 2,
       "version_minor": 0
      },
      "text/plain": [
       "Text(value='2', description='Pipeline ID : ', style=DescriptionStyle(description_width='initial'))"
      ]
     },
     "metadata": {},
     "output_type": "display_data"
    },
    {
     "data": {
      "application/vnd.jupyter.widget-view+json": {
       "model_id": "54034f44cf6744b4a78f39af0394ae29",
       "version_major": 2,
       "version_minor": 0
      },
      "text/plain": [
       "FloatText(value=1.0, description='Version : ', style=DescriptionStyle(description_width='initial'))"
      ]
     },
     "metadata": {},
     "output_type": "display_data"
    },
    {
     "data": {
      "application/vnd.jupyter.widget-view+json": {
       "model_id": "8ccdffd40a2c45a7aa9f014243e6ff01",
       "version_major": 2,
       "version_minor": 0
      },
      "text/plain": [
       "Text(value='new_feature', description='Pipeline Type : ', style=DescriptionStyle(description_width='initial'))"
      ]
     },
     "metadata": {},
     "output_type": "display_data"
    },
    {
     "data": {
      "application/vnd.jupyter.widget-view+json": {
       "model_id": "8746f69ba16d4cee8e7a531be54d6b89",
       "version_major": 2,
       "version_minor": 0
      },
      "text/plain": [
       "Text(value='analytical', description='Deploy Type : ', style=DescriptionStyle(description_width='initial'))"
      ]
     },
     "metadata": {},
     "output_type": "display_data"
    },
    {
     "name": "stdout",
     "output_type": "stream",
     "text": [
      " \n"
     ]
    },
    {
     "data": {
      "text/markdown": [
       "**NOTE** : The functionality of creating multiple time windows has been provided to support retro-scoring use cases to manage changing SOR/s over their required execution period.\n",
       "    \n",
       "    "
      ],
      "text/plain": [
       "<IPython.core.display.Markdown object>"
      ]
     },
     "metadata": {},
     "output_type": "display_data"
    },
    {
     "data": {
      "text/markdown": [
       "Time Windows can be defined for every task group to support different logics for different execution dates. The number of time windows for every task group is initialized to 1. **Should you not wish to make multiple time windows, select \"Run Indefinitely\" in the initialized time window**. To know more visit [Config DM - Time Windows](https://enterprise-confluence.aexp.com/confluence/display/GS/Data+Model+POC+Documentation)"
      ],
      "text/plain": [
       "<IPython.core.display.Markdown object>"
      ]
     },
     "metadata": {},
     "output_type": "display_data"
    },
    {
     "name": "stdout",
     "output_type": "stream",
     "text": [
      " \n"
     ]
    },
    {
     "data": {
      "text/markdown": [
       "---"
      ],
      "text/plain": [
       "<IPython.core.display.Markdown object>"
      ]
     },
     "metadata": {},
     "output_type": "display_data"
    },
    {
     "name": "stdout",
     "output_type": "stream",
     "text": [
      " \n"
     ]
    },
    {
     "data": {
      "text/markdown": [
       "## **Task Setup**"
      ],
      "text/plain": [
       "<IPython.core.display.Markdown object>"
      ]
     },
     "metadata": {},
     "output_type": "display_data"
    },
    {
     "name": "stdout",
     "output_type": "stream",
     "text": [
      " \n"
     ]
    },
    {
     "data": {
      "application/vnd.jupyter.widget-view+json": {
       "model_id": "66cdded21552459caa37deb7226a3aaa",
       "version_major": 2,
       "version_minor": 0
      },
      "text/plain": [
       "Output()"
      ]
     },
     "metadata": {},
     "output_type": "display_data"
    },
    {
     "data": {
      "application/vnd.jupyter.widget-view+json": {
       "model_id": "3b4b4e108e444d079fc6d5f8bd46dd17",
       "version_major": 2,
       "version_minor": 0
      },
      "text/plain": [
       "Output()"
      ]
     },
     "metadata": {},
     "output_type": "display_data"
    },
    {
     "data": {
      "application/vnd.jupyter.widget-view+json": {
       "model_id": "d2f6673ecba746a996cef26e5ce14d2a",
       "version_major": 2,
       "version_minor": 0
      },
      "text/plain": [
       "Output()"
      ]
     },
     "metadata": {},
     "output_type": "display_data"
    },
    {
     "name": "stdout",
     "output_type": "stream",
     "text": [
      " \n"
     ]
    },
    {
     "data": {
      "application/vnd.jupyter.widget-view+json": {
       "model_id": "925c343b8b5d45d79fafb4351d5c00b0",
       "version_major": 2,
       "version_minor": 0
      },
      "text/plain": [
       "Output()"
      ]
     },
     "metadata": {},
     "output_type": "display_data"
    },
    {
     "name": "stdout",
     "output_type": "stream",
     "text": [
      " \n"
     ]
    },
    {
     "data": {
      "text/markdown": [
       "## **Aggregation**"
      ],
      "text/plain": [
       "<IPython.core.display.Markdown object>"
      ]
     },
     "metadata": {},
     "output_type": "display_data"
    },
    {
     "name": "stdout",
     "output_type": "stream",
     "text": [
      " \n"
     ]
    },
    {
     "data": {
      "application/vnd.jupyter.widget-view+json": {
       "model_id": "1e499bedb37e414089109217878a8b27",
       "version_major": 2,
       "version_minor": 0
      },
      "text/plain": [
       "Text(value='aggregation_logic', description='Aggr Task ID : ', style=DescriptionStyle(description_width='initi…"
      ]
     },
     "metadata": {},
     "output_type": "display_data"
    },
    {
     "data": {
      "application/vnd.jupyter.widget-view+json": {
       "model_id": "a1e70893421940b6b898552fca1fa8cc",
       "version_major": 2,
       "version_minor": 0
      },
      "text/plain": [
       "Text(value='tasks/aggregation/aggregation_logic_mvp.py', description='Aggr Code File Path : ', style=Descripti…"
      ]
     },
     "metadata": {},
     "output_type": "display_data"
    },
    {
     "data": {
      "application/vnd.jupyter.widget-view+json": {
       "model_id": "69f175eff8064721bfd88cd783293bf0",
       "version_major": 2,
       "version_minor": 0
      },
      "text/plain": [
       "Dropdown(description='Aggr Logic Language : ', index=1, options=('Hive', 'PySpark'), style=DescriptionStyle(de…"
      ]
     },
     "metadata": {},
     "output_type": "display_data"
    },
    {
     "name": "stdout",
     "output_type": "stream",
     "text": [
      " \n"
     ]
    },
    {
     "data": {
      "text/markdown": [
       "---"
      ],
      "text/plain": [
       "<IPython.core.display.Markdown object>"
      ]
     },
     "metadata": {},
     "output_type": "display_data"
    },
    {
     "data": {
      "text/markdown": [
       "## **Dependencies**"
      ],
      "text/plain": [
       "<IPython.core.display.Markdown object>"
      ]
     },
     "metadata": {},
     "output_type": "display_data"
    },
    {
     "name": "stdout",
     "output_type": "stream",
     "text": [
      " \n"
     ]
    },
    {
     "data": {
      "application/vnd.jupyter.widget-view+json": {
       "model_id": "2f1eed7fba7a4e0e87222ee87e98b011",
       "version_major": 2,
       "version_minor": 0
      },
      "text/plain": [
       "Text(value=\" ['task_group_id_01_Name >> task_group_id_02_Name >> aggregation_logic']\", description='Dependenci…"
      ]
     },
     "metadata": {},
     "output_type": "display_data"
    },
    {
     "data": {
      "text/markdown": [
       "(example - ['task_group_id_01_Name >> task_group_id_02_Name >> aggregation_logic'])"
      ],
      "text/plain": [
       "<IPython.core.display.Markdown object>"
      ]
     },
     "metadata": {},
     "output_type": "display_data"
    },
    {
     "name": "stdout",
     "output_type": "stream",
     "text": [
      " \n"
     ]
    },
    {
     "data": {
      "application/vnd.jupyter.widget-view+json": {
       "model_id": "0c750a2abdb648b5868d9fe8049efa39",
       "version_major": 2,
       "version_minor": 0
      },
      "text/plain": [
       "Button(button_style='success', description='Update Config', style=ButtonStyle())"
      ]
     },
     "metadata": {},
     "output_type": "display_data"
    },
    {
     "name": "stdout",
     "output_type": "stream",
     "text": [
      "vars_config_widgets_## [{'task_group_id': Text(value='TAG1', description='Task Group Name:', style=DescriptionStyle(description_width='initial')), 'num_tw': IntText(value=1, description='Number of Time-Windows : ', style=DescriptionStyle(description_width='initial')), 'time_windows': [{'Task_Name_XX': Text(value='Task_Name_XX', description='Task_Name_XX: ', style=DescriptionStyle(description_width='initial')), 'start_date': DatePicker(value=datetime.date(2021, 10, 1), description='Start Date(MM-DD-YYYY): ', style=DescriptionStyle(description_width='initial')), 'end_date': DatePicker(value=datetime.date(2023, 11, 4), description='End Date(MM-DD-YYYY): ', style=DescriptionStyle(description_width='initial')), 'run_indefinitely': Checkbox(value=False, description='Run Indefinitely ', style=DescriptionStyle(description_width='initial')), 'code_file_path': Text(value='tasks/base_creation/final_base_logic.hql', description='Code File Path : ', style=DescriptionStyle(description_width='initial')), 'language': Dropdown(description='Language :', options=('Hive', 'PySpark'), style=DescriptionStyle(description_width='initial'), value='Hive'), 'num_params': IntText(value=1, description='Number of Configurable Params : ', style=DescriptionStyle(description_width='initial')), 'config': {'key_0': Text(value='', description='Key #1 : ', style=DescriptionStyle(description_width='initial')), 'value_0': Text(value='TE1', description='  Value #1 : ', style=DescriptionStyle(description_width='initial'))}, 'accordion': Accordion(children=(VBox(children=(Text(value='Task_Name_XX', description='Task_Name_XX: ', style=DescriptionStyle(description_width='initial')), DatePicker(value=datetime.date(2021, 10, 1), description='Start Date(MM-DD-YYYY): ', style=DescriptionStyle(description_width='initial')), DatePicker(value=datetime.date(2023, 11, 4), description='End Date(MM-DD-YYYY): ', style=DescriptionStyle(description_width='initial')), Label(value='(Select \"Run Indefinitely\" if you want this logic to run without any defined end date)'), Checkbox(value=False, description='Run Indefinitely ', style=DescriptionStyle(description_width='initial')), Text(value='tasks/base_creation/final_base_logic.hql', description='Code File Path : ', style=DescriptionStyle(description_width='initial')), Dropdown(description='Language :', options=('Hive', 'PySpark'), style=DescriptionStyle(description_width='initial'), value='Hive'), Label(value=''), IntText(value=1, description='Number of Configurable Params : ', style=DescriptionStyle(description_width='initial')), Label(value='(optional field)'), HBox(children=(Text(value='', description='Key #1 : ', style=DescriptionStyle(description_width='initial')), Text(value='TE1', description='  Value #1 : ', style=DescriptionStyle(description_width='initial')))))),), _titles={'0': 'Time Window 1'})}], 'default': {'code_file_path': Text(value='tasks/base_creation/default_base_logic.hql', description='Code File Path : ', style=DescriptionStyle(description_width='initial')), 'language': Dropdown(description='Language :', options=('Hive', 'PySpark'), style=DescriptionStyle(description_width='initial'), value='Hive'), 'accordion': Accordion(children=(VBox(children=(Text(value='tasks/base_creation/default_base_logic.hql', description='Code File Path : ', style=DescriptionStyle(description_width='initial')), Dropdown(description='Language :', options=('Hive', 'PySpark'), style=DescriptionStyle(description_width='initial'), value='Hive'))),), _titles={'0': 'Default'})}, 'delete': Button(button_style='danger', description='Delete Task Group', style=ButtonStyle()), 'accordion': Accordion(children=(VBox(children=(Text(value='TAG1', description='Task Group Name:', style=DescriptionStyle(description_width='initial')), IntText(value=1, description='Number of Time-Windows : ', style=DescriptionStyle(description_width='initial')), Label(value=''), Accordion(children=(VBox(children=(Text(value='Task_Name_XX', description='Task_Name_XX: ', style=DescriptionStyle(description_width='initial')), DatePicker(value=datetime.date(2021, 10, 1), description='Start Date(MM-DD-YYYY): ', style=DescriptionStyle(description_width='initial')), DatePicker(value=datetime.date(2023, 11, 4), description='End Date(MM-DD-YYYY): ', style=DescriptionStyle(description_width='initial')), Label(value='(Select \"Run Indefinitely\" if you want this logic to run without any defined end date)'), Checkbox(value=False, description='Run Indefinitely ', style=DescriptionStyle(description_width='initial')), Text(value='tasks/base_creation/final_base_logic.hql', description='Code File Path : ', style=DescriptionStyle(description_width='initial')), Dropdown(description='Language :', options=('Hive', 'PySpark'), style=DescriptionStyle(description_width='initial'), value='Hive'), Label(value=''), IntText(value=1, description='Number of Configurable Params : ', style=DescriptionStyle(description_width='initial')), Label(value='(optional field)'), HBox(children=(Text(value='', description='Key #1 : ', style=DescriptionStyle(description_width='initial')), Text(value='TE1', description='  Value #1 : ', style=DescriptionStyle(description_width='initial')))))),), _titles={'0': 'Time Window 1'}), Label(value=''), Accordion(children=(VBox(children=(Text(value='tasks/base_creation/default_base_logic.hql', description='Code File Path : ', style=DescriptionStyle(description_width='initial')), Dropdown(description='Language :', options=('Hive', 'PySpark'), style=DescriptionStyle(description_width='initial'), value='Hive'))),), _titles={'0': 'Default'}), Label(value=''), Button(button_style='danger', description='Delete Task Group', style=ButtonStyle()))),), _titles={'0': 'TAG1'})}, {'task_group_id': Text(value='TAG2', description='Task Group Name:', style=DescriptionStyle(description_width='initial')), 'num_tw': IntText(value=2, description='Number of Time-Windows : ', style=DescriptionStyle(description_width='initial')), 'time_windows': [{'Task_Name_XX': Text(value='Task_Name_XX', description='Task_Name_XX: ', style=DescriptionStyle(description_width='initial')), 'start_date': DatePicker(value=datetime.date(2022, 2, 1), description='Start Date(MM-DD-YYYY): ', style=DescriptionStyle(description_width='initial')), 'end_date': DatePicker(value=datetime.date(2023, 11, 4), description='End Date(MM-DD-YYYY): ', style=DescriptionStyle(description_width='initial')), 'run_indefinitely': Checkbox(value=False, description='Run Indefinitely ', style=DescriptionStyle(description_width='initial')), 'code_file_path': Text(value='tasks/variables_creation/final_cas_logic.hql', description='Code File Path : ', style=DescriptionStyle(description_width='initial')), 'language': Dropdown(description='Language :', options=('Hive', 'PySpark'), style=DescriptionStyle(description_width='initial'), value='Hive'), 'num_params': IntText(value=1, description='Number of Configurable Params : ', style=DescriptionStyle(description_width='initial')), 'config': {'key_0': Text(value='gE5', description='Key #1 : ', style=DescriptionStyle(description_width='initial')), 'value_0': Text(value='a', description='  Value #1 : ', style=DescriptionStyle(description_width='initial'))}, 'accordion': Accordion(children=(VBox(children=(Text(value='Task_Name_XX', description='Task_Name_XX: ', style=DescriptionStyle(description_width='initial')), DatePicker(value=datetime.date(2022, 2, 1), description='Start Date(MM-DD-YYYY): ', style=DescriptionStyle(description_width='initial')), DatePicker(value=datetime.date(2023, 11, 4), description='End Date(MM-DD-YYYY): ', style=DescriptionStyle(description_width='initial')), Label(value='(Select \"Run Indefinitely\" if you want this logic to run without any defined end date)'), Checkbox(value=False, description='Run Indefinitely ', style=DescriptionStyle(description_width='initial')), Text(value='tasks/variables_creation/final_cas_logic.hql', description='Code File Path : ', style=DescriptionStyle(description_width='initial')), Dropdown(description='Language :', options=('Hive', 'PySpark'), style=DescriptionStyle(description_width='initial'), value='Hive'), Label(value=''), IntText(value=1, description='Number of Configurable Params : ', style=DescriptionStyle(description_width='initial')), Label(value='(optional field)'), HBox(children=(Text(value='gE5', description='Key #1 : ', style=DescriptionStyle(description_width='initial')), Text(value='a', description='  Value #1 : ', style=DescriptionStyle(description_width='initial')))))),), _titles={'0': 'Time Window 1'})}, {'Task_Name_XX': Text(value='Task_Name_XX', description='Task_Name_XX: ', style=DescriptionStyle(description_width='initial')), 'start_date': DatePicker(value=datetime.date(2021, 10, 1), description='Start Date(MM-DD-YYYY): ', style=DescriptionStyle(description_width='initial')), 'end_date': DatePicker(value=datetime.date(2022, 1, 31), description='End Date(MM-DD-YYYY): ', style=DescriptionStyle(description_width='initial')), 'run_indefinitely': Checkbox(value=False, description='Run Indefinitely ', style=DescriptionStyle(description_width='initial')), 'code_file_path': Text(value='tasks/variables_creation/final_sor_logic.hql', description='Code File Path : ', style=DescriptionStyle(description_width='initial')), 'language': Dropdown(description='Language :', options=('Hive', 'PySpark'), style=DescriptionStyle(description_width='initial'), value='Hive'), 'num_params': IntText(value=1, description='Number of Configurable Params : ', style=DescriptionStyle(description_width='initial')), 'config': {'key_0': Text(value='gE6', description='Key #1 : ', style=DescriptionStyle(description_width='initial')), 'value_0': Text(value='tE6', description='  Value #1 : ', style=DescriptionStyle(description_width='initial'))}, 'accordion': Accordion(children=(VBox(children=(Text(value='Task_Name_XX', description='Task_Name_XX: ', style=DescriptionStyle(description_width='initial')), DatePicker(value=datetime.date(2021, 10, 1), description='Start Date(MM-DD-YYYY): ', style=DescriptionStyle(description_width='initial')), DatePicker(value=datetime.date(2022, 1, 31), description='End Date(MM-DD-YYYY): ', style=DescriptionStyle(description_width='initial')), Label(value='(Select \"Run Indefinitely\" if you want this logic to run without any defined end date)'), Checkbox(value=False, description='Run Indefinitely ', style=DescriptionStyle(description_width='initial')), Text(value='tasks/variables_creation/final_sor_logic.hql', description='Code File Path : ', style=DescriptionStyle(description_width='initial')), Dropdown(description='Language :', options=('Hive', 'PySpark'), style=DescriptionStyle(description_width='initial'), value='Hive'), Label(value=''), IntText(value=1, description='Number of Configurable Params : ', style=DescriptionStyle(description_width='initial')), Label(value='(optional field)'), HBox(children=(Text(value='gE6', description='Key #1 : ', style=DescriptionStyle(description_width='initial')), Text(value='tE6', description='  Value #1 : ', style=DescriptionStyle(description_width='initial')))))),), _titles={'0': 'Time Window 2'})}], 'default': {'code_file_path': Text(value='tasks/variables_creation/default_variables_logic.hql', description='Code File Path : ', style=DescriptionStyle(description_width='initial')), 'language': Dropdown(description='Language :', options=('Hive', 'PySpark'), style=DescriptionStyle(description_width='initial'), value='Hive'), 'accordion': Accordion(children=(VBox(children=(Text(value='tasks/variables_creation/default_variables_logic.hql', description='Code File Path : ', style=DescriptionStyle(description_width='initial')), Dropdown(description='Language :', options=('Hive', 'PySpark'), style=DescriptionStyle(description_width='initial'), value='Hive'))),), _titles={'0': 'Default'})}, 'delete': Button(button_style='danger', description='Delete Task Group', style=ButtonStyle()), 'accordion': Accordion(children=(VBox(children=(Text(value='TAG2', description='Task Group Name:', style=DescriptionStyle(description_width='initial')), IntText(value=2, description='Number of Time-Windows : ', style=DescriptionStyle(description_width='initial')), Label(value=''), Accordion(children=(VBox(children=(Text(value='Task_Name_XX', description='Task_Name_XX: ', style=DescriptionStyle(description_width='initial')), DatePicker(value=datetime.date(2022, 2, 1), description='Start Date(MM-DD-YYYY): ', style=DescriptionStyle(description_width='initial')), DatePicker(value=datetime.date(2023, 11, 4), description='End Date(MM-DD-YYYY): ', style=DescriptionStyle(description_width='initial')), Label(value='(Select \"Run Indefinitely\" if you want this logic to run without any defined end date)'), Checkbox(value=False, description='Run Indefinitely ', style=DescriptionStyle(description_width='initial')), Text(value='tasks/variables_creation/final_cas_logic.hql', description='Code File Path : ', style=DescriptionStyle(description_width='initial')), Dropdown(description='Language :', options=('Hive', 'PySpark'), style=DescriptionStyle(description_width='initial'), value='Hive'), Label(value=''), IntText(value=1, description='Number of Configurable Params : ', style=DescriptionStyle(description_width='initial')), Label(value='(optional field)'), HBox(children=(Text(value='gE5', description='Key #1 : ', style=DescriptionStyle(description_width='initial')), Text(value='a', description='  Value #1 : ', style=DescriptionStyle(description_width='initial')))))),), _titles={'0': 'Time Window 1'}), Accordion(children=(VBox(children=(Text(value='Task_Name_XX', description='Task_Name_XX: ', style=DescriptionStyle(description_width='initial')), DatePicker(value=datetime.date(2021, 10, 1), description='Start Date(MM-DD-YYYY): ', style=DescriptionStyle(description_width='initial')), DatePicker(value=datetime.date(2022, 1, 31), description='End Date(MM-DD-YYYY): ', style=DescriptionStyle(description_width='initial')), Label(value='(Select \"Run Indefinitely\" if you want this logic to run without any defined end date)'), Checkbox(value=False, description='Run Indefinitely ', style=DescriptionStyle(description_width='initial')), Text(value='tasks/variables_creation/final_sor_logic.hql', description='Code File Path : ', style=DescriptionStyle(description_width='initial')), Dropdown(description='Language :', options=('Hive', 'PySpark'), style=DescriptionStyle(description_width='initial'), value='Hive'), Label(value=''), IntText(value=1, description='Number of Configurable Params : ', style=DescriptionStyle(description_width='initial')), Label(value='(optional field)'), HBox(children=(Text(value='gE6', description='Key #1 : ', style=DescriptionStyle(description_width='initial')), Text(value='tE6', description='  Value #1 : ', style=DescriptionStyle(description_width='initial')))))),), _titles={'0': 'Time Window 2'}), Label(value=''), Accordion(children=(VBox(children=(Text(value='tasks/variables_creation/default_variables_logic.hql', description='Code File Path : ', style=DescriptionStyle(description_width='initial')), Dropdown(description='Language :', options=('Hive', 'PySpark'), style=DescriptionStyle(description_width='initial'), value='Hive'))),), _titles={'0': 'Default'}), Label(value=''), Button(button_style='danger', description='Delete Task Group', style=ButtonStyle()))),), _titles={'0': 'TAG2'})}]\n",
      "vars_config_## [{'task_group_id': 'TAG1', 'num_tw': 1, 'time_windows': [{'Task_Name_XX': 'Task_Name_XX', 'start_date': datetime.date(2021, 10, 1), 'end_date': datetime.date(2023, 11, 4), 'run_indefinitely': False, 'code_file_path': 'tasks/base_creation/final_base_logic.hql', 'num_params': 1, 'config': {'': 'TE1'}, 'language': 'Hive'}], 'default': {'code_file_path': 'tasks/base_creation/default_base_logic.hql', 'language': 'Hive'}}, {'task_group_id': 'TAG2', 'num_tw': 2, 'time_windows': [{'Task_Name_XX': 'Task_Name_XX', 'start_date': datetime.date(2022, 2, 1), 'end_date': datetime.date(2023, 11, 4), 'run_indefinitely': False, 'code_file_path': 'tasks/variables_creation/final_cas_logic.hql', 'num_params': 1, 'config': {'gE5': 'a'}, 'language': 'Hive'}, {'Task_Name_XX': 'Task_Name_XX', 'start_date': datetime.date(2021, 10, 1), 'end_date': datetime.date(2022, 1, 31), 'run_indefinitely': False, 'code_file_path': 'tasks/variables_creation/final_sor_logic.hql', 'num_params': 1, 'config': {'gE6': 'tE6'}, 'language': 'Hive'}], 'default': {'code_file_path': 'tasks/variables_creation/default_variables_logic.hql', 'language': 'Hive'}}]\n",
      "vars_config_widgets_After_@@ [{'task_group_id': Text(value='TAG1', description='Task Group Name:', style=DescriptionStyle(description_width='initial')), 'num_tw': IntText(value=1, description='Number of Time-Windows : ', style=DescriptionStyle(description_width='initial')), 'time_windows': [{'Task_Name_XX': Text(value='Task_Name_XX', description='Task_Name_XX: ', style=DescriptionStyle(description_width='initial')), 'start_date': DatePicker(value=datetime.date(2021, 10, 1), description='Start Date(MM-DD-YYYY): ', style=DescriptionStyle(description_width='initial')), 'end_date': DatePicker(value=datetime.date(2023, 11, 4), description='End Date(MM-DD-YYYY): ', style=DescriptionStyle(description_width='initial')), 'run_indefinitely': Checkbox(value=False, description='Run Indefinitely ', style=DescriptionStyle(description_width='initial')), 'code_file_path': Text(value='tasks/base_creation/final_base_logic.hql', description='Code File Path : ', style=DescriptionStyle(description_width='initial')), 'language': Dropdown(description='Language :', options=('Hive', 'PySpark'), style=DescriptionStyle(description_width='initial'), value='Hive'), 'num_params': IntText(value=1, description='Number of Configurable Params : ', style=DescriptionStyle(description_width='initial')), 'config': {'key_0': Text(value='', description='Key #1 : ', style=DescriptionStyle(description_width='initial')), 'value_0': Text(value='TE1', description='  Value #1 : ', style=DescriptionStyle(description_width='initial'))}, 'accordion': Accordion(children=(VBox(children=(Text(value='Task_Name_XX', description='Task_Name_XX: ', style=DescriptionStyle(description_width='initial')), DatePicker(value=datetime.date(2021, 10, 1), description='Start Date(MM-DD-YYYY): ', style=DescriptionStyle(description_width='initial')), DatePicker(value=datetime.date(2023, 11, 4), description='End Date(MM-DD-YYYY): ', style=DescriptionStyle(description_width='initial')), Label(value='(Select \"Run Indefinitely\" if you want this logic to run without any defined end date)'), Checkbox(value=False, description='Run Indefinitely ', style=DescriptionStyle(description_width='initial')), Text(value='tasks/base_creation/final_base_logic.hql', description='Code File Path : ', style=DescriptionStyle(description_width='initial')), Dropdown(description='Language :', options=('Hive', 'PySpark'), style=DescriptionStyle(description_width='initial'), value='Hive'), Label(value=''), IntText(value=1, description='Number of Configurable Params : ', style=DescriptionStyle(description_width='initial')), Label(value='(optional field)'), HBox(children=(Text(value='', description='Key #1 : ', style=DescriptionStyle(description_width='initial')), Text(value='TE1', description='  Value #1 : ', style=DescriptionStyle(description_width='initial')))))),), _titles={'0': 'Time Window 1'})}], 'default': {'code_file_path': Text(value='tasks/base_creation/default_base_logic.hql', description='Code File Path : ', style=DescriptionStyle(description_width='initial')), 'language': Dropdown(description='Language :', options=('Hive', 'PySpark'), style=DescriptionStyle(description_width='initial'), value='Hive'), 'accordion': Accordion(children=(VBox(children=(Text(value='tasks/base_creation/default_base_logic.hql', description='Code File Path : ', style=DescriptionStyle(description_width='initial')), Dropdown(description='Language :', options=('Hive', 'PySpark'), style=DescriptionStyle(description_width='initial'), value='Hive'))),), _titles={'0': 'Default'})}, 'delete': Button(button_style='danger', description='Delete Task Group', style=ButtonStyle()), 'accordion': Accordion(children=(VBox(children=(Text(value='TAG1', description='Task Group Name:', style=DescriptionStyle(description_width='initial')), IntText(value=1, description='Number of Time-Windows : ', style=DescriptionStyle(description_width='initial')), Label(value=''), Accordion(children=(VBox(children=(Text(value='Task_Name_XX', description='Task_Name_XX: ', style=DescriptionStyle(description_width='initial')), DatePicker(value=datetime.date(2021, 10, 1), description='Start Date(MM-DD-YYYY): ', style=DescriptionStyle(description_width='initial')), DatePicker(value=datetime.date(2023, 11, 4), description='End Date(MM-DD-YYYY): ', style=DescriptionStyle(description_width='initial')), Label(value='(Select \"Run Indefinitely\" if you want this logic to run without any defined end date)'), Checkbox(value=False, description='Run Indefinitely ', style=DescriptionStyle(description_width='initial')), Text(value='tasks/base_creation/final_base_logic.hql', description='Code File Path : ', style=DescriptionStyle(description_width='initial')), Dropdown(description='Language :', options=('Hive', 'PySpark'), style=DescriptionStyle(description_width='initial'), value='Hive'), Label(value=''), IntText(value=1, description='Number of Configurable Params : ', style=DescriptionStyle(description_width='initial')), Label(value='(optional field)'), HBox(children=(Text(value='', description='Key #1 : ', style=DescriptionStyle(description_width='initial')), Text(value='TE1', description='  Value #1 : ', style=DescriptionStyle(description_width='initial')))))),), _titles={'0': 'Time Window 1'}), Label(value=''), Accordion(children=(VBox(children=(Text(value='tasks/base_creation/default_base_logic.hql', description='Code File Path : ', style=DescriptionStyle(description_width='initial')), Dropdown(description='Language :', options=('Hive', 'PySpark'), style=DescriptionStyle(description_width='initial'), value='Hive'))),), _titles={'0': 'Default'}), Label(value=''), Button(button_style='danger', description='Delete Task Group', style=ButtonStyle()))),), _titles={'0': 'TAG1'})}, {'task_group_id': Text(value='TAG2', description='Task Group Name:', style=DescriptionStyle(description_width='initial')), 'num_tw': IntText(value=2, description='Number of Time-Windows : ', style=DescriptionStyle(description_width='initial')), 'time_windows': [{'Task_Name_XX': Text(value='Task_Name_XX', description='Task_Name_XX: ', style=DescriptionStyle(description_width='initial')), 'start_date': DatePicker(value=datetime.date(2022, 2, 1), description='Start Date(MM-DD-YYYY): ', style=DescriptionStyle(description_width='initial')), 'end_date': DatePicker(value=datetime.date(2023, 11, 4), description='End Date(MM-DD-YYYY): ', style=DescriptionStyle(description_width='initial')), 'run_indefinitely': Checkbox(value=False, description='Run Indefinitely ', style=DescriptionStyle(description_width='initial')), 'code_file_path': Text(value='tasks/variables_creation/final_cas_logic.hql', description='Code File Path : ', style=DescriptionStyle(description_width='initial')), 'language': Dropdown(description='Language :', options=('Hive', 'PySpark'), style=DescriptionStyle(description_width='initial'), value='Hive'), 'num_params': IntText(value=1, description='Number of Configurable Params : ', style=DescriptionStyle(description_width='initial')), 'config': {'key_0': Text(value='gE5', description='Key #1 : ', style=DescriptionStyle(description_width='initial')), 'value_0': Text(value='a', description='  Value #1 : ', style=DescriptionStyle(description_width='initial'))}, 'accordion': Accordion(children=(VBox(children=(Text(value='Task_Name_XX', description='Task_Name_XX: ', style=DescriptionStyle(description_width='initial')), DatePicker(value=datetime.date(2022, 2, 1), description='Start Date(MM-DD-YYYY): ', style=DescriptionStyle(description_width='initial')), DatePicker(value=datetime.date(2023, 11, 4), description='End Date(MM-DD-YYYY): ', style=DescriptionStyle(description_width='initial')), Label(value='(Select \"Run Indefinitely\" if you want this logic to run without any defined end date)'), Checkbox(value=False, description='Run Indefinitely ', style=DescriptionStyle(description_width='initial')), Text(value='tasks/variables_creation/final_cas_logic.hql', description='Code File Path : ', style=DescriptionStyle(description_width='initial')), Dropdown(description='Language :', options=('Hive', 'PySpark'), style=DescriptionStyle(description_width='initial'), value='Hive'), Label(value=''), IntText(value=1, description='Number of Configurable Params : ', style=DescriptionStyle(description_width='initial')), Label(value='(optional field)'), HBox(children=(Text(value='gE5', description='Key #1 : ', style=DescriptionStyle(description_width='initial')), Text(value='a', description='  Value #1 : ', style=DescriptionStyle(description_width='initial')))))),), _titles={'0': 'Time Window 1'})}, {'Task_Name_XX': Text(value='Task_Name_XX', description='Task_Name_XX: ', style=DescriptionStyle(description_width='initial')), 'start_date': DatePicker(value=datetime.date(2021, 10, 1), description='Start Date(MM-DD-YYYY): ', style=DescriptionStyle(description_width='initial')), 'end_date': DatePicker(value=datetime.date(2022, 1, 31), description='End Date(MM-DD-YYYY): ', style=DescriptionStyle(description_width='initial')), 'run_indefinitely': Checkbox(value=False, description='Run Indefinitely ', style=DescriptionStyle(description_width='initial')), 'code_file_path': Text(value='tasks/variables_creation/final_sor_logic.hql', description='Code File Path : ', style=DescriptionStyle(description_width='initial')), 'language': Dropdown(description='Language :', options=('Hive', 'PySpark'), style=DescriptionStyle(description_width='initial'), value='Hive'), 'num_params': IntText(value=1, description='Number of Configurable Params : ', style=DescriptionStyle(description_width='initial')), 'config': {'key_0': Text(value='gE6', description='Key #1 : ', style=DescriptionStyle(description_width='initial')), 'value_0': Text(value='tE6', description='  Value #1 : ', style=DescriptionStyle(description_width='initial'))}, 'accordion': Accordion(children=(VBox(children=(Text(value='Task_Name_XX', description='Task_Name_XX: ', style=DescriptionStyle(description_width='initial')), DatePicker(value=datetime.date(2021, 10, 1), description='Start Date(MM-DD-YYYY): ', style=DescriptionStyle(description_width='initial')), DatePicker(value=datetime.date(2022, 1, 31), description='End Date(MM-DD-YYYY): ', style=DescriptionStyle(description_width='initial')), Label(value='(Select \"Run Indefinitely\" if you want this logic to run without any defined end date)'), Checkbox(value=False, description='Run Indefinitely ', style=DescriptionStyle(description_width='initial')), Text(value='tasks/variables_creation/final_sor_logic.hql', description='Code File Path : ', style=DescriptionStyle(description_width='initial')), Dropdown(description='Language :', options=('Hive', 'PySpark'), style=DescriptionStyle(description_width='initial'), value='Hive'), Label(value=''), IntText(value=1, description='Number of Configurable Params : ', style=DescriptionStyle(description_width='initial')), Label(value='(optional field)'), HBox(children=(Text(value='gE6', description='Key #1 : ', style=DescriptionStyle(description_width='initial')), Text(value='tE6', description='  Value #1 : ', style=DescriptionStyle(description_width='initial')))))),), _titles={'0': 'Time Window 2'})}], 'default': {'code_file_path': Text(value='tasks/variables_creation/default_variables_logic.hql', description='Code File Path : ', style=DescriptionStyle(description_width='initial')), 'language': Dropdown(description='Language :', options=('Hive', 'PySpark'), style=DescriptionStyle(description_width='initial'), value='Hive'), 'accordion': Accordion(children=(VBox(children=(Text(value='tasks/variables_creation/default_variables_logic.hql', description='Code File Path : ', style=DescriptionStyle(description_width='initial')), Dropdown(description='Language :', options=('Hive', 'PySpark'), style=DescriptionStyle(description_width='initial'), value='Hive'))),), _titles={'0': 'Default'})}, 'delete': Button(button_style='danger', description='Delete Task Group', style=ButtonStyle()), 'accordion': Accordion(children=(VBox(children=(Text(value='TAG2', description='Task Group Name:', style=DescriptionStyle(description_width='initial')), IntText(value=2, description='Number of Time-Windows : ', style=DescriptionStyle(description_width='initial')), Label(value=''), Accordion(children=(VBox(children=(Text(value='Task_Name_XX', description='Task_Name_XX: ', style=DescriptionStyle(description_width='initial')), DatePicker(value=datetime.date(2022, 2, 1), description='Start Date(MM-DD-YYYY): ', style=DescriptionStyle(description_width='initial')), DatePicker(value=datetime.date(2023, 11, 4), description='End Date(MM-DD-YYYY): ', style=DescriptionStyle(description_width='initial')), Label(value='(Select \"Run Indefinitely\" if you want this logic to run without any defined end date)'), Checkbox(value=False, description='Run Indefinitely ', style=DescriptionStyle(description_width='initial')), Text(value='tasks/variables_creation/final_cas_logic.hql', description='Code File Path : ', style=DescriptionStyle(description_width='initial')), Dropdown(description='Language :', options=('Hive', 'PySpark'), style=DescriptionStyle(description_width='initial'), value='Hive'), Label(value=''), IntText(value=1, description='Number of Configurable Params : ', style=DescriptionStyle(description_width='initial')), Label(value='(optional field)'), HBox(children=(Text(value='gE5', description='Key #1 : ', style=DescriptionStyle(description_width='initial')), Text(value='a', description='  Value #1 : ', style=DescriptionStyle(description_width='initial')))))),), _titles={'0': 'Time Window 1'}), Accordion(children=(VBox(children=(Text(value='Task_Name_XX', description='Task_Name_XX: ', style=DescriptionStyle(description_width='initial')), DatePicker(value=datetime.date(2021, 10, 1), description='Start Date(MM-DD-YYYY): ', style=DescriptionStyle(description_width='initial')), DatePicker(value=datetime.date(2022, 1, 31), description='End Date(MM-DD-YYYY): ', style=DescriptionStyle(description_width='initial')), Label(value='(Select \"Run Indefinitely\" if you want this logic to run without any defined end date)'), Checkbox(value=False, description='Run Indefinitely ', style=DescriptionStyle(description_width='initial')), Text(value='tasks/variables_creation/final_sor_logic.hql', description='Code File Path : ', style=DescriptionStyle(description_width='initial')), Dropdown(description='Language :', options=('Hive', 'PySpark'), style=DescriptionStyle(description_width='initial'), value='Hive'), Label(value=''), IntText(value=1, description='Number of Configurable Params : ', style=DescriptionStyle(description_width='initial')), Label(value='(optional field)'), HBox(children=(Text(value='gE6', description='Key #1 : ', style=DescriptionStyle(description_width='initial')), Text(value='tE6', description='  Value #1 : ', style=DescriptionStyle(description_width='initial')))))),), _titles={'0': 'Time Window 2'}), Label(value=''), Accordion(children=(VBox(children=(Text(value='tasks/variables_creation/default_variables_logic.hql', description='Code File Path : ', style=DescriptionStyle(description_width='initial')), Dropdown(description='Language :', options=('Hive', 'PySpark'), style=DescriptionStyle(description_width='initial'), value='Hive'))),), _titles={'0': 'Default'}), Label(value=''), Button(button_style='danger', description='Delete Task Group', style=ButtonStyle()))),), _titles={'0': 'TAG2'})}]\n",
      "vars_config_after_@@ [{'task_group_id': 'TAG1', 'num_tw': 1, 'time_windows': [{'Task_Name_XX': 'Task_Name_XX', 'start_date': datetime.date(2021, 10, 1), 'end_date': datetime.date(2023, 11, 4), 'run_indefinitely': False, 'code_file_path': 'tasks/base_creation/final_base_logic.hql', 'num_params': 1, 'config': {'': 'TE1'}, 'language': 'Hive'}], 'default': {'code_file_path': 'tasks/base_creation/default_base_logic.hql', 'language': 'Hive'}}, {'task_group_id': 'TAG2', 'num_tw': 2, 'time_windows': [{'Task_Name_XX': 'Task_Name_XX', 'start_date': datetime.date(2022, 2, 1), 'end_date': datetime.date(2023, 11, 4), 'run_indefinitely': False, 'code_file_path': 'tasks/variables_creation/final_cas_logic.hql', 'num_params': 1, 'config': {'gE5': 'a'}, 'language': 'Hive'}, {'Task_Name_XX': 'Task_Name_XX', 'start_date': datetime.date(2021, 10, 1), 'end_date': datetime.date(2022, 1, 31), 'run_indefinitely': False, 'code_file_path': 'tasks/variables_creation/final_sor_logic.hql', 'num_params': 1, 'config': {'gE6': 'tE6'}, 'language': 'Hive'}], 'default': {'code_file_path': 'tasks/variables_creation/default_variables_logic.hql', 'language': 'Hive'}}]\n"
     ]
    },
    {
     "data": {
      "application/vnd.jupyter.widget-view+json": {
       "model_id": "6b44e33a31dd485ab76d257b7c889e22",
       "version_major": 2,
       "version_minor": 0
      },
      "text/plain": [
       "Label(value='You have left some key value empty')"
      ]
     },
     "metadata": {},
     "output_type": "display_data"
    }
   ],
   "source": [
    "%run C:/Users/isafi/Music/Create_UI/simple_task_02/Config_UI_Setup_yaml.py"
   ]
  },
  {
   "cell_type": "code",
   "execution_count": null,
   "metadata": {},
   "outputs": [],
   "source": []
  }
 ],
 "metadata": {
  "kernelspec": {
   "display_name": "Python 3 (ipykernel)",
   "language": "python",
   "name": "python3"
  },
  "language_info": {
   "codemirror_mode": {
    "name": "ipython",
    "version": 3
   },
   "file_extension": ".py",
   "mimetype": "text/x-python",
   "name": "python",
   "nbconvert_exporter": "python",
   "pygments_lexer": "ipython3",
   "version": "3.9.12"
  },
  "vscode": {
   "interpreter": {
    "hash": "f8d5a6279154fdf8b5527b60660633b5c9dc47432de4df43514f9975e8b51d04"
   }
  }
 },
 "nbformat": 4,
 "nbformat_minor": 2
}
