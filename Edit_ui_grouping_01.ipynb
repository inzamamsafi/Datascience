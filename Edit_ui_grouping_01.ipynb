{
 "cells": [
  {
   "cell_type": "code",
   "execution_count": 1,
   "id": "765c3eac",
   "metadata": {},
   "outputs": [
    {
     "data": {
      "text/markdown": [
       "# **Configurable Feature Pipeline : Configure Parameters**"
      ],
      "text/plain": [
       "<IPython.core.display.Markdown object>"
      ]
     },
     "metadata": {},
     "output_type": "display_data"
    },
    {
     "name": "stdout",
     "output_type": "stream",
     "text": [
      " \n"
     ]
    },
    {
     "data": {
      "application/vnd.jupyter.widget-view+json": {
       "model_id": "6deaf9708372493cbece597511ec277e",
       "version_major": 2,
       "version_minor": 0
      },
      "text/plain": [
       "Text(value='2', description='Pipeline ID : ', style=DescriptionStyle(description_width='initial'))"
      ]
     },
     "metadata": {},
     "output_type": "display_data"
    },
    {
     "data": {
      "application/vnd.jupyter.widget-view+json": {
       "model_id": "6fcdc4dd635b48469f994f531e0b492a",
       "version_major": 2,
       "version_minor": 0
      },
      "text/plain": [
       "FloatText(value=1.0, description='Version : ', style=DescriptionStyle(description_width='initial'))"
      ]
     },
     "metadata": {},
     "output_type": "display_data"
    }
   ],
   "source": [
    "import ipywidgets as widgets\n",
    "from IPython.display import display, Markdown, Javascript, clear_output\n",
    "from datetime import date\n",
    "from functools import partial\n",
    "import json\n",
    "import requests\n",
    "from ipywidgets import Button, HBox, VBox, HTML, Label\n",
    "from ipywidgets import interact\n",
    "from collections import Counter\n",
    "\n",
    "display(Markdown('''# **Configurable Feature Pipeline : Configure Parameters**'''))\n",
    "print(' ')\n",
    "\n",
    "### Echange   id, version\n",
    "pipeline_id_wid = widgets.Text(value=\"2\", description='Pipeline ID : ', style={\n",
    "                               'description_width': 'initial'},)\n",
    "version_wid = widgets.FloatText(value=1, description='Version : ', style={\n",
    "                                'description_width': 'initial'},)\n",
    "\n",
    "\n",
    "display(pipeline_id_wid)\n",
    "display(version_wid)"
   ]
  },
  {
   "cell_type": "code",
   "execution_count": 2,
   "id": "edf728d9",
   "metadata": {},
   "outputs": [],
   "source": [
    "read_json = {\n",
    "    \"pipelineId\": 2,\n",
    "    \"pipelineVersion\": 1,\n",
    "    \"taskConfigurations\": [\n",
    "        {\n",
    "            \"taskConfigId\": 39,\n",
    "            \"taskName\": \"training\",\n",
    "            \"configKey\": \"off_code_mc\",\n",
    "            \"configValue\": \"AAA\",\n",
    "            \"analyticalRunAppliedIndicator\": True,\n",
    "            \"productionRunAppliedIndicator\": False\n",
    "        },\n",
    "        {\n",
    "            \"taskConfigId\": 40,\n",
    "            \"taskName\": \"base_task\",\n",
    "            \"configKey\": \"off_code\",\n",
    "            \"configValue\": \"TTTT2\",\n",
    "            \"analyticalRunAppliedIndicator\": True,\n",
    "            \"productionRunAppliedIndicator\": False\n",
    "        },\n",
    "        {\n",
    "            \"taskConfigId\": 41,\n",
    "            \"taskName\": \"base_task\",\n",
    "            \"configKey\": \"off_code1\",\n",
    "            \"configValue\": \"CCC\",\n",
    "            \"analyticalRunAppliedIndicator\": True,\n",
    "            \"productionRunAppliedIndicator\": False\n",
    "        },\n",
    "        {\n",
    "            \"taskConfigId\": 42,\n",
    "            \"taskName\": \"taskc\",\n",
    "            \"configKey\": \"off_code2\",\n",
    "            \"configValue\": \"DDD\",\n",
    "            \"analyticalRunAppliedIndicator\": True,\n",
    "            \"productionRunAppliedIndicator\": False\n",
    "        }\n",
    "    ]\n",
    "}"
   ]
  },
  {
   "cell_type": "code",
   "execution_count": null,
   "id": "adb2d9c1",
   "metadata": {},
   "outputs": [],
   "source": [
    "# new_Read_json = []\n",
    "\n",
    "# for i in range(len(set(task))):\n",
    "#     new_Read_json.append({})\n",
    "# new_Read_json    "
   ]
  },
  {
   "cell_type": "code",
   "execution_count": null,
   "id": "25927cef",
   "metadata": {},
   "outputs": [],
   "source": [
    "# for i in range(len(read_json['taskConfigurations'])):\n",
    "#     new_Read_json[i][]"
   ]
  },
  {
   "cell_type": "code",
   "execution_count": 3,
   "id": "d33aca69",
   "metadata": {},
   "outputs": [
    {
     "data": {
      "text/plain": [
       "['training', 'base_task', 'base_task', 'taskc']"
      ]
     },
     "execution_count": 3,
     "metadata": {},
     "output_type": "execute_result"
    }
   ],
   "source": [
    "task = []\n",
    "for i in range(len(read_json['taskConfigurations'])):\n",
    "    name = read_json['taskConfigurations'][i]['taskName']\n",
    "    task.append(name)\n",
    "task"
   ]
  },
  {
   "cell_type": "code",
   "execution_count": 4,
   "id": "3db2aafd",
   "metadata": {},
   "outputs": [
    {
     "data": {
      "text/plain": [
       "{'training': 1, 'base_task': 2, 'taskc': 1}"
      ]
     },
     "execution_count": 4,
     "metadata": {},
     "output_type": "execute_result"
    }
   ],
   "source": [
    "counts = dict()\n",
    "for i in task:\n",
    "  counts[i] = counts.get(i, 0) + 1\n",
    "counts"
   ]
  },
  {
   "cell_type": "code",
   "execution_count": 18,
   "id": "fc45feae",
   "metadata": {},
   "outputs": [
    {
     "data": {
      "application/vnd.jupyter.widget-view+json": {
       "model_id": "88974b79c8114c2ba6faba9957638e41",
       "version_major": 2,
       "version_minor": 0
      },
      "text/plain": [
       "HBox(children=(Label(value='Task_1 Name:'), Label(value='base_task')))"
      ]
     },
     "metadata": {},
     "output_type": "display_data"
    },
    {
     "data": {
      "application/vnd.jupyter.widget-view+json": {
       "model_id": "d83405c28f624f5b8563d6681fee7c9f",
       "version_major": 2,
       "version_minor": 0
      },
      "text/plain": [
       "Text(value='TTTT2', description='• off_code:', style=DescriptionStyle(description_width='initial'))"
      ]
     },
     "metadata": {},
     "output_type": "display_data"
    },
    {
     "data": {
      "application/vnd.jupyter.widget-view+json": {
       "model_id": "3be864698b824754bcbb198657b3ba64",
       "version_major": 2,
       "version_minor": 0
      },
      "text/plain": [
       "HBox(children=(Label(value='Gold:True;'), Label(value='Platinum:False')))"
      ]
     },
     "metadata": {},
     "output_type": "display_data"
    },
    {
     "data": {
      "text/markdown": [
       "---"
      ],
      "text/plain": [
       "<IPython.core.display.Markdown object>"
      ]
     },
     "metadata": {},
     "output_type": "display_data"
    },
    {
     "data": {
      "application/vnd.jupyter.widget-view+json": {
       "model_id": "38e1cd4682a14cdd984ead4329e3a9f9",
       "version_major": 2,
       "version_minor": 0
      },
      "text/plain": [
       "HBox(children=(Label(value='Task_0 Name:'), Label(value='training')))"
      ]
     },
     "metadata": {},
     "output_type": "display_data"
    },
    {
     "data": {
      "application/vnd.jupyter.widget-view+json": {
       "model_id": "e70e5fe6e1e54d3c96fb3dc27a654f03",
       "version_major": 2,
       "version_minor": 0
      },
      "text/plain": [
       "Text(value='AAA', description='• off_code_mc:', style=DescriptionStyle(description_width='initial'))"
      ]
     },
     "metadata": {},
     "output_type": "display_data"
    },
    {
     "data": {
      "application/vnd.jupyter.widget-view+json": {
       "model_id": "7f8f530b938446f8a69451d1f51685af",
       "version_major": 2,
       "version_minor": 0
      },
      "text/plain": [
       "HBox(children=(Label(value='Gold:True;'), Label(value='Platinum:False')))"
      ]
     },
     "metadata": {},
     "output_type": "display_data"
    },
    {
     "data": {
      "text/markdown": [
       "---"
      ],
      "text/plain": [
       "<IPython.core.display.Markdown object>"
      ]
     },
     "metadata": {},
     "output_type": "display_data"
    },
    {
     "data": {
      "text/markdown": [
       "---"
      ],
      "text/plain": [
       "<IPython.core.display.Markdown object>"
      ]
     },
     "metadata": {},
     "output_type": "display_data"
    },
    {
     "data": {
      "application/vnd.jupyter.widget-view+json": {
       "model_id": "8b110e4e9c3047bd97d0a4ec0769678e",
       "version_major": 2,
       "version_minor": 0
      },
      "text/plain": [
       "HBox(children=(Label(value='Task_3 Name:'), Label(value='taskc')))"
      ]
     },
     "metadata": {},
     "output_type": "display_data"
    },
    {
     "data": {
      "application/vnd.jupyter.widget-view+json": {
       "model_id": "2087f6e9671d475babd565fc3444d7b0",
       "version_major": 2,
       "version_minor": 0
      },
      "text/plain": [
       "Text(value='DDD', description='• off_code2:', style=DescriptionStyle(description_width='initial'))"
      ]
     },
     "metadata": {},
     "output_type": "display_data"
    },
    {
     "data": {
      "application/vnd.jupyter.widget-view+json": {
       "model_id": "b69e752893a345cd9c7976304e8f8d20",
       "version_major": 2,
       "version_minor": 0
      },
      "text/plain": [
       "HBox(children=(Label(value='Gold:True;'), Label(value='Platinum:False')))"
      ]
     },
     "metadata": {},
     "output_type": "display_data"
    },
    {
     "data": {
      "text/markdown": [
       "---"
      ],
      "text/plain": [
       "<IPython.core.display.Markdown object>"
      ]
     },
     "metadata": {},
     "output_type": "display_data"
    },
    {
     "data": {
      "text/plain": [
       "{'pipelineId': 2,\n",
       " 'pipelineVersion': 1,\n",
       " 'taskConfigurations': [{'taskConfigId': 39,\n",
       "   'taskName': 'training',\n",
       "   'configKey': 'off_code_mc',\n",
       "   'configValue': 'AAA',\n",
       "   'analyticalRunAppliedIndicator': True,\n",
       "   'productionRunAppliedIndicator': False},\n",
       "  {'taskConfigId': 40,\n",
       "   'taskName': 'base_task',\n",
       "   'configKey': 'off_code',\n",
       "   'configValue': 'TTTT2',\n",
       "   'analyticalRunAppliedIndicator': True,\n",
       "   'productionRunAppliedIndicator': False},\n",
       "  {'taskConfigId': 41,\n",
       "   'taskName': 'base_task',\n",
       "   'configKey': 'off_code1',\n",
       "   'configValue': 'CCC',\n",
       "   'analyticalRunAppliedIndicator': True,\n",
       "   'productionRunAppliedIndicator': False},\n",
       "  {'taskConfigId': 42,\n",
       "   'taskName': 'taskc',\n",
       "   'configKey': 'off_code2',\n",
       "   'configValue': 'DDD',\n",
       "   'analyticalRunAppliedIndicator': True,\n",
       "   'productionRunAppliedIndicator': False}]}"
      ]
     },
     "execution_count": 18,
     "metadata": {},
     "output_type": "execute_result"
    }
   ],
   "source": [
    "config_param_widgets = []\n",
    "for i in range(len(read_json['taskConfigurations'])):\n",
    "    config_param_widgets.append({})\n",
    "\n",
    "def display_task_key_value():\n",
    " \n",
    "        for i in range(len(read_json['taskConfigurations'])):\n",
    "            \n",
    "#             task_name = HBox([Label(value=f\"Task_{i} Name:\"), Label(value=list(read_json['taskConfigurations'][i].values())[1])])\n",
    "            # config_param_widgets[i]['Task_name'] = task_name.children[1].value\n",
    "\n",
    "            if counts[list(read_json['taskConfigurations'][i].values())[1]] > 1:\n",
    "                task_name = HBox([Label(value=f\"Task_{i} Name:\"), Label(value=list(read_json['taskConfigurations'][i].values())[1])])\n",
    "                display(task_name)\n",
    "                break\n",
    "                \n",
    "                config_param_widgets[i]['Value'] = widgets.Text(value=list(read_json['taskConfigurations'][i].values())[3], description=\"\\u2022\" + \" \" +list(read_json['taskConfigurations'][i].values())[2] + \":\", style={'description_width': 'initial'},)\n",
    "\n",
    "                Indicator = HBox([Label(value=\"Gold:\" + str(read_json[\"taskConfigurations\"][i]['analyticalRunAppliedIndicator']) + ';'),Label(value=\"Platinum:\"+ str(read_json[\"taskConfigurations\"][i]['productionRunAppliedIndicator']))])\n",
    "                display(config_param_widgets[i]['Value'])\n",
    "                display(Indicator)\n",
    "                break\n",
    "                #            config_param_widgets[i]['Value'] = widgets.Text(value=list(read_json['taskConfigurations'][i].values())[3], description=\"\\u2022\" + \" \" +list(read_json['taskConfigurations'][i].values())[2] + \":\", style={'description_width': 'initial'},)\n",
    "#            Indicator = HBox([Label(value=\"Gold:\" + str(read_json[\"taskConfigurations\"][i]['analyticalRunAppliedIndicator']) + ';'),Label(value=\"Platinum:\"+ str(read_json[\"taskConfigurations\"][i]['productionRunAppliedIndicator']))])\n",
    "#                 print('task##',task)\n",
    "#                 display(Markdown('''---'''))\n",
    "#                 display(task_name)\n",
    "\n",
    "        \n",
    "        for i in range(len(read_json['taskConfigurations'])):        \n",
    "                \n",
    "            if counts[list(read_json['taskConfigurations'][i].values())[1]] == 1:\n",
    "               task_name = HBox([Label(value=f\"Task_{i} Name:\"), Label(value=list(read_json['taskConfigurations'][i].values())[1])])\n",
    "               config_param_widgets[i]['Value'] = widgets.Text(value=list(read_json['taskConfigurations'][i].values())[3], description=\"\\u2022\" + \" \" +list(read_json['taskConfigurations'][i].values())[2] + \":\", style={'description_width': 'initial'},)\n",
    "               Indicator = HBox([Label(value=\"Gold:\" + str(read_json[\"taskConfigurations\"][i]['analyticalRunAppliedIndicator']) + ';'),Label(value=\"Platinum:\"+ str(read_json[\"taskConfigurations\"][i]['productionRunAppliedIndicator']))])\n",
    "\n",
    "               display(Markdown('''---'''))\n",
    "               display(task_name)\n",
    "               display(config_param_widgets[i]['Value'])\n",
    "               display(Indicator)\n",
    "               display(Markdown('''---'''))\n",
    "\n",
    "#             del read_json[\"taskConfigurations\"][i]['configKey']\n",
    "\n",
    "        return read_json\n",
    "display_task_key_value()"
   ]
  },
  {
   "cell_type": "code",
   "execution_count": null,
   "id": "692e5b31",
   "metadata": {},
   "outputs": [],
   "source": [
    "# counts[list(read_json['taskConfigurations'][0].values())[1]]"
   ]
  },
  {
   "cell_type": "code",
   "execution_count": null,
   "id": "371fe977",
   "metadata": {},
   "outputs": [],
   "source": [
    "# read_json['taskConfigurations'][0]"
   ]
  },
  {
   "cell_type": "code",
   "execution_count": null,
   "id": "715b9f74",
   "metadata": {},
   "outputs": [],
   "source": [
    "### OLD ONE\n",
    "\n",
    "# config_param_widgets = []\n",
    "# for i in range(len(read_json['taskConfigurations'])):\n",
    "#     config_param_widgets.append({})\n",
    "\n",
    "# def display_task_key_value():\n",
    " \n",
    "#         for i in range(len(read_json['taskConfigurations'])):\n",
    "            \n",
    "#             task_name = HBox([Label(value=f\"Task_{i} Name:\"), Label(value=list(read_json['taskConfigurations'][i].values())[1])])\n",
    "#             # config_param_widgets[i]['Task_name'] = task_name.children[1].value\n",
    "\n",
    "#             task.append(task_name.children[1].value)\n",
    "#             config_param_widgets[i]['Value'] = widgets.Text(value=list(read_json['taskConfigurations'][i].values())[3], description=\"\\u2022\" + \" \" +list(read_json['taskConfigurations'][i].values())[2] + \":\", style={'description_width': 'initial'},)\n",
    "#             Indicator = HBox([Label(value=\"Gold:\" + str(read_json[\"taskConfigurations\"][i]['analyticalRunAppliedIndicator']) + ';'),Label(value=\"Platinum:\"+ str(read_json[\"taskConfigurations\"][i]['productionRunAppliedIndicator']))  ])\n",
    "#             print('task##',task)\n",
    "#             display(Markdown('''---'''))\n",
    "#             display(task_name)\n",
    "#             display(config_param_widgets[i]['Value'])\n",
    "#             display(Indicator)\n",
    "\n",
    "#             del read_json[\"taskConfigurations\"][i]['configKey']\n",
    "\n",
    "#         return read_json\n",
    "# display_task_key_value()"
   ]
  },
  {
   "cell_type": "code",
   "execution_count": null,
   "id": "b0c1750f",
   "metadata": {},
   "outputs": [],
   "source": []
  },
  {
   "cell_type": "code",
   "execution_count": null,
   "id": "c28196bb",
   "metadata": {},
   "outputs": [],
   "source": []
  }
 ],
 "metadata": {
  "kernelspec": {
   "display_name": "Python 3 (ipykernel)",
   "language": "python",
   "name": "python3"
  },
  "language_info": {
   "codemirror_mode": {
    "name": "ipython",
    "version": 3
   },
   "file_extension": ".py",
   "mimetype": "text/x-python",
   "name": "python",
   "nbconvert_exporter": "python",
   "pygments_lexer": "ipython3",
   "version": "3.9.12"
  }
 },
 "nbformat": 4,
 "nbformat_minor": 5
}
