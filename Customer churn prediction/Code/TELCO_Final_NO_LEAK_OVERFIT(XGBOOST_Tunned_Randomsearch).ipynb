{
 "cells": [
  {
   "cell_type": "markdown",
   "id": "892f309b",
   "metadata": {},
   "source": [
    "### Importing required Library"
   ]
  },
  {
   "cell_type": "code",
   "execution_count": 1,
   "id": "13c1464a",
   "metadata": {},
   "outputs": [],
   "source": [
    "import pandas as pd\n",
    "import numpy as np"
   ]
  },
  {
   "cell_type": "code",
   "execution_count": 2,
   "id": "e922b5a7",
   "metadata": {},
   "outputs": [],
   "source": [
    "import matplotlib.pyplot as plt\n",
    "import seaborn as sns"
   ]
  },
  {
   "cell_type": "markdown",
   "id": "468b94f3",
   "metadata": {},
   "source": [
    "### Loading All 4 table"
   ]
  },
  {
   "cell_type": "code",
   "execution_count": 3,
   "id": "6aab2322",
   "metadata": {},
   "outputs": [],
   "source": [
    "df_demography = pd.read_csv('Telco_customer_churn_demographics.csv')"
   ]
  },
  {
   "cell_type": "code",
   "execution_count": 4,
   "id": "8547b389",
   "metadata": {},
   "outputs": [],
   "source": [
    "df_location = pd.read_csv('Telco_customer_churn_location.csv')"
   ]
  },
  {
   "cell_type": "code",
   "execution_count": 5,
   "id": "3218efb3",
   "metadata": {},
   "outputs": [],
   "source": [
    "df_service = pd.read_csv('Telco_customer_churn_services updated.csv')"
   ]
  },
  {
   "cell_type": "code",
   "execution_count": 6,
   "id": "ecb9c95a",
   "metadata": {},
   "outputs": [],
   "source": [
    "df_status = pd.read_csv('Telco_customer_churn_status.csv')"
   ]
  },
  {
   "cell_type": "code",
   "execution_count": 7,
   "id": "2dda7ca3",
   "metadata": {},
   "outputs": [
    {
     "data": {
      "text/html": [
       "<div>\n",
       "<style scoped>\n",
       "    .dataframe tbody tr th:only-of-type {\n",
       "        vertical-align: middle;\n",
       "    }\n",
       "\n",
       "    .dataframe tbody tr th {\n",
       "        vertical-align: top;\n",
       "    }\n",
       "\n",
       "    .dataframe thead th {\n",
       "        text-align: right;\n",
       "    }\n",
       "</style>\n",
       "<table border=\"1\" class=\"dataframe\">\n",
       "  <thead>\n",
       "    <tr style=\"text-align: right;\">\n",
       "      <th></th>\n",
       "      <th>Customer ID</th>\n",
       "      <th>Count</th>\n",
       "      <th>Gender</th>\n",
       "      <th>Age</th>\n",
       "      <th>Under 30</th>\n",
       "      <th>Senior Citizen</th>\n",
       "      <th>Married</th>\n",
       "      <th>Dependents</th>\n",
       "      <th>Number of Dependents</th>\n",
       "    </tr>\n",
       "  </thead>\n",
       "  <tbody>\n",
       "    <tr>\n",
       "      <th>0</th>\n",
       "      <td>8779-QRDMV</td>\n",
       "      <td>1</td>\n",
       "      <td>Male</td>\n",
       "      <td>78</td>\n",
       "      <td>No</td>\n",
       "      <td>Yes</td>\n",
       "      <td>No</td>\n",
       "      <td>No</td>\n",
       "      <td>0</td>\n",
       "    </tr>\n",
       "    <tr>\n",
       "      <th>1</th>\n",
       "      <td>7495-OOKFY</td>\n",
       "      <td>1</td>\n",
       "      <td>Female</td>\n",
       "      <td>74</td>\n",
       "      <td>No</td>\n",
       "      <td>Yes</td>\n",
       "      <td>Yes</td>\n",
       "      <td>Yes</td>\n",
       "      <td>1</td>\n",
       "    </tr>\n",
       "    <tr>\n",
       "      <th>2</th>\n",
       "      <td>1658-BYGOY</td>\n",
       "      <td>1</td>\n",
       "      <td>Male</td>\n",
       "      <td>98</td>\n",
       "      <td>No</td>\n",
       "      <td>Yes</td>\n",
       "      <td>No</td>\n",
       "      <td>Yes</td>\n",
       "      <td>3</td>\n",
       "    </tr>\n",
       "    <tr>\n",
       "      <th>3</th>\n",
       "      <td>4598-XLKNJ</td>\n",
       "      <td>1</td>\n",
       "      <td>Female</td>\n",
       "      <td>78</td>\n",
       "      <td>No</td>\n",
       "      <td>Yes</td>\n",
       "      <td>Yes</td>\n",
       "      <td>Yes</td>\n",
       "      <td>1</td>\n",
       "    </tr>\n",
       "    <tr>\n",
       "      <th>4</th>\n",
       "      <td>4846-WHAFZ</td>\n",
       "      <td>1</td>\n",
       "      <td>Female</td>\n",
       "      <td>80</td>\n",
       "      <td>No</td>\n",
       "      <td>Yes</td>\n",
       "      <td>Yes</td>\n",
       "      <td>Yes</td>\n",
       "      <td>1</td>\n",
       "    </tr>\n",
       "  </tbody>\n",
       "</table>\n",
       "</div>"
      ],
      "text/plain": [
       "  Customer ID  Count  Gender  Age Under 30 Senior Citizen Married Dependents  \\\n",
       "0  8779-QRDMV      1    Male   78       No            Yes      No         No   \n",
       "1  7495-OOKFY      1  Female   74       No            Yes     Yes        Yes   \n",
       "2  1658-BYGOY      1    Male   98       No            Yes      No        Yes   \n",
       "3  4598-XLKNJ      1  Female   78       No            Yes     Yes        Yes   \n",
       "4  4846-WHAFZ      1  Female   80       No            Yes     Yes        Yes   \n",
       "\n",
       "   Number of Dependents  \n",
       "0                     0  \n",
       "1                     1  \n",
       "2                     3  \n",
       "3                     1  \n",
       "4                     1  "
      ]
     },
     "execution_count": 7,
     "metadata": {},
     "output_type": "execute_result"
    }
   ],
   "source": [
    "df_demography.head()"
   ]
  },
  {
   "cell_type": "code",
   "execution_count": null,
   "id": "c32b9543",
   "metadata": {},
   "outputs": [],
   "source": []
  },
  {
   "cell_type": "code",
   "execution_count": 8,
   "id": "64c0bd19",
   "metadata": {},
   "outputs": [
    {
     "name": "stdout",
     "output_type": "stream",
     "text": [
      "<class 'pandas.core.frame.DataFrame'>\n",
      "RangeIndex: 7043 entries, 0 to 7042\n",
      "Data columns (total 9 columns):\n",
      " #   Column                Non-Null Count  Dtype \n",
      "---  ------                --------------  ----- \n",
      " 0   Customer ID           7043 non-null   object\n",
      " 1   Count                 7043 non-null   int64 \n",
      " 2   Gender                7043 non-null   object\n",
      " 3   Age                   7043 non-null   int64 \n",
      " 4   Under 30              7043 non-null   object\n",
      " 5   Senior Citizen        7043 non-null   object\n",
      " 6   Married               7043 non-null   object\n",
      " 7   Dependents            7043 non-null   object\n",
      " 8   Number of Dependents  7043 non-null   int64 \n",
      "dtypes: int64(3), object(6)\n",
      "memory usage: 495.3+ KB\n"
     ]
    }
   ],
   "source": [
    "df_demography.info()"
   ]
  },
  {
   "cell_type": "code",
   "execution_count": 9,
   "id": "d12f0c8c",
   "metadata": {},
   "outputs": [
    {
     "data": {
      "text/html": [
       "<div>\n",
       "<style scoped>\n",
       "    .dataframe tbody tr th:only-of-type {\n",
       "        vertical-align: middle;\n",
       "    }\n",
       "\n",
       "    .dataframe tbody tr th {\n",
       "        vertical-align: top;\n",
       "    }\n",
       "\n",
       "    .dataframe thead th {\n",
       "        text-align: right;\n",
       "    }\n",
       "</style>\n",
       "<table border=\"1\" class=\"dataframe\">\n",
       "  <thead>\n",
       "    <tr style=\"text-align: right;\">\n",
       "      <th></th>\n",
       "      <th>Customer ID</th>\n",
       "      <th>Count</th>\n",
       "      <th>Country</th>\n",
       "      <th>State</th>\n",
       "      <th>City</th>\n",
       "      <th>Zip Code</th>\n",
       "      <th>Lat Long</th>\n",
       "      <th>Latitude</th>\n",
       "      <th>Longitude</th>\n",
       "    </tr>\n",
       "  </thead>\n",
       "  <tbody>\n",
       "    <tr>\n",
       "      <th>0</th>\n",
       "      <td>8779-QRDMV</td>\n",
       "      <td>1</td>\n",
       "      <td>United States</td>\n",
       "      <td>California</td>\n",
       "      <td>Los Angeles</td>\n",
       "      <td>90022</td>\n",
       "      <td>34.02381, -118.156582</td>\n",
       "      <td>34.023810</td>\n",
       "      <td>-118.156582</td>\n",
       "    </tr>\n",
       "    <tr>\n",
       "      <th>1</th>\n",
       "      <td>7495-OOKFY</td>\n",
       "      <td>1</td>\n",
       "      <td>United States</td>\n",
       "      <td>California</td>\n",
       "      <td>Los Angeles</td>\n",
       "      <td>90063</td>\n",
       "      <td>34.044271, -118.185237</td>\n",
       "      <td>34.044271</td>\n",
       "      <td>-118.185237</td>\n",
       "    </tr>\n",
       "    <tr>\n",
       "      <th>2</th>\n",
       "      <td>1658-BYGOY</td>\n",
       "      <td>1</td>\n",
       "      <td>United States</td>\n",
       "      <td>California</td>\n",
       "      <td>Los Angeles</td>\n",
       "      <td>90065</td>\n",
       "      <td>34.108833, -118.229715</td>\n",
       "      <td>34.108833</td>\n",
       "      <td>-118.229715</td>\n",
       "    </tr>\n",
       "    <tr>\n",
       "      <th>3</th>\n",
       "      <td>4598-XLKNJ</td>\n",
       "      <td>1</td>\n",
       "      <td>United States</td>\n",
       "      <td>California</td>\n",
       "      <td>Inglewood</td>\n",
       "      <td>90303</td>\n",
       "      <td>33.936291, -118.332639</td>\n",
       "      <td>33.936291</td>\n",
       "      <td>-118.332639</td>\n",
       "    </tr>\n",
       "    <tr>\n",
       "      <th>4</th>\n",
       "      <td>4846-WHAFZ</td>\n",
       "      <td>1</td>\n",
       "      <td>United States</td>\n",
       "      <td>California</td>\n",
       "      <td>Whittier</td>\n",
       "      <td>90602</td>\n",
       "      <td>33.972119, -118.020188</td>\n",
       "      <td>33.972119</td>\n",
       "      <td>-118.020188</td>\n",
       "    </tr>\n",
       "  </tbody>\n",
       "</table>\n",
       "</div>"
      ],
      "text/plain": [
       "  Customer ID  Count        Country       State         City  Zip Code  \\\n",
       "0  8779-QRDMV      1  United States  California  Los Angeles     90022   \n",
       "1  7495-OOKFY      1  United States  California  Los Angeles     90063   \n",
       "2  1658-BYGOY      1  United States  California  Los Angeles     90065   \n",
       "3  4598-XLKNJ      1  United States  California    Inglewood     90303   \n",
       "4  4846-WHAFZ      1  United States  California     Whittier     90602   \n",
       "\n",
       "                 Lat Long   Latitude   Longitude  \n",
       "0   34.02381, -118.156582  34.023810 -118.156582  \n",
       "1  34.044271, -118.185237  34.044271 -118.185237  \n",
       "2  34.108833, -118.229715  34.108833 -118.229715  \n",
       "3  33.936291, -118.332639  33.936291 -118.332639  \n",
       "4  33.972119, -118.020188  33.972119 -118.020188  "
      ]
     },
     "execution_count": 9,
     "metadata": {},
     "output_type": "execute_result"
    }
   ],
   "source": [
    "df_location.head()"
   ]
  },
  {
   "cell_type": "code",
   "execution_count": 10,
   "id": "e8767302",
   "metadata": {},
   "outputs": [
    {
     "data": {
      "text/html": [
       "<div>\n",
       "<style scoped>\n",
       "    .dataframe tbody tr th:only-of-type {\n",
       "        vertical-align: middle;\n",
       "    }\n",
       "\n",
       "    .dataframe tbody tr th {\n",
       "        vertical-align: top;\n",
       "    }\n",
       "\n",
       "    .dataframe thead th {\n",
       "        text-align: right;\n",
       "    }\n",
       "</style>\n",
       "<table border=\"1\" class=\"dataframe\">\n",
       "  <thead>\n",
       "    <tr style=\"text-align: right;\">\n",
       "      <th></th>\n",
       "      <th>Customer ID</th>\n",
       "      <th>Count</th>\n",
       "      <th>State</th>\n",
       "      <th>City</th>\n",
       "      <th>Zip Code</th>\n",
       "      <th>Latitude</th>\n",
       "      <th>Longitude</th>\n",
       "    </tr>\n",
       "  </thead>\n",
       "  <tbody>\n",
       "    <tr>\n",
       "      <th>0</th>\n",
       "      <td>8779-QRDMV</td>\n",
       "      <td>1</td>\n",
       "      <td>California</td>\n",
       "      <td>Los Angeles</td>\n",
       "      <td>90022</td>\n",
       "      <td>34.023810</td>\n",
       "      <td>-118.156582</td>\n",
       "    </tr>\n",
       "    <tr>\n",
       "      <th>1</th>\n",
       "      <td>7495-OOKFY</td>\n",
       "      <td>1</td>\n",
       "      <td>California</td>\n",
       "      <td>Los Angeles</td>\n",
       "      <td>90063</td>\n",
       "      <td>34.044271</td>\n",
       "      <td>-118.185237</td>\n",
       "    </tr>\n",
       "    <tr>\n",
       "      <th>2</th>\n",
       "      <td>1658-BYGOY</td>\n",
       "      <td>1</td>\n",
       "      <td>California</td>\n",
       "      <td>Los Angeles</td>\n",
       "      <td>90065</td>\n",
       "      <td>34.108833</td>\n",
       "      <td>-118.229715</td>\n",
       "    </tr>\n",
       "    <tr>\n",
       "      <th>3</th>\n",
       "      <td>4598-XLKNJ</td>\n",
       "      <td>1</td>\n",
       "      <td>California</td>\n",
       "      <td>Inglewood</td>\n",
       "      <td>90303</td>\n",
       "      <td>33.936291</td>\n",
       "      <td>-118.332639</td>\n",
       "    </tr>\n",
       "    <tr>\n",
       "      <th>4</th>\n",
       "      <td>4846-WHAFZ</td>\n",
       "      <td>1</td>\n",
       "      <td>California</td>\n",
       "      <td>Whittier</td>\n",
       "      <td>90602</td>\n",
       "      <td>33.972119</td>\n",
       "      <td>-118.020188</td>\n",
       "    </tr>\n",
       "  </tbody>\n",
       "</table>\n",
       "</div>"
      ],
      "text/plain": [
       "  Customer ID  Count       State         City  Zip Code   Latitude   Longitude\n",
       "0  8779-QRDMV      1  California  Los Angeles     90022  34.023810 -118.156582\n",
       "1  7495-OOKFY      1  California  Los Angeles     90063  34.044271 -118.185237\n",
       "2  1658-BYGOY      1  California  Los Angeles     90065  34.108833 -118.229715\n",
       "3  4598-XLKNJ      1  California    Inglewood     90303  33.936291 -118.332639\n",
       "4  4846-WHAFZ      1  California     Whittier     90602  33.972119 -118.020188"
      ]
     },
     "execution_count": 10,
     "metadata": {},
     "output_type": "execute_result"
    }
   ],
   "source": [
    "# lat long column is represent by two other columns\n",
    "df_location = df_location.drop(['Lat Long','Country'], axis=1)\n",
    "# removing country feature.\n",
    "df_location.head()"
   ]
  },
  {
   "cell_type": "code",
   "execution_count": 11,
   "id": "8ff915be",
   "metadata": {},
   "outputs": [
    {
     "name": "stdout",
     "output_type": "stream",
     "text": [
      "<class 'pandas.core.frame.DataFrame'>\n",
      "RangeIndex: 7043 entries, 0 to 7042\n",
      "Data columns (total 7 columns):\n",
      " #   Column       Non-Null Count  Dtype  \n",
      "---  ------       --------------  -----  \n",
      " 0   Customer ID  7043 non-null   object \n",
      " 1   Count        7043 non-null   int64  \n",
      " 2   State        7043 non-null   object \n",
      " 3   City         7043 non-null   object \n",
      " 4   Zip Code     7043 non-null   int64  \n",
      " 5   Latitude     7043 non-null   float64\n",
      " 6   Longitude    7043 non-null   float64\n",
      "dtypes: float64(2), int64(2), object(3)\n",
      "memory usage: 385.3+ KB\n"
     ]
    }
   ],
   "source": [
    "df_location.info()"
   ]
  },
  {
   "cell_type": "code",
   "execution_count": 12,
   "id": "1e944178",
   "metadata": {},
   "outputs": [
    {
     "data": {
      "text/html": [
       "<div>\n",
       "<style scoped>\n",
       "    .dataframe tbody tr th:only-of-type {\n",
       "        vertical-align: middle;\n",
       "    }\n",
       "\n",
       "    .dataframe tbody tr th {\n",
       "        vertical-align: top;\n",
       "    }\n",
       "\n",
       "    .dataframe thead th {\n",
       "        text-align: right;\n",
       "    }\n",
       "</style>\n",
       "<table border=\"1\" class=\"dataframe\">\n",
       "  <thead>\n",
       "    <tr style=\"text-align: right;\">\n",
       "      <th></th>\n",
       "      <th>Customer ID</th>\n",
       "      <th>Count</th>\n",
       "      <th>Quarter</th>\n",
       "      <th>Referred a Friend</th>\n",
       "      <th>Number of Referrals</th>\n",
       "      <th>Tenure in Months</th>\n",
       "      <th>Voice Service</th>\n",
       "      <th>Avg Monthly Long Distance Charges</th>\n",
       "      <th>Multiple Lines</th>\n",
       "      <th>Internet Service</th>\n",
       "      <th>...</th>\n",
       "      <th>Paperless Billing</th>\n",
       "      <th>Payment Method</th>\n",
       "      <th>Average Monthly Charge</th>\n",
       "      <th>Total Charges</th>\n",
       "      <th>Total Refunds</th>\n",
       "      <th>Total Extra Data Charges</th>\n",
       "      <th>Total Long Distance Charges</th>\n",
       "      <th>Total Revenue</th>\n",
       "      <th>CLTV</th>\n",
       "      <th>Total Services</th>\n",
       "    </tr>\n",
       "  </thead>\n",
       "  <tbody>\n",
       "    <tr>\n",
       "      <th>0</th>\n",
       "      <td>8779-QRDMV</td>\n",
       "      <td>1</td>\n",
       "      <td>Q3</td>\n",
       "      <td>No</td>\n",
       "      <td>0</td>\n",
       "      <td>1.0</td>\n",
       "      <td>No</td>\n",
       "      <td>0.00</td>\n",
       "      <td>No</td>\n",
       "      <td>Yes</td>\n",
       "      <td>...</td>\n",
       "      <td>Yes</td>\n",
       "      <td>Bank Withdrawal</td>\n",
       "      <td>39.65</td>\n",
       "      <td>39.65</td>\n",
       "      <td>0.00</td>\n",
       "      <td>20</td>\n",
       "      <td>0.00</td>\n",
       "      <td>59.65</td>\n",
       "      <td>5433</td>\n",
       "      <td>3</td>\n",
       "    </tr>\n",
       "    <tr>\n",
       "      <th>1</th>\n",
       "      <td>7495-OOKFY</td>\n",
       "      <td>1</td>\n",
       "      <td>Q3</td>\n",
       "      <td>Yes</td>\n",
       "      <td>1</td>\n",
       "      <td>8.0</td>\n",
       "      <td>Yes</td>\n",
       "      <td>48.85</td>\n",
       "      <td>Yes</td>\n",
       "      <td>Yes</td>\n",
       "      <td>...</td>\n",
       "      <td>Yes</td>\n",
       "      <td>Credit Card</td>\n",
       "      <td>80.65</td>\n",
       "      <td>633.30</td>\n",
       "      <td>0.00</td>\n",
       "      <td>0</td>\n",
       "      <td>390.80</td>\n",
       "      <td>1024.10</td>\n",
       "      <td>5302</td>\n",
       "      <td>3</td>\n",
       "    </tr>\n",
       "    <tr>\n",
       "      <th>2</th>\n",
       "      <td>1658-BYGOY</td>\n",
       "      <td>1</td>\n",
       "      <td>Q3</td>\n",
       "      <td>No</td>\n",
       "      <td>0</td>\n",
       "      <td>18.0</td>\n",
       "      <td>Yes</td>\n",
       "      <td>11.33</td>\n",
       "      <td>Yes</td>\n",
       "      <td>Yes</td>\n",
       "      <td>...</td>\n",
       "      <td>Yes</td>\n",
       "      <td>Bank Withdrawal</td>\n",
       "      <td>95.45</td>\n",
       "      <td>1752.55</td>\n",
       "      <td>45.61</td>\n",
       "      <td>0</td>\n",
       "      <td>203.94</td>\n",
       "      <td>1910.88</td>\n",
       "      <td>3179</td>\n",
       "      <td>5</td>\n",
       "    </tr>\n",
       "    <tr>\n",
       "      <th>3</th>\n",
       "      <td>4598-XLKNJ</td>\n",
       "      <td>1</td>\n",
       "      <td>Q3</td>\n",
       "      <td>Yes</td>\n",
       "      <td>1</td>\n",
       "      <td>25.0</td>\n",
       "      <td>Yes</td>\n",
       "      <td>19.76</td>\n",
       "      <td>No</td>\n",
       "      <td>Yes</td>\n",
       "      <td>...</td>\n",
       "      <td>Yes</td>\n",
       "      <td>Bank Withdrawal</td>\n",
       "      <td>98.50</td>\n",
       "      <td>2514.50</td>\n",
       "      <td>13.43</td>\n",
       "      <td>0</td>\n",
       "      <td>494.00</td>\n",
       "      <td>2995.07</td>\n",
       "      <td>5337</td>\n",
       "      <td>6</td>\n",
       "    </tr>\n",
       "    <tr>\n",
       "      <th>4</th>\n",
       "      <td>4846-WHAFZ</td>\n",
       "      <td>1</td>\n",
       "      <td>Q3</td>\n",
       "      <td>Yes</td>\n",
       "      <td>1</td>\n",
       "      <td>37.0</td>\n",
       "      <td>Yes</td>\n",
       "      <td>6.33</td>\n",
       "      <td>Yes</td>\n",
       "      <td>Yes</td>\n",
       "      <td>...</td>\n",
       "      <td>Yes</td>\n",
       "      <td>Bank Withdrawal</td>\n",
       "      <td>76.50</td>\n",
       "      <td>2868.15</td>\n",
       "      <td>0.00</td>\n",
       "      <td>0</td>\n",
       "      <td>234.21</td>\n",
       "      <td>3102.36</td>\n",
       "      <td>2793</td>\n",
       "      <td>2</td>\n",
       "    </tr>\n",
       "  </tbody>\n",
       "</table>\n",
       "<p>5 rows × 31 columns</p>\n",
       "</div>"
      ],
      "text/plain": [
       "  Customer ID  Count Quarter Referred a Friend  Number of Referrals  \\\n",
       "0  8779-QRDMV      1      Q3                No                    0   \n",
       "1  7495-OOKFY      1      Q3               Yes                    1   \n",
       "2  1658-BYGOY      1      Q3                No                    0   \n",
       "3  4598-XLKNJ      1      Q3               Yes                    1   \n",
       "4  4846-WHAFZ      1      Q3               Yes                    1   \n",
       "\n",
       "   Tenure in Months Voice Service  Avg Monthly Long Distance Charges  \\\n",
       "0               1.0            No                               0.00   \n",
       "1               8.0           Yes                              48.85   \n",
       "2              18.0           Yes                              11.33   \n",
       "3              25.0           Yes                              19.76   \n",
       "4              37.0           Yes                               6.33   \n",
       "\n",
       "  Multiple Lines Internet Service  ... Paperless Billing   Payment Method  \\\n",
       "0             No              Yes  ...               Yes  Bank Withdrawal   \n",
       "1            Yes              Yes  ...               Yes      Credit Card   \n",
       "2            Yes              Yes  ...               Yes  Bank Withdrawal   \n",
       "3             No              Yes  ...               Yes  Bank Withdrawal   \n",
       "4            Yes              Yes  ...               Yes  Bank Withdrawal   \n",
       "\n",
       "  Average Monthly Charge Total Charges Total Refunds Total Extra Data Charges  \\\n",
       "0                  39.65         39.65          0.00                       20   \n",
       "1                  80.65        633.30          0.00                        0   \n",
       "2                  95.45       1752.55         45.61                        0   \n",
       "3                  98.50       2514.50         13.43                        0   \n",
       "4                  76.50       2868.15          0.00                        0   \n",
       "\n",
       "  Total Long Distance Charges Total Revenue  CLTV Total Services  \n",
       "0                        0.00         59.65  5433              3  \n",
       "1                      390.80       1024.10  5302              3  \n",
       "2                      203.94       1910.88  3179              5  \n",
       "3                      494.00       2995.07  5337              6  \n",
       "4                      234.21       3102.36  2793              2  \n",
       "\n",
       "[5 rows x 31 columns]"
      ]
     },
     "execution_count": 12,
     "metadata": {},
     "output_type": "execute_result"
    }
   ],
   "source": [
    "df_service.head()"
   ]
  },
  {
   "cell_type": "code",
   "execution_count": 13,
   "id": "eea8603d",
   "metadata": {},
   "outputs": [
    {
     "data": {
      "text/plain": [
       "1"
      ]
     },
     "execution_count": 13,
     "metadata": {},
     "output_type": "execute_result"
    }
   ],
   "source": [
    "df_service.Quarter.nunique()"
   ]
  },
  {
   "cell_type": "code",
   "execution_count": 14,
   "id": "a23579f3",
   "metadata": {},
   "outputs": [],
   "source": [
    "#df_service.info()"
   ]
  },
  {
   "cell_type": "code",
   "execution_count": 15,
   "id": "95920124",
   "metadata": {},
   "outputs": [
    {
     "data": {
      "text/html": [
       "<div>\n",
       "<style scoped>\n",
       "    .dataframe tbody tr th:only-of-type {\n",
       "        vertical-align: middle;\n",
       "    }\n",
       "\n",
       "    .dataframe tbody tr th {\n",
       "        vertical-align: top;\n",
       "    }\n",
       "\n",
       "    .dataframe thead th {\n",
       "        text-align: right;\n",
       "    }\n",
       "</style>\n",
       "<table border=\"1\" class=\"dataframe\">\n",
       "  <thead>\n",
       "    <tr style=\"text-align: right;\">\n",
       "      <th></th>\n",
       "      <th>Customer ID</th>\n",
       "      <th>Satisfaction Score</th>\n",
       "      <th>Customer Status</th>\n",
       "      <th>Churn Label</th>\n",
       "      <th>Churn Value</th>\n",
       "      <th>Churn Score</th>\n",
       "      <th>Churn Category</th>\n",
       "      <th>Churn Reason</th>\n",
       "    </tr>\n",
       "  </thead>\n",
       "  <tbody>\n",
       "    <tr>\n",
       "      <th>0</th>\n",
       "      <td>8779-QRDMV</td>\n",
       "      <td>3</td>\n",
       "      <td>Churned</td>\n",
       "      <td>Yes</td>\n",
       "      <td>1</td>\n",
       "      <td>91</td>\n",
       "      <td>Competitor</td>\n",
       "      <td>Competitor offered more data</td>\n",
       "    </tr>\n",
       "    <tr>\n",
       "      <th>1</th>\n",
       "      <td>7495-OOKFY</td>\n",
       "      <td>3</td>\n",
       "      <td>Churned</td>\n",
       "      <td>Yes</td>\n",
       "      <td>1</td>\n",
       "      <td>69</td>\n",
       "      <td>Competitor</td>\n",
       "      <td>Competitor made better offer</td>\n",
       "    </tr>\n",
       "    <tr>\n",
       "      <th>2</th>\n",
       "      <td>1658-BYGOY</td>\n",
       "      <td>2</td>\n",
       "      <td>Churned</td>\n",
       "      <td>Yes</td>\n",
       "      <td>1</td>\n",
       "      <td>81</td>\n",
       "      <td>Competitor</td>\n",
       "      <td>Competitor made better offer</td>\n",
       "    </tr>\n",
       "    <tr>\n",
       "      <th>3</th>\n",
       "      <td>4598-XLKNJ</td>\n",
       "      <td>2</td>\n",
       "      <td>Churned</td>\n",
       "      <td>Yes</td>\n",
       "      <td>1</td>\n",
       "      <td>88</td>\n",
       "      <td>Dissatisfaction</td>\n",
       "      <td>Limited range of services</td>\n",
       "    </tr>\n",
       "    <tr>\n",
       "      <th>4</th>\n",
       "      <td>4846-WHAFZ</td>\n",
       "      <td>2</td>\n",
       "      <td>Churned</td>\n",
       "      <td>Yes</td>\n",
       "      <td>1</td>\n",
       "      <td>67</td>\n",
       "      <td>Price</td>\n",
       "      <td>Extra data charges</td>\n",
       "    </tr>\n",
       "  </tbody>\n",
       "</table>\n",
       "</div>"
      ],
      "text/plain": [
       "  Customer ID  Satisfaction Score Customer Status Churn Label  Churn Value  \\\n",
       "0  8779-QRDMV                   3         Churned         Yes            1   \n",
       "1  7495-OOKFY                   3         Churned         Yes            1   \n",
       "2  1658-BYGOY                   2         Churned         Yes            1   \n",
       "3  4598-XLKNJ                   2         Churned         Yes            1   \n",
       "4  4846-WHAFZ                   2         Churned         Yes            1   \n",
       "\n",
       "   Churn Score   Churn Category                  Churn Reason  \n",
       "0           91       Competitor  Competitor offered more data  \n",
       "1           69       Competitor  Competitor made better offer  \n",
       "2           81       Competitor  Competitor made better offer  \n",
       "3           88  Dissatisfaction     Limited range of services  \n",
       "4           67            Price            Extra data charges  "
      ]
     },
     "execution_count": 15,
     "metadata": {},
     "output_type": "execute_result"
    }
   ],
   "source": [
    "df_status.head()"
   ]
  },
  {
   "cell_type": "code",
   "execution_count": 16,
   "id": "7060afc9",
   "metadata": {},
   "outputs": [],
   "source": [
    "# REfer to status notebook\n",
    "\n",
    "df_status = df_status.drop(['Satisfaction Score','Customer Status','Churn Category','Churn Reason','Churn Score', 'Churn Label' ], axis = 1)"
   ]
  },
  {
   "cell_type": "code",
   "execution_count": 17,
   "id": "07ff5e6b",
   "metadata": {},
   "outputs": [],
   "source": [
    "result = pd.concat([df_demography, df_location, df_status,df_service ], axis=1)"
   ]
  },
  {
   "cell_type": "code",
   "execution_count": 18,
   "id": "fc35ac86",
   "metadata": {},
   "outputs": [
    {
     "data": {
      "text/html": [
       "<div>\n",
       "<style scoped>\n",
       "    .dataframe tbody tr th:only-of-type {\n",
       "        vertical-align: middle;\n",
       "    }\n",
       "\n",
       "    .dataframe tbody tr th {\n",
       "        vertical-align: top;\n",
       "    }\n",
       "\n",
       "    .dataframe thead th {\n",
       "        text-align: right;\n",
       "    }\n",
       "</style>\n",
       "<table border=\"1\" class=\"dataframe\">\n",
       "  <thead>\n",
       "    <tr style=\"text-align: right;\">\n",
       "      <th></th>\n",
       "      <th>Customer ID</th>\n",
       "      <th>Count</th>\n",
       "      <th>Gender</th>\n",
       "      <th>Age</th>\n",
       "      <th>Under 30</th>\n",
       "      <th>Senior Citizen</th>\n",
       "      <th>Married</th>\n",
       "      <th>Dependents</th>\n",
       "      <th>Number of Dependents</th>\n",
       "      <th>Customer ID</th>\n",
       "      <th>...</th>\n",
       "      <th>Paperless Billing</th>\n",
       "      <th>Payment Method</th>\n",
       "      <th>Average Monthly Charge</th>\n",
       "      <th>Total Charges</th>\n",
       "      <th>Total Refunds</th>\n",
       "      <th>Total Extra Data Charges</th>\n",
       "      <th>Total Long Distance Charges</th>\n",
       "      <th>Total Revenue</th>\n",
       "      <th>CLTV</th>\n",
       "      <th>Total Services</th>\n",
       "    </tr>\n",
       "  </thead>\n",
       "  <tbody>\n",
       "    <tr>\n",
       "      <th>0</th>\n",
       "      <td>8779-QRDMV</td>\n",
       "      <td>1</td>\n",
       "      <td>Male</td>\n",
       "      <td>78</td>\n",
       "      <td>No</td>\n",
       "      <td>Yes</td>\n",
       "      <td>No</td>\n",
       "      <td>No</td>\n",
       "      <td>0</td>\n",
       "      <td>8779-QRDMV</td>\n",
       "      <td>...</td>\n",
       "      <td>Yes</td>\n",
       "      <td>Bank Withdrawal</td>\n",
       "      <td>39.65</td>\n",
       "      <td>39.65</td>\n",
       "      <td>0.00</td>\n",
       "      <td>20</td>\n",
       "      <td>0.00</td>\n",
       "      <td>59.65</td>\n",
       "      <td>5433</td>\n",
       "      <td>3</td>\n",
       "    </tr>\n",
       "    <tr>\n",
       "      <th>1</th>\n",
       "      <td>7495-OOKFY</td>\n",
       "      <td>1</td>\n",
       "      <td>Female</td>\n",
       "      <td>74</td>\n",
       "      <td>No</td>\n",
       "      <td>Yes</td>\n",
       "      <td>Yes</td>\n",
       "      <td>Yes</td>\n",
       "      <td>1</td>\n",
       "      <td>7495-OOKFY</td>\n",
       "      <td>...</td>\n",
       "      <td>Yes</td>\n",
       "      <td>Credit Card</td>\n",
       "      <td>80.65</td>\n",
       "      <td>633.30</td>\n",
       "      <td>0.00</td>\n",
       "      <td>0</td>\n",
       "      <td>390.80</td>\n",
       "      <td>1024.10</td>\n",
       "      <td>5302</td>\n",
       "      <td>3</td>\n",
       "    </tr>\n",
       "    <tr>\n",
       "      <th>2</th>\n",
       "      <td>1658-BYGOY</td>\n",
       "      <td>1</td>\n",
       "      <td>Male</td>\n",
       "      <td>98</td>\n",
       "      <td>No</td>\n",
       "      <td>Yes</td>\n",
       "      <td>No</td>\n",
       "      <td>Yes</td>\n",
       "      <td>3</td>\n",
       "      <td>1658-BYGOY</td>\n",
       "      <td>...</td>\n",
       "      <td>Yes</td>\n",
       "      <td>Bank Withdrawal</td>\n",
       "      <td>95.45</td>\n",
       "      <td>1752.55</td>\n",
       "      <td>45.61</td>\n",
       "      <td>0</td>\n",
       "      <td>203.94</td>\n",
       "      <td>1910.88</td>\n",
       "      <td>3179</td>\n",
       "      <td>5</td>\n",
       "    </tr>\n",
       "    <tr>\n",
       "      <th>3</th>\n",
       "      <td>4598-XLKNJ</td>\n",
       "      <td>1</td>\n",
       "      <td>Female</td>\n",
       "      <td>78</td>\n",
       "      <td>No</td>\n",
       "      <td>Yes</td>\n",
       "      <td>Yes</td>\n",
       "      <td>Yes</td>\n",
       "      <td>1</td>\n",
       "      <td>4598-XLKNJ</td>\n",
       "      <td>...</td>\n",
       "      <td>Yes</td>\n",
       "      <td>Bank Withdrawal</td>\n",
       "      <td>98.50</td>\n",
       "      <td>2514.50</td>\n",
       "      <td>13.43</td>\n",
       "      <td>0</td>\n",
       "      <td>494.00</td>\n",
       "      <td>2995.07</td>\n",
       "      <td>5337</td>\n",
       "      <td>6</td>\n",
       "    </tr>\n",
       "    <tr>\n",
       "      <th>4</th>\n",
       "      <td>4846-WHAFZ</td>\n",
       "      <td>1</td>\n",
       "      <td>Female</td>\n",
       "      <td>80</td>\n",
       "      <td>No</td>\n",
       "      <td>Yes</td>\n",
       "      <td>Yes</td>\n",
       "      <td>Yes</td>\n",
       "      <td>1</td>\n",
       "      <td>4846-WHAFZ</td>\n",
       "      <td>...</td>\n",
       "      <td>Yes</td>\n",
       "      <td>Bank Withdrawal</td>\n",
       "      <td>76.50</td>\n",
       "      <td>2868.15</td>\n",
       "      <td>0.00</td>\n",
       "      <td>0</td>\n",
       "      <td>234.21</td>\n",
       "      <td>3102.36</td>\n",
       "      <td>2793</td>\n",
       "      <td>2</td>\n",
       "    </tr>\n",
       "  </tbody>\n",
       "</table>\n",
       "<p>5 rows × 49 columns</p>\n",
       "</div>"
      ],
      "text/plain": [
       "  Customer ID  Count  Gender  Age Under 30 Senior Citizen Married Dependents  \\\n",
       "0  8779-QRDMV      1    Male   78       No            Yes      No         No   \n",
       "1  7495-OOKFY      1  Female   74       No            Yes     Yes        Yes   \n",
       "2  1658-BYGOY      1    Male   98       No            Yes      No        Yes   \n",
       "3  4598-XLKNJ      1  Female   78       No            Yes     Yes        Yes   \n",
       "4  4846-WHAFZ      1  Female   80       No            Yes     Yes        Yes   \n",
       "\n",
       "   Number of Dependents Customer ID  ...  Paperless Billing   Payment Method  \\\n",
       "0                     0  8779-QRDMV  ...                Yes  Bank Withdrawal   \n",
       "1                     1  7495-OOKFY  ...                Yes      Credit Card   \n",
       "2                     3  1658-BYGOY  ...                Yes  Bank Withdrawal   \n",
       "3                     1  4598-XLKNJ  ...                Yes  Bank Withdrawal   \n",
       "4                     1  4846-WHAFZ  ...                Yes  Bank Withdrawal   \n",
       "\n",
       "  Average Monthly Charge  Total Charges  Total Refunds  \\\n",
       "0                  39.65          39.65           0.00   \n",
       "1                  80.65         633.30           0.00   \n",
       "2                  95.45        1752.55          45.61   \n",
       "3                  98.50        2514.50          13.43   \n",
       "4                  76.50        2868.15           0.00   \n",
       "\n",
       "   Total Extra Data Charges Total Long Distance Charges  Total Revenue  CLTV  \\\n",
       "0                        20                        0.00          59.65  5433   \n",
       "1                         0                      390.80        1024.10  5302   \n",
       "2                         0                      203.94        1910.88  3179   \n",
       "3                         0                      494.00        2995.07  5337   \n",
       "4                         0                      234.21        3102.36  2793   \n",
       "\n",
       "   Total Services  \n",
       "0               3  \n",
       "1               3  \n",
       "2               5  \n",
       "3               6  \n",
       "4               2  \n",
       "\n",
       "[5 rows x 49 columns]"
      ]
     },
     "execution_count": 18,
     "metadata": {},
     "output_type": "execute_result"
    }
   ],
   "source": [
    "result.head()"
   ]
  },
  {
   "cell_type": "code",
   "execution_count": 19,
   "id": "99c299ce",
   "metadata": {},
   "outputs": [],
   "source": [
    "# result.info()"
   ]
  },
  {
   "cell_type": "code",
   "execution_count": 20,
   "id": "e6b5044d",
   "metadata": {},
   "outputs": [],
   "source": [
    "# dropping duplicate column"
   ]
  },
  {
   "cell_type": "code",
   "execution_count": 21,
   "id": "95edc993",
   "metadata": {},
   "outputs": [],
   "source": [
    "result = result.loc[:,~result.columns.duplicated()]"
   ]
  },
  {
   "cell_type": "code",
   "execution_count": 22,
   "id": "6307904b",
   "metadata": {},
   "outputs": [],
   "source": [
    "# result.info()"
   ]
  },
  {
   "cell_type": "code",
   "execution_count": 23,
   "id": "6f87a661",
   "metadata": {},
   "outputs": [],
   "source": [
    "# checking for the null values"
   ]
  },
  {
   "cell_type": "code",
   "execution_count": 24,
   "id": "0cb76823",
   "metadata": {},
   "outputs": [
    {
     "data": {
      "text/plain": [
       "Customer ID                          0\n",
       "Count                                0\n",
       "Gender                               0\n",
       "Age                                  0\n",
       "Under 30                             0\n",
       "Senior Citizen                       0\n",
       "Married                              0\n",
       "Dependents                           0\n",
       "Number of Dependents                 0\n",
       "State                                0\n",
       "City                                 0\n",
       "Zip Code                             0\n",
       "Latitude                             0\n",
       "Longitude                            0\n",
       "Churn Value                          0\n",
       "Quarter                              0\n",
       "Referred a Friend                    0\n",
       "Number of Referrals                  0\n",
       "Tenure in Months                     8\n",
       "Voice Service                        0\n",
       "Avg Monthly Long Distance Charges    0\n",
       "Multiple Lines                       0\n",
       "Internet Service                     0\n",
       "Internet Type                        7\n",
       "Avg Monthly GB Download              0\n",
       "Online Security                      4\n",
       "Online Backup                        0\n",
       "Device Protection Plan               0\n",
       "Premium Tech Support                 0\n",
       "Streaming TV                         0\n",
       "Streaming Movies                     0\n",
       "Streaming Music                      8\n",
       "Unlimited Data Pack                  0\n",
       "Contract                             6\n",
       "Paperless Billing                    0\n",
       "Payment Method                       0\n",
       "Average Monthly Charge               0\n",
       "Total Charges                        9\n",
       "Total Refunds                        0\n",
       "Total Extra Data Charges             0\n",
       "Total Long Distance Charges          0\n",
       "Total Revenue                        0\n",
       "CLTV                                 0\n",
       "Total Services                       0\n",
       "dtype: int64"
      ]
     },
     "execution_count": 24,
     "metadata": {},
     "output_type": "execute_result"
    }
   ],
   "source": [
    "result.isnull().sum()"
   ]
  },
  {
   "cell_type": "code",
   "execution_count": 25,
   "id": "6879fbe6",
   "metadata": {},
   "outputs": [],
   "source": [
    "# there are very few values which are null compared to the size of the dataset. \n",
    "# So It will be smart choice to delete that values"
   ]
  },
  {
   "cell_type": "code",
   "execution_count": 26,
   "id": "e5900fce",
   "metadata": {},
   "outputs": [
    {
     "data": {
      "text/plain": [
       "Customer ID                          0\n",
       "Count                                0\n",
       "Gender                               0\n",
       "Age                                  0\n",
       "Under 30                             0\n",
       "Senior Citizen                       0\n",
       "Married                              0\n",
       "Dependents                           0\n",
       "Number of Dependents                 0\n",
       "State                                0\n",
       "City                                 0\n",
       "Zip Code                             0\n",
       "Latitude                             0\n",
       "Longitude                            0\n",
       "Churn Value                          0\n",
       "Quarter                              0\n",
       "Referred a Friend                    0\n",
       "Number of Referrals                  0\n",
       "Tenure in Months                     0\n",
       "Voice Service                        0\n",
       "Avg Monthly Long Distance Charges    0\n",
       "Multiple Lines                       0\n",
       "Internet Service                     0\n",
       "Internet Type                        0\n",
       "Avg Monthly GB Download              0\n",
       "Online Security                      0\n",
       "Online Backup                        0\n",
       "Device Protection Plan               0\n",
       "Premium Tech Support                 0\n",
       "Streaming TV                         0\n",
       "Streaming Movies                     0\n",
       "Streaming Music                      0\n",
       "Unlimited Data Pack                  0\n",
       "Contract                             0\n",
       "Paperless Billing                    0\n",
       "Payment Method                       0\n",
       "Average Monthly Charge               0\n",
       "Total Charges                        0\n",
       "Total Refunds                        0\n",
       "Total Extra Data Charges             0\n",
       "Total Long Distance Charges          0\n",
       "Total Revenue                        0\n",
       "CLTV                                 0\n",
       "Total Services                       0\n",
       "dtype: int64"
      ]
     },
     "execution_count": 26,
     "metadata": {},
     "output_type": "execute_result"
    }
   ],
   "source": [
    "df= result.dropna()\n",
    "df.isnull().sum()"
   ]
  },
  {
   "cell_type": "code",
   "execution_count": 27,
   "id": "c59e150c",
   "metadata": {},
   "outputs": [],
   "source": [
    "# checking for the duplicates values."
   ]
  },
  {
   "cell_type": "code",
   "execution_count": 28,
   "id": "21db5b28",
   "metadata": {},
   "outputs": [
    {
     "name": "stdout",
     "output_type": "stream",
     "text": [
      "<class 'pandas.core.frame.DataFrame'>\n",
      "Int64Index: 7006 entries, 0 to 7042\n",
      "Data columns (total 44 columns):\n",
      " #   Column                             Non-Null Count  Dtype  \n",
      "---  ------                             --------------  -----  \n",
      " 0   Customer ID                        7006 non-null   object \n",
      " 1   Count                              7006 non-null   int64  \n",
      " 2   Gender                             7006 non-null   object \n",
      " 3   Age                                7006 non-null   int64  \n",
      " 4   Under 30                           7006 non-null   object \n",
      " 5   Senior Citizen                     7006 non-null   object \n",
      " 6   Married                            7006 non-null   object \n",
      " 7   Dependents                         7006 non-null   object \n",
      " 8   Number of Dependents               7006 non-null   int64  \n",
      " 9   State                              7006 non-null   object \n",
      " 10  City                               7006 non-null   object \n",
      " 11  Zip Code                           7006 non-null   int64  \n",
      " 12  Latitude                           7006 non-null   float64\n",
      " 13  Longitude                          7006 non-null   float64\n",
      " 14  Churn Value                        7006 non-null   int64  \n",
      " 15  Quarter                            7006 non-null   object \n",
      " 16  Referred a Friend                  7006 non-null   object \n",
      " 17  Number of Referrals                7006 non-null   int64  \n",
      " 18  Tenure in Months                   7006 non-null   float64\n",
      " 19  Voice Service                      7006 non-null   object \n",
      " 20  Avg Monthly Long Distance Charges  7006 non-null   float64\n",
      " 21  Multiple Lines                     7006 non-null   object \n",
      " 22  Internet Service                   7006 non-null   object \n",
      " 23  Internet Type                      7006 non-null   object \n",
      " 24  Avg Monthly GB Download            7006 non-null   int64  \n",
      " 25  Online Security                    7006 non-null   object \n",
      " 26  Online Backup                      7006 non-null   object \n",
      " 27  Device Protection Plan             7006 non-null   object \n",
      " 28  Premium Tech Support               7006 non-null   object \n",
      " 29  Streaming TV                       7006 non-null   object \n",
      " 30  Streaming Movies                   7006 non-null   object \n",
      " 31  Streaming Music                    7006 non-null   object \n",
      " 32  Unlimited Data Pack                7006 non-null   object \n",
      " 33  Contract                           7006 non-null   object \n",
      " 34  Paperless Billing                  7006 non-null   object \n",
      " 35  Payment Method                     7006 non-null   object \n",
      " 36  Average Monthly Charge             7006 non-null   float64\n",
      " 37  Total Charges                      7006 non-null   float64\n",
      " 38  Total Refunds                      7006 non-null   float64\n",
      " 39  Total Extra Data Charges           7006 non-null   int64  \n",
      " 40  Total Long Distance Charges        7006 non-null   float64\n",
      " 41  Total Revenue                      7006 non-null   float64\n",
      " 42  CLTV                               7006 non-null   int64  \n",
      " 43  Total Services                     7006 non-null   int64  \n",
      "dtypes: float64(9), int64(10), object(25)\n",
      "memory usage: 2.4+ MB\n"
     ]
    }
   ],
   "source": [
    "df = df.drop_duplicates()\n",
    "df.info()\n",
    "# Total of 37 values is droped.\n",
    "# these duplicate values are redundant. \n",
    "# They are giving the same information and will make our model more biased toward that features"
   ]
  },
  {
   "cell_type": "code",
   "execution_count": 29,
   "id": "7111da54",
   "metadata": {},
   "outputs": [
    {
     "data": {
      "text/plain": [
       "array([1], dtype=int64)"
      ]
     },
     "execution_count": 29,
     "metadata": {},
     "output_type": "execute_result"
    }
   ],
   "source": [
    "df['Count'].unique()"
   ]
  },
  {
   "cell_type": "code",
   "execution_count": 30,
   "id": "c259c4b5",
   "metadata": {},
   "outputs": [],
   "source": [
    "df=df.drop(['Count'], axis = 1)"
   ]
  },
  {
   "cell_type": "code",
   "execution_count": 31,
   "id": "4025e46e",
   "metadata": {},
   "outputs": [],
   "source": [
    "# checking for multicolinearity between first 10 column"
   ]
  },
  {
   "cell_type": "code",
   "execution_count": 32,
   "id": "e995da63",
   "metadata": {},
   "outputs": [],
   "source": [
    "#df_10 = df.iloc[:, 0:15]"
   ]
  },
  {
   "cell_type": "code",
   "execution_count": 33,
   "id": "e2459b4f",
   "metadata": {},
   "outputs": [],
   "source": [
    "#df_10.head()"
   ]
  },
  {
   "cell_type": "code",
   "execution_count": 34,
   "id": "479f4453",
   "metadata": {},
   "outputs": [
    {
     "data": {
      "text/plain": [
       "<AxesSubplot:>"
      ]
     },
     "execution_count": 34,
     "metadata": {},
     "output_type": "execute_result"
    },
    {
     "data": {
      "image/png": "[encoded data removed]",
      "text/plain": [
       "<Figure size 1080x1152 with 2 Axes>"
      ]
     },
     "metadata": {
      "needs_background": "light"
     },
     "output_type": "display_data"
    }
   ],
   "source": [
    "correlation = df.corr()\n",
    "plt.figure(figsize=(15,16))\n",
    "sns.heatmap(correlation, cbar=True, square=True, fmt = '.2f', annot = True, annot_kws={'size':15}, cmap = 'coolwarm')"
   ]
  },
  {
   "cell_type": "code",
   "execution_count": 35,
   "id": "cd7f0c53",
   "metadata": {},
   "outputs": [],
   "source": [
    "# we can see that variables in red and dark blue are correlated one. \n",
    "# and we have to drop those features\n",
    "# Eg. we can see that latitude, longitude and zip code are higly correlated. \n"
   ]
  },
  {
   "cell_type": "code",
   "execution_count": 36,
   "id": "5197be44",
   "metadata": {},
   "outputs": [
    {
     "data": {
      "text/html": [
       "<div>\n",
       "<style scoped>\n",
       "    .dataframe tbody tr th:only-of-type {\n",
       "        vertical-align: middle;\n",
       "    }\n",
       "\n",
       "    .dataframe tbody tr th {\n",
       "        vertical-align: top;\n",
       "    }\n",
       "\n",
       "    .dataframe thead th {\n",
       "        text-align: right;\n",
       "    }\n",
       "</style>\n",
       "<table border=\"1\" class=\"dataframe\">\n",
       "  <thead>\n",
       "    <tr style=\"text-align: right;\">\n",
       "      <th></th>\n",
       "      <th>Customer ID</th>\n",
       "      <th>Gender</th>\n",
       "      <th>Age</th>\n",
       "      <th>Under 30</th>\n",
       "      <th>Senior Citizen</th>\n",
       "      <th>Married</th>\n",
       "      <th>Dependents</th>\n",
       "      <th>Number of Dependents</th>\n",
       "      <th>State</th>\n",
       "      <th>City</th>\n",
       "      <th>...</th>\n",
       "      <th>Paperless Billing</th>\n",
       "      <th>Payment Method</th>\n",
       "      <th>Average Monthly Charge</th>\n",
       "      <th>Total Charges</th>\n",
       "      <th>Total Refunds</th>\n",
       "      <th>Total Extra Data Charges</th>\n",
       "      <th>Total Long Distance Charges</th>\n",
       "      <th>Total Revenue</th>\n",
       "      <th>CLTV</th>\n",
       "      <th>Total Services</th>\n",
       "    </tr>\n",
       "  </thead>\n",
       "  <tbody>\n",
       "    <tr>\n",
       "      <th>0</th>\n",
       "      <td>8779-QRDMV</td>\n",
       "      <td>Male</td>\n",
       "      <td>78</td>\n",
       "      <td>No</td>\n",
       "      <td>Yes</td>\n",
       "      <td>No</td>\n",
       "      <td>No</td>\n",
       "      <td>0</td>\n",
       "      <td>California</td>\n",
       "      <td>Los Angeles</td>\n",
       "      <td>...</td>\n",
       "      <td>Yes</td>\n",
       "      <td>Bank Withdrawal</td>\n",
       "      <td>39.65</td>\n",
       "      <td>39.65</td>\n",
       "      <td>0.00</td>\n",
       "      <td>20</td>\n",
       "      <td>0.00</td>\n",
       "      <td>59.65</td>\n",
       "      <td>5433</td>\n",
       "      <td>3</td>\n",
       "    </tr>\n",
       "    <tr>\n",
       "      <th>1</th>\n",
       "      <td>7495-OOKFY</td>\n",
       "      <td>Female</td>\n",
       "      <td>74</td>\n",
       "      <td>No</td>\n",
       "      <td>Yes</td>\n",
       "      <td>Yes</td>\n",
       "      <td>Yes</td>\n",
       "      <td>1</td>\n",
       "      <td>California</td>\n",
       "      <td>Los Angeles</td>\n",
       "      <td>...</td>\n",
       "      <td>Yes</td>\n",
       "      <td>Credit Card</td>\n",
       "      <td>80.65</td>\n",
       "      <td>633.30</td>\n",
       "      <td>0.00</td>\n",
       "      <td>0</td>\n",
       "      <td>390.80</td>\n",
       "      <td>1024.10</td>\n",
       "      <td>5302</td>\n",
       "      <td>3</td>\n",
       "    </tr>\n",
       "    <tr>\n",
       "      <th>2</th>\n",
       "      <td>1658-BYGOY</td>\n",
       "      <td>Male</td>\n",
       "      <td>98</td>\n",
       "      <td>No</td>\n",
       "      <td>Yes</td>\n",
       "      <td>No</td>\n",
       "      <td>Yes</td>\n",
       "      <td>3</td>\n",
       "      <td>California</td>\n",
       "      <td>Los Angeles</td>\n",
       "      <td>...</td>\n",
       "      <td>Yes</td>\n",
       "      <td>Bank Withdrawal</td>\n",
       "      <td>95.45</td>\n",
       "      <td>1752.55</td>\n",
       "      <td>45.61</td>\n",
       "      <td>0</td>\n",
       "      <td>203.94</td>\n",
       "      <td>1910.88</td>\n",
       "      <td>3179</td>\n",
       "      <td>5</td>\n",
       "    </tr>\n",
       "    <tr>\n",
       "      <th>3</th>\n",
       "      <td>4598-XLKNJ</td>\n",
       "      <td>Female</td>\n",
       "      <td>78</td>\n",
       "      <td>No</td>\n",
       "      <td>Yes</td>\n",
       "      <td>Yes</td>\n",
       "      <td>Yes</td>\n",
       "      <td>1</td>\n",
       "      <td>California</td>\n",
       "      <td>Inglewood</td>\n",
       "      <td>...</td>\n",
       "      <td>Yes</td>\n",
       "      <td>Bank Withdrawal</td>\n",
       "      <td>98.50</td>\n",
       "      <td>2514.50</td>\n",
       "      <td>13.43</td>\n",
       "      <td>0</td>\n",
       "      <td>494.00</td>\n",
       "      <td>2995.07</td>\n",
       "      <td>5337</td>\n",
       "      <td>6</td>\n",
       "    </tr>\n",
       "    <tr>\n",
       "      <th>4</th>\n",
       "      <td>4846-WHAFZ</td>\n",
       "      <td>Female</td>\n",
       "      <td>80</td>\n",
       "      <td>No</td>\n",
       "      <td>Yes</td>\n",
       "      <td>Yes</td>\n",
       "      <td>Yes</td>\n",
       "      <td>1</td>\n",
       "      <td>California</td>\n",
       "      <td>Whittier</td>\n",
       "      <td>...</td>\n",
       "      <td>Yes</td>\n",
       "      <td>Bank Withdrawal</td>\n",
       "      <td>76.50</td>\n",
       "      <td>2868.15</td>\n",
       "      <td>0.00</td>\n",
       "      <td>0</td>\n",
       "      <td>234.21</td>\n",
       "      <td>3102.36</td>\n",
       "      <td>2793</td>\n",
       "      <td>2</td>\n",
       "    </tr>\n",
       "  </tbody>\n",
       "</table>\n",
       "<p>5 rows × 43 columns</p>\n",
       "</div>"
      ],
      "text/plain": [
       "  Customer ID  Gender  Age Under 30 Senior Citizen Married Dependents  \\\n",
       "0  8779-QRDMV    Male   78       No            Yes      No         No   \n",
       "1  7495-OOKFY  Female   74       No            Yes     Yes        Yes   \n",
       "2  1658-BYGOY    Male   98       No            Yes      No        Yes   \n",
       "3  4598-XLKNJ  Female   78       No            Yes     Yes        Yes   \n",
       "4  4846-WHAFZ  Female   80       No            Yes     Yes        Yes   \n",
       "\n",
       "   Number of Dependents       State         City  ...  Paperless Billing  \\\n",
       "0                     0  California  Los Angeles  ...                Yes   \n",
       "1                     1  California  Los Angeles  ...                Yes   \n",
       "2                     3  California  Los Angeles  ...                Yes   \n",
       "3                     1  California    Inglewood  ...                Yes   \n",
       "4                     1  California     Whittier  ...                Yes   \n",
       "\n",
       "    Payment Method  Average Monthly Charge  Total Charges Total Refunds  \\\n",
       "0  Bank Withdrawal                   39.65          39.65          0.00   \n",
       "1      Credit Card                   80.65         633.30          0.00   \n",
       "2  Bank Withdrawal                   95.45        1752.55         45.61   \n",
       "3  Bank Withdrawal                   98.50        2514.50         13.43   \n",
       "4  Bank Withdrawal                   76.50        2868.15          0.00   \n",
       "\n",
       "  Total Extra Data Charges  Total Long Distance Charges  Total Revenue  CLTV  \\\n",
       "0                       20                         0.00          59.65  5433   \n",
       "1                        0                       390.80        1024.10  5302   \n",
       "2                        0                       203.94        1910.88  3179   \n",
       "3                        0                       494.00        2995.07  5337   \n",
       "4                        0                       234.21        3102.36  2793   \n",
       "\n",
       "   Total Services  \n",
       "0               3  \n",
       "1               3  \n",
       "2               5  \n",
       "3               6  \n",
       "4               2  \n",
       "\n",
       "[5 rows x 43 columns]"
      ]
     },
     "execution_count": 36,
     "metadata": {},
     "output_type": "execute_result"
    }
   ],
   "source": [
    "df.head()"
   ]
  },
  {
   "cell_type": "code",
   "execution_count": 37,
   "id": "ba24f680",
   "metadata": {},
   "outputs": [
    {
     "name": "stdout",
     "output_type": "stream",
     "text": [
      "<class 'pandas.core.frame.DataFrame'>\n",
      "Int64Index: 7006 entries, 0 to 7042\n",
      "Data columns (total 43 columns):\n",
      " #   Column                             Non-Null Count  Dtype  \n",
      "---  ------                             --------------  -----  \n",
      " 0   Customer ID                        7006 non-null   object \n",
      " 1   Gender                             7006 non-null   object \n",
      " 2   Age                                7006 non-null   int64  \n",
      " 3   Under 30                           7006 non-null   object \n",
      " 4   Senior Citizen                     7006 non-null   object \n",
      " 5   Married                            7006 non-null   object \n",
      " 6   Dependents                         7006 non-null   object \n",
      " 7   Number of Dependents               7006 non-null   int64  \n",
      " 8   State                              7006 non-null   object \n",
      " 9   City                               7006 non-null   object \n",
      " 10  Zip Code                           7006 non-null   int64  \n",
      " 11  Latitude                           7006 non-null   float64\n",
      " 12  Longitude                          7006 non-null   float64\n",
      " 13  Churn Value                        7006 non-null   int64  \n",
      " 14  Quarter                            7006 non-null   object \n",
      " 15  Referred a Friend                  7006 non-null   object \n",
      " 16  Number of Referrals                7006 non-null   int64  \n",
      " 17  Tenure in Months                   7006 non-null   float64\n",
      " 18  Voice Service                      7006 non-null   object \n",
      " 19  Avg Monthly Long Distance Charges  7006 non-null   float64\n",
      " 20  Multiple Lines                     7006 non-null   object \n",
      " 21  Internet Service                   7006 non-null   object \n",
      " 22  Internet Type                      7006 non-null   object \n",
      " 23  Avg Monthly GB Download            7006 non-null   int64  \n",
      " 24  Online Security                    7006 non-null   object \n",
      " 25  Online Backup                      7006 non-null   object \n",
      " 26  Device Protection Plan             7006 non-null   object \n",
      " 27  Premium Tech Support               7006 non-null   object \n",
      " 28  Streaming TV                       7006 non-null   object \n",
      " 29  Streaming Movies                   7006 non-null   object \n",
      " 30  Streaming Music                    7006 non-null   object \n",
      " 31  Unlimited Data Pack                7006 non-null   object \n",
      " 32  Contract                           7006 non-null   object \n",
      " 33  Paperless Billing                  7006 non-null   object \n",
      " 34  Payment Method                     7006 non-null   object \n",
      " 35  Average Monthly Charge             7006 non-null   float64\n",
      " 36  Total Charges                      7006 non-null   float64\n",
      " 37  Total Refunds                      7006 non-null   float64\n",
      " 38  Total Extra Data Charges           7006 non-null   int64  \n",
      " 39  Total Long Distance Charges        7006 non-null   float64\n",
      " 40  Total Revenue                      7006 non-null   float64\n",
      " 41  CLTV                               7006 non-null   int64  \n",
      " 42  Total Services                     7006 non-null   int64  \n",
      "dtypes: float64(9), int64(9), object(25)\n",
      "memory usage: 2.4+ MB\n"
     ]
    }
   ],
   "source": [
    "df.info()"
   ]
  },
  {
   "cell_type": "code",
   "execution_count": 38,
   "id": "78f04fa3",
   "metadata": {},
   "outputs": [],
   "source": [
    "# Columns to drop\n",
    "df=df.drop(['Longitude','Latitude','Tenure in Months','Total Charges','Total Services','Tenure in Months','Total Long Distance Charges'], axis = 1)"
   ]
  },
  {
   "cell_type": "code",
   "execution_count": null,
   "id": "774b0206",
   "metadata": {},
   "outputs": [],
   "source": []
  },
  {
   "cell_type": "code",
   "execution_count": 39,
   "id": "7b223ae0",
   "metadata": {},
   "outputs": [
    {
     "data": {
      "text/html": [
       "<div>\n",
       "<style scoped>\n",
       "    .dataframe tbody tr th:only-of-type {\n",
       "        vertical-align: middle;\n",
       "    }\n",
       "\n",
       "    .dataframe tbody tr th {\n",
       "        vertical-align: top;\n",
       "    }\n",
       "\n",
       "    .dataframe thead th {\n",
       "        text-align: right;\n",
       "    }\n",
       "</style>\n",
       "<table border=\"1\" class=\"dataframe\">\n",
       "  <thead>\n",
       "    <tr style=\"text-align: right;\">\n",
       "      <th></th>\n",
       "      <th>Customer ID</th>\n",
       "      <th>Gender</th>\n",
       "      <th>Age</th>\n",
       "      <th>Under 30</th>\n",
       "      <th>Senior Citizen</th>\n",
       "      <th>Married</th>\n",
       "      <th>Dependents</th>\n",
       "      <th>Number of Dependents</th>\n",
       "      <th>State</th>\n",
       "      <th>City</th>\n",
       "      <th>...</th>\n",
       "      <th>Streaming Music</th>\n",
       "      <th>Unlimited Data Pack</th>\n",
       "      <th>Contract</th>\n",
       "      <th>Paperless Billing</th>\n",
       "      <th>Payment Method</th>\n",
       "      <th>Average Monthly Charge</th>\n",
       "      <th>Total Refunds</th>\n",
       "      <th>Total Extra Data Charges</th>\n",
       "      <th>Total Revenue</th>\n",
       "      <th>CLTV</th>\n",
       "    </tr>\n",
       "  </thead>\n",
       "  <tbody>\n",
       "    <tr>\n",
       "      <th>0</th>\n",
       "      <td>8779-QRDMV</td>\n",
       "      <td>Male</td>\n",
       "      <td>78</td>\n",
       "      <td>No</td>\n",
       "      <td>Yes</td>\n",
       "      <td>No</td>\n",
       "      <td>No</td>\n",
       "      <td>0</td>\n",
       "      <td>California</td>\n",
       "      <td>Los Angeles</td>\n",
       "      <td>...</td>\n",
       "      <td>No</td>\n",
       "      <td>No</td>\n",
       "      <td>Month-to-Month</td>\n",
       "      <td>Yes</td>\n",
       "      <td>Bank Withdrawal</td>\n",
       "      <td>39.65</td>\n",
       "      <td>0.00</td>\n",
       "      <td>20</td>\n",
       "      <td>59.65</td>\n",
       "      <td>5433</td>\n",
       "    </tr>\n",
       "    <tr>\n",
       "      <th>1</th>\n",
       "      <td>7495-OOKFY</td>\n",
       "      <td>Female</td>\n",
       "      <td>74</td>\n",
       "      <td>No</td>\n",
       "      <td>Yes</td>\n",
       "      <td>Yes</td>\n",
       "      <td>Yes</td>\n",
       "      <td>1</td>\n",
       "      <td>California</td>\n",
       "      <td>Los Angeles</td>\n",
       "      <td>...</td>\n",
       "      <td>No</td>\n",
       "      <td>Yes</td>\n",
       "      <td>Month-to-Month</td>\n",
       "      <td>Yes</td>\n",
       "      <td>Credit Card</td>\n",
       "      <td>80.65</td>\n",
       "      <td>0.00</td>\n",
       "      <td>0</td>\n",
       "      <td>1024.10</td>\n",
       "      <td>5302</td>\n",
       "    </tr>\n",
       "    <tr>\n",
       "      <th>2</th>\n",
       "      <td>1658-BYGOY</td>\n",
       "      <td>Male</td>\n",
       "      <td>98</td>\n",
       "      <td>No</td>\n",
       "      <td>Yes</td>\n",
       "      <td>No</td>\n",
       "      <td>Yes</td>\n",
       "      <td>3</td>\n",
       "      <td>California</td>\n",
       "      <td>Los Angeles</td>\n",
       "      <td>...</td>\n",
       "      <td>Yes</td>\n",
       "      <td>Yes</td>\n",
       "      <td>Month-to-Month</td>\n",
       "      <td>Yes</td>\n",
       "      <td>Bank Withdrawal</td>\n",
       "      <td>95.45</td>\n",
       "      <td>45.61</td>\n",
       "      <td>0</td>\n",
       "      <td>1910.88</td>\n",
       "      <td>3179</td>\n",
       "    </tr>\n",
       "    <tr>\n",
       "      <th>3</th>\n",
       "      <td>4598-XLKNJ</td>\n",
       "      <td>Female</td>\n",
       "      <td>78</td>\n",
       "      <td>No</td>\n",
       "      <td>Yes</td>\n",
       "      <td>Yes</td>\n",
       "      <td>Yes</td>\n",
       "      <td>1</td>\n",
       "      <td>California</td>\n",
       "      <td>Inglewood</td>\n",
       "      <td>...</td>\n",
       "      <td>No</td>\n",
       "      <td>Yes</td>\n",
       "      <td>Month-to-Month</td>\n",
       "      <td>Yes</td>\n",
       "      <td>Bank Withdrawal</td>\n",
       "      <td>98.50</td>\n",
       "      <td>13.43</td>\n",
       "      <td>0</td>\n",
       "      <td>2995.07</td>\n",
       "      <td>5337</td>\n",
       "    </tr>\n",
       "    <tr>\n",
       "      <th>4</th>\n",
       "      <td>4846-WHAFZ</td>\n",
       "      <td>Female</td>\n",
       "      <td>80</td>\n",
       "      <td>No</td>\n",
       "      <td>Yes</td>\n",
       "      <td>Yes</td>\n",
       "      <td>Yes</td>\n",
       "      <td>1</td>\n",
       "      <td>California</td>\n",
       "      <td>Whittier</td>\n",
       "      <td>...</td>\n",
       "      <td>No</td>\n",
       "      <td>Yes</td>\n",
       "      <td>Month-to-Month</td>\n",
       "      <td>Yes</td>\n",
       "      <td>Bank Withdrawal</td>\n",
       "      <td>76.50</td>\n",
       "      <td>0.00</td>\n",
       "      <td>0</td>\n",
       "      <td>3102.36</td>\n",
       "      <td>2793</td>\n",
       "    </tr>\n",
       "  </tbody>\n",
       "</table>\n",
       "<p>5 rows × 37 columns</p>\n",
       "</div>"
      ],
      "text/plain": [
       "  Customer ID  Gender  Age Under 30 Senior Citizen Married Dependents  \\\n",
       "0  8779-QRDMV    Male   78       No            Yes      No         No   \n",
       "1  7495-OOKFY  Female   74       No            Yes     Yes        Yes   \n",
       "2  1658-BYGOY    Male   98       No            Yes      No        Yes   \n",
       "3  4598-XLKNJ  Female   78       No            Yes     Yes        Yes   \n",
       "4  4846-WHAFZ  Female   80       No            Yes     Yes        Yes   \n",
       "\n",
       "   Number of Dependents       State         City  ...  Streaming Music  \\\n",
       "0                     0  California  Los Angeles  ...               No   \n",
       "1                     1  California  Los Angeles  ...               No   \n",
       "2                     3  California  Los Angeles  ...              Yes   \n",
       "3                     1  California    Inglewood  ...               No   \n",
       "4                     1  California     Whittier  ...               No   \n",
       "\n",
       "   Unlimited Data Pack        Contract Paperless Billing   Payment Method  \\\n",
       "0                   No  Month-to-Month               Yes  Bank Withdrawal   \n",
       "1                  Yes  Month-to-Month               Yes      Credit Card   \n",
       "2                  Yes  Month-to-Month               Yes  Bank Withdrawal   \n",
       "3                  Yes  Month-to-Month               Yes  Bank Withdrawal   \n",
       "4                  Yes  Month-to-Month               Yes  Bank Withdrawal   \n",
       "\n",
       "  Average Monthly Charge  Total Refunds Total Extra Data Charges  \\\n",
       "0                  39.65           0.00                       20   \n",
       "1                  80.65           0.00                        0   \n",
       "2                  95.45          45.61                        0   \n",
       "3                  98.50          13.43                        0   \n",
       "4                  76.50           0.00                        0   \n",
       "\n",
       "  Total Revenue  CLTV  \n",
       "0         59.65  5433  \n",
       "1       1024.10  5302  \n",
       "2       1910.88  3179  \n",
       "3       2995.07  5337  \n",
       "4       3102.36  2793  \n",
       "\n",
       "[5 rows x 37 columns]"
      ]
     },
     "execution_count": 39,
     "metadata": {},
     "output_type": "execute_result"
    }
   ],
   "source": [
    "df.head()"
   ]
  },
  {
   "cell_type": "code",
   "execution_count": 40,
   "id": "34e0b88f",
   "metadata": {},
   "outputs": [
    {
     "name": "stdout",
     "output_type": "stream",
     "text": [
      "<class 'pandas.core.frame.DataFrame'>\n",
      "Int64Index: 7006 entries, 0 to 7042\n",
      "Data columns (total 37 columns):\n",
      " #   Column                             Non-Null Count  Dtype  \n",
      "---  ------                             --------------  -----  \n",
      " 0   Customer ID                        7006 non-null   object \n",
      " 1   Gender                             7006 non-null   object \n",
      " 2   Age                                7006 non-null   int64  \n",
      " 3   Under 30                           7006 non-null   object \n",
      " 4   Senior Citizen                     7006 non-null   object \n",
      " 5   Married                            7006 non-null   object \n",
      " 6   Dependents                         7006 non-null   object \n",
      " 7   Number of Dependents               7006 non-null   int64  \n",
      " 8   State                              7006 non-null   object \n",
      " 9   City                               7006 non-null   object \n",
      " 10  Zip Code                           7006 non-null   int64  \n",
      " 11  Churn Value                        7006 non-null   int64  \n",
      " 12  Quarter                            7006 non-null   object \n",
      " 13  Referred a Friend                  7006 non-null   object \n",
      " 14  Number of Referrals                7006 non-null   int64  \n",
      " 15  Voice Service                      7006 non-null   object \n",
      " 16  Avg Monthly Long Distance Charges  7006 non-null   float64\n",
      " 17  Multiple Lines                     7006 non-null   object \n",
      " 18  Internet Service                   7006 non-null   object \n",
      " 19  Internet Type                      7006 non-null   object \n",
      " 20  Avg Monthly GB Download            7006 non-null   int64  \n",
      " 21  Online Security                    7006 non-null   object \n",
      " 22  Online Backup                      7006 non-null   object \n",
      " 23  Device Protection Plan             7006 non-null   object \n",
      " 24  Premium Tech Support               7006 non-null   object \n",
      " 25  Streaming TV                       7006 non-null   object \n",
      " 26  Streaming Movies                   7006 non-null   object \n",
      " 27  Streaming Music                    7006 non-null   object \n",
      " 28  Unlimited Data Pack                7006 non-null   object \n",
      " 29  Contract                           7006 non-null   object \n",
      " 30  Paperless Billing                  7006 non-null   object \n",
      " 31  Payment Method                     7006 non-null   object \n",
      " 32  Average Monthly Charge             7006 non-null   float64\n",
      " 33  Total Refunds                      7006 non-null   float64\n",
      " 34  Total Extra Data Charges           7006 non-null   int64  \n",
      " 35  Total Revenue                      7006 non-null   float64\n",
      " 36  CLTV                               7006 non-null   int64  \n",
      "dtypes: float64(4), int64(8), object(25)\n",
      "memory usage: 2.0+ MB\n"
     ]
    }
   ],
   "source": [
    "df.info()"
   ]
  },
  {
   "cell_type": "code",
   "execution_count": 41,
   "id": "aee1b946",
   "metadata": {},
   "outputs": [
    {
     "data": {
      "text/plain": [
       "array(['California'], dtype=object)"
      ]
     },
     "execution_count": 41,
     "metadata": {},
     "output_type": "execute_result"
    }
   ],
   "source": [
    "df['State'].unique()\n",
    "# This features is only talking about one state.\n",
    "# so There is nothing in it that our model can learn"
   ]
  },
  {
   "cell_type": "code",
   "execution_count": 42,
   "id": "09e1133e",
   "metadata": {},
   "outputs": [],
   "source": [
    "df=df.drop(['State'],axis=1)"
   ]
  },
  {
   "cell_type": "markdown",
   "id": "2dfde387",
   "metadata": {},
   "source": [
    "### Outlier analysis"
   ]
  },
  {
   "cell_type": "code",
   "execution_count": 43,
   "id": "44046561",
   "metadata": {},
   "outputs": [],
   "source": [
    "# I am dividing my dataset into 3 dataset for easy analysis of box plot"
   ]
  },
  {
   "cell_type": "code",
   "execution_count": 44,
   "id": "8e1c043d",
   "metadata": {},
   "outputs": [],
   "source": [
    "df_15 = df.iloc[:, 0:15]"
   ]
  },
  {
   "cell_type": "code",
   "execution_count": 45,
   "id": "d66925d4",
   "metadata": {},
   "outputs": [],
   "source": [
    "df_30 = df.iloc[:, 15:30]"
   ]
  },
  {
   "cell_type": "code",
   "execution_count": 46,
   "id": "8ddae6a8",
   "metadata": {},
   "outputs": [],
   "source": [
    "df_40 = df.iloc[:, 30:]"
   ]
  },
  {
   "cell_type": "code",
   "execution_count": 47,
   "id": "bdd1265a",
   "metadata": {},
   "outputs": [
    {
     "data": {
      "text/plain": [
       "<AxesSubplot:>"
      ]
     },
     "execution_count": 47,
     "metadata": {},
     "output_type": "execute_result"
    },
    {
     "data": {
      "image/png": "[encoded data removed]",
      "text/plain": [
       "<Figure size 864x504 with 1 Axes>"
      ]
     },
     "metadata": {
      "needs_background": "light"
     },
     "output_type": "display_data"
    }
   ],
   "source": [
    "plt.figure(figsize=(12,7))\n",
    "sns.boxplot(data=df_15)"
   ]
  },
  {
   "cell_type": "code",
   "execution_count": 48,
   "id": "39505de6",
   "metadata": {},
   "outputs": [
    {
     "data": {
      "text/plain": [
       "<AxesSubplot:>"
      ]
     },
     "execution_count": 48,
     "metadata": {},
     "output_type": "execute_result"
    },
    {
     "data": {
      "image/png": "[encoded data removed]",
      "text/plain": [
       "<Figure size 1440x504 with 1 Axes>"
      ]
     },
     "metadata": {
      "needs_background": "light"
     },
     "output_type": "display_data"
    }
   ],
   "source": [
    "plt.figure(figsize=(20,7))\n",
    "sns.boxplot(data=df_30)"
   ]
  },
  {
   "cell_type": "code",
   "execution_count": 49,
   "id": "a38d7edd",
   "metadata": {},
   "outputs": [
    {
     "data": {
      "text/plain": [
       "<AxesSubplot:>"
      ]
     },
     "execution_count": 49,
     "metadata": {},
     "output_type": "execute_result"
    },
    {
     "data": {
      "image/png": "[encoded data removed]",
      "text/plain": [
       "<Figure size 1440x504 with 1 Axes>"
      ]
     },
     "metadata": {
      "needs_background": "light"
     },
     "output_type": "display_data"
    }
   ],
   "source": [
    "plt.figure(figsize=(20,7))\n",
    "sns.boxplot(data=df_40)"
   ]
  },
  {
   "cell_type": "code",
   "execution_count": 50,
   "id": "d6d8a54e",
   "metadata": {},
   "outputs": [
    {
     "data": {
      "text/plain": [
       "<AxesSubplot:xlabel='Total Revenue'>"
      ]
     },
     "execution_count": 50,
     "metadata": {},
     "output_type": "execute_result"
    },
    {
     "data": {
      "image/png": "[encoded data removed]",
      "text/plain": [
       "<Figure size 1440x504 with 1 Axes>"
      ]
     },
     "metadata": {
      "needs_background": "light"
     },
     "output_type": "display_data"
    }
   ],
   "source": [
    "plt.figure(figsize=(20,7))\n",
    "sns.boxplot(x=\"Total Revenue\", data=df)"
   ]
  },
  {
   "cell_type": "code",
   "execution_count": 51,
   "id": "af20f0b9",
   "metadata": {},
   "outputs": [],
   "source": [
    "Q1 = df['Total Revenue'].quantile(0.25)\n",
    "Q3 = df['Total Revenue'].quantile(0.75)\n",
    "IQR = Q3 - Q1"
   ]
  },
  {
   "cell_type": "code",
   "execution_count": 52,
   "id": "6b5c8f1a",
   "metadata": {},
   "outputs": [
    {
     "name": "stdout",
     "output_type": "stream",
     "text": [
      "low_limit is -5700.9\n",
      "up_limit is 11125.48\n"
     ]
    }
   ],
   "source": [
    "low_lim = Q1 - 1.5 * IQR\n",
    "up_lim = Q3 + 1.5 * IQR\n",
    "print('low_limit is', low_lim)\n",
    "print('up_limit is', up_lim)"
   ]
  },
  {
   "cell_type": "code",
   "execution_count": 53,
   "id": "691f6f2b",
   "metadata": {},
   "outputs": [
    {
     "name": "stdout",
     "output_type": "stream",
     "text": [
      " outlier in the dataset is [11169.77, 11221.6, 11795.78, 11340.82, 11195.44, 11514.81, 11596.99, 11416.21, 11868.34, 11355.87, 11979.34, 11347.5, 11688.9, 11564.37, 11311.06, 11315.79, 11529.54, 11634.53, 11174.43, 11272.18, 11501.82]\n"
     ]
    }
   ],
   "source": [
    "outlier = []\n",
    "for x in df['Total Revenue']:\n",
    "    if ((x> up_lim) or (x<low_lim)):\n",
    "         outlier.append(x)\n",
    "print(' outlier in the dataset is', outlier)"
   ]
  },
  {
   "cell_type": "code",
   "execution_count": 54,
   "id": "b4c292e3",
   "metadata": {},
   "outputs": [
    {
     "data": {
      "text/plain": [
       "21"
      ]
     },
     "execution_count": 54,
     "metadata": {},
     "output_type": "execute_result"
    }
   ],
   "source": [
    "len(outlier)"
   ]
  },
  {
   "cell_type": "code",
   "execution_count": 55,
   "id": "7cd8695c",
   "metadata": {},
   "outputs": [],
   "source": [
    "df= df[df['Total Revenue'] <= 11169.77]"
   ]
  },
  {
   "cell_type": "code",
   "execution_count": 56,
   "id": "a730b4b5",
   "metadata": {},
   "outputs": [
    {
     "name": "stdout",
     "output_type": "stream",
     "text": [
      "<class 'pandas.core.frame.DataFrame'>\n",
      "Int64Index: 6986 entries, 0 to 7042\n",
      "Data columns (total 36 columns):\n",
      " #   Column                             Non-Null Count  Dtype  \n",
      "---  ------                             --------------  -----  \n",
      " 0   Customer ID                        6986 non-null   object \n",
      " 1   Gender                             6986 non-null   object \n",
      " 2   Age                                6986 non-null   int64  \n",
      " 3   Under 30                           6986 non-null   object \n",
      " 4   Senior Citizen                     6986 non-null   object \n",
      " 5   Married                            6986 non-null   object \n",
      " 6   Dependents                         6986 non-null   object \n",
      " 7   Number of Dependents               6986 non-null   int64  \n",
      " 8   City                               6986 non-null   object \n",
      " 9   Zip Code                           6986 non-null   int64  \n",
      " 10  Churn Value                        6986 non-null   int64  \n",
      " 11  Quarter                            6986 non-null   object \n",
      " 12  Referred a Friend                  6986 non-null   object \n",
      " 13  Number of Referrals                6986 non-null   int64  \n",
      " 14  Voice Service                      6986 non-null   object \n",
      " 15  Avg Monthly Long Distance Charges  6986 non-null   float64\n",
      " 16  Multiple Lines                     6986 non-null   object \n",
      " 17  Internet Service                   6986 non-null   object \n",
      " 18  Internet Type                      6986 non-null   object \n",
      " 19  Avg Monthly GB Download            6986 non-null   int64  \n",
      " 20  Online Security                    6986 non-null   object \n",
      " 21  Online Backup                      6986 non-null   object \n",
      " 22  Device Protection Plan             6986 non-null   object \n",
      " 23  Premium Tech Support               6986 non-null   object \n",
      " 24  Streaming TV                       6986 non-null   object \n",
      " 25  Streaming Movies                   6986 non-null   object \n",
      " 26  Streaming Music                    6986 non-null   object \n",
      " 27  Unlimited Data Pack                6986 non-null   object \n",
      " 28  Contract                           6986 non-null   object \n",
      " 29  Paperless Billing                  6986 non-null   object \n",
      " 30  Payment Method                     6986 non-null   object \n",
      " 31  Average Monthly Charge             6986 non-null   float64\n",
      " 32  Total Refunds                      6986 non-null   float64\n",
      " 33  Total Extra Data Charges           6986 non-null   int64  \n",
      " 34  Total Revenue                      6986 non-null   float64\n",
      " 35  CLTV                               6986 non-null   int64  \n",
      "dtypes: float64(4), int64(8), object(24)\n",
      "memory usage: 2.0+ MB\n"
     ]
    }
   ],
   "source": [
    "df.info()"
   ]
  },
  {
   "cell_type": "code",
   "execution_count": 57,
   "id": "683357a2",
   "metadata": {},
   "outputs": [
    {
     "name": "stdout",
     "output_type": "stream",
     "text": [
      "low_limit is -33.0\n",
      "up_limit is 63.0\n"
     ]
    }
   ],
   "source": [
    "Q1 = df['Avg Monthly GB Download'].quantile(0.25)\n",
    "Q3 = df['Avg Monthly GB Download'].quantile(0.75)\n",
    "IQR = Q3 - Q1\n",
    "low_lim = Q1 - 1.5 * IQR\n",
    "up_lim = Q3 + 1.5 * IQR\n",
    "print('low_limit is', low_lim)\n",
    "print('up_limit is', up_lim)"
   ]
  },
  {
   "cell_type": "code",
   "execution_count": 58,
   "id": "979dcc9c",
   "metadata": {},
   "outputs": [
    {
     "name": "stdout",
     "output_type": "stream",
     "text": [
      " outlier in the dataset is [75, 69, 71, 73, 76, 73, 71, 69, 82, 76, 82, 73, 69, 71, 76, 73, 71, 69, 85, 76, 76, 76, 69, 69, 73, 73, 85, 76, 73, 71, 73, 76, 85, 69, 76, 71, 69, 85, 73, 85, 73, 69, 76, 85, 82, 71, 85, 85, 69, 73, 82, 69, 73, 76, 82, 82, 73, 73, 85, 76, 69, 69, 69, 71, 85, 76, 82, 71, 82, 73, 85, 73, 71, 73, 69, 69, 71, 73, 71, 69, 85, 69, 71, 69, 85, 73, 76, 69, 71, 73, 69, 71, 71, 69, 73, 82, 75, 71, 71, 73, 69, 76, 76, 82, 82, 76, 73, 69, 73, 69, 82, 73, 85, 76, 73, 73, 73, 76, 73, 76, 69, 71, 73, 82, 76, 69, 82, 69, 76, 82, 73, 73, 69, 76, 71, 71, 85, 73, 82, 69, 71, 76, 82, 82, 76, 73, 75, 73, 69, 75, 76, 71, 75, 85, 73, 69, 76, 85, 69, 82, 73, 73, 71, 85, 69, 73, 76, 69, 75, 69, 69, 82, 76, 85, 76, 82, 82, 69, 69, 73, 73, 69, 76, 82, 73, 76, 85, 82, 69, 85, 73, 85, 73, 69, 69, 71, 73, 82, 85, 82, 82, 69, 76, 73, 69, 73, 73, 73, 85, 76, 85, 69, 73, 69, 76, 85, 69, 85, 69, 73, 76, 73, 71, 69, 76, 73, 82, 73, 73, 82, 75, 71, 73, 69, 85, 73, 69, 73, 82, 85, 69, 69, 73, 76, 75, 85, 75, 73, 76, 82, 71, 75, 85, 75, 73, 85, 73, 82, 82, 76, 73, 76, 69, 69, 73, 73, 85, 82, 85, 71, 76, 76, 73, 76, 76, 76, 76, 85, 85, 73, 71, 82, 69, 73, 69, 85, 69, 73, 71, 82, 69, 82, 76, 71, 75, 85, 76, 85, 76, 69, 69, 69, 75, 73, 82, 76, 71, 82, 73, 85, 73, 85, 71, 85, 69, 76, 71, 82, 73, 71, 69, 69, 69, 73, 85, 69, 82, 85, 73, 75, 73, 82, 69, 73, 76, 69, 71, 69, 76, 73, 75, 71, 71, 71, 82, 69, 69, 71, 71, 73, 69, 85, 76, 73, 69, 76, 85, 73, 85, 76, 85, 76]\n"
     ]
    }
   ],
   "source": [
    "outlier = []\n",
    "for x in df['Avg Monthly GB Download']:\n",
    "    if ((x> up_lim) or (x<low_lim)):\n",
    "         outlier.append(x)\n",
    "print(' outlier in the dataset is', outlier)"
   ]
  },
  {
   "cell_type": "code",
   "execution_count": 59,
   "id": "d9ed8602",
   "metadata": {},
   "outputs": [
    {
     "data": {
      "text/plain": [
       "362"
      ]
     },
     "execution_count": 59,
     "metadata": {},
     "output_type": "execute_result"
    }
   ],
   "source": [
    "len(outlier)"
   ]
  },
  {
   "cell_type": "code",
   "execution_count": 60,
   "id": "ff6bc6d5",
   "metadata": {},
   "outputs": [
    {
     "name": "stdout",
     "output_type": "stream",
     "text": [
      "<class 'pandas.core.frame.DataFrame'>\n",
      "Int64Index: 6624 entries, 0 to 7042\n",
      "Data columns (total 36 columns):\n",
      " #   Column                             Non-Null Count  Dtype  \n",
      "---  ------                             --------------  -----  \n",
      " 0   Customer ID                        6624 non-null   object \n",
      " 1   Gender                             6624 non-null   object \n",
      " 2   Age                                6624 non-null   int64  \n",
      " 3   Under 30                           6624 non-null   object \n",
      " 4   Senior Citizen                     6624 non-null   object \n",
      " 5   Married                            6624 non-null   object \n",
      " 6   Dependents                         6624 non-null   object \n",
      " 7   Number of Dependents               6624 non-null   int64  \n",
      " 8   City                               6624 non-null   object \n",
      " 9   Zip Code                           6624 non-null   int64  \n",
      " 10  Churn Value                        6624 non-null   int64  \n",
      " 11  Quarter                            6624 non-null   object \n",
      " 12  Referred a Friend                  6624 non-null   object \n",
      " 13  Number of Referrals                6624 non-null   int64  \n",
      " 14  Voice Service                      6624 non-null   object \n",
      " 15  Avg Monthly Long Distance Charges  6624 non-null   float64\n",
      " 16  Multiple Lines                     6624 non-null   object \n",
      " 17  Internet Service                   6624 non-null   object \n",
      " 18  Internet Type                      6624 non-null   object \n",
      " 19  Avg Monthly GB Download            6624 non-null   int64  \n",
      " 20  Online Security                    6624 non-null   object \n",
      " 21  Online Backup                      6624 non-null   object \n",
      " 22  Device Protection Plan             6624 non-null   object \n",
      " 23  Premium Tech Support               6624 non-null   object \n",
      " 24  Streaming TV                       6624 non-null   object \n",
      " 25  Streaming Movies                   6624 non-null   object \n",
      " 26  Streaming Music                    6624 non-null   object \n",
      " 27  Unlimited Data Pack                6624 non-null   object \n",
      " 28  Contract                           6624 non-null   object \n",
      " 29  Paperless Billing                  6624 non-null   object \n",
      " 30  Payment Method                     6624 non-null   object \n",
      " 31  Average Monthly Charge             6624 non-null   float64\n",
      " 32  Total Refunds                      6624 non-null   float64\n",
      " 33  Total Extra Data Charges           6624 non-null   int64  \n",
      " 34  Total Revenue                      6624 non-null   float64\n",
      " 35  CLTV                               6624 non-null   int64  \n",
      "dtypes: float64(4), int64(8), object(24)\n",
      "memory usage: 1.9+ MB\n"
     ]
    }
   ],
   "source": [
    "df= df[df['Avg Monthly GB Download'] <=63]\n",
    "df.info()"
   ]
  },
  {
   "cell_type": "code",
   "execution_count": 61,
   "id": "07c8e536",
   "metadata": {},
   "outputs": [
    {
     "name": "stdout",
     "output_type": "stream",
     "text": [
      "<class 'pandas.core.frame.DataFrame'>\n",
      "Int64Index: 6624 entries, 0 to 7042\n",
      "Data columns (total 34 columns):\n",
      " #   Column                             Non-Null Count  Dtype  \n",
      "---  ------                             --------------  -----  \n",
      " 0   Gender                             6624 non-null   object \n",
      " 1   Age                                6624 non-null   int64  \n",
      " 2   Under 30                           6624 non-null   object \n",
      " 3   Senior Citizen                     6624 non-null   object \n",
      " 4   Married                            6624 non-null   object \n",
      " 5   Dependents                         6624 non-null   object \n",
      " 6   Number of Dependents               6624 non-null   int64  \n",
      " 7   City                               6624 non-null   object \n",
      " 8   Zip Code                           6624 non-null   int64  \n",
      " 9   Churn Value                        6624 non-null   int64  \n",
      " 10  Referred a Friend                  6624 non-null   object \n",
      " 11  Number of Referrals                6624 non-null   int64  \n",
      " 12  Voice Service                      6624 non-null   object \n",
      " 13  Avg Monthly Long Distance Charges  6624 non-null   float64\n",
      " 14  Multiple Lines                     6624 non-null   object \n",
      " 15  Internet Service                   6624 non-null   object \n",
      " 16  Internet Type                      6624 non-null   object \n",
      " 17  Avg Monthly GB Download            6624 non-null   int64  \n",
      " 18  Online Security                    6624 non-null   object \n",
      " 19  Online Backup                      6624 non-null   object \n",
      " 20  Device Protection Plan             6624 non-null   object \n",
      " 21  Premium Tech Support               6624 non-null   object \n",
      " 22  Streaming TV                       6624 non-null   object \n",
      " 23  Streaming Movies                   6624 non-null   object \n",
      " 24  Streaming Music                    6624 non-null   object \n",
      " 25  Unlimited Data Pack                6624 non-null   object \n",
      " 26  Contract                           6624 non-null   object \n",
      " 27  Paperless Billing                  6624 non-null   object \n",
      " 28  Payment Method                     6624 non-null   object \n",
      " 29  Average Monthly Charge             6624 non-null   float64\n",
      " 30  Total Refunds                      6624 non-null   float64\n",
      " 31  Total Extra Data Charges           6624 non-null   int64  \n",
      " 32  Total Revenue                      6624 non-null   float64\n",
      " 33  CLTV                               6624 non-null   int64  \n",
      "dtypes: float64(4), int64(8), object(22)\n",
      "memory usage: 1.8+ MB\n"
     ]
    }
   ],
   "source": [
    "df=df.drop(['Customer ID', 'Quarter'],axis=1)\n",
    "df.info()"
   ]
  },
  {
   "cell_type": "code",
   "execution_count": 62,
   "id": "3696bd31",
   "metadata": {},
   "outputs": [
    {
     "name": "stdout",
     "output_type": "stream",
     "text": [
      "Gender                               0\n",
      "Age                                  0\n",
      "Under 30                             0\n",
      "Senior Citizen                       0\n",
      "Married                              0\n",
      "Dependents                           0\n",
      "Number of Dependents                 0\n",
      "City                                 0\n",
      "Zip Code                             0\n",
      "Churn Value                          0\n",
      "Referred a Friend                    0\n",
      "Number of Referrals                  0\n",
      "Voice Service                        0\n",
      "Avg Monthly Long Distance Charges    0\n",
      "Multiple Lines                       0\n",
      "Internet Service                     0\n",
      "Internet Type                        0\n",
      "Avg Monthly GB Download              0\n",
      "Online Security                      0\n",
      "Online Backup                        0\n",
      "Device Protection Plan               0\n",
      "Premium Tech Support                 0\n",
      "Streaming TV                         0\n",
      "Streaming Movies                     0\n",
      "Streaming Music                      0\n",
      "Unlimited Data Pack                  0\n",
      "Contract                             0\n",
      "Paperless Billing                    0\n",
      "Payment Method                       0\n",
      "Average Monthly Charge               0\n",
      "Total Refunds                        0\n",
      "Total Extra Data Charges             0\n",
      "Total Revenue                        0\n",
      "CLTV                                 0\n",
      "dtype: int64\n"
     ]
    }
   ],
   "source": [
    "print(df.isnull().sum())"
   ]
  },
  {
   "cell_type": "code",
   "execution_count": 63,
   "id": "c61ae5a5",
   "metadata": {},
   "outputs": [
    {
     "data": {
      "text/plain": [
       "1106"
      ]
     },
     "execution_count": 63,
     "metadata": {},
     "output_type": "execute_result"
    }
   ],
   "source": [
    "df.City.nunique()"
   ]
  },
  {
   "cell_type": "code",
   "execution_count": 64,
   "id": "ef63415c",
   "metadata": {},
   "outputs": [
    {
     "name": "stdout",
     "output_type": "stream",
     "text": [
      "<class 'pandas.core.frame.DataFrame'>\n",
      "Int64Index: 6624 entries, 0 to 7042\n",
      "Data columns (total 33 columns):\n",
      " #   Column                             Non-Null Count  Dtype  \n",
      "---  ------                             --------------  -----  \n",
      " 0   Gender                             6624 non-null   object \n",
      " 1   Age                                6624 non-null   int64  \n",
      " 2   Under 30                           6624 non-null   object \n",
      " 3   Senior Citizen                     6624 non-null   object \n",
      " 4   Married                            6624 non-null   object \n",
      " 5   Dependents                         6624 non-null   object \n",
      " 6   Number of Dependents               6624 non-null   int64  \n",
      " 7   Zip Code                           6624 non-null   int64  \n",
      " 8   Churn Value                        6624 non-null   int64  \n",
      " 9   Referred a Friend                  6624 non-null   object \n",
      " 10  Number of Referrals                6624 non-null   int64  \n",
      " 11  Voice Service                      6624 non-null   object \n",
      " 12  Avg Monthly Long Distance Charges  6624 non-null   float64\n",
      " 13  Multiple Lines                     6624 non-null   object \n",
      " 14  Internet Service                   6624 non-null   object \n",
      " 15  Internet Type                      6624 non-null   object \n",
      " 16  Avg Monthly GB Download            6624 non-null   int64  \n",
      " 17  Online Security                    6624 non-null   object \n",
      " 18  Online Backup                      6624 non-null   object \n",
      " 19  Device Protection Plan             6624 non-null   object \n",
      " 20  Premium Tech Support               6624 non-null   object \n",
      " 21  Streaming TV                       6624 non-null   object \n",
      " 22  Streaming Movies                   6624 non-null   object \n",
      " 23  Streaming Music                    6624 non-null   object \n",
      " 24  Unlimited Data Pack                6624 non-null   object \n",
      " 25  Contract                           6624 non-null   object \n",
      " 26  Paperless Billing                  6624 non-null   object \n",
      " 27  Payment Method                     6624 non-null   object \n",
      " 28  Average Monthly Charge             6624 non-null   float64\n",
      " 29  Total Refunds                      6624 non-null   float64\n",
      " 30  Total Extra Data Charges           6624 non-null   int64  \n",
      " 31  Total Revenue                      6624 non-null   float64\n",
      " 32  CLTV                               6624 non-null   int64  \n",
      "dtypes: float64(4), int64(8), object(21)\n",
      "memory usage: 1.7+ MB\n"
     ]
    }
   ],
   "source": [
    "df=df.drop(['City'],axis=1)\n",
    "df.info()"
   ]
  },
  {
   "cell_type": "code",
   "execution_count": null,
   "id": "a60c422a",
   "metadata": {},
   "outputs": [],
   "source": []
  },
  {
   "cell_type": "code",
   "execution_count": 65,
   "id": "f7f60ab0",
   "metadata": {},
   "outputs": [],
   "source": [
    "# This city feature is creating two much features when using dummy variable below for handling categorical column\n",
    "# Thats why I am going to drop that column"
   ]
  },
  {
   "cell_type": "markdown",
   "id": "66843b51",
   "metadata": {},
   "source": [
    "### Handling Categorical data"
   ]
  },
  {
   "cell_type": "code",
   "execution_count": 66,
   "id": "fec61678",
   "metadata": {},
   "outputs": [
    {
     "data": {
      "text/html": [
       "<div>\n",
       "<style scoped>\n",
       "    .dataframe tbody tr th:only-of-type {\n",
       "        vertical-align: middle;\n",
       "    }\n",
       "\n",
       "    .dataframe tbody tr th {\n",
       "        vertical-align: top;\n",
       "    }\n",
       "\n",
       "    .dataframe thead th {\n",
       "        text-align: right;\n",
       "    }\n",
       "</style>\n",
       "<table border=\"1\" class=\"dataframe\">\n",
       "  <thead>\n",
       "    <tr style=\"text-align: right;\">\n",
       "      <th></th>\n",
       "      <th>Age</th>\n",
       "      <th>Number of Dependents</th>\n",
       "      <th>Zip Code</th>\n",
       "      <th>Churn Value</th>\n",
       "      <th>Number of Referrals</th>\n",
       "      <th>Avg Monthly Long Distance Charges</th>\n",
       "      <th>Avg Monthly GB Download</th>\n",
       "      <th>Average Monthly Charge</th>\n",
       "      <th>Total Refunds</th>\n",
       "      <th>Total Extra Data Charges</th>\n",
       "      <th>...</th>\n",
       "      <th>Unlimited Data Pack_No</th>\n",
       "      <th>Unlimited Data Pack_Yes</th>\n",
       "      <th>Contract_Month-to-Month</th>\n",
       "      <th>Contract_One Year</th>\n",
       "      <th>Contract_Two Year</th>\n",
       "      <th>Paperless Billing_No</th>\n",
       "      <th>Paperless Billing_Yes</th>\n",
       "      <th>Payment Method_Bank Withdrawal</th>\n",
       "      <th>Payment Method_Credit Card</th>\n",
       "      <th>Payment Method_Mailed Check</th>\n",
       "    </tr>\n",
       "  </thead>\n",
       "  <tbody>\n",
       "    <tr>\n",
       "      <th>0</th>\n",
       "      <td>78</td>\n",
       "      <td>0</td>\n",
       "      <td>90022</td>\n",
       "      <td>1</td>\n",
       "      <td>0</td>\n",
       "      <td>0.00</td>\n",
       "      <td>8</td>\n",
       "      <td>39.65</td>\n",
       "      <td>0.00</td>\n",
       "      <td>20</td>\n",
       "      <td>...</td>\n",
       "      <td>1</td>\n",
       "      <td>0</td>\n",
       "      <td>1</td>\n",
       "      <td>0</td>\n",
       "      <td>0</td>\n",
       "      <td>0</td>\n",
       "      <td>1</td>\n",
       "      <td>1</td>\n",
       "      <td>0</td>\n",
       "      <td>0</td>\n",
       "    </tr>\n",
       "    <tr>\n",
       "      <th>1</th>\n",
       "      <td>74</td>\n",
       "      <td>1</td>\n",
       "      <td>90063</td>\n",
       "      <td>1</td>\n",
       "      <td>1</td>\n",
       "      <td>48.85</td>\n",
       "      <td>17</td>\n",
       "      <td>80.65</td>\n",
       "      <td>0.00</td>\n",
       "      <td>0</td>\n",
       "      <td>...</td>\n",
       "      <td>0</td>\n",
       "      <td>1</td>\n",
       "      <td>1</td>\n",
       "      <td>0</td>\n",
       "      <td>0</td>\n",
       "      <td>0</td>\n",
       "      <td>1</td>\n",
       "      <td>0</td>\n",
       "      <td>1</td>\n",
       "      <td>0</td>\n",
       "    </tr>\n",
       "    <tr>\n",
       "      <th>2</th>\n",
       "      <td>98</td>\n",
       "      <td>3</td>\n",
       "      <td>90065</td>\n",
       "      <td>1</td>\n",
       "      <td>0</td>\n",
       "      <td>11.33</td>\n",
       "      <td>52</td>\n",
       "      <td>95.45</td>\n",
       "      <td>45.61</td>\n",
       "      <td>0</td>\n",
       "      <td>...</td>\n",
       "      <td>0</td>\n",
       "      <td>1</td>\n",
       "      <td>1</td>\n",
       "      <td>0</td>\n",
       "      <td>0</td>\n",
       "      <td>0</td>\n",
       "      <td>1</td>\n",
       "      <td>1</td>\n",
       "      <td>0</td>\n",
       "      <td>0</td>\n",
       "    </tr>\n",
       "    <tr>\n",
       "      <th>3</th>\n",
       "      <td>78</td>\n",
       "      <td>1</td>\n",
       "      <td>90303</td>\n",
       "      <td>1</td>\n",
       "      <td>1</td>\n",
       "      <td>19.76</td>\n",
       "      <td>12</td>\n",
       "      <td>98.50</td>\n",
       "      <td>13.43</td>\n",
       "      <td>0</td>\n",
       "      <td>...</td>\n",
       "      <td>0</td>\n",
       "      <td>1</td>\n",
       "      <td>1</td>\n",
       "      <td>0</td>\n",
       "      <td>0</td>\n",
       "      <td>0</td>\n",
       "      <td>1</td>\n",
       "      <td>1</td>\n",
       "      <td>0</td>\n",
       "      <td>0</td>\n",
       "    </tr>\n",
       "    <tr>\n",
       "      <th>4</th>\n",
       "      <td>80</td>\n",
       "      <td>1</td>\n",
       "      <td>90602</td>\n",
       "      <td>1</td>\n",
       "      <td>1</td>\n",
       "      <td>6.33</td>\n",
       "      <td>14</td>\n",
       "      <td>76.50</td>\n",
       "      <td>0.00</td>\n",
       "      <td>0</td>\n",
       "      <td>...</td>\n",
       "      <td>0</td>\n",
       "      <td>1</td>\n",
       "      <td>1</td>\n",
       "      <td>0</td>\n",
       "      <td>0</td>\n",
       "      <td>0</td>\n",
       "      <td>1</td>\n",
       "      <td>1</td>\n",
       "      <td>0</td>\n",
       "      <td>0</td>\n",
       "    </tr>\n",
       "  </tbody>\n",
       "</table>\n",
       "<p>5 rows × 58 columns</p>\n",
       "</div>"
      ],
      "text/plain": [
       "   Age  Number of Dependents  Zip Code  Churn Value  Number of Referrals  \\\n",
       "0   78                     0     90022            1                    0   \n",
       "1   74                     1     90063            1                    1   \n",
       "2   98                     3     90065            1                    0   \n",
       "3   78                     1     90303            1                    1   \n",
       "4   80                     1     90602            1                    1   \n",
       "\n",
       "   Avg Monthly Long Distance Charges  Avg Monthly GB Download  \\\n",
       "0                               0.00                        8   \n",
       "1                              48.85                       17   \n",
       "2                              11.33                       52   \n",
       "3                              19.76                       12   \n",
       "4                               6.33                       14   \n",
       "\n",
       "   Average Monthly Charge  Total Refunds  Total Extra Data Charges  ...  \\\n",
       "0                   39.65           0.00                        20  ...   \n",
       "1                   80.65           0.00                         0  ...   \n",
       "2                   95.45          45.61                         0  ...   \n",
       "3                   98.50          13.43                         0  ...   \n",
       "4                   76.50           0.00                         0  ...   \n",
       "\n",
       "   Unlimited Data Pack_No  Unlimited Data Pack_Yes  Contract_Month-to-Month  \\\n",
       "0                       1                        0                        1   \n",
       "1                       0                        1                        1   \n",
       "2                       0                        1                        1   \n",
       "3                       0                        1                        1   \n",
       "4                       0                        1                        1   \n",
       "\n",
       "   Contract_One Year  Contract_Two Year  Paperless Billing_No  \\\n",
       "0                  0                  0                     0   \n",
       "1                  0                  0                     0   \n",
       "2                  0                  0                     0   \n",
       "3                  0                  0                     0   \n",
       "4                  0                  0                     0   \n",
       "\n",
       "   Paperless Billing_Yes  Payment Method_Bank Withdrawal  \\\n",
       "0                      1                               1   \n",
       "1                      1                               0   \n",
       "2                      1                               1   \n",
       "3                      1                               1   \n",
       "4                      1                               1   \n",
       "\n",
       "   Payment Method_Credit Card  Payment Method_Mailed Check  \n",
       "0                           0                            0  \n",
       "1                           1                            0  \n",
       "2                           0                            0  \n",
       "3                           0                            0  \n",
       "4                           0                            0  \n",
       "\n",
       "[5 rows x 58 columns]"
      ]
     },
     "execution_count": 66,
     "metadata": {},
     "output_type": "execute_result"
    }
   ],
   "source": [
    "df_dum = pd.get_dummies(df)\n",
    "df_dum.head()"
   ]
  },
  {
   "cell_type": "markdown",
   "id": "8af345ad",
   "metadata": {},
   "source": [
    "### MODEL 1"
   ]
  },
  {
   "cell_type": "code",
   "execution_count": 67,
   "id": "2f374385",
   "metadata": {},
   "outputs": [],
   "source": [
    "# seprating predictor and target variable\n",
    "y = df_dum['Churn Value'].values\n",
    "X = df_dum.drop(columns = ['Churn Value'])"
   ]
  },
  {
   "cell_type": "code",
   "execution_count": 68,
   "id": "862731e2",
   "metadata": {},
   "outputs": [],
   "source": [
    "# Scaling all the variables to a range of 0 to 1\n",
    "# from sklearn.preprocessing import MinMaxScaler\n",
    "# features = X.columns.values\n",
    "# scaler = MinMaxScaler(feature_range = (0,1))\n",
    "# scaler.fit(X)\n",
    "# X = pd.DataFrame(scaler.transform(X))\n",
    "# X.columns = features"
   ]
  },
  {
   "cell_type": "code",
   "execution_count": 69,
   "id": "e34f7826",
   "metadata": {},
   "outputs": [],
   "source": [
    "# Normalizing the data to avoid bias with features having high values.\n",
    "normalized_X=(X-X.min())/(X.max()-X.min())\n"
   ]
  },
  {
   "cell_type": "code",
   "execution_count": 70,
   "id": "86325185",
   "metadata": {},
   "outputs": [
    {
     "data": {
      "text/plain": [
       "Age                                  0\n",
       "Number of Dependents                 0\n",
       "Zip Code                             0\n",
       "Number of Referrals                  0\n",
       "Avg Monthly Long Distance Charges    0\n",
       "Avg Monthly GB Download              0\n",
       "Average Monthly Charge               0\n",
       "Total Refunds                        0\n",
       "Total Extra Data Charges             0\n",
       "Total Revenue                        0\n",
       "CLTV                                 0\n",
       "Gender_Female                        0\n",
       "Gender_Male                          0\n",
       "Under 30_No                          0\n",
       "Under 30_Yes                         0\n",
       "Senior Citizen_No                    0\n",
       "Senior Citizen_Yes                   0\n",
       "Married_No                           0\n",
       "Married_Yes                          0\n",
       "Dependents_No                        0\n",
       "Dependents_Yes                       0\n",
       "Referred a Friend_No                 0\n",
       "Referred a Friend_Yes                0\n",
       "Voice Service_No                     0\n",
       "Voice Service_Yes                    0\n",
       "Multiple Lines_No                    0\n",
       "Multiple Lines_Yes                   0\n",
       "Internet Service_No                  0\n",
       "Internet Service_Yes                 0\n",
       "Internet Type_Cable                  0\n",
       "Internet Type_DSL                    0\n",
       "Internet Type_Fiber Optic            0\n",
       "Internet Type_None                   0\n",
       "Online Security_No                   0\n",
       "Online Security_Yes                  0\n",
       "Online Backup_No                     0\n",
       "Online Backup_Yes                    0\n",
       "Device Protection Plan_No            0\n",
       "Device Protection Plan_Yes           0\n",
       "Premium Tech Support_No              0\n",
       "Premium Tech Support_Yes             0\n",
       "Streaming TV_No                      0\n",
       "Streaming TV_Yes                     0\n",
       "Streaming Movies_No                  0\n",
       "Streaming Movies_Yes                 0\n",
       "Streaming Music_No                   0\n",
       "Streaming Music_Yes                  0\n",
       "Unlimited Data Pack_No               0\n",
       "Unlimited Data Pack_Yes              0\n",
       "Contract_Month-to-Month              0\n",
       "Contract_One Year                    0\n",
       "Contract_Two Year                    0\n",
       "Paperless Billing_No                 0\n",
       "Paperless Billing_Yes                0\n",
       "Payment Method_Bank Withdrawal       0\n",
       "Payment Method_Credit Card           0\n",
       "Payment Method_Mailed Check          0\n",
       "dtype: int64"
      ]
     },
     "execution_count": 70,
     "metadata": {},
     "output_type": "execute_result"
    }
   ],
   "source": [
    "normalized_X.isnull().sum()"
   ]
  },
  {
   "cell_type": "code",
   "execution_count": 71,
   "id": "492b50ea",
   "metadata": {},
   "outputs": [],
   "source": [
    "from sklearn.model_selection import train_test_split\n",
    "X_train, X_test, y_train, y_test = train_test_split(normalized_X, y,stratify=y, test_size=0.2, random_state=40)"
   ]
  },
  {
   "cell_type": "code",
   "execution_count": 72,
   "id": "d3ea10e1",
   "metadata": {},
   "outputs": [],
   "source": [
    "from sklearn.metrics import accuracy_score\n",
    "from sklearn.metrics import classification_report, confusion_matrix"
   ]
  },
  {
   "cell_type": "code",
   "execution_count": 73,
   "id": "e1601ec7",
   "metadata": {},
   "outputs": [],
   "source": [
    "# colsample_bytree=0.4,gamma=10"
   ]
  },
  {
   "cell_type": "code",
   "execution_count": 74,
   "id": "ca7f3cd3",
   "metadata": {},
   "outputs": [],
   "source": [
    "params = {'n_estimators': [200,300,400,500,600,700],\n",
    "        'min_child_weight': [1, 5, 10],\n",
    "        'gamma': [0.5, 1, 1.5, 2, 5],\n",
    "        'subsample': [0.6, 0.8, 1.0],\n",
    "        'colsample_bytree': [0.6, 0.8, 1.0],\n",
    "        'max_depth': [3, 4, 5],\n",
    "          'eta':[0.01,0.02,0.3],\n",
    "          'lambda':[0.8,1,1.2,1.4],\n",
    "          'colsample_bynode':[0.6, 0.8, 1.0],\n",
    "          'colsample_bylevel':[0.6, 0.8, 1.0]\n",
    "        }"
   ]
  },
  {
   "cell_type": "code",
   "execution_count": 75,
   "id": "285b9c1c",
   "metadata": {},
   "outputs": [],
   "source": [
    "from sklearn.model_selection import RandomizedSearchCV, GridSearchCV\n",
    "from sklearn.metrics import roc_auc_score\n",
    "from sklearn.model_selection import StratifiedKFold\n",
    "from xgboost import XGBClassifier\n",
    "from datetime import datetime"
   ]
  },
  {
   "cell_type": "code",
   "execution_count": 76,
   "id": "ec7d3c57",
   "metadata": {},
   "outputs": [],
   "source": [
    "def timer(start_time=None):\n",
    "    if not start_time:\n",
    "        start_time = datetime.now()\n",
    "        return start_time\n",
    "    elif start_time:\n",
    "        thour, temp_sec = divmod((datetime.now() - start_time).total_seconds(), 3600)\n",
    "        tmin, tsec = divmod(temp_sec, 60)\n",
    "        print('\\n Time taken: %i hours %i minutes and %s seconds.' % (thour, tmin, round(tsec, 2)))"
   ]
  },
  {
   "cell_type": "code",
   "execution_count": 77,
   "id": "55ba527e",
   "metadata": {},
   "outputs": [],
   "source": [
    "xgb = XGBClassifier(learning_rate=0.02, objective='binary:logistic', nthread=-1)"
   ]
  },
  {
   "cell_type": "code",
   "execution_count": 78,
   "id": "f8ab02e0",
   "metadata": {},
   "outputs": [
    {
     "name": "stdout",
     "output_type": "stream",
     "text": [
      "Fitting 5 folds for each of 500 candidates, totalling 2500 fits\n",
      "\n",
      " Time taken: 0 hours 44 minutes and 24.41 seconds.\n"
     ]
    }
   ],
   "source": [
    "folds = 5\n",
    "param_comb = 500\n",
    "\n",
    "skf = StratifiedKFold(n_splits=folds, shuffle = True, random_state = 1001)\n",
    "\n",
    "random_search = RandomizedSearchCV(xgb, param_distributions=params, n_iter=param_comb, scoring='roc_auc', n_jobs=4, cv=skf.split(X_train,y_train), verbose=3, random_state=1001 )\n",
    "\n",
    "# Here we go\n",
    "start_time = timer(None) # timing starts from this point for \"start_time\" variable\n",
    "random_search.fit(X_train, y_train)\n",
    "timer(start_time) # timing ends here for \"start_time\" variable"
   ]
  },
  {
   "cell_type": "code",
   "execution_count": 79,
   "id": "39ae84cb",
   "metadata": {},
   "outputs": [
    {
     "name": "stdout",
     "output_type": "stream",
     "text": [
      "\n",
      " Best hyperparameters:\n",
      "{'subsample': 0.8, 'n_estimators': 700, 'min_child_weight': 1, 'max_depth': 4, 'lambda': 0.8, 'gamma': 5, 'eta': 0.02, 'colsample_bytree': 0.6, 'colsample_bynode': 0.8, 'colsample_bylevel': 1.0}\n"
     ]
    }
   ],
   "source": [
    "print('\\n Best hyperparameters:')\n",
    "print(random_search.best_params_)"
   ]
  },
  {
   "cell_type": "code",
   "execution_count": 80,
   "id": "9c755370",
   "metadata": {},
   "outputs": [
    {
     "name": "stdout",
     "output_type": "stream",
     "text": [
      "accuracy 0.8664150943396226\n",
      "------\n",
      "------\n",
      "TRAIN: Classification_report for Logistic \n",
      "\n",
      "              precision    recall  f1-score   support\n",
      "\n",
      "           0       0.91      0.94      0.92      3901\n",
      "           1       0.81      0.74      0.77      1398\n",
      "\n",
      "    accuracy                           0.88      5299\n",
      "   macro avg       0.86      0.84      0.85      5299\n",
      "weighted avg       0.88      0.88      0.88      5299\n",
      "\n",
      "TEST: Classification_report for Logistic \n",
      "\n",
      "              precision    recall  f1-score   support\n",
      "\n",
      "           0       0.89      0.94      0.91       975\n",
      "           1       0.80      0.66      0.72       350\n",
      "\n",
      "    accuracy                           0.87      1325\n",
      "   macro avg       0.84      0.80      0.82      1325\n",
      "weighted avg       0.86      0.87      0.86      1325\n",
      "\n"
     ]
    }
   ],
   "source": [
    "from xgboost import XGBClassifier\n",
    "model = XGBClassifier(**random_search.best_params_)\n",
    "model.fit(X_train, y_train)\n",
    "preds_xgb = model.predict(X_test)\n",
    "print('accuracy',accuracy_score(y_test, preds_xgb))\n",
    "\n",
    "print(\"------\")\n",
    "print(\"------\")\n",
    "\n",
    "## Classification_report for Logistic\n",
    "print('TRAIN: Classification_report for XGBOOST \\n')\n",
    "print(classification_report(y_train, model.predict(X_train)))\n",
    "print('TEST: Classification_report for XGBOOST \\n')\n",
    "print(classification_report(y_test, preds_xgb))"
   ]
  }
 ],
 "metadata": {
  "kernelspec": {
   "display_name": "Python 3 (ipykernel)",
   "language": "python",
   "name": "python3"
  },
  "language_info": {
   "codemirror_mode": {
    "name": "ipython",
    "version": 3
   },
   "file_extension": ".py",
   "mimetype": "text/x-python",
   "name": "python",
   "nbconvert_exporter": "python",
   "pygments_lexer": "ipython3",
   "version": "3.9.12"
  }
 },
 "nbformat": 4,
 "nbformat_minor": 5
}
