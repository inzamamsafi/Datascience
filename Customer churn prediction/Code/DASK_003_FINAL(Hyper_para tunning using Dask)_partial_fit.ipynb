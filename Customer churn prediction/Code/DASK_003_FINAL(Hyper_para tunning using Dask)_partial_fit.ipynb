{
 "cells": [
  {
   "cell_type": "code",
   "execution_count": 1,
   "id": "8ad293db",
   "metadata": {},
   "outputs": [],
   "source": [
    "from dask.diagnostics import ProgressBar"
   ]
  },
  {
   "cell_type": "code",
   "execution_count": 2,
   "id": "745bbc3a",
   "metadata": {},
   "outputs": [],
   "source": [
    "import dask.dataframe as dd"
   ]
  },
  {
   "cell_type": "code",
   "execution_count": 3,
   "id": "ec1a0275",
   "metadata": {},
   "outputs": [],
   "source": [
    "import numpy as np\n",
    "import pandas as pd"
   ]
  },
  {
   "cell_type": "code",
   "execution_count": 4,
   "id": "686f10bf",
   "metadata": {},
   "outputs": [],
   "source": [
    "import matplotlib.pyplot as plt\n",
    "import seaborn as sns"
   ]
  },
  {
   "cell_type": "code",
   "execution_count": 5,
   "id": "b548ad66",
   "metadata": {},
   "outputs": [],
   "source": [
    "from dask import delayed"
   ]
  },
  {
   "cell_type": "code",
   "execution_count": 6,
   "id": "3e9dfb7d",
   "metadata": {},
   "outputs": [],
   "source": [
    "df_demography = dd.read_csv('Telco_customer_churn_demographics.csv')\n",
    "df_location = dd.read_csv('Telco_customer_churn_location.csv')\n",
    "df_service = dd.read_csv('Telco_customer_churn_services updated.csv')\n",
    "df_status = dd.read_csv('Telco_customer_churn_status.csv')"
   ]
  },
  {
   "cell_type": "code",
   "execution_count": 7,
   "id": "4b10687d",
   "metadata": {},
   "outputs": [
    {
     "data": {
      "text/plain": [
       "dask.dataframe.core.DataFrame"
      ]
     },
     "execution_count": 7,
     "metadata": {},
     "output_type": "execute_result"
    }
   ],
   "source": [
    "type(df_status)"
   ]
  },
  {
   "cell_type": "code",
   "execution_count": 8,
   "id": "083c12c4",
   "metadata": {},
   "outputs": [],
   "source": [
    "# df_status.describe().compute()"
   ]
  },
  {
   "cell_type": "code",
   "execution_count": 9,
   "id": "654794ef",
   "metadata": {},
   "outputs": [
    {
     "data": {
      "text/html": [
       "<div>\n",
       "    <div style=\"width: 24px; height: 24px; background-color: #e1e1e1; border: 3px solid #9D9D9D; border-radius: 5px; position: absolute;\"> </div>\n",
       "    <div style=\"margin-left: 48px;\">\n",
       "        <h3 style=\"margin-bottom: 0px;\">Client</h3>\n",
       "        <p style=\"color: #9D9D9D; margin-bottom: 0px;\">Client-3efbea8d-ec7b-11ec-abcc-84c5a6040b0e</p>\n",
       "        <table style=\"width: 100%; text-align: left;\">\n",
       "\n",
       "        <tr>\n",
       "        \n",
       "            <td style=\"text-align: left;\"><strong>Connection method:</strong> Cluster object</td>\n",
       "            <td style=\"text-align: left;\"><strong>Cluster type:</strong> distributed.LocalCluster</td>\n",
       "        \n",
       "        </tr>\n",
       "\n",
       "        \n",
       "            <tr>\n",
       "                <td style=\"text-align: left;\">\n",
       "                    <strong>Dashboard: </strong> <a href=\"http://127.0.0.1:8787/status\" target=\"_blank\">http://127.0.0.1:8787/status</a>\n",
       "                </td>\n",
       "                <td style=\"text-align: left;\"></td>\n",
       "            </tr>\n",
       "        \n",
       "\n",
       "        </table>\n",
       "\n",
       "        \n",
       "            <details>\n",
       "            <summary style=\"margin-bottom: 20px;\"><h3 style=\"display: inline;\">Cluster Info</h3></summary>\n",
       "            <div class=\"jp-RenderedHTMLCommon jp-RenderedHTML jp-mod-trusted jp-OutputArea-output\">\n",
       "    <div style=\"width: 24px; height: 24px; background-color: #e1e1e1; border: 3px solid #9D9D9D; border-radius: 5px; position: absolute;\">\n",
       "    </div>\n",
       "    <div style=\"margin-left: 48px;\">\n",
       "        <h3 style=\"margin-bottom: 0px; margin-top: 0px;\">LocalCluster</h3>\n",
       "        <p style=\"color: #9D9D9D; margin-bottom: 0px;\">85636d9f</p>\n",
       "        <table style=\"width: 100%; text-align: left;\">\n",
       "            <tr>\n",
       "                <td style=\"text-align: left;\">\n",
       "                    <strong>Dashboard:</strong> <a href=\"http://127.0.0.1:8787/status\" target=\"_blank\">http://127.0.0.1:8787/status</a>\n",
       "                </td>\n",
       "                <td style=\"text-align: left;\">\n",
       "                    <strong>Workers:</strong> 4\n",
       "                </td>\n",
       "            </tr>\n",
       "            <tr>\n",
       "                <td style=\"text-align: left;\">\n",
       "                    <strong>Total threads:</strong> 8\n",
       "                </td>\n",
       "                <td style=\"text-align: left;\">\n",
       "                    <strong>Total memory:</strong> 15.75 GiB\n",
       "                </td>\n",
       "            </tr>\n",
       "            \n",
       "            <tr>\n",
       "    <td style=\"text-align: left;\"><strong>Status:</strong> running</td>\n",
       "    <td style=\"text-align: left;\"><strong>Using processes:</strong> True</td>\n",
       "</tr>\n",
       "\n",
       "            \n",
       "        </table>\n",
       "\n",
       "        <details>\n",
       "            <summary style=\"margin-bottom: 20px;\">\n",
       "                <h3 style=\"display: inline;\">Scheduler Info</h3>\n",
       "            </summary>\n",
       "\n",
       "            <div style=\"\">\n",
       "    <div>\n",
       "        <div style=\"width: 24px; height: 24px; background-color: #FFF7E5; border: 3px solid #FF6132; border-radius: 5px; position: absolute;\"> </div>\n",
       "        <div style=\"margin-left: 48px;\">\n",
       "            <h3 style=\"margin-bottom: 0px;\">Scheduler</h3>\n",
       "            <p style=\"color: #9D9D9D; margin-bottom: 0px;\">Scheduler-f80774a7-99b0-4412-97fe-fd7a9085609b</p>\n",
       "            <table style=\"width: 100%; text-align: left;\">\n",
       "                <tr>\n",
       "                    <td style=\"text-align: left;\">\n",
       "                        <strong>Comm:</strong> tcp://127.0.0.1:56579\n",
       "                    </td>\n",
       "                    <td style=\"text-align: left;\">\n",
       "                        <strong>Workers:</strong> 4\n",
       "                    </td>\n",
       "                </tr>\n",
       "                <tr>\n",
       "                    <td style=\"text-align: left;\">\n",
       "                        <strong>Dashboard:</strong> <a href=\"http://127.0.0.1:8787/status\" target=\"_blank\">http://127.0.0.1:8787/status</a>\n",
       "                    </td>\n",
       "                    <td style=\"text-align: left;\">\n",
       "                        <strong>Total threads:</strong> 8\n",
       "                    </td>\n",
       "                </tr>\n",
       "                <tr>\n",
       "                    <td style=\"text-align: left;\">\n",
       "                        <strong>Started:</strong> Just now\n",
       "                    </td>\n",
       "                    <td style=\"text-align: left;\">\n",
       "                        <strong>Total memory:</strong> 15.75 GiB\n",
       "                    </td>\n",
       "                </tr>\n",
       "            </table>\n",
       "        </div>\n",
       "    </div>\n",
       "\n",
       "    <details style=\"margin-left: 48px;\">\n",
       "        <summary style=\"margin-bottom: 20px;\">\n",
       "            <h3 style=\"display: inline;\">Workers</h3>\n",
       "        </summary>\n",
       "\n",
       "        \n",
       "        <div style=\"margin-bottom: 20px;\">\n",
       "            <div style=\"width: 24px; height: 24px; background-color: #DBF5FF; border: 3px solid #4CC9FF; border-radius: 5px; position: absolute;\"> </div>\n",
       "            <div style=\"margin-left: 48px;\">\n",
       "            <details>\n",
       "                <summary>\n",
       "                    <h4 style=\"margin-bottom: 0px; display: inline;\">Worker: 0</h4>\n",
       "                </summary>\n",
       "                <table style=\"width: 100%; text-align: left;\">\n",
       "                    <tr>\n",
       "                        <td style=\"text-align: left;\">\n",
       "                            <strong>Comm: </strong> tcp://127.0.0.1:56607\n",
       "                        </td>\n",
       "                        <td style=\"text-align: left;\">\n",
       "                            <strong>Total threads: </strong> 2\n",
       "                        </td>\n",
       "                    </tr>\n",
       "                    <tr>\n",
       "                        <td style=\"text-align: left;\">\n",
       "                            <strong>Dashboard: </strong> <a href=\"http://127.0.0.1:56611/status\" target=\"_blank\">http://127.0.0.1:56611/status</a>\n",
       "                        </td>\n",
       "                        <td style=\"text-align: left;\">\n",
       "                            <strong>Memory: </strong> 3.94 GiB\n",
       "                        </td>\n",
       "                    </tr>\n",
       "                    <tr>\n",
       "                        <td style=\"text-align: left;\">\n",
       "                            <strong>Nanny: </strong> tcp://127.0.0.1:56583\n",
       "                        </td>\n",
       "                        <td style=\"text-align: left;\"></td>\n",
       "                    </tr>\n",
       "                    <tr>\n",
       "                        <td colspan=\"2\" style=\"text-align: left;\">\n",
       "                            <strong>Local directory: </strong> C:\\Users\\inzamam.safi\\Documents\\NOTEBOOK\\dask-worker-space\\worker-bqzwaq9f\n",
       "                        </td>\n",
       "                    </tr>\n",
       "\n",
       "                    \n",
       "\n",
       "                    \n",
       "\n",
       "                </table>\n",
       "            </details>\n",
       "            </div>\n",
       "        </div>\n",
       "        \n",
       "        <div style=\"margin-bottom: 20px;\">\n",
       "            <div style=\"width: 24px; height: 24px; background-color: #DBF5FF; border: 3px solid #4CC9FF; border-radius: 5px; position: absolute;\"> </div>\n",
       "            <div style=\"margin-left: 48px;\">\n",
       "            <details>\n",
       "                <summary>\n",
       "                    <h4 style=\"margin-bottom: 0px; display: inline;\">Worker: 1</h4>\n",
       "                </summary>\n",
       "                <table style=\"width: 100%; text-align: left;\">\n",
       "                    <tr>\n",
       "                        <td style=\"text-align: left;\">\n",
       "                            <strong>Comm: </strong> tcp://127.0.0.1:56609\n",
       "                        </td>\n",
       "                        <td style=\"text-align: left;\">\n",
       "                            <strong>Total threads: </strong> 2\n",
       "                        </td>\n",
       "                    </tr>\n",
       "                    <tr>\n",
       "                        <td style=\"text-align: left;\">\n",
       "                            <strong>Dashboard: </strong> <a href=\"http://127.0.0.1:56613/status\" target=\"_blank\">http://127.0.0.1:56613/status</a>\n",
       "                        </td>\n",
       "                        <td style=\"text-align: left;\">\n",
       "                            <strong>Memory: </strong> 3.94 GiB\n",
       "                        </td>\n",
       "                    </tr>\n",
       "                    <tr>\n",
       "                        <td style=\"text-align: left;\">\n",
       "                            <strong>Nanny: </strong> tcp://127.0.0.1:56585\n",
       "                        </td>\n",
       "                        <td style=\"text-align: left;\"></td>\n",
       "                    </tr>\n",
       "                    <tr>\n",
       "                        <td colspan=\"2\" style=\"text-align: left;\">\n",
       "                            <strong>Local directory: </strong> C:\\Users\\inzamam.safi\\Documents\\NOTEBOOK\\dask-worker-space\\worker-ip359bz9\n",
       "                        </td>\n",
       "                    </tr>\n",
       "\n",
       "                    \n",
       "\n",
       "                    \n",
       "\n",
       "                </table>\n",
       "            </details>\n",
       "            </div>\n",
       "        </div>\n",
       "        \n",
       "        <div style=\"margin-bottom: 20px;\">\n",
       "            <div style=\"width: 24px; height: 24px; background-color: #DBF5FF; border: 3px solid #4CC9FF; border-radius: 5px; position: absolute;\"> </div>\n",
       "            <div style=\"margin-left: 48px;\">\n",
       "            <details>\n",
       "                <summary>\n",
       "                    <h4 style=\"margin-bottom: 0px; display: inline;\">Worker: 2</h4>\n",
       "                </summary>\n",
       "                <table style=\"width: 100%; text-align: left;\">\n",
       "                    <tr>\n",
       "                        <td style=\"text-align: left;\">\n",
       "                            <strong>Comm: </strong> tcp://127.0.0.1:56606\n",
       "                        </td>\n",
       "                        <td style=\"text-align: left;\">\n",
       "                            <strong>Total threads: </strong> 2\n",
       "                        </td>\n",
       "                    </tr>\n",
       "                    <tr>\n",
       "                        <td style=\"text-align: left;\">\n",
       "                            <strong>Dashboard: </strong> <a href=\"http://127.0.0.1:56610/status\" target=\"_blank\">http://127.0.0.1:56610/status</a>\n",
       "                        </td>\n",
       "                        <td style=\"text-align: left;\">\n",
       "                            <strong>Memory: </strong> 3.94 GiB\n",
       "                        </td>\n",
       "                    </tr>\n",
       "                    <tr>\n",
       "                        <td style=\"text-align: left;\">\n",
       "                            <strong>Nanny: </strong> tcp://127.0.0.1:56584\n",
       "                        </td>\n",
       "                        <td style=\"text-align: left;\"></td>\n",
       "                    </tr>\n",
       "                    <tr>\n",
       "                        <td colspan=\"2\" style=\"text-align: left;\">\n",
       "                            <strong>Local directory: </strong> C:\\Users\\inzamam.safi\\Documents\\NOTEBOOK\\dask-worker-space\\worker-1brphyxv\n",
       "                        </td>\n",
       "                    </tr>\n",
       "\n",
       "                    \n",
       "\n",
       "                    \n",
       "\n",
       "                </table>\n",
       "            </details>\n",
       "            </div>\n",
       "        </div>\n",
       "        \n",
       "        <div style=\"margin-bottom: 20px;\">\n",
       "            <div style=\"width: 24px; height: 24px; background-color: #DBF5FF; border: 3px solid #4CC9FF; border-radius: 5px; position: absolute;\"> </div>\n",
       "            <div style=\"margin-left: 48px;\">\n",
       "            <details>\n",
       "                <summary>\n",
       "                    <h4 style=\"margin-bottom: 0px; display: inline;\">Worker: 3</h4>\n",
       "                </summary>\n",
       "                <table style=\"width: 100%; text-align: left;\">\n",
       "                    <tr>\n",
       "                        <td style=\"text-align: left;\">\n",
       "                            <strong>Comm: </strong> tcp://127.0.0.1:56608\n",
       "                        </td>\n",
       "                        <td style=\"text-align: left;\">\n",
       "                            <strong>Total threads: </strong> 2\n",
       "                        </td>\n",
       "                    </tr>\n",
       "                    <tr>\n",
       "                        <td style=\"text-align: left;\">\n",
       "                            <strong>Dashboard: </strong> <a href=\"http://127.0.0.1:56612/status\" target=\"_blank\">http://127.0.0.1:56612/status</a>\n",
       "                        </td>\n",
       "                        <td style=\"text-align: left;\">\n",
       "                            <strong>Memory: </strong> 3.94 GiB\n",
       "                        </td>\n",
       "                    </tr>\n",
       "                    <tr>\n",
       "                        <td style=\"text-align: left;\">\n",
       "                            <strong>Nanny: </strong> tcp://127.0.0.1:56582\n",
       "                        </td>\n",
       "                        <td style=\"text-align: left;\"></td>\n",
       "                    </tr>\n",
       "                    <tr>\n",
       "                        <td colspan=\"2\" style=\"text-align: left;\">\n",
       "                            <strong>Local directory: </strong> C:\\Users\\inzamam.safi\\Documents\\NOTEBOOK\\dask-worker-space\\worker-oclhlo03\n",
       "                        </td>\n",
       "                    </tr>\n",
       "\n",
       "                    \n",
       "\n",
       "                    \n",
       "\n",
       "                </table>\n",
       "            </details>\n",
       "            </div>\n",
       "        </div>\n",
       "        \n",
       "\n",
       "    </details>\n",
       "</div>\n",
       "\n",
       "        </details>\n",
       "    </div>\n",
       "</div>\n",
       "            </details>\n",
       "        \n",
       "\n",
       "    </div>\n",
       "</div>"
      ],
      "text/plain": [
       "<Client: 'tcp://127.0.0.1:56579' processes=4 threads=8, memory=15.75 GiB>"
      ]
     },
     "execution_count": 9,
     "metadata": {},
     "output_type": "execute_result"
    }
   ],
   "source": [
    "from dask.distributed import Client\n",
    "client = Client()\n",
    "client"
   ]
  },
  {
   "cell_type": "code",
   "execution_count": 10,
   "id": "7db7746f",
   "metadata": {},
   "outputs": [],
   "source": [
    "df_location = df_location.drop(['Lat Long','Country'], axis=1)"
   ]
  },
  {
   "cell_type": "code",
   "execution_count": 11,
   "id": "835dae4d",
   "metadata": {},
   "outputs": [],
   "source": [
    "# REfer to status notebook\n",
    "\n",
    "df_status = df_status.drop(['Satisfaction Score','Customer Status','Churn Category','Churn Reason','Churn Score', 'Churn Label' ], axis = 1)"
   ]
  },
  {
   "cell_type": "code",
   "execution_count": 12,
   "id": "bc64510f",
   "metadata": {},
   "outputs": [
    {
     "name": "stderr",
     "output_type": "stream",
     "text": [
      "C:\\Users\\inzamam.safi\\Anaconda3\\lib\\site-packages\\dask\\dataframe\\multi.py:1222: UserWarning: Concatenating dataframes with unknown divisions.\n",
      "We're assuming that the indices of each dataframes are \n",
      " aligned. This assumption is not generally safe.\n",
      "  warnings.warn(\n"
     ]
    }
   ],
   "source": [
    "result = dd.concat([df_demography, df_location, df_status,df_service ], axis=1)"
   ]
  },
  {
   "cell_type": "code",
   "execution_count": 13,
   "id": "57379ecb",
   "metadata": {},
   "outputs": [],
   "source": [
    "# result.head()"
   ]
  },
  {
   "cell_type": "code",
   "execution_count": 14,
   "id": "67671e33",
   "metadata": {},
   "outputs": [],
   "source": [
    "# dropping duplicate column\n",
    "result = result.loc[:,~result.columns.duplicated()]"
   ]
  },
  {
   "cell_type": "code",
   "execution_count": 15,
   "id": "9750de32",
   "metadata": {},
   "outputs": [],
   "source": [
    "# dropping nan values\n",
    "df= result.dropna()"
   ]
  },
  {
   "cell_type": "code",
   "execution_count": 16,
   "id": "02299e33",
   "metadata": {},
   "outputs": [],
   "source": [
    "# checking for the duplicates values.\n",
    "df = df.drop_duplicates()"
   ]
  },
  {
   "cell_type": "code",
   "execution_count": 17,
   "id": "4227346c",
   "metadata": {},
   "outputs": [],
   "source": [
    "# df.head()"
   ]
  },
  {
   "cell_type": "code",
   "execution_count": 18,
   "id": "e22cfe65",
   "metadata": {},
   "outputs": [],
   "source": [
    "df=df.drop(['Count'], axis = 1)"
   ]
  },
  {
   "cell_type": "code",
   "execution_count": 19,
   "id": "6eb78bc9",
   "metadata": {},
   "outputs": [],
   "source": [
    "# correlation = df.corr()\n",
    "# plt.figure(figsize=(15,16))\n",
    "# sns.heatmap(correlation, cbar=True, square=True, fmt = '.2f', annot = True, annot_kws={'size':15}, cmap = 'coolwarm')"
   ]
  },
  {
   "cell_type": "code",
   "execution_count": 20,
   "id": "cc3e0737",
   "metadata": {},
   "outputs": [],
   "source": [
    "# Columns to drop\n",
    "df=df.drop(['Longitude','Latitude','Tenure in Months','Total Charges','Total Services','Tenure in Months','Total Long Distance Charges'], axis = 1)"
   ]
  },
  {
   "cell_type": "code",
   "execution_count": 21,
   "id": "fbb6de68",
   "metadata": {},
   "outputs": [],
   "source": [
    "df=df.drop(['State'],axis=1)"
   ]
  },
  {
   "cell_type": "code",
   "execution_count": 22,
   "id": "651034d6",
   "metadata": {},
   "outputs": [],
   "source": [
    "# df.shape[0].compute()"
   ]
  },
  {
   "cell_type": "code",
   "execution_count": 23,
   "id": "bc33c345",
   "metadata": {},
   "outputs": [
    {
     "data": {
      "text/plain": [
       "dask.dataframe.core.DataFrame"
      ]
     },
     "execution_count": 23,
     "metadata": {},
     "output_type": "execute_result"
    }
   ],
   "source": [
    "type(df)"
   ]
  },
  {
   "cell_type": "code",
   "execution_count": 24,
   "id": "e4aa4406",
   "metadata": {},
   "outputs": [],
   "source": [
    "# df.head()"
   ]
  },
  {
   "cell_type": "code",
   "execution_count": 25,
   "id": "66de20c0",
   "metadata": {},
   "outputs": [],
   "source": [
    "df=df.drop(['City'],axis=1)"
   ]
  },
  {
   "cell_type": "code",
   "execution_count": 26,
   "id": "ec62a576",
   "metadata": {},
   "outputs": [
    {
     "name": "stdout",
     "output_type": "stream",
     "text": [
      "<class 'dask.dataframe.core.DataFrame'>\n",
      "Columns: 35 entries, Customer ID to CLTV\n",
      "dtypes: object(23), float64(4), int64(8)"
     ]
    }
   ],
   "source": [
    "df.info()"
   ]
  },
  {
   "cell_type": "code",
   "execution_count": 27,
   "id": "4b771e66",
   "metadata": {},
   "outputs": [],
   "source": [
    "df=df.drop(['Customer ID', 'Quarter'],axis=1)"
   ]
  },
  {
   "cell_type": "code",
   "execution_count": 28,
   "id": "5ce16aa1",
   "metadata": {},
   "outputs": [],
   "source": [
    "# df.head()"
   ]
  },
  {
   "cell_type": "markdown",
   "id": "705f81c8",
   "metadata": {},
   "source": [
    "### Outlier handling"
   ]
  },
  {
   "cell_type": "code",
   "execution_count": 29,
   "id": "38ef8130",
   "metadata": {},
   "outputs": [
    {
     "data": {
      "text/html": [
       "<div>\n",
       "<style scoped>\n",
       "    .dataframe tbody tr th:only-of-type {\n",
       "        vertical-align: middle;\n",
       "    }\n",
       "\n",
       "    .dataframe tbody tr th {\n",
       "        vertical-align: top;\n",
       "    }\n",
       "\n",
       "    .dataframe thead th {\n",
       "        text-align: right;\n",
       "    }\n",
       "</style>\n",
       "<table border=\"1\" class=\"dataframe\">\n",
       "  <thead>\n",
       "    <tr style=\"text-align: right;\">\n",
       "      <th></th>\n",
       "      <th>Gender</th>\n",
       "      <th>Age</th>\n",
       "      <th>Under 30</th>\n",
       "      <th>Senior Citizen</th>\n",
       "      <th>Married</th>\n",
       "      <th>Dependents</th>\n",
       "      <th>Number of Dependents</th>\n",
       "      <th>Zip Code</th>\n",
       "      <th>Churn Value</th>\n",
       "      <th>Referred a Friend</th>\n",
       "      <th>...</th>\n",
       "      <th>Streaming Music</th>\n",
       "      <th>Unlimited Data Pack</th>\n",
       "      <th>Contract</th>\n",
       "      <th>Paperless Billing</th>\n",
       "      <th>Payment Method</th>\n",
       "      <th>Average Monthly Charge</th>\n",
       "      <th>Total Refunds</th>\n",
       "      <th>Total Extra Data Charges</th>\n",
       "      <th>Total Revenue</th>\n",
       "      <th>CLTV</th>\n",
       "    </tr>\n",
       "  </thead>\n",
       "  <tbody>\n",
       "    <tr>\n",
       "      <th>0</th>\n",
       "      <td>Male</td>\n",
       "      <td>78</td>\n",
       "      <td>No</td>\n",
       "      <td>Yes</td>\n",
       "      <td>No</td>\n",
       "      <td>No</td>\n",
       "      <td>0</td>\n",
       "      <td>90022</td>\n",
       "      <td>1</td>\n",
       "      <td>No</td>\n",
       "      <td>...</td>\n",
       "      <td>No</td>\n",
       "      <td>No</td>\n",
       "      <td>Month-to-Month</td>\n",
       "      <td>Yes</td>\n",
       "      <td>Bank Withdrawal</td>\n",
       "      <td>39.65</td>\n",
       "      <td>0.00</td>\n",
       "      <td>20</td>\n",
       "      <td>59.65</td>\n",
       "      <td>5433</td>\n",
       "    </tr>\n",
       "    <tr>\n",
       "      <th>1</th>\n",
       "      <td>Female</td>\n",
       "      <td>74</td>\n",
       "      <td>No</td>\n",
       "      <td>Yes</td>\n",
       "      <td>Yes</td>\n",
       "      <td>Yes</td>\n",
       "      <td>1</td>\n",
       "      <td>90063</td>\n",
       "      <td>1</td>\n",
       "      <td>Yes</td>\n",
       "      <td>...</td>\n",
       "      <td>No</td>\n",
       "      <td>Yes</td>\n",
       "      <td>Month-to-Month</td>\n",
       "      <td>Yes</td>\n",
       "      <td>Credit Card</td>\n",
       "      <td>80.65</td>\n",
       "      <td>0.00</td>\n",
       "      <td>0</td>\n",
       "      <td>1024.10</td>\n",
       "      <td>5302</td>\n",
       "    </tr>\n",
       "    <tr>\n",
       "      <th>2</th>\n",
       "      <td>Male</td>\n",
       "      <td>98</td>\n",
       "      <td>No</td>\n",
       "      <td>Yes</td>\n",
       "      <td>No</td>\n",
       "      <td>Yes</td>\n",
       "      <td>3</td>\n",
       "      <td>90065</td>\n",
       "      <td>1</td>\n",
       "      <td>No</td>\n",
       "      <td>...</td>\n",
       "      <td>Yes</td>\n",
       "      <td>Yes</td>\n",
       "      <td>Month-to-Month</td>\n",
       "      <td>Yes</td>\n",
       "      <td>Bank Withdrawal</td>\n",
       "      <td>95.45</td>\n",
       "      <td>45.61</td>\n",
       "      <td>0</td>\n",
       "      <td>1910.88</td>\n",
       "      <td>3179</td>\n",
       "    </tr>\n",
       "    <tr>\n",
       "      <th>3</th>\n",
       "      <td>Female</td>\n",
       "      <td>78</td>\n",
       "      <td>No</td>\n",
       "      <td>Yes</td>\n",
       "      <td>Yes</td>\n",
       "      <td>Yes</td>\n",
       "      <td>1</td>\n",
       "      <td>90303</td>\n",
       "      <td>1</td>\n",
       "      <td>Yes</td>\n",
       "      <td>...</td>\n",
       "      <td>No</td>\n",
       "      <td>Yes</td>\n",
       "      <td>Month-to-Month</td>\n",
       "      <td>Yes</td>\n",
       "      <td>Bank Withdrawal</td>\n",
       "      <td>98.50</td>\n",
       "      <td>13.43</td>\n",
       "      <td>0</td>\n",
       "      <td>2995.07</td>\n",
       "      <td>5337</td>\n",
       "    </tr>\n",
       "    <tr>\n",
       "      <th>4</th>\n",
       "      <td>Female</td>\n",
       "      <td>80</td>\n",
       "      <td>No</td>\n",
       "      <td>Yes</td>\n",
       "      <td>Yes</td>\n",
       "      <td>Yes</td>\n",
       "      <td>1</td>\n",
       "      <td>90602</td>\n",
       "      <td>1</td>\n",
       "      <td>Yes</td>\n",
       "      <td>...</td>\n",
       "      <td>No</td>\n",
       "      <td>Yes</td>\n",
       "      <td>Month-to-Month</td>\n",
       "      <td>Yes</td>\n",
       "      <td>Bank Withdrawal</td>\n",
       "      <td>76.50</td>\n",
       "      <td>0.00</td>\n",
       "      <td>0</td>\n",
       "      <td>3102.36</td>\n",
       "      <td>2793</td>\n",
       "    </tr>\n",
       "  </tbody>\n",
       "</table>\n",
       "<p>5 rows × 33 columns</p>\n",
       "</div>"
      ],
      "text/plain": [
       "   Gender  Age Under 30 Senior Citizen Married Dependents  \\\n",
       "0    Male   78       No            Yes      No         No   \n",
       "1  Female   74       No            Yes     Yes        Yes   \n",
       "2    Male   98       No            Yes      No        Yes   \n",
       "3  Female   78       No            Yes     Yes        Yes   \n",
       "4  Female   80       No            Yes     Yes        Yes   \n",
       "\n",
       "   Number of Dependents  Zip Code  Churn Value Referred a Friend  ...  \\\n",
       "0                     0     90022            1                No  ...   \n",
       "1                     1     90063            1               Yes  ...   \n",
       "2                     3     90065            1                No  ...   \n",
       "3                     1     90303            1               Yes  ...   \n",
       "4                     1     90602            1               Yes  ...   \n",
       "\n",
       "   Streaming Music Unlimited Data Pack        Contract Paperless Billing  \\\n",
       "0               No                  No  Month-to-Month               Yes   \n",
       "1               No                 Yes  Month-to-Month               Yes   \n",
       "2              Yes                 Yes  Month-to-Month               Yes   \n",
       "3               No                 Yes  Month-to-Month               Yes   \n",
       "4               No                 Yes  Month-to-Month               Yes   \n",
       "\n",
       "    Payment Method Average Monthly Charge  Total Refunds  \\\n",
       "0  Bank Withdrawal                  39.65           0.00   \n",
       "1      Credit Card                  80.65           0.00   \n",
       "2  Bank Withdrawal                  95.45          45.61   \n",
       "3  Bank Withdrawal                  98.50          13.43   \n",
       "4  Bank Withdrawal                  76.50           0.00   \n",
       "\n",
       "  Total Extra Data Charges Total Revenue  CLTV  \n",
       "0                       20         59.65  5433  \n",
       "1                        0       1024.10  5302  \n",
       "2                        0       1910.88  3179  \n",
       "3                        0       2995.07  5337  \n",
       "4                        0       3102.36  2793  \n",
       "\n",
       "[5 rows x 33 columns]"
      ]
     },
     "execution_count": 29,
     "metadata": {},
     "output_type": "execute_result"
    }
   ],
   "source": [
    "def IQR(x):\n",
    "    Q1 = x.quantile(0.25)\n",
    "    Q3 = x.quantile(0.75)\n",
    "    IQR = Q3 - Q1\n",
    "    low_lim = Q1 - 1.5 * IQR\n",
    "    up_lim = Q3 + 1.5 * IQR\n",
    "    df1= df[x <= up_lim]\n",
    "    return df1\n",
    "\n",
    "dfx1=delayed(IQR)(df['Total Revenue'])\n",
    "\n",
    "dfx2=delayed(IQR)(df['Avg Monthly GB Download'])\n",
    "\n",
    "def merging(dfx1,dfx2):\n",
    "    return dd.merge(dfx1,dfx2, how='inner')\n",
    "\n",
    "df_combo=delayed(merging)(dfx1,dfx2)\n",
    "\n",
    "df=df_combo.compute()\n",
    "\n",
    "df.head()"
   ]
  },
  {
   "cell_type": "markdown",
   "id": "6c04843b",
   "metadata": {},
   "source": [
    "### Handling Categorical data"
   ]
  },
  {
   "cell_type": "code",
   "execution_count": 30,
   "id": "24c04e0c",
   "metadata": {},
   "outputs": [],
   "source": [
    "# df_cat = pd.Categorical(df)"
   ]
  },
  {
   "cell_type": "code",
   "execution_count": 31,
   "id": "d6f220df",
   "metadata": {},
   "outputs": [],
   "source": [
    "df_dum = dd.get_dummies(df.categorize())\n",
    "# df_dum.head()"
   ]
  },
  {
   "cell_type": "code",
   "execution_count": 32,
   "id": "57ced65e",
   "metadata": {},
   "outputs": [],
   "source": [
    "### MODEL 1"
   ]
  },
  {
   "cell_type": "code",
   "execution_count": 33,
   "id": "a805fab1",
   "metadata": {},
   "outputs": [],
   "source": [
    "# seprating predictor and target variable\n",
    "y = df_dum['Churn Value'].values\n",
    "X = df_dum.drop(columns = ['Churn Value'])"
   ]
  },
  {
   "cell_type": "code",
   "execution_count": 34,
   "id": "9375cd3e",
   "metadata": {},
   "outputs": [
    {
     "data": {
      "text/plain": [
       "dask.dataframe.core.DataFrame"
      ]
     },
     "execution_count": 34,
     "metadata": {},
     "output_type": "execute_result"
    }
   ],
   "source": [
    "type(X)"
   ]
  },
  {
   "cell_type": "code",
   "execution_count": null,
   "id": "97c7b18c",
   "metadata": {},
   "outputs": [],
   "source": []
  },
  {
   "cell_type": "code",
   "execution_count": 35,
   "id": "28f4741a",
   "metadata": {},
   "outputs": [
    {
     "data": {
      "text/plain": [
       "dask.array.core.Array"
      ]
     },
     "execution_count": 35,
     "metadata": {},
     "output_type": "execute_result"
    }
   ],
   "source": [
    "type(y)"
   ]
  },
  {
   "cell_type": "code",
   "execution_count": 36,
   "id": "8fcc732e",
   "metadata": {},
   "outputs": [],
   "source": [
    "y = dd.io.from_dask_array(y)"
   ]
  },
  {
   "cell_type": "code",
   "execution_count": 37,
   "id": "fe5c2377",
   "metadata": {},
   "outputs": [
    {
     "data": {
      "text/plain": [
       "dask.dataframe.core.Series"
      ]
     },
     "execution_count": 37,
     "metadata": {},
     "output_type": "execute_result"
    }
   ],
   "source": [
    "type(y)"
   ]
  },
  {
   "cell_type": "code",
   "execution_count": 38,
   "id": "d8a30da8",
   "metadata": {},
   "outputs": [],
   "source": [
    "# Normalizing the data to avoid bias with features having high values.\n",
    "X=(X-X.min())/(X.max()-X.min())\n"
   ]
  },
  {
   "cell_type": "code",
   "execution_count": 39,
   "id": "4ee7424e",
   "metadata": {},
   "outputs": [],
   "source": [
    "# from dask_ml.linear_model import LogisticRegression\n",
    "from dask_ml.model_selection import train_test_split as train_test_split_dask"
   ]
  },
  {
   "cell_type": "code",
   "execution_count": 40,
   "id": "821bf799",
   "metadata": {},
   "outputs": [],
   "source": [
    "# from sklearn.model_selection import train_test_split\n",
    "from sklearn.linear_model import LogisticRegression"
   ]
  },
  {
   "cell_type": "code",
   "execution_count": 41,
   "id": "6f443493",
   "metadata": {},
   "outputs": [
    {
     "name": "stderr",
     "output_type": "stream",
     "text": [
      "C:\\Users\\inzamam.safi\\Anaconda3\\lib\\site-packages\\dask_ml\\model_selection\\_split.py:462: FutureWarning: The default value for 'shuffle' must be specified when splitting DataFrames. In the future DataFrames will automatically be shuffled within blocks prior to splitting. Specify 'shuffle=True' to adopt the future behavior now, or 'shuffle=False' to retain the previous behavior.\n",
      "  warnings.warn(\n"
     ]
    }
   ],
   "source": [
    "import joblib\n",
    "model = LogisticRegression(max_iter=1000)\n",
    "X_train, X_test, y_train, y_test = train_test_split_dask(X, y, test_size=0.2, random_state=40)\n",
    "with joblib.parallel_backend(\"dask\"):\n",
    "    result = model.fit(X_train, y_train)"
   ]
  },
  {
   "cell_type": "code",
   "execution_count": 42,
   "id": "73f275cf",
   "metadata": {},
   "outputs": [
    {
     "name": "stdout",
     "output_type": "stream",
     "text": [
      "0.8464536243180046\n",
      "------\n",
      "------\n",
      "[[877  83]\n",
      " [114 209]]\n",
      "------\n",
      "------\n",
      "TRAIN: Classification_report for Logistic \n",
      "\n",
      "              precision    recall  f1-score   support\n",
      "\n",
      "           0       0.88      0.91      0.89      3915\n",
      "           1       0.72      0.66      0.69      1425\n",
      "\n",
      "    accuracy                           0.84      5340\n",
      "   macro avg       0.80      0.78      0.79      5340\n",
      "weighted avg       0.84      0.84      0.84      5340\n",
      "\n",
      "TEST: Classification_report for Logistic \n",
      "\n",
      "              precision    recall  f1-score   support\n",
      "\n",
      "           0       0.88      0.91      0.90       960\n",
      "           1       0.72      0.65      0.68       323\n",
      "\n",
      "    accuracy                           0.85      1283\n",
      "   macro avg       0.80      0.78      0.79      1283\n",
      "weighted avg       0.84      0.85      0.84      1283\n",
      "\n"
     ]
    }
   ],
   "source": [
    "from sklearn import metrics\n",
    "prediction_test = model.predict(X_test)\n",
    "# Print the prediction accuracy\n",
    "print (metrics.accuracy_score(y_test, prediction_test))\n",
    "\n",
    "print(\"------\")\n",
    "print(\"------\")\n",
    "\n",
    "from sklearn.metrics import classification_report, confusion_matrix  \n",
    "print(confusion_matrix(y_test,prediction_test)) \n",
    "\n",
    "print(\"------\")\n",
    "print(\"------\")\n",
    "\n",
    "## Classification_report for Logistic\n",
    "print('TRAIN: Classification_report for Logistic \\n')\n",
    "print(classification_report(y_train, model.predict(X_train)))\n",
    "print('TEST: Classification_report for Logistic \\n')\n",
    "print(classification_report(y_test, prediction_test))"
   ]
  },
  {
   "cell_type": "code",
   "execution_count": null,
   "id": "7211fe03",
   "metadata": {},
   "outputs": [],
   "source": [
    "# MODEL 2"
   ]
  },
  {
   "cell_type": "code",
   "execution_count": 43,
   "id": "e3ec0bd4",
   "metadata": {},
   "outputs": [],
   "source": [
    "from sklearn.metrics import accuracy_score\n",
    "from sklearn.metrics import classification_report, confusion_matrix"
   ]
  },
  {
   "cell_type": "code",
   "execution_count": 44,
   "id": "8053ec65",
   "metadata": {},
   "outputs": [],
   "source": [
    "# from sklearn.model_selection import RandomizedSearchCV, GridSearchCV\n",
    "from sklearn.metrics import roc_auc_score\n",
    "from sklearn.model_selection import StratifiedKFold\n",
    "from xgboost import XGBClassifier\n",
    "from datetime import datetime"
   ]
  },
  {
   "cell_type": "code",
   "execution_count": 45,
   "id": "6d0e4116",
   "metadata": {},
   "outputs": [],
   "source": [
    "from dask_ml.model_selection import HyperbandSearchCV"
   ]
  },
  {
   "cell_type": "code",
   "execution_count": 46,
   "id": "869ef54e",
   "metadata": {},
   "outputs": [],
   "source": [
    "params = {'n_estimators': [200,300,400,500,600,700],\n",
    "        'min_child_weight': [1, 5, 10],\n",
    "        'gamma': [0.5, 1, 1.5, 2, 5],\n",
    "        'subsample': [0.6, 0.8, 1.0],\n",
    "        'colsample_bytree': [0.6, 0.8, 1.0],\n",
    "        'max_depth': [3, 4, 5],\n",
    "          'eta':[0.01,0.02,0.3],\n",
    "          'lambda':[0.8,1,1.2,1.4],\n",
    "          'colsample_bynode':[0.6, 0.8, 1.0],\n",
    "          'colsample_bylevel':[0.6, 0.8, 1.0]\n",
    "        }"
   ]
  },
  {
   "cell_type": "code",
   "execution_count": 47,
   "id": "69d92fe2",
   "metadata": {},
   "outputs": [],
   "source": [
    "def timer(start_time=None):\n",
    "    if not start_time:\n",
    "        start_time = datetime.now()\n",
    "        return start_time\n",
    "    elif start_time:\n",
    "        thour, temp_sec = divmod((datetime.now() - start_time).total_seconds(), 3600)\n",
    "        tmin, tsec = divmod(temp_sec, 60)\n",
    "        print('\\n Time taken: %i hours %i minutes and %s seconds.' % (thour, tmin, round(tsec, 2)))"
   ]
  },
  {
   "cell_type": "code",
   "execution_count": 48,
   "id": "9694621c",
   "metadata": {},
   "outputs": [],
   "source": [
    "from dask_ml.wrappers import Incremental"
   ]
  },
  {
   "cell_type": "code",
   "execution_count": 49,
   "id": "4dfe1c66",
   "metadata": {},
   "outputs": [],
   "source": [
    "xgb  = Incremental(XGBClassifier())"
   ]
  },
  {
   "cell_type": "code",
   "execution_count": null,
   "id": "0d6d240c",
   "metadata": {},
   "outputs": [],
   "source": []
  },
  {
   "cell_type": "code",
   "execution_count": 55,
   "id": "f46c436a",
   "metadata": {},
   "outputs": [
    {
     "ename": "ValueError",
     "evalue": "Invalid parameter 'subsample' for estimator Incremental(estimator=XGBClassifier(base_score=None, booster=None,\n                                    callbacks=None, colsample_bylevel=None,\n                                    colsample_bynode=None,\n                                    colsample_bytree=None,\n                                    early_stopping_rounds=None,\n                                    enable_categorical=False, eval_metric=None,\n                                    gamma=None, gpu_id=None, grow_policy=None,\n                                    importance_type=None,\n                                    interaction_constraints=None,\n                                    learning_rate=None, max_bin=None,\n                                    max_cat_to_onehot=None, max_delta_step=None,\n                                    max_depth=None, max_leaves=None,\n                                    min_child_weight=None, missing=nan,\n                                    monotone_constraints=None, n_estimators=100,\n                                    n_jobs=None, num_parallel_tree=None,\n                                    predictor=None, random_state=None,\n                                    reg_alpha=None, reg_lambda=None, ...)). Valid parameters are: ['assume_equal_chunks', 'estimator', 'predict_meta', 'predict_proba_meta', 'random_state', 'scoring', 'shuffle_blocks', 'transform_meta'].",
     "output_type": "error",
     "traceback": [
      "\u001b[1;31m---------------------------------------------------------------------------\u001b[0m",
      "\u001b[1;31mValueError\u001b[0m                                Traceback (most recent call last)",
      "Input \u001b[1;32mIn [55]\u001b[0m, in \u001b[0;36m<cell line: 10>\u001b[1;34m()\u001b[0m\n\u001b[0;32m      9\u001b[0m start_time \u001b[38;5;241m=\u001b[39m timer(\u001b[38;5;28;01mNone\u001b[39;00m) \u001b[38;5;66;03m# timing starts from this point for \"start_time\" variable\u001b[39;00m\n\u001b[0;32m     10\u001b[0m \u001b[38;5;28;01mwith\u001b[39;00m joblib\u001b[38;5;241m.\u001b[39mparallel_backend(\u001b[38;5;124m\"\u001b[39m\u001b[38;5;124mdask\u001b[39m\u001b[38;5;124m\"\u001b[39m):\n\u001b[1;32m---> 11\u001b[0m     \u001b[43mrandom_search\u001b[49m\u001b[38;5;241;43m.\u001b[39;49m\u001b[43mfit\u001b[49m\u001b[43m(\u001b[49m\u001b[43mX_train\u001b[49m\u001b[43m,\u001b[49m\u001b[43m \u001b[49m\u001b[43my_train\u001b[49m\u001b[43m)\u001b[49m\n\u001b[0;32m     12\u001b[0m timer(start_time)\n",
      "File \u001b[1;32m~\\Anaconda3\\lib\\site-packages\\dask_ml\\model_selection\\_incremental.py:727\u001b[0m, in \u001b[0;36mBaseIncrementalSearchCV.fit\u001b[1;34m(self, X, y, **fit_params)\u001b[0m\n\u001b[0;32m    725\u001b[0m client \u001b[38;5;241m=\u001b[39m default_client()\n\u001b[0;32m    726\u001b[0m \u001b[38;5;28;01mif\u001b[39;00m \u001b[38;5;129;01mnot\u001b[39;00m client\u001b[38;5;241m.\u001b[39masynchronous:\n\u001b[1;32m--> 727\u001b[0m     \u001b[38;5;28;01mreturn\u001b[39;00m client\u001b[38;5;241m.\u001b[39msync(\u001b[38;5;28mself\u001b[39m\u001b[38;5;241m.\u001b[39m_fit, X, y, \u001b[38;5;241m*\u001b[39m\u001b[38;5;241m*\u001b[39mfit_params)\n\u001b[0;32m    728\u001b[0m \u001b[38;5;28;01mreturn\u001b[39;00m \u001b[38;5;28mself\u001b[39m\u001b[38;5;241m.\u001b[39m_fit(X, y, \u001b[38;5;241m*\u001b[39m\u001b[38;5;241m*\u001b[39mfit_params)\n",
      "File \u001b[1;32m~\\Anaconda3\\lib\\site-packages\\distributed\\utils.py:311\u001b[0m, in \u001b[0;36mSyncMethodMixin.sync\u001b[1;34m(self, func, asynchronous, callback_timeout, *args, **kwargs)\u001b[0m\n\u001b[0;32m    309\u001b[0m     \u001b[38;5;28;01mreturn\u001b[39;00m future\n\u001b[0;32m    310\u001b[0m \u001b[38;5;28;01melse\u001b[39;00m:\n\u001b[1;32m--> 311\u001b[0m     \u001b[38;5;28;01mreturn\u001b[39;00m sync(\n\u001b[0;32m    312\u001b[0m         \u001b[38;5;28mself\u001b[39m\u001b[38;5;241m.\u001b[39mloop, func, \u001b[38;5;241m*\u001b[39margs, callback_timeout\u001b[38;5;241m=\u001b[39mcallback_timeout, \u001b[38;5;241m*\u001b[39m\u001b[38;5;241m*\u001b[39mkwargs\n\u001b[0;32m    313\u001b[0m     )\n",
      "File \u001b[1;32m~\\Anaconda3\\lib\\site-packages\\distributed\\utils.py:378\u001b[0m, in \u001b[0;36msync\u001b[1;34m(loop, func, callback_timeout, *args, **kwargs)\u001b[0m\n\u001b[0;32m    376\u001b[0m \u001b[38;5;28;01mif\u001b[39;00m error:\n\u001b[0;32m    377\u001b[0m     typ, exc, tb \u001b[38;5;241m=\u001b[39m error\n\u001b[1;32m--> 378\u001b[0m     \u001b[38;5;28;01mraise\u001b[39;00m exc\u001b[38;5;241m.\u001b[39mwith_traceback(tb)\n\u001b[0;32m    379\u001b[0m \u001b[38;5;28;01melse\u001b[39;00m:\n\u001b[0;32m    380\u001b[0m     \u001b[38;5;28;01mreturn\u001b[39;00m result\n",
      "File \u001b[1;32m~\\Anaconda3\\lib\\site-packages\\distributed\\utils.py:351\u001b[0m, in \u001b[0;36msync.<locals>.f\u001b[1;34m()\u001b[0m\n\u001b[0;32m    349\u001b[0m         future \u001b[38;5;241m=\u001b[39m asyncio\u001b[38;5;241m.\u001b[39mwait_for(future, callback_timeout)\n\u001b[0;32m    350\u001b[0m     future \u001b[38;5;241m=\u001b[39m asyncio\u001b[38;5;241m.\u001b[39mensure_future(future)\n\u001b[1;32m--> 351\u001b[0m     result \u001b[38;5;241m=\u001b[39m \u001b[38;5;28;01myield\u001b[39;00m future\n\u001b[0;32m    352\u001b[0m \u001b[38;5;28;01mexcept\u001b[39;00m \u001b[38;5;167;01mException\u001b[39;00m:\n\u001b[0;32m    353\u001b[0m     error \u001b[38;5;241m=\u001b[39m sys\u001b[38;5;241m.\u001b[39mexc_info()\n",
      "File \u001b[1;32m~\\Anaconda3\\lib\\site-packages\\tornado\\gen.py:762\u001b[0m, in \u001b[0;36mRunner.run\u001b[1;34m(self)\u001b[0m\n\u001b[0;32m    759\u001b[0m exc_info \u001b[38;5;241m=\u001b[39m \u001b[38;5;28;01mNone\u001b[39;00m\n\u001b[0;32m    761\u001b[0m \u001b[38;5;28;01mtry\u001b[39;00m:\n\u001b[1;32m--> 762\u001b[0m     value \u001b[38;5;241m=\u001b[39m \u001b[43mfuture\u001b[49m\u001b[38;5;241;43m.\u001b[39;49m\u001b[43mresult\u001b[49m\u001b[43m(\u001b[49m\u001b[43m)\u001b[49m\n\u001b[0;32m    763\u001b[0m \u001b[38;5;28;01mexcept\u001b[39;00m \u001b[38;5;167;01mException\u001b[39;00m:\n\u001b[0;32m    764\u001b[0m     exc_info \u001b[38;5;241m=\u001b[39m sys\u001b[38;5;241m.\u001b[39mexc_info()\n",
      "File \u001b[1;32m~\\Anaconda3\\lib\\site-packages\\dask_ml\\model_selection\\_hyperband.py:425\u001b[0m, in \u001b[0;36mHyperbandSearchCV._fit\u001b[1;34m(self, X, y, **fit_params)\u001b[0m\n\u001b[0;32m    420\u001b[0m \u001b[38;5;66;03m# Which bracket to run first? Going to go with most adaptive;\u001b[39;00m\n\u001b[0;32m    421\u001b[0m \u001b[38;5;66;03m# that works best on one machine.\u001b[39;00m\n\u001b[0;32m    422\u001b[0m \u001b[38;5;66;03m# (though it doesn't matter a ton; _fit prioritizes high scores\u001b[39;00m\n\u001b[0;32m    423\u001b[0m _brackets_ids \u001b[38;5;241m=\u001b[39m \u001b[38;5;28mlist\u001b[39m(\u001b[38;5;28mreversed\u001b[39m(\u001b[38;5;28msorted\u001b[39m(SHAs)))\n\u001b[1;32m--> 425\u001b[0m _SHAs \u001b[38;5;241m=\u001b[39m \u001b[38;5;28;01mawait\u001b[39;00m asyncio\u001b[38;5;241m.\u001b[39mgather(\n\u001b[0;32m    426\u001b[0m     \u001b[38;5;241m*\u001b[39m[SHAs[b]\u001b[38;5;241m.\u001b[39m_fit(X, y, \u001b[38;5;241m*\u001b[39m\u001b[38;5;241m*\u001b[39mfit_params) \u001b[38;5;28;01mfor\u001b[39;00m b \u001b[38;5;129;01min\u001b[39;00m _brackets_ids]\n\u001b[0;32m    427\u001b[0m )\n\u001b[0;32m    428\u001b[0m SHAs \u001b[38;5;241m=\u001b[39m {b: SHA \u001b[38;5;28;01mfor\u001b[39;00m b, SHA \u001b[38;5;129;01min\u001b[39;00m \u001b[38;5;28mzip\u001b[39m(_brackets_ids, _SHAs)}\n\u001b[0;32m    430\u001b[0m \u001b[38;5;66;03m# This for-loop rename estimator IDs and pulls out wall times\u001b[39;00m\n",
      "File \u001b[1;32m~\\Anaconda3\\lib\\site-packages\\dask_ml\\model_selection\\_incremental.py:673\u001b[0m, in \u001b[0;36mBaseIncrementalSearchCV._fit\u001b[1;34m(self, X, y, **fit_params)\u001b[0m\n\u001b[0;32m    670\u001b[0m X_train, X_test, y_train, y_test \u001b[38;5;241m=\u001b[39m \u001b[38;5;28mself\u001b[39m\u001b[38;5;241m.\u001b[39m_get_train_test_split(X, y)\n\u001b[0;32m    672\u001b[0m \u001b[38;5;28;01mwith\u001b[39;00m context:\n\u001b[1;32m--> 673\u001b[0m     results \u001b[38;5;241m=\u001b[39m \u001b[38;5;28;01mawait\u001b[39;00m fit(\n\u001b[0;32m    674\u001b[0m         \u001b[38;5;28mself\u001b[39m\u001b[38;5;241m.\u001b[39mestimator,\n\u001b[0;32m    675\u001b[0m         \u001b[38;5;28mself\u001b[39m\u001b[38;5;241m.\u001b[39m_get_params(),\n\u001b[0;32m    676\u001b[0m         X_train,\n\u001b[0;32m    677\u001b[0m         y_train,\n\u001b[0;32m    678\u001b[0m         X_test,\n\u001b[0;32m    679\u001b[0m         y_test,\n\u001b[0;32m    680\u001b[0m         additional_calls\u001b[38;5;241m=\u001b[39m\u001b[38;5;28mself\u001b[39m\u001b[38;5;241m.\u001b[39m_additional_calls,\n\u001b[0;32m    681\u001b[0m         fit_params\u001b[38;5;241m=\u001b[39mfit_params,\n\u001b[0;32m    682\u001b[0m         scorer\u001b[38;5;241m=\u001b[39mscorer,\n\u001b[0;32m    683\u001b[0m         random_state\u001b[38;5;241m=\u001b[39m\u001b[38;5;28mself\u001b[39m\u001b[38;5;241m.\u001b[39mrandom_state,\n\u001b[0;32m    684\u001b[0m         verbose\u001b[38;5;241m=\u001b[39m\u001b[38;5;28mself\u001b[39m\u001b[38;5;241m.\u001b[39mverbose,\n\u001b[0;32m    685\u001b[0m         prefix\u001b[38;5;241m=\u001b[39m\u001b[38;5;28mself\u001b[39m\u001b[38;5;241m.\u001b[39mprefix,\n\u001b[0;32m    686\u001b[0m     )\n\u001b[0;32m    687\u001b[0m results \u001b[38;5;241m=\u001b[39m \u001b[38;5;28mself\u001b[39m\u001b[38;5;241m.\u001b[39m_process_results(results)\n\u001b[0;32m    688\u001b[0m model_history, models, history, bst \u001b[38;5;241m=\u001b[39m results\n",
      "File \u001b[1;32m~\\Anaconda3\\lib\\site-packages\\dask_ml\\model_selection\\_incremental.py:478\u001b[0m, in \u001b[0;36mfit\u001b[1;34m(model, params, X_train, y_train, X_test, y_test, additional_calls, fit_params, scorer, random_state, verbose, prefix)\u001b[0m\n\u001b[0;32m    351\u001b[0m \u001b[38;5;28;01masync\u001b[39;00m \u001b[38;5;28;01mdef\u001b[39;00m \u001b[38;5;21mfit\u001b[39m(\n\u001b[0;32m    352\u001b[0m     model,\n\u001b[0;32m    353\u001b[0m     params,\n\u001b[1;32m   (...)\u001b[0m\n\u001b[0;32m    363\u001b[0m     prefix\u001b[38;5;241m=\u001b[39m\u001b[38;5;124m\"\u001b[39m\u001b[38;5;124m\"\u001b[39m,\n\u001b[0;32m    364\u001b[0m ):\n\u001b[0;32m    365\u001b[0m     \u001b[38;5;124;03m\"\"\"Find a good model and search among a space of hyper-parameters\u001b[39;00m\n\u001b[0;32m    366\u001b[0m \n\u001b[0;32m    367\u001b[0m \u001b[38;5;124;03m    This does a hyper-parameter search by creating many models and then fitting\u001b[39;00m\n\u001b[1;32m   (...)\u001b[0m\n\u001b[0;32m    476\u001b[0m \u001b[38;5;124;03m        A history of all models scores over time\u001b[39;00m\n\u001b[0;32m    477\u001b[0m \u001b[38;5;124;03m    \"\"\"\u001b[39;00m\n\u001b[1;32m--> 478\u001b[0m     \u001b[38;5;28;01mreturn\u001b[39;00m \u001b[38;5;28;01mawait\u001b[39;00m _fit(\n\u001b[0;32m    479\u001b[0m         model,\n\u001b[0;32m    480\u001b[0m         params,\n\u001b[0;32m    481\u001b[0m         X_train,\n\u001b[0;32m    482\u001b[0m         y_train,\n\u001b[0;32m    483\u001b[0m         X_test,\n\u001b[0;32m    484\u001b[0m         y_test,\n\u001b[0;32m    485\u001b[0m         additional_calls,\n\u001b[0;32m    486\u001b[0m         fit_params\u001b[38;5;241m=\u001b[39mfit_params,\n\u001b[0;32m    487\u001b[0m         scorer\u001b[38;5;241m=\u001b[39mscorer,\n\u001b[0;32m    488\u001b[0m         random_state\u001b[38;5;241m=\u001b[39mrandom_state,\n\u001b[0;32m    489\u001b[0m         verbose\u001b[38;5;241m=\u001b[39mverbose,\n\u001b[0;32m    490\u001b[0m         prefix\u001b[38;5;241m=\u001b[39mprefix,\n\u001b[0;32m    491\u001b[0m     )\n",
      "File \u001b[1;32m~\\Anaconda3\\lib\\site-packages\\dask_ml\\model_selection\\_incremental.py:176\u001b[0m, in \u001b[0;36m_fit\u001b[1;34m(model, params, X_train, y_train, X_test, y_test, additional_calls, fit_params, scorer, random_state, verbose, prefix)\u001b[0m\n\u001b[0;32m    174\u001b[0m     models[ident] \u001b[38;5;241m=\u001b[39m model\n\u001b[0;32m    175\u001b[0m \u001b[38;5;28;01mfor\u001b[39;00m ident \u001b[38;5;129;01min\u001b[39;00m info:\n\u001b[1;32m--> 176\u001b[0m     m, m2 \u001b[38;5;241m=\u001b[39m \u001b[38;5;28;01mawait\u001b[39;00m models[ident]\u001b[38;5;241m.\u001b[39mresult()\n\u001b[0;32m    178\u001b[0m \u001b[38;5;66;03m# assume everything in fit_params is small and make it concrete\u001b[39;00m\n\u001b[0;32m    179\u001b[0m fit_params \u001b[38;5;241m=\u001b[39m \u001b[38;5;28;01mawait\u001b[39;00m client\u001b[38;5;241m.\u001b[39mcompute(fit_params)\n",
      "File \u001b[1;32m~\\Anaconda3\\lib\\site-packages\\distributed\\client.py:286\u001b[0m, in \u001b[0;36mFuture._result\u001b[1;34m(self, raiseit)\u001b[0m\n\u001b[0;32m    284\u001b[0m \u001b[38;5;28;01mif\u001b[39;00m raiseit:\n\u001b[0;32m    285\u001b[0m     typ, exc, tb \u001b[38;5;241m=\u001b[39m exc\n\u001b[1;32m--> 286\u001b[0m     \u001b[38;5;28;01mraise\u001b[39;00m exc\u001b[38;5;241m.\u001b[39mwith_traceback(tb)\n\u001b[0;32m    287\u001b[0m \u001b[38;5;28;01melse\u001b[39;00m:\n\u001b[0;32m    288\u001b[0m     \u001b[38;5;28;01mreturn\u001b[39;00m exc\n",
      "File \u001b[1;32m~\\Anaconda3\\lib\\site-packages\\dask_ml\\model_selection\\_incremental.py:134\u001b[0m, in \u001b[0;36m_create_model\u001b[1;34m()\u001b[0m\n\u001b[0;32m    132\u001b[0m \u001b[38;5;124;03m\"\"\"Create a model by cloning and then setting params\"\"\"\u001b[39;00m\n\u001b[0;32m    133\u001b[0m \u001b[38;5;28;01mwith\u001b[39;00m log_errors():\n\u001b[1;32m--> 134\u001b[0m     model \u001b[38;5;241m=\u001b[39m clone(model)\u001b[38;5;241m.\u001b[39mset_params(\u001b[38;5;241m*\u001b[39m\u001b[38;5;241m*\u001b[39mparams)\n\u001b[0;32m    135\u001b[0m     \u001b[38;5;28;01mreturn\u001b[39;00m model, {\u001b[38;5;124m\"\u001b[39m\u001b[38;5;124mmodel_id\u001b[39m\u001b[38;5;124m\"\u001b[39m: ident, \u001b[38;5;124m\"\u001b[39m\u001b[38;5;124mparams\u001b[39m\u001b[38;5;124m\"\u001b[39m: params, \u001b[38;5;124m\"\u001b[39m\u001b[38;5;124mpartial_fit_calls\u001b[39m\u001b[38;5;124m\"\u001b[39m: \u001b[38;5;241m0\u001b[39m}\n",
      "File \u001b[1;32m~\\Anaconda3\\lib\\site-packages\\sklearn\\base.py:246\u001b[0m, in \u001b[0;36mset_params\u001b[1;34m()\u001b[0m\n\u001b[0;32m    244\u001b[0m \u001b[38;5;28;01mif\u001b[39;00m key \u001b[38;5;129;01mnot\u001b[39;00m \u001b[38;5;129;01min\u001b[39;00m valid_params:\n\u001b[0;32m    245\u001b[0m     local_valid_params \u001b[38;5;241m=\u001b[39m \u001b[38;5;28mself\u001b[39m\u001b[38;5;241m.\u001b[39m_get_param_names()\n\u001b[1;32m--> 246\u001b[0m     \u001b[38;5;28;01mraise\u001b[39;00m \u001b[38;5;167;01mValueError\u001b[39;00m(\n\u001b[0;32m    247\u001b[0m         \u001b[38;5;124mf\u001b[39m\u001b[38;5;124m\"\u001b[39m\u001b[38;5;124mInvalid parameter \u001b[39m\u001b[38;5;132;01m{\u001b[39;00mkey\u001b[38;5;132;01m!r}\u001b[39;00m\u001b[38;5;124m for estimator \u001b[39m\u001b[38;5;132;01m{\u001b[39;00m\u001b[38;5;28mself\u001b[39m\u001b[38;5;132;01m}\u001b[39;00m\u001b[38;5;124m. \u001b[39m\u001b[38;5;124m\"\u001b[39m\n\u001b[0;32m    248\u001b[0m         \u001b[38;5;124mf\u001b[39m\u001b[38;5;124m\"\u001b[39m\u001b[38;5;124mValid parameters are: \u001b[39m\u001b[38;5;132;01m{\u001b[39;00mlocal_valid_params\u001b[38;5;132;01m!r}\u001b[39;00m\u001b[38;5;124m.\u001b[39m\u001b[38;5;124m\"\u001b[39m\n\u001b[0;32m    249\u001b[0m     )\n\u001b[0;32m    251\u001b[0m \u001b[38;5;28;01mif\u001b[39;00m delim:\n\u001b[0;32m    252\u001b[0m     nested_params[key][sub_key] \u001b[38;5;241m=\u001b[39m value\n",
      "\u001b[1;31mValueError\u001b[0m: Invalid parameter 'subsample' for estimator Incremental(estimator=XGBClassifier(base_score=None, booster=None,\n                                    callbacks=None, colsample_bylevel=None,\n                                    colsample_bynode=None,\n                                    colsample_bytree=None,\n                                    early_stopping_rounds=None,\n                                    enable_categorical=False, eval_metric=None,\n                                    gamma=None, gpu_id=None, grow_policy=None,\n                                    importance_type=None,\n                                    interaction_constraints=None,\n                                    learning_rate=None, max_bin=None,\n                                    max_cat_to_onehot=None, max_delta_step=None,\n                                    max_depth=None, max_leaves=None,\n                                    min_child_weight=None, missing=nan,\n                                    monotone_constraints=None, n_estimators=100,\n                                    n_jobs=None, num_parallel_tree=None,\n                                    predictor=None, random_state=None,\n                                    reg_alpha=None, reg_lambda=None, ...)). Valid parameters are: ['assume_equal_chunks', 'estimator', 'predict_meta', 'predict_proba_meta', 'random_state', 'scoring', 'shuffle_blocks', 'transform_meta']."
     ]
    }
   ],
   "source": [
    "folds = 5\n",
    "param_comb = 10\n",
    "\n",
    "skf = StratifiedKFold(n_splits=folds, shuffle = True, random_state = 1001)\n",
    "\n",
    "random_search = HyperbandSearchCV(xgb, parameters=params, max_iter=param_comb, scoring='roc_auc', test_size=0.1 )\n",
    "\n",
    "# Here we go\n",
    "start_time = timer(None) # timing starts from this point for \"start_time\" variable\n",
    "with joblib.parallel_backend(\"dask\"):\n",
    "    random_search.fit(X_train, y_train)\n",
    "timer(start_time) # timing ends here for \"start_time\" variable"
   ]
  },
  {
   "cell_type": "code",
   "execution_count": null,
   "id": "3e01b88a",
   "metadata": {},
   "outputs": [],
   "source": [
    "print('\\n Best hyperparameters:')\n",
    "print(random_search.best_params_)"
   ]
  },
  {
   "cell_type": "code",
   "execution_count": null,
   "id": "74ed271e",
   "metadata": {},
   "outputs": [],
   "source": [
    "# Testing the parameter"
   ]
  },
  {
   "cell_type": "code",
   "execution_count": null,
   "id": "631d4ef6",
   "metadata": {},
   "outputs": [],
   "source": [
    "model = XGBClassifier(**random_search.best_params_)"
   ]
  },
  {
   "cell_type": "code",
   "execution_count": null,
   "id": "315556e8",
   "metadata": {},
   "outputs": [],
   "source": [
    "with joblib.parallel_backend(\"dask\"):\n",
    "    result = model.fit(X_train, y_train)"
   ]
  },
  {
   "cell_type": "code",
   "execution_count": null,
   "id": "a341083a",
   "metadata": {},
   "outputs": [],
   "source": [
    "preds_xgb = model.predict(X_test)\n",
    "print('accuracy',accuracy_score(y_test, preds_xgb))\n",
    "\n",
    "print(\"------\")\n",
    "print(\"------\")\n",
    "\n",
    "## Classification_report for Logistic\n",
    "print('Classification_report for xgboost \\n')\n",
    "print(classification_report(y_train, model.predict(X_train)))\n",
    "print('Classification_report for xgboost \\n')\n",
    "print(classification_report(y_test, preds_xgb))"
   ]
  },
  {
   "cell_type": "code",
   "execution_count": null,
   "id": "30d6c124",
   "metadata": {},
   "outputs": [],
   "source": [
    "# with joblib.parallel_backend(\"dask\"):\n",
    "#     result = model.fit(X_train, y_train)"
   ]
  },
  {
   "cell_type": "code",
   "execution_count": null,
   "id": "c8195b2c",
   "metadata": {},
   "outputs": [],
   "source": [
    "# preds_xgb = model.predict(X_test)\n",
    "# print('accuracy',accuracy_score(y_test, preds_xgb))\n",
    "\n",
    "# print(\"------\")\n",
    "# print(\"------\")\n",
    "\n",
    "# ## Classification_report for Logistic\n",
    "# print('Classification_report for xgboost \\n')\n",
    "# print(classification_report(y_train, model.predict(X_train)))\n",
    "# print('Classification_report for xgboost \\n')\n",
    "# print(classification_report(y_test, preds_xgb))"
   ]
  },
  {
   "cell_type": "code",
   "execution_count": null,
   "id": "b9d6abf1",
   "metadata": {},
   "outputs": [],
   "source": [
    "# PROBLEM Ocurring:\n",
    "# 1. stratified problem while splitting"
   ]
  },
  {
   "cell_type": "code",
   "execution_count": null,
   "id": "99584e6e",
   "metadata": {},
   "outputs": [],
   "source": [
    "# Problem that I faced but got resolved:\n",
    "# 1. model in parallel was thowing earlier\n",
    "# 2. Using dealyed for multiple function then again using dealyed for combine operation.\n",
    "# 3. "
   ]
  },
  {
   "cell_type": "code",
   "execution_count": null,
   "id": "265dba0b",
   "metadata": {},
   "outputs": [],
   "source": []
  }
 ],
 "metadata": {
  "kernelspec": {
   "display_name": "Python 3 (ipykernel)",
   "language": "python",
   "name": "python3"
  },
  "language_info": {
   "codemirror_mode": {
    "name": "ipython",
    "version": 3
   },
   "file_extension": ".py",
   "mimetype": "text/x-python",
   "name": "python",
   "nbconvert_exporter": "python",
   "pygments_lexer": "ipython3",
   "version": "3.9.12"
  }
 },
 "nbformat": 4,
 "nbformat_minor": 5
}
