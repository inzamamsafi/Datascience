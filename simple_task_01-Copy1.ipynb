{
 "cells": [
  {
   "cell_type": "code",
   "execution_count": 22,
   "id": "a2463aa9",
   "metadata": {},
   "outputs": [],
   "source": [
    "import ipywidgets as widgets\n",
    "from IPython.display import display, Markdown, Javascript, clear_output \n",
    "from datetime import datetime\n",
    "from dateutil.relativedelta import relativedelta\n",
    "from datetime import date\n",
    "from functools import partial\n",
    "import json\n",
    "import requests\n",
    "from ipywidgets import interact\n",
    "from ipywidgets import Button, HBox, VBox, HTML, Label"
   ]
  },
  {
   "cell_type": "code",
   "execution_count": 23,
   "id": "23038779",
   "metadata": {},
   "outputs": [],
   "source": [
    "initial_setup = {\n",
    "    \"pipeline_id\": \"2\",\n",
    "    \"version\": 1.0,\n",
    "    \"stages\": [\n",
    "        {\n",
    "            \"task_group_id\": \"TAG1\",\n",
    "            \"branch\": [\n",
    "                {\n",
    "                    \"task_id\": \"Task_Name_XX\",\n",
    "                    \"code_file_path\": \"tasks/base_creation/final_base_logic.hql\",\n",
    "                    \"language\": \"Hive\",\n",
    "                    \"config\": {\n",
    "                        \"f\": \"TE1\"\n",
    "                    },\n",
    "                    \"sequence\": 0,\n",
    "                    \"condition\": \"in_start_date in range [2021-10-01 , 2023-11-04]\"\n",
    "                }\n",
    "            ],\n",
    "            \"default\": {\n",
    "                \"task_id\": \"TAG1_default\",\n",
    "                \"code_file_path\": \"tasks/base_creation/default_base_logic.hql\",\n",
    "                \"language\": \"Hive\",\n",
    "                \"config\": {}\n",
    "            }\n",
    "        },\n",
    "        {\n",
    "            \"task_group_id\": \"TAG2\",\n",
    "            \"branch\": [\n",
    "                {\n",
    "                    \"task_id\": \"Task_Name_XX\",\n",
    "                    \"code_file_path\": \"tasks/variables_creation/final_cas_logic.hql\",\n",
    "                    \"language\": \"Hive\",\n",
    "                    \"config\": {\n",
    "                        \"gE5\": \"a\"\n",
    "                    },\n",
    "                    \"sequence\": 1,\n",
    "                    \"condition\": \"in_start_date in range [2022-02-01 , 2023-11-04]\"\n",
    "                },\n",
    "                {\n",
    "                    \"task_id\": \"Task_Name_XX\",\n",
    "                    \"code_file_path\": \"tasks/variables_creation/final_sor_logic.hql\",\n",
    "                    \"language\": \"Hive\",\n",
    "                    \"config\": {\n",
    "                        \"gE6\": \"tE6\"\n",
    "                    },\n",
    "                    \"sequence\": 2,\n",
    "                    \"condition\": \"in_start_date in range [2021-10-01 , 2022-01-31]\"\n",
    "                }\n",
    "            ],\n",
    "            \"default\": {\n",
    "                \"task_id\": \"TAG2_default\",\n",
    "                \"code_file_path\": \"tasks/variables_creation/default_variables_logic.hql\",\n",
    "                \"language\": \"Hive\",\n",
    "                \"config\": {}\n",
    "            }\n",
    "        },\n",
    "        {\n",
    "            \"task_id\": \"simple_task_1\",\n",
    "            \"tag\": \"2\",\n",
    "            \"code_file_path\": \"tasks/base_task.py\",\n",
    "            \"language\": \"pyspark\",\n",
    "            \"config\": {\n",
    "              }\n",
    "        },\n",
    "        {\n",
    "            \"task_id\": \"simple_task_2\",\n",
    "            \"tag\": \"3\",\n",
    "            \"code_file_path\": \"tasks/base_task.py\",\n",
    "            \"language\": \"pyspark\",\n",
    "            \"config\": {\n",
    "              }\n",
    "        },\n",
    "        {\n",
    "            \"task_id\": \"aggregation_logic\",\n",
    "            \"code_file_path\": \"tasks/aggregation/aggregation_logic_mvp.py\",\n",
    "            \"language\": \"PySpark\",\n",
    "            \"config\": {}\n",
    "        }\n",
    "    ],\n",
    "    \"dependencies\": \" ['task_group_id_01_Name >> task_group_id_02_Name >> aggregation_logic']\",\n",
    "    \"pipeline_type\": \"new_feature\",\n",
    "    \"deploy_type\": \"analytical\"\n",
    "}"
   ]
  },
  {
   "cell_type": "code",
   "execution_count": 24,
   "id": "4dc76019",
   "metadata": {},
   "outputs": [
    {
     "data": {
      "text/plain": [
       "2"
      ]
     },
     "execution_count": 24,
     "metadata": {},
     "output_type": "execute_result"
    }
   ],
   "source": [
    "count_group = 0\n",
    "for i in range(len(initial_setup['stages'])):\n",
    "    \n",
    "    for j in initial_setup['stages'][i].keys():\n",
    "        if j == 'task_group_id':\n",
    "            count_group = count_group + 1\n",
    "count_group"
   ]
  },
  {
   "cell_type": "code",
   "execution_count": 25,
   "id": "600e76bb",
   "metadata": {},
   "outputs": [],
   "source": [
    "# vars_config_widgets[0]['num_params'].value"
   ]
  },
  {
   "cell_type": "code",
   "execution_count": 26,
   "id": "e042dec4",
   "metadata": {
    "scrolled": true
   },
   "outputs": [
    {
     "data": {
      "application/vnd.jupyter.widget-view+json": {
       "model_id": "9a6773495de04b7ba279a4be1d27c551",
       "version_major": 2,
       "version_minor": 0
      },
      "text/plain": [
       "Output()"
      ]
     },
     "metadata": {},
     "output_type": "display_data"
    }
   ],
   "source": [
    "parent_output = widgets.Output()\n",
    "display(parent_output)"
   ]
  },
  {
   "cell_type": "code",
   "execution_count": 27,
   "id": "bff3c573",
   "metadata": {},
   "outputs": [],
   "source": [
    "vars_config = []\n",
    "vars_config_widgets = []\n",
    "output_widgets = []"
   ]
  },
  {
   "cell_type": "code",
   "execution_count": 28,
   "id": "83efeb78",
   "metadata": {},
   "outputs": [],
   "source": [
    "# for removing any task info\n",
    "def remove_task(task_index):\n",
    "    for i in range(len(output_widgets)):\n",
    "        with output_widgets[i]:\n",
    "            clear_output()\n",
    "\n",
    "    del output_widgets[task_index]\n",
    "    del vars_config[task_index]\n",
    "    del vars_config_widgets[task_index]\n",
    "    new_task_name.value = f'task_group_{len(vars_config)+1}'\n",
    "    display_all_tasks()"
   ]
  },
  {
   "cell_type": "code",
   "execution_count": 29,
   "id": "5555e583",
   "metadata": {},
   "outputs": [],
   "source": [
    "\n",
    "# vars_config## [{'task_group_id': 'simple_task_1', 'code_file_path': 'tasks/base_task.py',\n",
    "# 'language': 'pyspark', 'config': {'spark.driver.memory': '15432m'}}, \n",
    "#        {'task_group_id': 'simple_task_2', 'code_file_path': 'tasks/base_task.py', 'language': 'pyspark', 'config': {}}]"
   ]
  },
  {
   "cell_type": "code",
   "execution_count": 30,
   "id": "2d408436",
   "metadata": {},
   "outputs": [],
   "source": [
    "def add_new_task(b):\n",
    "\n",
    "    vars_config.append({'task_group_id': new_task_name.value,'code_file_path': '','config': {},'language': 'hive','num_params':1 })\n",
    "    vars_config_widgets.append({})\n",
    "    output_widgets.append(widgets.Output())\n",
    "    with parent_output:\n",
    "        display(output_widgets[-1])\n",
    "\n",
    "    new_task_name.value = f'task_group_{len(vars_config)+1}'\n",
    "    display_task(len(vars_config)-1)"
   ]
  },
  {
   "cell_type": "code",
   "execution_count": 31,
   "id": "95e182f8",
   "metadata": {},
   "outputs": [
    {
     "data": {
      "text/plain": [
       "{}"
      ]
     },
     "execution_count": 31,
     "metadata": {},
     "output_type": "execute_result"
    }
   ],
   "source": [
    "initial_setup['stages'][2]['config']"
   ]
  },
  {
   "cell_type": "code",
   "execution_count": 32,
   "id": "17f00ae6",
   "metadata": {},
   "outputs": [],
   "source": [
    "lis_para= []\n",
    "def display_task(task_index):\n",
    "    # clearing out the previous values in the widgets array\n",
    "    vars_config_widgets[task_index] = {}\n",
    "    task_widget_array = []\n",
    "    i = task_index\n",
    "    with output_widgets[i]:\n",
    "        clear_output()\n",
    "## GDChange2\n",
    "        print('vars_config##',vars_config)\n",
    "        vars_config_widgets[i]['task_group_id'] = widgets.Text(value=vars_config[i]['task_group_id'],\n",
    "                                                               description='simple task Name:',\n",
    "                                                               style={'description_width': 'initial'})\n",
    "        task_widget_array.append(vars_config_widgets[i]['task_group_id'])\n",
    "        \n",
    "        vars_config_widgets[i]['code_file_path'] = widgets.Text(value=vars_config[i]['code_file_path'],\n",
    "                                                                description='code_file_path:',\n",
    "                                                                style={'description_width': 'initial'})\n",
    "        task_widget_array.append(vars_config_widgets[i]['code_file_path'])\n",
    "        \n",
    "        vars_config_widgets[i]['language'] = widgets.Dropdown(options=['hive', 'pyspark'], \n",
    "                                                              value=vars_config[i]['language'], \n",
    "                                                              description='language :', \n",
    "                                                              style={'description_width': 'initial'})\n",
    "        task_widget_array.append(vars_config_widgets[i]['language'])\n",
    "        \n",
    "        \n",
    "        vars_config_widgets[i]['num_params'] = widgets.IntText(value=vars_config[i]['num_params'],\n",
    "                                                            description='num_params:',\n",
    "                                                            style={'description_width': 'initial'})\n",
    "        task_widget_array.append(vars_config_widgets[i]['num_params'])\n",
    "        \n",
    "        print('check',vars_config_widgets[0]['num_params'])\n",
    "\n",
    "        \n",
    "        lis_para.append(vars_config_widgets[i]['num_params'].value)\n",
    "        print('lis_para##',lis_para)\n",
    "        \n",
    "        \n",
    "#         vars_config_widgets[i]['config'] = widgets.Text(value='',\n",
    "#                                                                 description='config:',\n",
    "#                                                                 style={'description_width': 'initial'})\n",
    "#         task_widget_array.append(vars_config_widgets[i]['config'])\n",
    "        \n",
    "        print('vars_config_widgets##',vars_config_widgets)\n",
    "        print('task_widget_array##',task_widget_array)\n",
    "        \n",
    "## TDchange1x\n",
    "#         for j in vars_config[i]:\n",
    "#             task_tw_widgets_array = []\n",
    "#         task_widget_array.append(widgets.Label())\n",
    "\n",
    "        vars_config_widgets[i]['delete'] = widgets.Button(\n",
    "            description='Delete Task Group', button_style='danger')\n",
    "        def delete_task(b):\n",
    "            remove_task(task_index)\n",
    "        vars_config_widgets[i]['delete'].on_click(delete_task)\n",
    "        task_widget_array.append(vars_config_widgets[i]['delete'])\n",
    "        vars_config_widgets[i]['accordion'] = widgets.Accordion(children=[\n",
    "            widgets.VBox(task_widget_array)])\n",
    "        vars_config_widgets[i]['accordion'].set_title(\n",
    "            0, vars_config[i]['task_group_id'])\n",
    "        display(vars_config_widgets[i]['accordion'])\n",
    "        display(Markdown('''---'''))\n",
    "        \n",
    "\n",
    "def display_all_tasks():\n",
    "    for ind in range(len(vars_config)):\n",
    "        display_task(ind)\n"
   ]
  },
  {
   "cell_type": "code",
   "execution_count": 33,
   "id": "3f1a64c1",
   "metadata": {},
   "outputs": [],
   "source": [
    "# lis_para= []\n",
    "# for i in range(len(vars_config_widgets)):\n",
    "#     lis_para.append(vars_config_widgets[i]['num_params'].value)\n",
    "# lis_para\n"
   ]
  },
  {
   "cell_type": "code",
   "execution_count": 34,
   "id": "7b61400f",
   "metadata": {},
   "outputs": [],
   "source": [
    "# def update_no_param():\n",
    "\n",
    "#     task_widget_array = []\n",
    "\n",
    "#     with output_widgets[i]:\n",
    "#         clear_output()\n",
    "#     for i in lis_para:\n",
    "\n",
    "#         vars_config_widgets[i]['config'] = HBox([widgets.Text(value='sample', description='Key', style={\n",
    "#                                    'description_width': 'initial'},),\n",
    "#           widgets.Text(value='sample', description='value', style={\n",
    "#                                    'description_width': 'initial'},)])\n",
    "\n",
    "\n",
    "#         display(vars_config_widgets[i]['config'])\n",
    "# update_no_param()"
   ]
  },
  {
   "cell_type": "code",
   "execution_count": 35,
   "id": "928fd26c",
   "metadata": {},
   "outputs": [
    {
     "data": {
      "application/vnd.jupyter.widget-view+json": {
       "model_id": "1faa494aaaaf4a27b8aea38c339e5bcd",
       "version_major": 2,
       "version_minor": 0
      },
      "text/plain": [
       "Output()"
      ]
     },
     "metadata": {},
     "output_type": "display_data"
    }
   ],
   "source": [
    "add_task_bt = widgets.Button(\n",
    "    description='+ Add Task Group', button_style='primary')\n",
    "new_task_name = widgets.Text(value=f'task_group_{len(output_widgets)+1}')\n",
    "output_add_bt = widgets.Output()\n",
    "display(output_add_bt)\n",
    "with output_add_bt:\n",
    "    display(widgets.HBox([new_task_name, add_task_bt]))\n",
    "    add_task_bt.on_click(add_new_task)"
   ]
  },
  {
   "cell_type": "code",
   "execution_count": 36,
   "id": "c0d88945",
   "metadata": {},
   "outputs": [],
   "source": [
    "# vars_config_widgets[0]['config']['key'] = widgets.Text(value=task_tw_config[0][0],\n",
    "#                                                             description='Key',\n",
    "#                                                             style={'description_width': 'initial'})"
   ]
  },
  {
   "cell_type": "code",
   "execution_count": 37,
   "id": "b89f8da3",
   "metadata": {},
   "outputs": [],
   "source": [
    "# task_widget_array## \n",
    "# [Text(value='simple_task_1', description='simple task Name:', style=DescriptionStyle(description_width='initial')), \n",
    "# Text(value='tasks/base_task.py', description='code_file_path:', style=DescriptionStyle(description_width='initial')), \n",
    "# Dropdown(description='language :', index=1, options=('hive', 'pyspark'), \n",
    "#          style=DescriptionStyle(description_width='initial'), value='pyspark'), \n",
    "# IntText(value=0, description='num_params:', style=DescriptionStyle(description_width='initial'))]"
   ]
  },
  {
   "cell_type": "code",
   "execution_count": null,
   "id": "f687ebba",
   "metadata": {
    "scrolled": true
   },
   "outputs": [],
   "source": []
  },
  {
   "cell_type": "code",
   "execution_count": 38,
   "id": "4e4beb8b",
   "metadata": {},
   "outputs": [],
   "source": [
    "# vars_config[0]['config']"
   ]
  },
  {
   "cell_type": "code",
   "execution_count": 39,
   "id": "2aa793ff",
   "metadata": {},
   "outputs": [],
   "source": [
    "# vars_config = [{'task_group_id': 'simple_task_1',\n",
    "#   'code_file_path': 'tasks/base_task.py',\n",
    "#   'language': 'pyspark',\n",
    "#   'config': {'spark.driver.memory': '15432m'},\n",
    "#   'num_params': 1},\n",
    "#  {'task_group_id': 'simple_task_2',\n",
    "#   'code_file_path': 'tasks/base_task.py',\n",
    "#   'language': 'pyspark',\n",
    "#   'config': {},\n",
    "#   'num_params': 0}]"
   ]
  },
  {
   "cell_type": "code",
   "execution_count": 40,
   "id": "3362efce",
   "metadata": {},
   "outputs": [],
   "source": [
    "# i =2,3\n"
   ]
  },
  {
   "cell_type": "code",
   "execution_count": 41,
   "id": "82963cbb",
   "metadata": {},
   "outputs": [],
   "source": [
    "def initialize_form():\n",
    "    for i in range(count_group,len(initial_setup['stages'])-1):\n",
    "        output_widgets.append(widgets.Output())\n",
    "        vars_config_widgets.append({})\n",
    "        ## GDChange1\n",
    "        vars_config.append({'task_group_id': list(initial_setup['stages'][i].values())[0],\n",
    "                            'code_file_path': initial_setup['stages'][i]['code_file_path'],\n",
    "                            'language': initial_setup['stages'][i]['language'],\n",
    "                            'config': initial_setup['stages'][i]['config'],\n",
    "                           'num_params': len(initial_setup['stages'][i]['config']),})\n",
    "\n",
    "#         print('vars_config',vars_config)\n",
    "\n",
    "    with parent_output:\n",
    "        for i in range(len(output_widgets)):\n",
    "            display(output_widgets[i])\n",
    "        \n",
    "\n",
    "    display_all_tasks()\n",
    "\n",
    "initialize_form()"
   ]
  },
  {
   "cell_type": "code",
   "execution_count": null,
   "id": "e3268c76",
   "metadata": {},
   "outputs": [],
   "source": []
  }
 ],
 "metadata": {
  "kernelspec": {
   "display_name": "Python 3 (ipykernel)",
   "language": "python",
   "name": "python3"
  },
  "language_info": {
   "codemirror_mode": {
    "name": "ipython",
    "version": 3
   },
   "file_extension": ".py",
   "mimetype": "text/x-python",
   "name": "python",
   "nbconvert_exporter": "python",
   "pygments_lexer": "ipython3",
   "version": "3.9.12"
  }
 },
 "nbformat": 4,
 "nbformat_minor": 5
}
