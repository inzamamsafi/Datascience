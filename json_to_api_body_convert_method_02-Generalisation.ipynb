{
 "cells": [
  {
   "cell_type": "code",
   "execution_count": 71,
   "id": "74dfd50f",
   "metadata": {},
   "outputs": [],
   "source": [
    "initial_setup = {\n",
    "    \"pipeline_id\": \"3\",\n",
    "    \"version\": 1,\n",
    "    \"stages\": [\n",
    "        {\n",
    "            \"task_group_id\": \"customer_base_logic\",\n",
    "            \"branch\": [\n",
    "                {\n",
    "                    \"task_id\": \"customer_base_logic_tw_0\",\n",
    "                    \"code_file_path\": \"tasks/base_creation/final_base_logic.hql\",\n",
    "                    \"language\": \"Hive\",\n",
    "                    \"config\": {\n",
    "                        \"offer_codes22\": \"offer30\"\n",
    "                    },\n",
    "                    \"sequence\": 1,\n",
    "                    \"condition\": \"in_start_date in range [2021-10-01 , 2023-11-04]\"\n",
    "                }\n",
    "            ],\n",
    "            \"default\": {\n",
    "                \"task_id\": \"customer_base_logic_default\",\n",
    "                \"code_file_path\": \"tasks/base_creation/default_base_logic.hql\",\n",
    "                \"language\": \"Hive\",\n",
    "                \"config\": {}\n",
    "            }\n",
    "        },\n",
    "        {\n",
    "            \"task_group_id\": \"CDSS_gen5_variables_logic\",\n",
    "            \"branch\": [\n",
    "                {\n",
    "                    \"task_id\": \"CDSS_gen5_variables_logic_tw_0\",\n",
    "                    \"code_file_path\": \"tasks/variables_creation/final_cas_logic.hql\",\n",
    "                    \"language\": \"Hive\",\n",
    "                    \"config\": {\n",
    "                        \"product_codes\": \"AG,LZ,OL,PZ\"\n",
    "                    },\n",
    "                    \"sequence\": 1,\n",
    "                    \"condition\": \"in_start_date in range [2022-02-01 , 2023-11-04]\"\n",
    "                },\n",
    "                {\n",
    "                    \"task_id\": \"CDSS_gen5_variables_logic_tw_1\",\n",
    "                    \"code_file_path\": \"tasks/variables_creation/final_sor_logic.hql\",\n",
    "                    \"language\": \"Hive\",\n",
    "                    \"config\": {\n",
    "                        \"product_codes\": \"AG,LZ,OL,PZ\"\n",
    "                    },\n",
    "                    \"sequence\": 2,\n",
    "                    \"condition\": \"in_start_date in range [2021-10-01 , 2022-01-31]\"\n",
    "                }\n",
    "            ],\n",
    "            \"default\": {\n",
    "                \"task_id\": \"CDSS_gen5_variables_logic_default\",\n",
    "                \"code_file_path\": \"tasks/variables_creation/default_variables_logic.hql\",\n",
    "                \"language\": \"Hive\",\n",
    "                \"config\": {}\n",
    "            }\n",
    "        },\n",
    "        {\n",
    "            \"task_id\": \"aggregation_logic\",\n",
    "            \"code_file_path\": \"tasks/aggregation/aggregation_logic_mvp.py\",\n",
    "            \"language\": \"PySpark\",\n",
    "            \"config\": {}\n",
    "        }\n",
    "    ],\n",
    "    \"dependencies\": \" ['marketing_base_logic >> marketing_variables_logic >> aggregation_logic']\",\n",
    "    \"pipeline_type\": \"new_feature\",\n",
    "    \"deploy_type\": \"analytical\"\n",
    "}"
   ]
  },
  {
   "cell_type": "code",
   "execution_count": 72,
   "id": "51ecabcd",
   "metadata": {},
   "outputs": [],
   "source": [
    "data = {}\n",
    "data['pipeline_id'] = initial_setup['pipeline_id']\n",
    "data['version'] = initial_setup['version']\n",
    "# data['taskConfigurations'] = [{}]\n",
    "\n",
    "# data['taskConfigurations'][0]['taskName'] = initial_setup['stages'][0]['branch'][0]['task_id']\n",
    "# data['taskConfigurations'][0]['configKey'] = list(initial_setup['stages'][0]['branch'][0]['config'].keys())[0]\n",
    "# data['taskConfigurations'][0]['configValue'] = list(initial_setup['stages'][0]['branch'][0]['config'].values())[0]\n",
    "# data['taskConfigurations'][0]['analyticalRunAppliedIndicator'] = True\n",
    "# data['taskConfigurations'][0]['productionRunAppliedIndicator'] = False\n",
    "# data['taskConfigurations'][0]['creatorId'] = 'isafi'\n",
    "# data['taskConfigurations'][0]['creatorEmail'] = 'inzamam.safi@aexp.com'"
   ]
  },
  {
   "cell_type": "code",
   "execution_count": 60,
   "id": "d3e9de51",
   "metadata": {},
   "outputs": [
    {
     "data": {
      "text/plain": [
       "{'pipeline_id': '3', 'version': 1}"
      ]
     },
     "execution_count": 60,
     "metadata": {},
     "output_type": "execute_result"
    }
   ],
   "source": [
    "data"
   ]
  },
  {
   "cell_type": "code",
   "execution_count": 73,
   "id": "8037dbfa",
   "metadata": {},
   "outputs": [
    {
     "name": "stdout",
     "output_type": "stream",
     "text": [
      "3\n",
      "{'pipeline_id': '3', 'version': 1, 'taskConfigurations': [{}, {}, {}]}\n"
     ]
    }
   ],
   "source": [
    "count=0\n",
    "for i in range(len(initial_setup['stages'])-1):\n",
    "    for j in range(len(initial_setup['stages'][i]['branch'])):\n",
    "        for k in initial_setup['stages'][i]['branch'][j].keys():\n",
    "            if k == 'task_id':\n",
    "                count+=1\n",
    "print(count)\n",
    "data['taskConfigurations'] = [dict() for x in range(count)]\n",
    "print(data)"
   ]
  },
  {
   "cell_type": "code",
   "execution_count": 74,
   "id": "de0e4edc",
   "metadata": {},
   "outputs": [],
   "source": [
    "for i in range(count):\n",
    "    data['taskConfigurations'][i]['analyticalRunAppliedIndicator'] = True\n",
    "    data['taskConfigurations'][i]['productionRunAppliedIndicator'] = False\n",
    "    data['taskConfigurations'][i]['creatorId'] = 'isafi'\n",
    "    data['taskConfigurations'][i]['creatorEmail'] = 'inzamam.safi@aexp.com'"
   ]
  },
  {
   "cell_type": "code",
   "execution_count": 75,
   "id": "321e6cb9",
   "metadata": {},
   "outputs": [
    {
     "ename": "KeyError",
     "evalue": "'branch'",
     "output_type": "error",
     "traceback": [
      "\u001b[1;31m---------------------------------------------------------------------------\u001b[0m",
      "\u001b[1;31mKeyError\u001b[0m                                  Traceback (most recent call last)",
      "Input \u001b[1;32mIn [75]\u001b[0m, in \u001b[0;36m<cell line: 1>\u001b[1;34m()\u001b[0m\n\u001b[0;32m      1\u001b[0m \u001b[38;5;28;01mfor\u001b[39;00m i \u001b[38;5;129;01min\u001b[39;00m \u001b[38;5;28mrange\u001b[39m(count):\n\u001b[1;32m----> 2\u001b[0m     data[\u001b[38;5;124m'\u001b[39m\u001b[38;5;124mtaskConfigurations\u001b[39m\u001b[38;5;124m'\u001b[39m][i][\u001b[38;5;124m'\u001b[39m\u001b[38;5;124mtaskName\u001b[39m\u001b[38;5;124m'\u001b[39m] \u001b[38;5;241m=\u001b[39m \u001b[43minitial_setup\u001b[49m\u001b[43m[\u001b[49m\u001b[38;5;124;43m'\u001b[39;49m\u001b[38;5;124;43mstages\u001b[39;49m\u001b[38;5;124;43m'\u001b[39;49m\u001b[43m]\u001b[49m\u001b[43m[\u001b[49m\u001b[43mi\u001b[49m\u001b[43m]\u001b[49m\u001b[43m[\u001b[49m\u001b[38;5;124;43m'\u001b[39;49m\u001b[38;5;124;43mbranch\u001b[39;49m\u001b[38;5;124;43m'\u001b[39;49m\u001b[43m]\u001b[49m[i][\u001b[38;5;124m'\u001b[39m\u001b[38;5;124mtask_id\u001b[39m\u001b[38;5;124m'\u001b[39m]\n",
      "\u001b[1;31mKeyError\u001b[0m: 'branch'"
     ]
    }
   ],
   "source": [
    "for i in range(count):\n",
    "    data['taskConfigurations'][i]['taskName'] = initial_setup['stages'][i]['branch'][i]['task_id']"
   ]
  },
  {
   "cell_type": "code",
   "execution_count": 68,
   "id": "cbaa333a",
   "metadata": {},
   "outputs": [
    {
     "data": {
      "text/plain": [
       "{'pipeline_id': '3',\n",
       " 'version': 1,\n",
       " 'taskConfigurations': [{'analyticalRunAppliedIndicator': True,\n",
       "   'productionRunAppliedIndicator': False,\n",
       "   'creatorId': 'isafi',\n",
       "   'creatorEmail': 'inzamam.safi@aexp.com',\n",
       "   'taskName': 'customer_base_logic_tw_0'},\n",
       "  {'analyticalRunAppliedIndicator': True,\n",
       "   'productionRunAppliedIndicator': False,\n",
       "   'creatorId': 'isafi',\n",
       "   'creatorEmail': 'inzamam.safi@aexp.com',\n",
       "   'taskName': 'customer_base_logic_tw_0'},\n",
       "  {'analyticalRunAppliedIndicator': True,\n",
       "   'productionRunAppliedIndicator': False,\n",
       "   'creatorId': 'isafi',\n",
       "   'creatorEmail': 'inzamam.safi@aexp.com',\n",
       "   'taskName': 'customer_base_logic_tw_0'}]}"
      ]
     },
     "execution_count": 68,
     "metadata": {},
     "output_type": "execute_result"
    }
   ],
   "source": [
    "data"
   ]
  },
  {
   "cell_type": "code",
   "execution_count": 2,
   "id": "7d665f9d",
   "metadata": {},
   "outputs": [],
   "source": [
    "# api = {\n",
    "#     \"pipelineId\": 2,\n",
    "#     \"pipelineVersion\": 1,\n",
    "#     \"taskConfigurations\": [\n",
    "#         {\n",
    "#             \"taskConfigId\": 29,\n",
    "#             \"taskName\": \"task2\",\n",
    "#             \"configKey\": \"off_code\",\n",
    "#             \"configValue\": \"ABC\",\n",
    "#             \"analyticalRunAppliedIndicator\": true,\n",
    "#             \"productionRunAppliedIndicator\": false\n",
    "#         },\n",
    "#         {\n",
    "#             \"taskConfigId\": 90,\n",
    "#             \"taskName\": \"base_task\",\n",
    "#             \"configKey\": \"k81\",\n",
    "#             \"configValue\": \"v80\",\n",
    "#             \"analyticalRunAppliedIndicator\": true,\n",
    "#             \"productionRunAppliedIndicator\": false\n",
    "#         },\n",
    "#         {\n",
    "#             \"taskConfigId\": 91,\n",
    "#             \"taskName\": \"base_task\",\n",
    "#             \"configKey\": \"ok1\",\n",
    "#             \"configValue\": \"okv\",\n",
    "#             \"analyticalRunAppliedIndicator\": true,\n",
    "#             \"productionRunAppliedIndicator\": false\n",
    "#         }\n",
    "#     ]\n",
    "# }"
   ]
  }
 ],
 "metadata": {
  "kernelspec": {
   "display_name": "Python 3 (ipykernel)",
   "language": "python",
   "name": "python3"
  },
  "language_info": {
   "codemirror_mode": {
    "name": "ipython",
    "version": 3
   },
   "file_extension": ".py",
   "mimetype": "text/x-python",
   "name": "python",
   "nbconvert_exporter": "python",
   "pygments_lexer": "ipython3",
   "version": "3.9.12"
  }
 },
 "nbformat": 4,
 "nbformat_minor": 5
}
