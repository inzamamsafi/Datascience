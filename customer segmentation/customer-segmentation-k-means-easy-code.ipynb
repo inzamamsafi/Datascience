{
 "cells": [
  {
   "cell_type": "code",
   "execution_count": 1,
   "id": "demographic-freeware",
   "metadata": {
    "execution": {
     "iopub.execute_input": "2021-07-02T07:01:11.976173Z",
     "iopub.status.busy": "2021-07-02T07:01:11.974976Z",
     "iopub.status.idle": "2021-07-02T07:01:13.564523Z",
     "shell.execute_reply": "2021-07-02T07:01:13.563328Z",
     "shell.execute_reply.started": "2021-06-30T10:28:02.867122Z"
    },
    "papermill": {
     "duration": 1.627941,
     "end_time": "2021-07-02T07:01:13.564866",
     "exception": false,
     "start_time": "2021-07-02T07:01:11.936925",
     "status": "completed"
    },
    "tags": []
   },
   "outputs": [],
   "source": [
    "import numpy as np\n",
    "import pandas as pd\n",
    "import matplotlib.pyplot as plt\n",
    "import seaborn as sns\n",
    "from sklearn.cluster import KMeans\n",
    "from scipy.stats import norm, boxcox\n",
    "from scipy import stats"
   ]
  },
  {
   "cell_type": "code",
   "execution_count": 2,
   "id": "affecting-catalog",
   "metadata": {
    "execution": {
     "iopub.execute_input": "2021-07-02T07:01:13.635852Z",
     "iopub.status.busy": "2021-07-02T07:01:13.635050Z",
     "iopub.status.idle": "2021-07-02T07:01:13.675479Z",
     "shell.execute_reply": "2021-07-02T07:01:13.676022Z",
     "shell.execute_reply.started": "2021-06-30T10:28:02.876097Z"
    },
    "papermill": {
     "duration": 0.079113,
     "end_time": "2021-07-02T07:01:13.676197",
     "exception": false,
     "start_time": "2021-07-02T07:01:13.597084",
     "status": "completed"
    },
    "tags": []
   },
   "outputs": [
    {
     "data": {
      "text/html": [
       "<div>\n",
       "<style scoped>\n",
       "    .dataframe tbody tr th:only-of-type {\n",
       "        vertical-align: middle;\n",
       "    }\n",
       "\n",
       "    .dataframe tbody tr th {\n",
       "        vertical-align: top;\n",
       "    }\n",
       "\n",
       "    .dataframe thead th {\n",
       "        text-align: right;\n",
       "    }\n",
       "</style>\n",
       "<table border=\"1\" class=\"dataframe\">\n",
       "  <thead>\n",
       "    <tr style=\"text-align: right;\">\n",
       "      <th></th>\n",
       "      <th>CustomerID</th>\n",
       "      <th>Gender</th>\n",
       "      <th>Age</th>\n",
       "      <th>Annual Income (k$)</th>\n",
       "      <th>Spending Score (1-100)</th>\n",
       "    </tr>\n",
       "  </thead>\n",
       "  <tbody>\n",
       "    <tr>\n",
       "      <th>0</th>\n",
       "      <td>1</td>\n",
       "      <td>Male</td>\n",
       "      <td>19</td>\n",
       "      <td>15</td>\n",
       "      <td>39</td>\n",
       "    </tr>\n",
       "    <tr>\n",
       "      <th>1</th>\n",
       "      <td>2</td>\n",
       "      <td>Male</td>\n",
       "      <td>21</td>\n",
       "      <td>15</td>\n",
       "      <td>81</td>\n",
       "    </tr>\n",
       "    <tr>\n",
       "      <th>2</th>\n",
       "      <td>3</td>\n",
       "      <td>Female</td>\n",
       "      <td>20</td>\n",
       "      <td>16</td>\n",
       "      <td>6</td>\n",
       "    </tr>\n",
       "    <tr>\n",
       "      <th>3</th>\n",
       "      <td>4</td>\n",
       "      <td>Female</td>\n",
       "      <td>23</td>\n",
       "      <td>16</td>\n",
       "      <td>77</td>\n",
       "    </tr>\n",
       "    <tr>\n",
       "      <th>4</th>\n",
       "      <td>5</td>\n",
       "      <td>Female</td>\n",
       "      <td>31</td>\n",
       "      <td>17</td>\n",
       "      <td>40</td>\n",
       "    </tr>\n",
       "  </tbody>\n",
       "</table>\n",
       "</div>"
      ],
      "text/plain": [
       "   CustomerID  Gender  Age  Annual Income (k$)  Spending Score (1-100)\n",
       "0           1    Male   19                  15                      39\n",
       "1           2    Male   21                  15                      81\n",
       "2           3  Female   20                  16                       6\n",
       "3           4  Female   23                  16                      77\n",
       "4           5  Female   31                  17                      40"
      ]
     },
     "execution_count": 2,
     "metadata": {},
     "output_type": "execute_result"
    }
   ],
   "source": [
    "df = pd.read_csv(\"/kaggle/input/customer-segmentation-tutorial-in-python/Mall_Customers.csv\")\n",
    "df.head()"
   ]
  },
  {
   "cell_type": "code",
   "execution_count": 3,
   "id": "combined-trainer",
   "metadata": {
    "execution": {
     "iopub.execute_input": "2021-07-02T07:01:13.745258Z",
     "iopub.status.busy": "2021-07-02T07:01:13.744268Z",
     "iopub.status.idle": "2021-07-02T07:01:13.767612Z",
     "shell.execute_reply": "2021-07-02T07:01:13.766490Z",
     "shell.execute_reply.started": "2021-06-30T10:28:02.91676Z"
    },
    "papermill": {
     "duration": 0.057828,
     "end_time": "2021-07-02T07:01:13.767878",
     "exception": false,
     "start_time": "2021-07-02T07:01:13.710050",
     "status": "completed"
    },
    "tags": []
   },
   "outputs": [
    {
     "name": "stdout",
     "output_type": "stream",
     "text": [
      "<class 'pandas.core.frame.DataFrame'>\n",
      "RangeIndex: 200 entries, 0 to 199\n",
      "Data columns (total 5 columns):\n",
      " #   Column                  Non-Null Count  Dtype \n",
      "---  ------                  --------------  ----- \n",
      " 0   CustomerID              200 non-null    int64 \n",
      " 1   Gender                  200 non-null    object\n",
      " 2   Age                     200 non-null    int64 \n",
      " 3   Annual Income (k$)      200 non-null    int64 \n",
      " 4   Spending Score (1-100)  200 non-null    int64 \n",
      "dtypes: int64(4), object(1)\n",
      "memory usage: 7.9+ KB\n"
     ]
    }
   ],
   "source": [
    "# Cheking no. of rows and columns\n",
    "# name of columns.\n",
    "# type of each column\n",
    "df.info()\n"
   ]
  },
  {
   "cell_type": "code",
   "execution_count": 4,
   "id": "spectacular-kruger",
   "metadata": {
    "execution": {
     "iopub.execute_input": "2021-07-02T07:01:13.843757Z",
     "iopub.status.busy": "2021-07-02T07:01:13.839885Z",
     "iopub.status.idle": "2021-07-02T07:01:13.865721Z",
     "shell.execute_reply": "2021-07-02T07:01:13.865162Z",
     "shell.execute_reply.started": "2021-06-30T10:28:02.962573Z"
    },
    "papermill": {
     "duration": 0.064414,
     "end_time": "2021-07-02T07:01:13.865869",
     "exception": false,
     "start_time": "2021-07-02T07:01:13.801455",
     "status": "completed"
    },
    "tags": []
   },
   "outputs": [
    {
     "data": {
      "text/html": [
       "<div>\n",
       "<style scoped>\n",
       "    .dataframe tbody tr th:only-of-type {\n",
       "        vertical-align: middle;\n",
       "    }\n",
       "\n",
       "    .dataframe tbody tr th {\n",
       "        vertical-align: top;\n",
       "    }\n",
       "\n",
       "    .dataframe thead th {\n",
       "        text-align: right;\n",
       "    }\n",
       "</style>\n",
       "<table border=\"1\" class=\"dataframe\">\n",
       "  <thead>\n",
       "    <tr style=\"text-align: right;\">\n",
       "      <th></th>\n",
       "      <th>CustomerID</th>\n",
       "      <th>Age</th>\n",
       "      <th>Annual Income (k$)</th>\n",
       "      <th>Spending Score (1-100)</th>\n",
       "    </tr>\n",
       "  </thead>\n",
       "  <tbody>\n",
       "    <tr>\n",
       "      <th>count</th>\n",
       "      <td>200.000000</td>\n",
       "      <td>200.000000</td>\n",
       "      <td>200.000000</td>\n",
       "      <td>200.000000</td>\n",
       "    </tr>\n",
       "    <tr>\n",
       "      <th>mean</th>\n",
       "      <td>100.500000</td>\n",
       "      <td>38.850000</td>\n",
       "      <td>60.560000</td>\n",
       "      <td>50.200000</td>\n",
       "    </tr>\n",
       "    <tr>\n",
       "      <th>std</th>\n",
       "      <td>57.879185</td>\n",
       "      <td>13.969007</td>\n",
       "      <td>26.264721</td>\n",
       "      <td>25.823522</td>\n",
       "    </tr>\n",
       "    <tr>\n",
       "      <th>min</th>\n",
       "      <td>1.000000</td>\n",
       "      <td>18.000000</td>\n",
       "      <td>15.000000</td>\n",
       "      <td>1.000000</td>\n",
       "    </tr>\n",
       "    <tr>\n",
       "      <th>25%</th>\n",
       "      <td>50.750000</td>\n",
       "      <td>28.750000</td>\n",
       "      <td>41.500000</td>\n",
       "      <td>34.750000</td>\n",
       "    </tr>\n",
       "    <tr>\n",
       "      <th>50%</th>\n",
       "      <td>100.500000</td>\n",
       "      <td>36.000000</td>\n",
       "      <td>61.500000</td>\n",
       "      <td>50.000000</td>\n",
       "    </tr>\n",
       "    <tr>\n",
       "      <th>75%</th>\n",
       "      <td>150.250000</td>\n",
       "      <td>49.000000</td>\n",
       "      <td>78.000000</td>\n",
       "      <td>73.000000</td>\n",
       "    </tr>\n",
       "    <tr>\n",
       "      <th>max</th>\n",
       "      <td>200.000000</td>\n",
       "      <td>70.000000</td>\n",
       "      <td>137.000000</td>\n",
       "      <td>99.000000</td>\n",
       "    </tr>\n",
       "  </tbody>\n",
       "</table>\n",
       "</div>"
      ],
      "text/plain": [
       "       CustomerID         Age  Annual Income (k$)  Spending Score (1-100)\n",
       "count  200.000000  200.000000          200.000000              200.000000\n",
       "mean   100.500000   38.850000           60.560000               50.200000\n",
       "std     57.879185   13.969007           26.264721               25.823522\n",
       "min      1.000000   18.000000           15.000000                1.000000\n",
       "25%     50.750000   28.750000           41.500000               34.750000\n",
       "50%    100.500000   36.000000           61.500000               50.000000\n",
       "75%    150.250000   49.000000           78.000000               73.000000\n",
       "max    200.000000   70.000000          137.000000               99.000000"
      ]
     },
     "execution_count": 4,
     "metadata": {},
     "output_type": "execute_result"
    }
   ],
   "source": [
    "# checking 5 number summary.\n",
    "df.describe()"
   ]
  },
  {
   "cell_type": "code",
   "execution_count": 5,
   "id": "announced-employment",
   "metadata": {
    "execution": {
     "iopub.execute_input": "2021-07-02T07:01:13.934330Z",
     "iopub.status.busy": "2021-07-02T07:01:13.933632Z",
     "iopub.status.idle": "2021-07-02T07:01:13.940861Z",
     "shell.execute_reply": "2021-07-02T07:01:13.941378Z",
     "shell.execute_reply.started": "2021-06-30T10:28:03.009773Z"
    },
    "papermill": {
     "duration": 0.04299,
     "end_time": "2021-07-02T07:01:13.941568",
     "exception": false,
     "start_time": "2021-07-02T07:01:13.898578",
     "status": "completed"
    },
    "tags": []
   },
   "outputs": [
    {
     "data": {
      "text/plain": [
       "CustomerID                0\n",
       "Gender                    0\n",
       "Age                       0\n",
       "Annual Income (k$)        0\n",
       "Spending Score (1-100)    0\n",
       "dtype: int64"
      ]
     },
     "execution_count": 5,
     "metadata": {},
     "output_type": "execute_result"
    }
   ],
   "source": [
    "# Checking null\n",
    "df.isnull().sum()"
   ]
  },
  {
   "cell_type": "markdown",
   "id": "mexican-advice",
   "metadata": {
    "papermill": {
     "duration": 0.033458,
     "end_time": "2021-07-02T07:01:14.008281",
     "exception": false,
     "start_time": "2021-07-02T07:01:13.974823",
     "status": "completed"
    },
    "tags": []
   },
   "source": [
    "# checking outliers"
   ]
  },
  {
   "cell_type": "code",
   "execution_count": 6,
   "id": "friendly-mauritius",
   "metadata": {
    "execution": {
     "iopub.execute_input": "2021-07-02T07:01:14.078880Z",
     "iopub.status.busy": "2021-07-02T07:01:14.078188Z",
     "iopub.status.idle": "2021-07-02T07:01:14.082967Z",
     "shell.execute_reply": "2021-07-02T07:01:14.082222Z",
     "shell.execute_reply.started": "2021-06-30T10:28:03.034145Z"
    },
    "papermill": {
     "duration": 0.040921,
     "end_time": "2021-07-02T07:01:14.083116",
     "exception": false,
     "start_time": "2021-07-02T07:01:14.042195",
     "status": "completed"
    },
    "tags": []
   },
   "outputs": [],
   "source": [
    "# I am using blox plot to identify the outliers"
   ]
  },
  {
   "cell_type": "code",
   "execution_count": 7,
   "id": "amino-notion",
   "metadata": {
    "execution": {
     "iopub.execute_input": "2021-07-02T07:01:14.152461Z",
     "iopub.status.busy": "2021-07-02T07:01:14.151813Z",
     "iopub.status.idle": "2021-07-02T07:01:14.305616Z",
     "shell.execute_reply": "2021-07-02T07:01:14.306092Z",
     "shell.execute_reply.started": "2021-06-30T10:28:03.047472Z"
    },
    "papermill": {
     "duration": 0.189929,
     "end_time": "2021-07-02T07:01:14.306277",
     "exception": false,
     "start_time": "2021-07-02T07:01:14.116348",
     "status": "completed"
    },
    "tags": []
   },
   "outputs": [
    {
     "data": {
      "text/plain": [
       "<AxesSubplot:ylabel='Annual Income (k$)'>"
      ]
     },
     "execution_count": 7,
     "metadata": {},
     "output_type": "execute_result"
    },
    {
     "data": {
      "image/png": "[encoded data removed]",
      "text/plain": [
       "<Figure size 432x288 with 1 Axes>"
      ]
     },
     "metadata": {
      "needs_background": "light"
     },
     "output_type": "display_data"
    }
   ],
   "source": [
    "sns.boxplot(y=\"Annual Income (k$)\", data=df)"
   ]
  },
  {
   "cell_type": "markdown",
   "id": "thrown-yukon",
   "metadata": {
    "execution": {
     "iopub.execute_input": "2021-06-30T10:28:03.288881Z",
     "iopub.status.busy": "2021-06-30T10:28:03.288392Z",
     "iopub.status.idle": "2021-06-30T10:28:03.29441Z",
     "shell.execute_reply": "2021-06-30T10:28:03.293338Z",
     "shell.execute_reply.started": "2021-06-30T10:28:03.288842Z"
    },
    "papermill": {
     "duration": 0.034952,
     "end_time": "2021-07-02T07:01:14.375999",
     "exception": false,
     "start_time": "2021-07-02T07:01:14.341047",
     "status": "completed"
    },
    "tags": []
   },
   "source": [
    "**# treating the outliers.**"
   ]
  },
  {
   "cell_type": "code",
   "execution_count": 8,
   "id": "discrete-discount",
   "metadata": {
    "execution": {
     "iopub.execute_input": "2021-07-02T07:01:14.449823Z",
     "iopub.status.busy": "2021-07-02T07:01:14.449170Z",
     "iopub.status.idle": "2021-07-02T07:01:14.455608Z",
     "shell.execute_reply": "2021-07-02T07:01:14.456107Z",
     "shell.execute_reply.started": "2021-06-30T10:28:03.296738Z"
    },
    "papermill": {
     "duration": 0.045905,
     "end_time": "2021-07-02T07:01:14.456306",
     "exception": false,
     "start_time": "2021-07-02T07:01:14.410401",
     "status": "completed"
    },
    "tags": []
   },
   "outputs": [],
   "source": [
    "Q1 = df['Annual Income (k$)'].quantile(0.25)\n",
    "Q3 = df['Annual Income (k$)'].quantile(0.75)\n",
    "IQR = Q3 - Q1"
   ]
  },
  {
   "cell_type": "code",
   "execution_count": 9,
   "id": "permanent-numbers",
   "metadata": {
    "execution": {
     "iopub.execute_input": "2021-07-02T07:01:14.527238Z",
     "iopub.status.busy": "2021-07-02T07:01:14.526587Z",
     "iopub.status.idle": "2021-07-02T07:01:14.532831Z",
     "shell.execute_reply": "2021-07-02T07:01:14.533411Z",
     "shell.execute_reply.started": "2021-06-30T10:28:03.319624Z"
    },
    "papermill": {
     "duration": 0.043212,
     "end_time": "2021-07-02T07:01:14.533619",
     "exception": false,
     "start_time": "2021-07-02T07:01:14.490407",
     "status": "completed"
    },
    "tags": []
   },
   "outputs": [
    {
     "name": "stdout",
     "output_type": "stream",
     "text": [
      "low_limit is -13.25\n",
      "up_limit is 132.75\n"
     ]
    }
   ],
   "source": [
    "low_lim = Q1 - 1.5 * IQR\n",
    "up_lim = Q3 + 1.5 * IQR\n",
    "print('low_limit is', low_lim)\n",
    "print('up_limit is', up_lim)"
   ]
  },
  {
   "cell_type": "code",
   "execution_count": 10,
   "id": "adaptive-canyon",
   "metadata": {
    "execution": {
     "iopub.execute_input": "2021-07-02T07:01:14.606419Z",
     "iopub.status.busy": "2021-07-02T07:01:14.605796Z",
     "iopub.status.idle": "2021-07-02T07:01:14.612956Z",
     "shell.execute_reply": "2021-07-02T07:01:14.613430Z",
     "shell.execute_reply.started": "2021-06-30T10:28:03.335811Z"
    },
    "papermill": {
     "duration": 0.046289,
     "end_time": "2021-07-02T07:01:14.613636",
     "exception": false,
     "start_time": "2021-07-02T07:01:14.567347",
     "status": "completed"
    },
    "tags": []
   },
   "outputs": [
    {
     "name": "stdout",
     "output_type": "stream",
     "text": [
      " outlier in the dataset is [137, 137]\n"
     ]
    }
   ],
   "source": [
    "outlier = []\n",
    "for x in df['Annual Income (k$)']:\n",
    "    if ((x> up_lim) or (x<low_lim)):\n",
    "         outlier.append(x)\n",
    "print(' outlier in the dataset is', outlier)"
   ]
  },
  {
   "cell_type": "code",
   "execution_count": 11,
   "id": "eight-rubber",
   "metadata": {
    "execution": {
     "iopub.execute_input": "2021-07-02T07:01:14.687032Z",
     "iopub.status.busy": "2021-07-02T07:01:14.686334Z",
     "iopub.status.idle": "2021-07-02T07:01:14.689050Z",
     "shell.execute_reply": "2021-07-02T07:01:14.689537Z",
     "shell.execute_reply.started": "2021-06-30T10:28:03.353558Z"
    },
    "papermill": {
     "duration": 0.041758,
     "end_time": "2021-07-02T07:01:14.689726",
     "exception": false,
     "start_time": "2021-07-02T07:01:14.647968",
     "status": "completed"
    },
    "tags": []
   },
   "outputs": [
    {
     "data": {
      "text/plain": [
       "2"
      ]
     },
     "execution_count": 11,
     "metadata": {},
     "output_type": "execute_result"
    }
   ],
   "source": [
    "len(outlier)\n",
    "# there is only 2 outlier value"
   ]
  },
  {
   "cell_type": "code",
   "execution_count": 12,
   "id": "favorite-feedback",
   "metadata": {
    "execution": {
     "iopub.execute_input": "2021-07-02T07:01:14.761869Z",
     "iopub.status.busy": "2021-07-02T07:01:14.761192Z",
     "iopub.status.idle": "2021-07-02T07:01:14.764217Z",
     "shell.execute_reply": "2021-07-02T07:01:14.764808Z",
     "shell.execute_reply.started": "2021-06-30T10:28:03.376726Z"
    },
    "papermill": {
     "duration": 0.040969,
     "end_time": "2021-07-02T07:01:14.764983",
     "exception": false,
     "start_time": "2021-07-02T07:01:14.724014",
     "status": "completed"
    },
    "tags": []
   },
   "outputs": [],
   "source": [
    "# We are replacing outlier with median.\n",
    "# beacuse the total no. of observation are low.\n",
    "# so we can not drop those outliers value.\n",
    "# median are not affected by outlier."
   ]
  },
  {
   "cell_type": "code",
   "execution_count": 13,
   "id": "romantic-animal",
   "metadata": {
    "execution": {
     "iopub.execute_input": "2021-07-02T07:01:14.838797Z",
     "iopub.status.busy": "2021-07-02T07:01:14.838100Z",
     "iopub.status.idle": "2021-07-02T07:01:14.862066Z",
     "shell.execute_reply": "2021-07-02T07:01:14.861461Z",
     "shell.execute_reply.started": "2021-06-30T10:28:03.397942Z"
    },
    "papermill": {
     "duration": 0.062127,
     "end_time": "2021-07-02T07:01:14.862219",
     "exception": false,
     "start_time": "2021-07-02T07:01:14.800092",
     "status": "completed"
    },
    "tags": []
   },
   "outputs": [],
   "source": [
    "#replacing outlier value which is 137 with median=61.5\n",
    "df.loc[df['Annual Income (k$)'] >= 137, 'Annual Income (k$)'] = 61.5"
   ]
  },
  {
   "cell_type": "code",
   "execution_count": 14,
   "id": "speaking-challenge",
   "metadata": {
    "execution": {
     "iopub.execute_input": "2021-07-02T07:01:14.947094Z",
     "iopub.status.busy": "2021-07-02T07:01:14.946068Z",
     "iopub.status.idle": "2021-07-02T07:01:15.048704Z",
     "shell.execute_reply": "2021-07-02T07:01:15.049296Z",
     "shell.execute_reply.started": "2021-06-30T10:28:03.431989Z"
    },
    "papermill": {
     "duration": 0.15174,
     "end_time": "2021-07-02T07:01:15.049489",
     "exception": false,
     "start_time": "2021-07-02T07:01:14.897749",
     "status": "completed"
    },
    "tags": []
   },
   "outputs": [
    {
     "data": {
      "text/plain": [
       "<AxesSubplot:ylabel='Annual Income (k$)'>"
      ]
     },
     "execution_count": 14,
     "metadata": {},
     "output_type": "execute_result"
    },
    {
     "data": {
      "image/png": "[encoded data removed]",
      "text/plain": [
       "<Figure size 432x288 with 1 Axes>"
      ]
     },
     "metadata": {
      "needs_background": "light"
     },
     "output_type": "display_data"
    }
   ],
   "source": [
    "#outlier is removed now\n",
    "sns.boxplot(y=\"Annual Income (k$)\", data=df)"
   ]
  },
  {
   "cell_type": "code",
   "execution_count": 15,
   "id": "elder-communication",
   "metadata": {
    "execution": {
     "iopub.execute_input": "2021-07-02T07:01:15.125446Z",
     "iopub.status.busy": "2021-07-02T07:01:15.124394Z",
     "iopub.status.idle": "2021-07-02T07:01:15.236240Z",
     "shell.execute_reply": "2021-07-02T07:01:15.236739Z",
     "shell.execute_reply.started": "2021-06-30T10:28:03.584268Z"
    },
    "papermill": {
     "duration": 0.151217,
     "end_time": "2021-07-02T07:01:15.236928",
     "exception": false,
     "start_time": "2021-07-02T07:01:15.085711",
     "status": "completed"
    },
    "tags": []
   },
   "outputs": [
    {
     "data": {
      "text/plain": [
       "<AxesSubplot:ylabel='Spending Score (1-100)'>"
      ]
     },
     "execution_count": 15,
     "metadata": {},
     "output_type": "execute_result"
    },
    {
     "data": {
      "image/png": "[encoded data removed]",
      "text/plain": [
       "<Figure size 432x288 with 1 Axes>"
      ]
     },
     "metadata": {
      "needs_background": "light"
     },
     "output_type": "display_data"
    }
   ],
   "source": [
    "#checking outlier for Spending Score\n",
    "sns.boxplot(y=\"Spending Score (1-100)\", data=df)\n",
    "# no outlier"
   ]
  },
  {
   "cell_type": "code",
   "execution_count": 16,
   "id": "specific-treasurer",
   "metadata": {
    "execution": {
     "iopub.execute_input": "2021-07-02T07:01:15.314137Z",
     "iopub.status.busy": "2021-07-02T07:01:15.313106Z",
     "iopub.status.idle": "2021-07-02T07:01:15.526771Z",
     "shell.execute_reply": "2021-07-02T07:01:15.526134Z",
     "shell.execute_reply.started": "2021-06-30T10:28:03.737266Z"
    },
    "papermill": {
     "duration": 0.253778,
     "end_time": "2021-07-02T07:01:15.526910",
     "exception": false,
     "start_time": "2021-07-02T07:01:15.273132",
     "status": "completed"
    },
    "tags": []
   },
   "outputs": [
    {
     "data": {
      "text/plain": [
       "<AxesSubplot:ylabel='Age'>"
      ]
     },
     "execution_count": 16,
     "metadata": {},
     "output_type": "execute_result"
    },
    {
     "data": {
      "image/png": "[encoded data removed]",
      "text/plain": [
       "<Figure size 432x288 with 1 Axes>"
      ]
     },
     "metadata": {
      "needs_background": "light"
     },
     "output_type": "display_data"
    }
   ],
   "source": [
    "#checking outlier for Age\n",
    "sns.boxplot(y=\"Age\", data=df)\n",
    "# no outlier"
   ]
  },
  {
   "cell_type": "markdown",
   "id": "loving-bolivia",
   "metadata": {
    "papermill": {
     "duration": 0.037245,
     "end_time": "2021-07-02T07:01:15.602110",
     "exception": false,
     "start_time": "2021-07-02T07:01:15.564865",
     "status": "completed"
    },
    "tags": []
   },
   "source": [
    "# checking skewness for spending score"
   ]
  },
  {
   "cell_type": "code",
   "execution_count": 17,
   "id": "voluntary-copyright",
   "metadata": {
    "execution": {
     "iopub.execute_input": "2021-07-02T07:01:15.692088Z",
     "iopub.status.busy": "2021-07-02T07:01:15.691416Z",
     "iopub.status.idle": "2021-07-02T07:01:16.036439Z",
     "shell.execute_reply": "2021-07-02T07:01:16.037084Z",
     "shell.execute_reply.started": "2021-06-30T10:28:03.884096Z"
    },
    "papermill": {
     "duration": 0.396521,
     "end_time": "2021-07-02T07:01:16.037268",
     "exception": false,
     "start_time": "2021-07-02T07:01:15.640747",
     "status": "completed"
    },
    "tags": []
   },
   "outputs": [
    {
     "name": "stderr",
     "output_type": "stream",
     "text": [
      "/opt/conda/lib/python3.7/site-packages/seaborn/distributions.py:2557: FutureWarning: `distplot` is a deprecated function and will be removed in a future version. Please adapt your code to use either `displot` (a figure-level function with similar flexibility) or `histplot` (an axes-level function for histograms).\n",
      "  warnings.warn(msg, FutureWarning)\n"
     ]
    },
    {
     "data": {
      "image/png": "[encoded data removed]",
      "text/plain": [
       "<Figure size 720x288 with 2 Axes>"
      ]
     },
     "metadata": {
      "needs_background": "light"
     },
     "output_type": "display_data"
    }
   ],
   "source": [
    "plt.figure(figsize=(10,4))\n",
    "plt.subplot(1,2,1)\n",
    "sns.distplot(df[\"Spending Score (1-100)\"], fit=norm, color=\"orange\")\n",
    "plt.title(\"Spending Score Distplot\", color = \"darkred\")\n",
    "plt.subplot(1,2,2)\n",
    "stats.probplot(df[\"Spending Score (1-100)\"], plot = plt)\n",
    "plt.show()"
   ]
  },
  {
   "cell_type": "code",
   "execution_count": 18,
   "id": "positive-longitude",
   "metadata": {
    "execution": {
     "iopub.execute_input": "2021-07-02T07:01:16.135282Z",
     "iopub.status.busy": "2021-07-02T07:01:16.134574Z",
     "iopub.status.idle": "2021-07-02T07:01:16.138589Z",
     "shell.execute_reply": "2021-07-02T07:01:16.139453Z",
     "shell.execute_reply.started": "2021-06-30T10:28:04.300815Z"
    },
    "papermill": {
     "duration": 0.062318,
     "end_time": "2021-07-02T07:01:16.139732",
     "exception": false,
     "start_time": "2021-07-02T07:01:16.077414",
     "status": "completed"
    },
    "tags": []
   },
   "outputs": [],
   "source": [
    "# no need for skewness correction"
   ]
  },
  {
   "cell_type": "markdown",
   "id": "planned-insider",
   "metadata": {
    "execution": {
     "iopub.execute_input": "2021-06-30T10:28:04.307743Z",
     "iopub.status.busy": "2021-06-30T10:28:04.30721Z",
     "iopub.status.idle": "2021-06-30T10:28:04.319272Z",
     "shell.execute_reply": "2021-06-30T10:28:04.317884Z",
     "shell.execute_reply.started": "2021-06-30T10:28:04.30763Z"
    },
    "papermill": {
     "duration": 0.045208,
     "end_time": "2021-07-02T07:01:16.236712",
     "exception": false,
     "start_time": "2021-07-02T07:01:16.191504",
     "status": "completed"
    },
    "tags": []
   },
   "source": [
    "**# checking skewness for Annual income**"
   ]
  },
  {
   "cell_type": "code",
   "execution_count": 19,
   "id": "elementary-transfer",
   "metadata": {
    "execution": {
     "iopub.execute_input": "2021-07-02T07:01:16.329087Z",
     "iopub.status.busy": "2021-07-02T07:01:16.328051Z",
     "iopub.status.idle": "2021-07-02T07:01:16.673326Z",
     "shell.execute_reply": "2021-07-02T07:01:16.673921Z",
     "shell.execute_reply.started": "2021-06-30T10:28:04.321942Z"
    },
    "papermill": {
     "duration": 0.397994,
     "end_time": "2021-07-02T07:01:16.674099",
     "exception": false,
     "start_time": "2021-07-02T07:01:16.276105",
     "status": "completed"
    },
    "tags": []
   },
   "outputs": [
    {
     "name": "stderr",
     "output_type": "stream",
     "text": [
      "/opt/conda/lib/python3.7/site-packages/seaborn/distributions.py:2557: FutureWarning: `distplot` is a deprecated function and will be removed in a future version. Please adapt your code to use either `displot` (a figure-level function with similar flexibility) or `histplot` (an axes-level function for histograms).\n",
      "  warnings.warn(msg, FutureWarning)\n"
     ]
    },
    {
     "data": {
      "image/png": "[encoded data removed]",
      "text/plain": [
       "<Figure size 720x288 with 2 Axes>"
      ]
     },
     "metadata": {
      "needs_background": "light"
     },
     "output_type": "display_data"
    }
   ],
   "source": [
    "plt.figure(figsize=(10,4))\n",
    "plt.subplot(1,2,1)\n",
    "sns.distplot(df[\"Annual Income (k$)\"], fit=norm, color=\"orange\")\n",
    "plt.title(\"Annual Income (k$) Distplot\", color = \"darkred\")\n",
    "plt.subplot(1,2,2)\n",
    "stats.probplot(df[\"Annual Income (k$)\"], plot = plt)\n",
    "plt.show()"
   ]
  },
  {
   "cell_type": "code",
   "execution_count": 20,
   "id": "tracked-trademark",
   "metadata": {
    "execution": {
     "iopub.execute_input": "2021-07-02T07:01:16.759357Z",
     "iopub.status.busy": "2021-07-02T07:01:16.758661Z",
     "iopub.status.idle": "2021-07-02T07:01:16.763959Z",
     "shell.execute_reply": "2021-07-02T07:01:16.763416Z",
     "shell.execute_reply.started": "2021-06-30T10:28:04.718342Z"
    },
    "papermill": {
     "duration": 0.049387,
     "end_time": "2021-07-02T07:01:16.764109",
     "exception": false,
     "start_time": "2021-07-02T07:01:16.714722",
     "status": "completed"
    },
    "tags": []
   },
   "outputs": [],
   "source": [
    "# no need for skewness correction"
   ]
  },
  {
   "cell_type": "markdown",
   "id": "danish-transformation",
   "metadata": {
    "papermill": {
     "duration": 0.044509,
     "end_time": "2021-07-02T07:01:16.849263",
     "exception": false,
     "start_time": "2021-07-02T07:01:16.804754",
     "status": "completed"
    },
    "tags": []
   },
   "source": [
    "# Visualizing the annual income vs spending score.\n",
    "# This will help us in deciding how many cluster we need."
   ]
  },
  {
   "cell_type": "code",
   "execution_count": 21,
   "id": "objective-norway",
   "metadata": {
    "execution": {
     "iopub.execute_input": "2021-07-02T07:01:16.970361Z",
     "iopub.status.busy": "2021-07-02T07:01:16.969694Z",
     "iopub.status.idle": "2021-07-02T07:01:17.108620Z",
     "shell.execute_reply": "2021-07-02T07:01:17.107996Z",
     "shell.execute_reply.started": "2021-06-30T10:28:04.725139Z"
    },
    "papermill": {
     "duration": 0.219092,
     "end_time": "2021-07-02T07:01:17.108769",
     "exception": false,
     "start_time": "2021-07-02T07:01:16.889677",
     "status": "completed"
    },
    "tags": []
   },
   "outputs": [
    {
     "data": {
      "text/plain": [
       "<AxesSubplot:xlabel='Annual Income (k$)', ylabel='Spending Score (1-100)'>"
      ]
     },
     "execution_count": 21,
     "metadata": {},
     "output_type": "execute_result"
    },
    {
     "data": {
      "image/png": "[encoded data removed]",
      "text/plain": [
       "<Figure size 432x288 with 1 Axes>"
      ]
     },
     "metadata": {
      "needs_background": "light"
     },
     "output_type": "display_data"
    }
   ],
   "source": [
    "sns.scatterplot(x=\"Annual Income (k$)\",\n",
    "                    y=\"Spending Score (1-100)\",\n",
    "                    data=df)"
   ]
  },
  {
   "cell_type": "code",
   "execution_count": 22,
   "id": "literary-washington",
   "metadata": {
    "execution": {
     "iopub.execute_input": "2021-07-02T07:01:17.202405Z",
     "iopub.status.busy": "2021-07-02T07:01:17.201736Z",
     "iopub.status.idle": "2021-07-02T07:01:17.204746Z",
     "shell.execute_reply": "2021-07-02T07:01:17.205200Z",
     "shell.execute_reply.started": "2021-06-30T10:28:05.078004Z"
    },
    "papermill": {
     "duration": 0.052125,
     "end_time": "2021-07-02T07:01:17.205380",
     "exception": false,
     "start_time": "2021-07-02T07:01:17.153255",
     "status": "completed"
    },
    "tags": []
   },
   "outputs": [],
   "source": [
    "# making cluster on these two features 1. annual income 2. spending score"
   ]
  },
  {
   "cell_type": "code",
   "execution_count": 23,
   "id": "finnish-excuse",
   "metadata": {
    "execution": {
     "iopub.execute_input": "2021-07-02T07:01:17.294621Z",
     "iopub.status.busy": "2021-07-02T07:01:17.293878Z",
     "iopub.status.idle": "2021-07-02T07:01:17.297599Z",
     "shell.execute_reply": "2021-07-02T07:01:17.296882Z",
     "shell.execute_reply.started": "2021-06-30T10:28:05.083666Z"
    },
    "papermill": {
     "duration": 0.050811,
     "end_time": "2021-07-02T07:01:17.297750",
     "exception": false,
     "start_time": "2021-07-02T07:01:17.246939",
     "status": "completed"
    },
    "tags": []
   },
   "outputs": [],
   "source": [
    "clus = df.iloc[:,[3,4]].values"
   ]
  },
  {
   "cell_type": "code",
   "execution_count": 24,
   "id": "adolescent-modeling",
   "metadata": {
    "execution": {
     "iopub.execute_input": "2021-07-02T07:01:17.385582Z",
     "iopub.status.busy": "2021-07-02T07:01:17.384940Z",
     "iopub.status.idle": "2021-07-02T07:01:17.388130Z",
     "shell.execute_reply": "2021-07-02T07:01:17.388625Z",
     "shell.execute_reply.started": "2021-06-30T10:28:05.107593Z"
    },
    "papermill": {
     "duration": 0.048989,
     "end_time": "2021-07-02T07:01:17.388817",
     "exception": false,
     "start_time": "2021-07-02T07:01:17.339828",
     "status": "completed"
    },
    "tags": []
   },
   "outputs": [],
   "source": [
    "# first we need to decide the number of cluster\n",
    "# for this we use elbow curve.\n",
    "# by seeing the elbow curve and ealier scater plot we can easily decide\n",
    "#how many cluster we accuanly need."
   ]
  },
  {
   "cell_type": "code",
   "execution_count": 25,
   "id": "killing-basement",
   "metadata": {
    "execution": {
     "iopub.execute_input": "2021-07-02T07:01:17.480062Z",
     "iopub.status.busy": "2021-07-02T07:01:17.479097Z",
     "iopub.status.idle": "2021-07-02T07:01:17.991054Z",
     "shell.execute_reply": "2021-07-02T07:01:17.990414Z",
     "shell.execute_reply.started": "2021-06-30T10:28:05.122239Z"
    },
    "papermill": {
     "duration": 0.55983,
     "end_time": "2021-07-02T07:01:17.991208",
     "exception": false,
     "start_time": "2021-07-02T07:01:17.431378",
     "status": "completed"
    },
    "tags": []
   },
   "outputs": [],
   "source": [
    "# wcss= within cluster sum of sqaures\n",
    "# we need to calculate the wcss beucase we need the elbow curve\n",
    "# to identify the no. of cluster requirement.\n",
    "wcss = []\n",
    "\n",
    "for i in range(1,11):\n",
    "  kmeans = KMeans(n_clusters=i, init='k-means++', random_state=42)\n",
    "  kmeans.fit(clus)\n",
    "\n",
    "  wcss.append(kmeans.inertia_)"
   ]
  },
  {
   "cell_type": "code",
   "execution_count": 26,
   "id": "alive-vinyl",
   "metadata": {
    "execution": {
     "iopub.execute_input": "2021-07-02T07:01:18.082878Z",
     "iopub.status.busy": "2021-07-02T07:01:18.081422Z",
     "iopub.status.idle": "2021-07-02T07:01:18.227829Z",
     "shell.execute_reply": "2021-07-02T07:01:18.226972Z",
     "shell.execute_reply.started": "2021-06-30T10:28:05.715487Z"
    },
    "papermill": {
     "duration": 0.194038,
     "end_time": "2021-07-02T07:01:18.227993",
     "exception": false,
     "start_time": "2021-07-02T07:01:18.033955",
     "status": "completed"
    },
    "tags": []
   },
   "outputs": [
    {
     "data": {
      "image/png": "[encoded data removed]",
      "text/plain": [
       "<Figure size 432x288 with 1 Axes>"
      ]
     },
     "metadata": {
      "needs_background": "light"
     },
     "output_type": "display_data"
    }
   ],
   "source": [
    "# draw elbow graph\n",
    "\n",
    "fig = plt.figure()\n",
    "ax = fig.add_subplot(111, xlabel=\"Number of Clusters\", ylabel=\"WCSS\")\n",
    "plt.plot(range(1,11), wcss)\n",
    "plt.title('The Elbow Point Graph')\n",
    "\n",
    "plt.show()"
   ]
  },
  {
   "cell_type": "code",
   "execution_count": 27,
   "id": "centered-rebound",
   "metadata": {
    "execution": {
     "iopub.execute_input": "2021-07-02T07:01:18.320140Z",
     "iopub.status.busy": "2021-07-02T07:01:18.318745Z",
     "iopub.status.idle": "2021-07-02T07:01:18.322231Z",
     "shell.execute_reply": "2021-07-02T07:01:18.322792Z",
     "shell.execute_reply.started": "2021-06-30T10:28:05.87487Z"
    },
    "papermill": {
     "duration": 0.051451,
     "end_time": "2021-07-02T07:01:18.322969",
     "exception": false,
     "start_time": "2021-07-02T07:01:18.271518",
     "status": "completed"
    },
    "tags": []
   },
   "outputs": [],
   "source": [
    "# optimum value of cluster is 6\n",
    "# we choose the no. of cluster after which the decrease in wcss become low or almost constant."
   ]
  },
  {
   "cell_type": "code",
   "execution_count": 28,
   "id": "timely-writing",
   "metadata": {
    "execution": {
     "iopub.execute_input": "2021-07-02T07:01:18.415020Z",
     "iopub.status.busy": "2021-07-02T07:01:18.414268Z",
     "iopub.status.idle": "2021-07-02T07:01:18.454475Z",
     "shell.execute_reply": "2021-07-02T07:01:18.455688Z",
     "shell.execute_reply.started": "2021-06-30T10:28:05.8825Z"
    },
    "papermill": {
     "duration": 0.087179,
     "end_time": "2021-07-02T07:01:18.455926",
     "exception": false,
     "start_time": "2021-07-02T07:01:18.368747",
     "status": "completed"
    },
    "tags": []
   },
   "outputs": [
    {
     "name": "stdout",
     "output_type": "stream",
     "text": [
      "[1 3 1 3 1 3 1 3 1 3 1 3 1 3 1 3 1 3 1 3 1 3 1 3 1 3 1 3 1 3 1 3 1 3 1 3 1\n",
      " 3 1 3 1 3 1 4 1 3 4 4 4 4 4 4 4 4 4 4 4 4 4 4 4 4 4 4 4 4 4 4 4 4 4 4 4 4\n",
      " 4 4 4 4 4 4 4 4 4 4 4 4 4 4 4 4 4 4 4 4 4 4 4 4 4 4 4 4 4 4 4 4 4 4 4 4 4\n",
      " 4 4 4 4 4 4 4 4 4 4 4 4 0 2 0 4 0 2 0 2 0 2 0 2 0 2 0 2 0 2 0 4 0 2 0 2 0\n",
      " 2 0 2 0 2 0 2 0 2 0 2 0 2 0 2 0 2 0 2 0 2 0 2 0 2 0 2 0 2 0 2 5 2 5 2 5 2\n",
      " 5 2 5 2 5 2 5 2 5 2 5 2 5 2 0]\n"
     ]
    }
   ],
   "source": [
    "# training the k means algo\n",
    "kmeans = KMeans(n_clusters=6, init='k-means++', random_state=42)\n",
    "\n",
    "# return a label for each data point based on their cluster\n",
    "Y = kmeans.fit_predict(clus)\n",
    "\n",
    "print(Y)"
   ]
  },
  {
   "cell_type": "code",
   "execution_count": 29,
   "id": "false-gazette",
   "metadata": {
    "execution": {
     "iopub.execute_input": "2021-07-02T07:01:18.547440Z",
     "iopub.status.busy": "2021-07-02T07:01:18.546758Z",
     "iopub.status.idle": "2021-07-02T07:01:18.552773Z",
     "shell.execute_reply": "2021-07-02T07:01:18.552072Z",
     "shell.execute_reply.started": "2021-06-30T10:28:05.942378Z"
    },
    "papermill": {
     "duration": 0.0522,
     "end_time": "2021-07-02T07:01:18.552954",
     "exception": false,
     "start_time": "2021-07-02T07:01:18.500754",
     "status": "completed"
    },
    "tags": []
   },
   "outputs": [
    {
     "name": "stdout",
     "output_type": "stream",
     "text": [
      "[0 1 2 3 4 5]\n"
     ]
    }
   ],
   "source": [
    "print(np.unique(Y))\n",
    "#no. of cluster"
   ]
  },
  {
   "cell_type": "code",
   "execution_count": 30,
   "id": "helpful-thesis",
   "metadata": {
    "execution": {
     "iopub.execute_input": "2021-07-02T07:01:18.655332Z",
     "iopub.status.busy": "2021-07-02T07:01:18.654621Z",
     "iopub.status.idle": "2021-07-02T07:01:18.890333Z",
     "shell.execute_reply": "2021-07-02T07:01:18.889516Z",
     "shell.execute_reply.started": "2021-06-30T10:28:05.950435Z"
    },
    "papermill": {
     "duration": 0.293127,
     "end_time": "2021-07-02T07:01:18.890506",
     "exception": false,
     "start_time": "2021-07-02T07:01:18.597379",
     "status": "completed"
    },
    "tags": []
   },
   "outputs": [
    {
     "data": {
      "image/png": "[encoded data removed]",
      "text/plain": [
       "<Figure size 720x576 with 1 Axes>"
      ]
     },
     "metadata": {
      "needs_background": "light"
     },
     "output_type": "display_data"
    }
   ],
   "source": [
    "\n",
    "plt.figure(figsize=(10,8))\n",
    "plt.scatter(clus[Y==0,0], clus[Y==0,1], s=60, c='orange', label='Cluster 1')\n",
    "plt.scatter(clus[Y==1,0], clus[Y==1,1], s=60, c='red', label='Cluster 2')\n",
    "plt.scatter(clus[Y==2,0], clus[Y==2,1], s=60, c='lime', label='Cluster 3')\n",
    "plt.scatter(clus[Y==3,0], clus[Y==3,1], s=60, c='coral', label='Cluster 4')\n",
    "plt.scatter(clus[Y==4,0], clus[Y==4,1], s=60, c='blue', label='Cluster 5')\n",
    "\n",
    "# plot the centroids\n",
    "plt.scatter(kmeans.cluster_centers_[:,0], kmeans.cluster_centers_[:,1], s=100, c='cyan', label='Centroids')\n",
    "\n",
    "plt.title('customer_segments')\n",
    "plt.xlabel('Annual_Income')\n",
    "plt.ylabel('Spending_Score')\n",
    "plt.show()"
   ]
  },
  {
   "cell_type": "code",
   "execution_count": 31,
   "id": "wireless-horse",
   "metadata": {
    "execution": {
     "iopub.execute_input": "2021-07-02T07:01:18.988505Z",
     "iopub.status.busy": "2021-07-02T07:01:18.987626Z",
     "iopub.status.idle": "2021-07-02T07:01:18.992319Z",
     "shell.execute_reply": "2021-07-02T07:01:18.991749Z",
     "shell.execute_reply.started": "2021-06-30T10:28:06.223009Z"
    },
    "papermill": {
     "duration": 0.053487,
     "end_time": "2021-07-02T07:01:18.992481",
     "exception": false,
     "start_time": "2021-07-02T07:01:18.938994",
     "status": "completed"
    },
    "tags": []
   },
   "outputs": [],
   "source": [
    "# In the above graph we have only 5 cluster and we accutaly write the code for 6 cluster.\n",
    "# so we can say that we only need 5 cluster.\n",
    "# now we will optimize our code to get 5 cluster."
   ]
  },
  {
   "cell_type": "code",
   "execution_count": 32,
   "id": "insured-shirt",
   "metadata": {
    "execution": {
     "iopub.execute_input": "2021-07-02T07:01:19.092198Z",
     "iopub.status.busy": "2021-07-02T07:01:19.091524Z",
     "iopub.status.idle": "2021-07-02T07:01:19.129386Z",
     "shell.execute_reply": "2021-07-02T07:01:19.129973Z",
     "shell.execute_reply.started": "2021-06-30T10:28:06.230958Z"
    },
    "papermill": {
     "duration": 0.087763,
     "end_time": "2021-07-02T07:01:19.130172",
     "exception": false,
     "start_time": "2021-07-02T07:01:19.042409",
     "status": "completed"
    },
    "tags": []
   },
   "outputs": [
    {
     "name": "stdout",
     "output_type": "stream",
     "text": [
      "[2 3 2 3 2 3 2 3 2 3 2 3 2 3 2 3 2 3 2 3 2 3 2 3 2 3 2 3 2 3 2 3 2 3 2 3 2\n",
      " 3 2 3 2 3 2 0 2 3 0 0 0 0 0 0 0 0 0 0 0 0 0 0 0 0 0 0 0 0 0 0 0 0 0 0 0 0\n",
      " 0 0 0 0 0 0 0 0 0 0 0 0 0 0 0 0 0 0 0 0 0 0 0 0 0 0 0 0 0 0 0 0 0 0 0 0 0\n",
      " 0 0 0 0 0 0 0 0 0 0 0 0 4 1 4 0 4 1 4 1 4 1 4 1 4 1 4 1 4 1 4 0 4 1 4 1 4\n",
      " 1 4 1 4 1 4 1 4 1 4 1 4 1 4 1 4 1 4 1 4 1 4 1 4 1 4 1 4 1 4 1 4 1 4 1 4 1\n",
      " 4 1 4 1 4 1 4 1 4 1 4 1 4 1 4]\n"
     ]
    }
   ],
   "source": [
    "# training the k means algo\n",
    "kmeans = KMeans(n_clusters=5, init='k-means++', random_state=42)\n",
    "\n",
    "# return a label for each data point based on their cluster\n",
    "Y = kmeans.fit_predict(clus)\n",
    "\n",
    "print(Y)"
   ]
  },
  {
   "cell_type": "code",
   "execution_count": 33,
   "id": "important-reconstruction",
   "metadata": {
    "execution": {
     "iopub.execute_input": "2021-07-02T07:01:19.227911Z",
     "iopub.status.busy": "2021-07-02T07:01:19.226909Z",
     "iopub.status.idle": "2021-07-02T07:01:19.232891Z",
     "shell.execute_reply": "2021-07-02T07:01:19.233642Z",
     "shell.execute_reply.started": "2021-06-30T10:28:06.285345Z"
    },
    "papermill": {
     "duration": 0.057478,
     "end_time": "2021-07-02T07:01:19.233892",
     "exception": false,
     "start_time": "2021-07-02T07:01:19.176414",
     "status": "completed"
    },
    "tags": []
   },
   "outputs": [
    {
     "name": "stdout",
     "output_type": "stream",
     "text": [
      "[0 1 2 3 4]\n"
     ]
    }
   ],
   "source": [
    "print(np.unique(Y))\n",
    "#no. of cluster"
   ]
  },
  {
   "cell_type": "code",
   "execution_count": 34,
   "id": "adult-elder",
   "metadata": {
    "execution": {
     "iopub.execute_input": "2021-07-02T07:01:19.372181Z",
     "iopub.status.busy": "2021-07-02T07:01:19.369531Z",
     "iopub.status.idle": "2021-07-02T07:01:19.564143Z",
     "shell.execute_reply": "2021-07-02T07:01:19.563428Z",
     "shell.execute_reply.started": "2021-06-30T10:28:06.294513Z"
    },
    "papermill": {
     "duration": 0.283191,
     "end_time": "2021-07-02T07:01:19.564295",
     "exception": false,
     "start_time": "2021-07-02T07:01:19.281104",
     "status": "completed"
    },
    "tags": []
   },
   "outputs": [
    {
     "data": {
      "image/png": "[encoded data removed]",
      "text/plain": [
       "<Figure size 720x576 with 1 Axes>"
      ]
     },
     "metadata": {
      "needs_background": "light"
     },
     "output_type": "display_data"
    }
   ],
   "source": [
    "\n",
    "plt.figure(figsize=(10,8))\n",
    "plt.scatter(clus[Y==0,0], clus[Y==0,1], s=60, c='orange', label='Cluster 1')\n",
    "plt.scatter(clus[Y==1,0], clus[Y==1,1], s=60, c='red', label='Cluster 2')\n",
    "plt.scatter(clus[Y==2,0], clus[Y==2,1], s=60, c='lime', label='Cluster 3')\n",
    "plt.scatter(clus[Y==3,0], clus[Y==3,1], s=60, c='coral', label='Cluster 4')\n",
    "plt.scatter(clus[Y==4,0], clus[Y==4,1], s=60, c='blue', label='Cluster 5')\n",
    "\n",
    "# plot the centroids\n",
    "plt.scatter(kmeans.cluster_centers_[:,0], kmeans.cluster_centers_[:,1], s=200, c='black')\n",
    "\n",
    "plt.title('customer_segments')\n",
    "plt.xlabel('Annual_Income')\n",
    "plt.ylabel('Spending_Score')\n",
    "plt.show()"
   ]
  },
  {
   "cell_type": "markdown",
   "id": "atlantic-isolation",
   "metadata": {
    "papermill": {
     "duration": 0.04757,
     "end_time": "2021-07-02T07:01:19.658424",
     "exception": false,
     "start_time": "2021-07-02T07:01:19.610854",
     "status": "completed"
    },
    "tags": []
   },
   "source": [
    "# Conclusion"
   ]
  },
  {
   "cell_type": "code",
   "execution_count": 35,
   "id": "polar-poster",
   "metadata": {
    "execution": {
     "iopub.execute_input": "2021-07-02T07:01:19.756809Z",
     "iopub.status.busy": "2021-07-02T07:01:19.756002Z",
     "iopub.status.idle": "2021-07-02T07:01:19.759010Z",
     "shell.execute_reply": "2021-07-02T07:01:19.758448Z",
     "shell.execute_reply.started": "2021-06-30T10:28:06.561082Z"
    },
    "papermill": {
     "duration": 0.054167,
     "end_time": "2021-07-02T07:01:19.759153",
     "exception": false,
     "start_time": "2021-07-02T07:01:19.704986",
     "status": "completed"
    },
    "tags": []
   },
   "outputs": [],
   "source": [
    "# we can clearly see the 5 cluster with distinct sepration between each datapoints.\n",
    "# using this info we can run target advertisment for diffrent group with diffrent need.\n",
    "# to increase our sales and profit.\n",
    "# we can also decide to provide coupon and we can messure the effect of coupon on sales in diffrent groups.\n",
    "\n",
    "#done"
   ]
  }
 ],
 "metadata": {
  "kernelspec": {
   "display_name": "Python 3",
   "language": "python",
   "name": "python3"
  },
  "language_info": {
   "codemirror_mode": {
    "name": "ipython",
    "version": 3
   },
   "file_extension": ".py",
   "mimetype": "text/x-python",
   "name": "python",
   "nbconvert_exporter": "python",
   "pygments_lexer": "ipython3",
   "version": "3.7.10"
  },
  "papermill": {
   "default_parameters": {},
   "duration": 18.087664,
   "end_time": "2021-07-02T07:01:21.206341",
   "environment_variables": {},
   "exception": null,
   "input_path": "__notebook__.ipynb",
   "output_path": "__notebook__.ipynb",
   "parameters": {},
   "start_time": "2021-07-02T07:01:03.118677",
   "version": "2.3.3"
  }
 },
 "nbformat": 4,
 "nbformat_minor": 5
}
