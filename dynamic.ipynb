{
 "cells": [
  {
   "cell_type": "code",
   "execution_count": 13,
   "id": "78f1350c",
   "metadata": {},
   "outputs": [],
   "source": [
    "import ipywidgets as widgets\n",
    "from IPython.display import display, Markdown, Javascript, clear_output \n",
    "from datetime import datetime\n",
    "from dateutil.relativedelta import relativedelta\n",
    "from datetime import date\n",
    "from functools import partial\n",
    "import json\n",
    "import requests\n",
    "from ipywidgets import interact\n",
    "from ipywidgets import Button, HBox, VBox, HTML, Label"
   ]
  },
  {
   "cell_type": "code",
   "execution_count": 19,
   "id": "f99b3285",
   "metadata": {},
   "outputs": [],
   "source": [
    "vars_config_widgets = {}"
   ]
  },
  {
   "cell_type": "code",
   "execution_count": 26,
   "id": "410d7776",
   "metadata": {},
   "outputs": [],
   "source": [
    "vars_config_widgets['num_params'] = widgets.IntText(value=1,\n",
    "                                                            description='num_params:',\n",
    "                                                            style={'description_width': 'initial'})"
   ]
  },
  {
   "cell_type": "code",
   "execution_count": 27,
   "id": "b0e26303",
   "metadata": {},
   "outputs": [
    {
     "data": {
      "text/plain": [
       "{'num_params': IntText(value=1, description='num_params:', style=DescriptionStyle(description_width='initial'))}"
      ]
     },
     "metadata": {},
     "output_type": "display_data"
    }
   ],
   "source": [
    "display(vars_config_widgets)"
   ]
  },
  {
   "cell_type": "code",
   "execution_count": 25,
   "id": "011dfe87",
   "metadata": {},
   "outputs": [
    {
     "data": {
      "text/plain": [
       "1"
      ]
     },
     "execution_count": 25,
     "metadata": {},
     "output_type": "execute_result"
    }
   ],
   "source": [
    "vars_config_widgets['num_params'].value"
   ]
  },
  {
   "cell_type": "code",
   "execution_count": null,
   "id": "81bac1a6",
   "metadata": {},
   "outputs": [],
   "source": []
  },
  {
   "cell_type": "code",
   "execution_count": 28,
   "id": "c4bedbb4",
   "metadata": {},
   "outputs": [
    {
     "data": {
      "application/vnd.jupyter.widget-view+json": {
       "model_id": "07e33e905b254cfea8a9c4c4996584b9",
       "version_major": 2,
       "version_minor": 0
      },
      "text/plain": [
       "Text(value='2', description='Pipeline ID : ', style=DescriptionStyle(description_width='initial'))"
      ]
     },
     "metadata": {},
     "output_type": "display_data"
    }
   ],
   "source": [
    "pipeline_id_wid = widgets.Text(value='2', description='Pipeline ID : ', style={\n",
    "                               'description_width': 'initial'},)\n",
    "\n",
    "\n",
    "display(pipeline_id_wid)\n"
   ]
  },
  {
   "cell_type": "code",
   "execution_count": 29,
   "id": "f05c6765",
   "metadata": {},
   "outputs": [
    {
     "data": {
      "text/plain": [
       "'3'"
      ]
     },
     "execution_count": 29,
     "metadata": {},
     "output_type": "execute_result"
    }
   ],
   "source": [
    "pipeline_id_wid.value"
   ]
  },
  {
   "cell_type": "code",
   "execution_count": 34,
   "id": "9f30326f",
   "metadata": {},
   "outputs": [],
   "source": [
    "lis_para = [1,1]"
   ]
  },
  {
   "cell_type": "code",
   "execution_count": 43,
   "id": "59e67559",
   "metadata": {},
   "outputs": [
    {
     "data": {
      "application/vnd.jupyter.widget-view+json": {
       "model_id": "fad8ea63a3f94c769ea3133f070804ad",
       "version_major": 2,
       "version_minor": 0
      },
      "text/plain": [
       "HBox(children=(Text(value='2', description='Key', style=DescriptionStyle(description_width='initial')), Text(v…"
      ]
     },
     "metadata": {},
     "output_type": "display_data"
    },
    {
     "data": {
      "application/vnd.jupyter.widget-view+json": {
       "model_id": "f837d0e2a2cc48cf9885e23ef46275dd",
       "version_major": 2,
       "version_minor": 0
      },
      "text/plain": [
       "HBox(children=(Text(value='2', description='Key', style=DescriptionStyle(description_width='initial')), Text(v…"
      ]
     },
     "metadata": {},
     "output_type": "display_data"
    }
   ],
   "source": [
    "st = [{},{}]\n",
    "def update_no_param():\n",
    "    for i in lis_para:\n",
    "\n",
    "        st[i]['config'] = HBox([widgets.Text(value='2', description='Key', style={\n",
    "                                   'description_width': 'initial'},),\n",
    "          widgets.Text(value='2', description='value', style={\n",
    "                                   'description_width': 'initial'},)])\n",
    "\n",
    "\n",
    "        display(st[i]['config'])\n",
    "update_no_param()"
   ]
  },
  {
   "cell_type": "code",
   "execution_count": null,
   "id": "22f13cc9",
   "metadata": {},
   "outputs": [],
   "source": []
  }
 ],
 "metadata": {
  "kernelspec": {
   "display_name": "Python 3 (ipykernel)",
   "language": "python",
   "name": "python3"
  },
  "language_info": {
   "codemirror_mode": {
    "name": "ipython",
    "version": 3
   },
   "file_extension": ".py",
   "mimetype": "text/x-python",
   "name": "python",
   "nbconvert_exporter": "python",
   "pygments_lexer": "ipython3",
   "version": "3.9.12"
  }
 },
 "nbformat": 4,
 "nbformat_minor": 5
}
