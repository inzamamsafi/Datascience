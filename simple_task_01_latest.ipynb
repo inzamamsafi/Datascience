{
 "cells": [
  {
   "cell_type": "code",
   "execution_count": 1,
   "id": "a2463aa9",
   "metadata": {},
   "outputs": [],
   "source": [
    "import ipywidgets as widgets\n",
    "from IPython.display import display, Markdown, Javascript, clear_output \n",
    "from datetime import datetime\n",
    "from dateutil.relativedelta import relativedelta\n",
    "from datetime import date\n",
    "from functools import partial\n",
    "import json\n",
    "import requests\n",
    "from ipywidgets import interact\n",
    "from ipywidgets import Button, HBox, VBox, HTML, Label"
   ]
  },
  {
   "cell_type": "code",
   "execution_count": 2,
   "id": "23038779",
   "metadata": {},
   "outputs": [],
   "source": [
    "initial_setup = {\n",
    "    \"pipeline_id\": \"2\",\n",
    "    \"version\": 1.0,\n",
    "    \"stages\": [\n",
    "        {\n",
    "            \"task_group_id\": \"TAG1\",\n",
    "            \"branch\": [\n",
    "                {\n",
    "                    \"task_id\": \"Task_Name_XX\",\n",
    "                    \"code_file_path\": \"tasks/base_creation/final_base_logic.hql\",\n",
    "                    \"language\": \"Hive\",\n",
    "                    \"config\": {\n",
    "                        \"f\": \"TE1\"\n",
    "                    },\n",
    "                    \"sequence\": 0,\n",
    "                    \"condition\": \"in_start_date in range [2021-10-01 , 2023-11-04]\"\n",
    "                }\n",
    "            ],\n",
    "            \"default\": {\n",
    "                \"task_id\": \"TAG1_default\",\n",
    "                \"code_file_path\": \"tasks/base_creation/default_base_logic.hql\",\n",
    "                \"language\": \"Hive\",\n",
    "                \"config\": {}\n",
    "            }\n",
    "        },\n",
    "        {\n",
    "            \"task_group_id\": \"TAG2\",\n",
    "            \"branch\": [\n",
    "                {\n",
    "                    \"task_id\": \"Task_Name_XX\",\n",
    "                    \"code_file_path\": \"tasks/variables_creation/final_cas_logic.hql\",\n",
    "                    \"language\": \"Hive\",\n",
    "                    \"config\": {\n",
    "                        \"gE5\": \"a\"\n",
    "                    },\n",
    "                    \"sequence\": 1,\n",
    "                    \"condition\": \"in_start_date in range [2022-02-01 , 2023-11-04]\"\n",
    "                },\n",
    "                {\n",
    "                    \"task_id\": \"Task_Name_XX\",\n",
    "                    \"code_file_path\": \"tasks/variables_creation/final_sor_logic.hql\",\n",
    "                    \"language\": \"Hive\",\n",
    "                    \"config\": {\n",
    "                        \"gE6\": \"tE6\"\n",
    "                    },\n",
    "                    \"sequence\": 2,\n",
    "                    \"condition\": \"in_start_date in range [2021-10-01 , 2022-01-31]\"\n",
    "                }\n",
    "            ],\n",
    "            \"default\": {\n",
    "                \"task_id\": \"TAG2_default\",\n",
    "                \"code_file_path\": \"tasks/variables_creation/default_variables_logic.hql\",\n",
    "                \"language\": \"Hive\",\n",
    "                \"config\": {}\n",
    "            }\n",
    "        },\n",
    "        {\n",
    "            \"task_id\": \"simple_task_1\",\n",
    "            \"tag\": \"2\",\n",
    "            \"code_file_path\": \"tasks/base_task.py\",\n",
    "            \"language\": \"pyspark\",\n",
    "            \"config\": {\n",
    "              }\n",
    "        },\n",
    "        {\n",
    "            \"task_id\": \"simple_task_2\",\n",
    "            \"tag\": \"3\",\n",
    "            \"code_file_path\": \"tasks/base_task.py\",\n",
    "            \"language\": \"pyspark\",\n",
    "            \"config\": {\n",
    "              }\n",
    "        },\n",
    "        {\n",
    "            \"task_id\": \"aggregation_logic\",\n",
    "            \"code_file_path\": \"tasks/aggregation/aggregation_logic_mvp.py\",\n",
    "            \"language\": \"PySpark\",\n",
    "            \"config\": {}\n",
    "        }\n",
    "    ],\n",
    "    \"dependencies\": \" ['task_group_id_01_Name >> task_group_id_02_Name >> aggregation_logic']\",\n",
    "    \"pipeline_type\": \"new_feature\",\n",
    "    \"deploy_type\": \"analytical\"\n",
    "}"
   ]
  },
  {
   "cell_type": "code",
   "execution_count": 3,
   "id": "4dc76019",
   "metadata": {},
   "outputs": [
    {
     "data": {
      "text/plain": [
       "2"
      ]
     },
     "execution_count": 3,
     "metadata": {},
     "output_type": "execute_result"
    }
   ],
   "source": [
    "count_group = 0\n",
    "for i in range(len(initial_setup['stages'])):\n",
    "    \n",
    "    for j in initial_setup['stages'][i].keys():\n",
    "        if j == 'task_group_id':\n",
    "            count_group = count_group + 1\n",
    "count_group"
   ]
  },
  {
   "cell_type": "code",
   "execution_count": 4,
   "id": "bff3c573",
   "metadata": {},
   "outputs": [],
   "source": [
    "vars_config = []\n",
    "vars_config_widgets = []\n",
    "output_widgets = []"
   ]
  },
  {
   "cell_type": "code",
   "execution_count": 5,
   "id": "83efeb78",
   "metadata": {},
   "outputs": [],
   "source": [
    "# for removing any task info\n",
    "def remove_task(task_index):\n",
    "    for i in range(len(output_widgets)):\n",
    "        with output_widgets[i]:\n",
    "            clear_output()\n",
    "\n",
    "    del output_widgets[task_index]\n",
    "    del vars_config[task_index]\n",
    "    del vars_config_widgets[task_index]\n",
    "    new_task_name.value = f'task_group_{len(vars_config)+1}'\n",
    "    display_all_tasks()"
   ]
  },
  {
   "cell_type": "code",
   "execution_count": 6,
   "id": "5555e583",
   "metadata": {},
   "outputs": [],
   "source": [
    "\n",
    "# vars_config## [{'task_group_id': 'simple_task_1', 'code_file_path': 'tasks/base_task.py',\n",
    "# 'language': 'pyspark', 'config': {'spark.driver.memory': '15432m'}}, \n",
    "#        {'task_group_id': 'simple_task_2', 'code_file_path': 'tasks/base_task.py', 'language': 'pyspark', 'config': {}}]"
   ]
  },
  {
   "cell_type": "code",
   "execution_count": 7,
   "id": "2d408436",
   "metadata": {},
   "outputs": [],
   "source": [
    "def add_new_task(b):\n",
    "\n",
    "    vars_config.append({'task_group_id': new_task_name.value,'code_file_path': '','config': {},'language': 'hive','num_params':1 })\n",
    "    vars_config_widgets.append({})\n",
    "    output_widgets.append(widgets.Output())\n",
    "    with parent_output:\n",
    "        display(output_widgets[-1])\n",
    "\n",
    "    new_task_name.value = f'task_group_{len(vars_config)+1}'\n",
    "    display_task(len(vars_config)-1)"
   ]
  },
  {
   "cell_type": "code",
   "execution_count": 8,
   "id": "17f00ae6",
   "metadata": {},
   "outputs": [],
   "source": [
    "def display_task(task_index):\n",
    "    # clearing out the previous values in the widgets array\n",
    "    vars_config_widgets[task_index] = {}\n",
    "    task_widget_array = []\n",
    "    i = task_index\n",
    "    with output_widgets[i]:\n",
    "        clear_output()\n",
    "## GDChange2\n",
    "        print('vars_config##',vars_config)\n",
    "        vars_config_widgets[i]['task_group_id'] = widgets.Text(value=vars_config[i]['task_group_id'],\n",
    "                                                               description='simple task Name:',\n",
    "                                                               style={'description_width': 'initial'})\n",
    "        task_widget_array.append(vars_config_widgets[i]['task_group_id'])\n",
    "        \n",
    "        vars_config_widgets[i]['code_file_path'] = widgets.Text(value=vars_config[i]['code_file_path'],\n",
    "                                                                description='code_file_path:',\n",
    "                                                                style={'description_width': 'initial'})\n",
    "        task_widget_array.append(vars_config_widgets[i]['code_file_path'])\n",
    "        \n",
    "        vars_config_widgets[i]['language'] = widgets.Dropdown(options=['hive', 'pyspark'], \n",
    "                                                              value=vars_config[i]['language'], \n",
    "                                                              description='language :', \n",
    "                                                              style={'description_width': 'initial'})\n",
    "        task_widget_array.append(vars_config_widgets[i]['language'])\n",
    "        \n",
    "        \n",
    "        vars_config_widgets[i]['num_params'] = widgets.IntText(value=vars_config[i]['num_params'],\n",
    "                                                            description='num_params:',\n",
    "                                                            style={'description_width': 'initial'})\n",
    "                                                            \n",
    "        task_widget_array.append(vars_config_widgets[i]['num_params'])\n",
    "        length = vars_config_widgets[i]['num_params'].value\n",
    "\n",
    "        for i in range(length):\n",
    "\n",
    "            vars_config_widgets[i]['config'] = HBox([widgets.Text(value='2', description='Key', style={\n",
    "                                    'description_width': 'initial'},),\n",
    "            widgets.Text(value='2', description='value', style={\n",
    "                                    'description_width': 'initial'},)])\n",
    "\n",
    "        # vars_config_widgets[i]['config'] = widgets.Text(value='',\n",
    "        #                                                         description='config:',\n",
    "        #                                                         style={'description_width': 'initial'})\n",
    "            task_widget_array.append(vars_config_widgets[i]['config'])\n",
    "        print('var_config_widget', vars_config_widgets[i]['num_params'].value)\n",
    "        print('vars_config_widgets##',vars_config_widgets)\n",
    "        print('task_widget_array##',task_widget_array)\n",
    "        \n",
    "## TDchange1x\n",
    "#         for j in vars_config[i]:\n",
    "#             task_tw_widgets_array = []\n",
    "#         task_widget_array.append(widgets.Label())\n",
    "\n",
    "        vars_config_widgets[i]['delete'] = widgets.Button(\n",
    "            description='Delete Task Group', button_style='danger')\n",
    "        def delete_task(b):\n",
    "            remove_task(task_index)\n",
    "        vars_config_widgets[i]['delete'].on_click(delete_task)\n",
    "        task_widget_array.append(vars_config_widgets[i]['delete'])\n",
    "        vars_config_widgets[i]['accordion'] = widgets.Accordion(children=[\n",
    "            widgets.VBox(task_widget_array)])\n",
    "        vars_config_widgets[i]['accordion'].set_title(\n",
    "            0, vars_config[i]['task_group_id'])\n",
    "        display(vars_config_widgets[i]['accordion'])\n",
    "        display(Markdown('''---'''))\n",
    "\n",
    "def display_all_tasks():\n",
    "    for ind in range(len(vars_config)):\n",
    "        display_task(ind)\n"
   ]
  },
  {
   "cell_type": "code",
   "execution_count": 9,
   "id": "3f1a64c1",
   "metadata": {},
   "outputs": [
    {
     "data": {
      "text/plain": [
       "[]"
      ]
     },
     "execution_count": 9,
     "metadata": {},
     "output_type": "execute_result"
    }
   ],
   "source": [
    "vars_config"
   ]
  },
  {
   "cell_type": "code",
   "execution_count": 10,
   "id": "7239d4aa",
   "metadata": {},
   "outputs": [
    {
     "data": {
      "text/plain": [
       "[]"
      ]
     },
     "execution_count": 10,
     "metadata": {},
     "output_type": "execute_result"
    }
   ],
   "source": [
    "vars_config_widgets"
   ]
  },
  {
   "cell_type": "code",
   "execution_count": 11,
   "id": "928fd26c",
   "metadata": {},
   "outputs": [
    {
     "data": {
      "application/vnd.jupyter.widget-view+json": {
       "model_id": "e7bab2427f55434698af2c25e03791ee",
       "version_major": 2,
       "version_minor": 0
      },
      "text/plain": [
       "Output()"
      ]
     },
     "metadata": {},
     "output_type": "display_data"
    }
   ],
   "source": [
    "add_task_bt = widgets.Button(\n",
    "    description='+ Add Task Group', button_style='primary')\n",
    "new_task_name = widgets.Text(value=f'task_group_{len(output_widgets)+1}')\n",
    "output_add_bt = widgets.Output()\n",
    "display(output_add_bt)\n",
    "with output_add_bt:\n",
    "    display(widgets.HBox([new_task_name, add_task_bt]))\n",
    "    add_task_bt.on_click(add_new_task)"
   ]
  },
  {
   "cell_type": "code",
   "execution_count": 12,
   "id": "c0d88945",
   "metadata": {},
   "outputs": [],
   "source": [
    "# vars_config_widgets[0]['config']['key'] = widgets.Text(value=task_tw_config[0][0],\n",
    "#                                                             description='Key',\n",
    "#                                                             style={'description_width': 'initial'})"
   ]
  },
  {
   "cell_type": "code",
   "execution_count": 13,
   "id": "b89f8da3",
   "metadata": {},
   "outputs": [],
   "source": [
    "# task_widget_array## \n",
    "# [Text(value='simple_task_1', description='simple task Name:', style=DescriptionStyle(description_width='initial')), \n",
    "# Text(value='tasks/base_task.py', description='code_file_path:', style=DescriptionStyle(description_width='initial')), \n",
    "# Dropdown(description='language :', index=1, options=('hive', 'pyspark'), \n",
    "#          style=DescriptionStyle(description_width='initial'), value='pyspark'), \n",
    "# IntText(value=0, description='num_params:', style=DescriptionStyle(description_width='initial'))]"
   ]
  },
  {
   "cell_type": "code",
   "execution_count": 14,
   "id": "f687ebba",
   "metadata": {
    "scrolled": true
   },
   "outputs": [
    {
     "data": {
      "application/vnd.jupyter.widget-view+json": {
       "model_id": "2a6362f298e341258cb2197f804429b9",
       "version_major": 2,
       "version_minor": 0
      },
      "text/plain": [
       "Output()"
      ]
     },
     "metadata": {},
     "output_type": "display_data"
    },
    {
     "data": {
      "application/vnd.jupyter.widget-view+json": {
       "model_id": "58a3eaa9e34c4983b90f2ec6b954b240",
       "version_major": 2,
       "version_minor": 0
      },
      "text/plain": [
       "Output()"
      ]
     },
     "metadata": {},
     "output_type": "display_data"
    },
    {
     "data": {
      "application/vnd.jupyter.widget-view+json": {
       "model_id": "6949676f96b54a178da1d9104ca758b6",
       "version_major": 2,
       "version_minor": 0
      },
      "text/plain": [
       "Output()"
      ]
     },
     "metadata": {},
     "output_type": "display_data"
    }
   ],
   "source": [
    "parent_output = widgets.Output()\n",
    "display(parent_output)"
   ]
  },
  {
   "cell_type": "code",
   "execution_count": 15,
   "id": "4e4beb8b",
   "metadata": {},
   "outputs": [],
   "source": [
    "# vars_config[0]['config']"
   ]
  },
  {
   "cell_type": "code",
   "execution_count": 16,
   "id": "2aa793ff",
   "metadata": {},
   "outputs": [],
   "source": [
    "# vars_config = [{'task_group_id': 'simple_task_1',\n",
    "#   'code_file_path': 'tasks/base_task.py',\n",
    "#   'language': 'pyspark',\n",
    "#   'config': {'spark.driver.memory': '15432m'},\n",
    "#   'num_params': 1},\n",
    "#  {'task_group_id': 'simple_task_2',\n",
    "#   'code_file_path': 'tasks/base_task.py',\n",
    "#   'language': 'pyspark',\n",
    "#   'config': {},\n",
    "#   'num_params': 0}]"
   ]
  },
  {
   "cell_type": "code",
   "execution_count": 17,
   "id": "3362efce",
   "metadata": {},
   "outputs": [],
   "source": [
    "# i =2,3\n"
   ]
  },
  {
   "cell_type": "code",
   "execution_count": 18,
   "id": "82963cbb",
   "metadata": {},
   "outputs": [],
   "source": [
    "def initialize_form():\n",
    "    for i in range(count_group,len(initial_setup['stages'])-1):\n",
    "        output_widgets.append(widgets.Output())\n",
    "        vars_config_widgets.append({})\n",
    "        ## GDChange1\n",
    "        vars_config.append({'task_group_id': list(initial_setup['stages'][i].values())[0],\n",
    "                            'code_file_path': initial_setup['stages'][i]['code_file_path'],\n",
    "                            'language': initial_setup['stages'][i]['language'],\n",
    "                            'config': initial_setup['stages'][i]['config'],\n",
    "                           'num_params': 1,})\n",
    "\n",
    "#         print('vars_config',vars_config)\n",
    "\n",
    "    with parent_output:\n",
    "        for i in range(len(output_widgets)):\n",
    "            display(output_widgets[i])\n",
    "        \n",
    "\n",
    "    display_all_tasks()\n",
    "\n",
    "initialize_form()"
   ]
  },
  {
   "cell_type": "code",
   "execution_count": null,
   "id": "e3268c76",
   "metadata": {},
   "outputs": [],
   "source": []
  }
 ],
 "metadata": {
  "kernelspec": {
   "display_name": "base",
   "language": "python",
   "name": "python3"
  },
  "language_info": {
   "codemirror_mode": {
    "name": "ipython",
    "version": 3
   },
   "file_extension": ".py",
   "mimetype": "text/x-python",
   "name": "python",
   "nbconvert_exporter": "python",
   "pygments_lexer": "ipython3",
   "version": "3.8.8"
  },
  "vscode": {
   "interpreter": {
    "hash": "ad1a6d668f556e54d9da9a49a68be18f041f47a505936a5872f96aca77c87b48"
   }
  }
 },
 "nbformat": 4,
 "nbformat_minor": 5
}
